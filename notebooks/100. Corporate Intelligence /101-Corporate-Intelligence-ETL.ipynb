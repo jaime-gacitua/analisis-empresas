{
 "cells": [
  {
   "cell_type": "markdown",
   "metadata": {},
   "source": [
    "# ETL Reporte para OBEX"
   ]
  },
  {
   "cell_type": "markdown",
   "metadata": {},
   "source": [
    "* Extraer la data de los JSON\n",
    "* Transformar en una tabla con los campos requeridos\n",
    "* Guardar en formato CSV"
   ]
  },
  {
   "cell_type": "code",
   "execution_count": 46,
   "metadata": {},
   "outputs": [],
   "source": [
    "import boto3\n",
    "import json\n",
    "import pandas as pd\n",
    "from tqdm.notebook import trange, tqdm"
   ]
  },
  {
   "cell_type": "code",
   "execution_count": 24,
   "metadata": {},
   "outputs": [],
   "source": [
    "bucketname = 'bi-obex-study-json'\n",
    "test_file = '77559056-4.json'"
   ]
  },
  {
   "cell_type": "code",
   "execution_count": 26,
   "metadata": {},
   "outputs": [],
   "source": [
    "client = boto3.client('s3')"
   ]
  },
  {
   "cell_type": "code",
   "execution_count": null,
   "metadata": {},
   "outputs": [],
   "source": [
    "#Create a file object using the bucket and object key. \n",
    "fileobj = client.get_object(\n",
    "    Bucket=bucketname,\n",
    "    Key=test_file\n",
    "    ) \n",
    "# open the file object and read it into the variable filedata. \n",
    "filedata = fileobj['Body'].read()\n",
    "\n",
    "# file data will be a binary stream.  We have to decode it \n",
    "test_json = json.loads(filedata)\n",
    "\n",
    "#print(json.dumps(test_json, indent=4, sort_keys=True))"
   ]
  },
  {
   "cell_type": "raw",
   "metadata": {},
   "source": [
    "Socios: \"data..prestudios[-1].accionistas.valor\"\n",
    "Preaprobado: \"data.estudio.preAprobado\"\n",
    "Tipo firma: \"data.estudio.prestudios[-1].administracion.valor.comoAdministran\"\n",
    "Apoderados: \"data.estudio.prestudios[-1].administracion.valor.administradores\""
   ]
  },
  {
   "cell_type": "code",
   "execution_count": 263,
   "metadata": {},
   "outputs": [
    {
     "data": {
      "application/vnd.jupyter.widget-view+json": {
       "model_id": "fd6df9afbe394691902dc34aac389730",
       "version_major": 2,
       "version_minor": 0
      },
      "text/plain": [
       "HBox(children=(FloatProgress(value=1.0, bar_style='info', max=1.0), HTML(value='')))"
      ]
     },
     "metadata": {},
     "output_type": "display_data"
    },
    {
     "data": {
      "application/vnd.jupyter.widget-view+json": {
       "model_id": "f7fd18d905cf40c0aeab08e78a5256db",
       "version_major": 2,
       "version_minor": 0
      },
      "text/plain": [
       "HBox(children=(FloatProgress(value=0.0, max=1000.0), HTML(value='')))"
      ]
     },
     "metadata": {},
     "output_type": "display_data"
    },
    {
     "name": "stdout",
     "output_type": "stream",
     "text": [
      "\n"
     ]
    },
    {
     "data": {
      "application/vnd.jupyter.widget-view+json": {
       "model_id": "78dd19c6fbd2484b85158b1c364e9c73",
       "version_major": 2,
       "version_minor": 0
      },
      "text/plain": [
       "HBox(children=(FloatProgress(value=0.0, max=1000.0), HTML(value='')))"
      ]
     },
     "metadata": {},
     "output_type": "display_data"
    },
    {
     "name": "stdout",
     "output_type": "stream",
     "text": [
      "\n"
     ]
    },
    {
     "data": {
      "application/vnd.jupyter.widget-view+json": {
       "model_id": "433ab2b228f944d39acb156b412ea1b6",
       "version_major": 2,
       "version_minor": 0
      },
      "text/plain": [
       "HBox(children=(FloatProgress(value=0.0, max=1000.0), HTML(value='')))"
      ]
     },
     "metadata": {},
     "output_type": "display_data"
    },
    {
     "name": "stdout",
     "output_type": "stream",
     "text": [
      "\n"
     ]
    },
    {
     "data": {
      "application/vnd.jupyter.widget-view+json": {
       "model_id": "731279ab4a354e69bb1dc7f78b691e30",
       "version_major": 2,
       "version_minor": 0
      },
      "text/plain": [
       "HBox(children=(FloatProgress(value=0.0, max=1000.0), HTML(value='')))"
      ]
     },
     "metadata": {},
     "output_type": "display_data"
    },
    {
     "name": "stdout",
     "output_type": "stream",
     "text": [
      "\n"
     ]
    },
    {
     "data": {
      "application/vnd.jupyter.widget-view+json": {
       "model_id": "05b92b30736547fb80894c773c5ea8d6",
       "version_major": 2,
       "version_minor": 0
      },
      "text/plain": [
       "HBox(children=(FloatProgress(value=0.0, max=1000.0), HTML(value='')))"
      ]
     },
     "metadata": {},
     "output_type": "display_data"
    },
    {
     "name": "stdout",
     "output_type": "stream",
     "text": [
      "\n"
     ]
    },
    {
     "data": {
      "application/vnd.jupyter.widget-view+json": {
       "model_id": "51c6642898d147e9a89798c95f8e86ce",
       "version_major": 2,
       "version_minor": 0
      },
      "text/plain": [
       "HBox(children=(FloatProgress(value=0.0, max=653.0), HTML(value='')))"
      ]
     },
     "metadata": {},
     "output_type": "display_data"
    },
    {
     "name": "stdout",
     "output_type": "stream",
     "text": [
      "\n",
      "\n",
      "5653\n"
     ]
    }
   ],
   "source": [
    "\n",
    "paginator = client.get_paginator('list_objects_v2')\n",
    "pages = paginator.paginate(Bucket=bucketname)\n",
    "\n",
    "data = []\n",
    "\n",
    "j=0\n",
    "for page in tqdm(pages):\n",
    "    for obj in tqdm(page['Contents']):\n",
    "        \n",
    "        if j < 10000000:\n",
    "            # Read data\n",
    "            fileobj = client.get_object(Bucket=bucketname,\n",
    "                                        Key=obj['Key']\n",
    "                                       ) \n",
    "            filedata = fileobj['Body'].read().decode('utf-8') \n",
    "            obj_json = json.loads(filedata)\n",
    "\n",
    "            # Parse and create data row\n",
    "            item = dict()\n",
    "            item['rut'] = obj_json['data']['estado']['rut']\n",
    "            item['razon_social'] = obj_json['data']['estado']['razonSocial']\n",
    "            #item['fecha_actuacion'] = obj_json['data']['estado']['fecha']\n",
    "            item['fecha_actuacion'] = obj_json['data']['estudio']['prestudios'][0]['fecha']\n",
    "            item['fecha_estudio'] = obj_json['data']['estudio']['fechaEstudio']\n",
    "            item['socios'] = obj_json['data']['estudio']['prestudios'][-1]['accionistas']['valor']\n",
    "            item['pre_aprobado'] = obj_json['data']['estudio']['preAprobado']\n",
    "            item['tipo_firma'] = obj_json['data']['estudio']['prestudios'][-1]['administracion']['valor']['comoAdministran']\n",
    "            item['apoderados'] = obj_json['data']['estudio']['prestudios'][-1]['administracion']['valor']['administradores']\n",
    "            data.append(item)\n",
    "        j+=1\n",
    "        \n",
    "print(j)"
   ]
  },
  {
   "cell_type": "code",
   "execution_count": 264,
   "metadata": {},
   "outputs": [],
   "source": [
    "df = pd.DataFrame(data)"
   ]
  },
  {
   "cell_type": "markdown",
   "metadata": {},
   "source": [
    "## Transformations"
   ]
  },
  {
   "cell_type": "code",
   "execution_count": 265,
   "metadata": {},
   "outputs": [
    {
     "data": {
      "text/html": [
       "<div>\n",
       "<style scoped>\n",
       "    .dataframe tbody tr th:only-of-type {\n",
       "        vertical-align: middle;\n",
       "    }\n",
       "\n",
       "    .dataframe tbody tr th {\n",
       "        vertical-align: top;\n",
       "    }\n",
       "\n",
       "    .dataframe thead th {\n",
       "        text-align: right;\n",
       "    }\n",
       "</style>\n",
       "<table border=\"1\" class=\"dataframe\">\n",
       "  <thead>\n",
       "    <tr style=\"text-align: right;\">\n",
       "      <th></th>\n",
       "      <th>rut</th>\n",
       "      <th>razon_social</th>\n",
       "      <th>fecha_actuacion</th>\n",
       "      <th>fecha_estudio</th>\n",
       "      <th>socios</th>\n",
       "      <th>pre_aprobado</th>\n",
       "      <th>tipo_firma</th>\n",
       "      <th>apoderados</th>\n",
       "    </tr>\n",
       "  </thead>\n",
       "  <tbody>\n",
       "    <tr>\n",
       "      <th>0</th>\n",
       "      <td>775590564</td>\n",
       "      <td>Minimarket Makarena Krause E.I.R.L.</td>\n",
       "      <td>2022-04-16</td>\n",
       "      <td>2022-05-02 19:15:10.509874</td>\n",
       "      <td>[{'nombre': 'MAKARENA DENISS KRAUSE VEGA', 'ru...</td>\n",
       "      <td>False</td>\n",
       "      <td>individualmente</td>\n",
       "      <td>[{'nombre': 'MAKARENA DENISS KRAUSE VEGA', 'ru...</td>\n",
       "    </tr>\n",
       "    <tr>\n",
       "      <th>1</th>\n",
       "      <td>775590572</td>\n",
       "      <td>Adonnay Beauty SpA</td>\n",
       "      <td>2022-04-16</td>\n",
       "      <td>2022-05-02 19:26:48.053295</td>\n",
       "      <td>[{'nombre': 'FELIPE IGNACIO ILABACA LEAL', 'ru...</td>\n",
       "      <td>True</td>\n",
       "      <td>individualmente</td>\n",
       "      <td>[{'rut': '18.174.910-5', 'nombre': 'felipe ign...</td>\n",
       "    </tr>\n",
       "    <tr>\n",
       "      <th>2</th>\n",
       "      <td>775590580</td>\n",
       "      <td>BARROS DURAN SPA</td>\n",
       "      <td>2022-04-16</td>\n",
       "      <td>2022-05-02 19:29:01.014415</td>\n",
       "      <td>[{'nombre': 'DHORTTY IRIS BARROS DURÁN', 'rut'...</td>\n",
       "      <td>True</td>\n",
       "      <td>individualmente</td>\n",
       "      <td>[{'rut': '12.372.700-2', 'nombre': 'dhortty ir...</td>\n",
       "    </tr>\n",
       "    <tr>\n",
       "      <th>3</th>\n",
       "      <td>775590599</td>\n",
       "      <td>Prevención y cumplimiento Integral SpA</td>\n",
       "      <td>2022-04-16</td>\n",
       "      <td>2022-05-02 18:49:20.426186</td>\n",
       "      <td>[{'nombre': 'VISNA DEL PILAR ORELLANA MARTÍNEZ...</td>\n",
       "      <td>True</td>\n",
       "      <td>individualmente</td>\n",
       "      <td>[{'rut': '11.930.118-1', 'nombre': 'visna del ...</td>\n",
       "    </tr>\n",
       "    <tr>\n",
       "      <th>4</th>\n",
       "      <td>775590610</td>\n",
       "      <td>Consultora Óscar Pacheco Parra E.I.R.L.</td>\n",
       "      <td>2022-04-16</td>\n",
       "      <td>2022-05-02 19:12:03.149842</td>\n",
       "      <td>[{'nombre': 'OSCAR BENEDICTO PACHECO PARRA', '...</td>\n",
       "      <td>True</td>\n",
       "      <td>individualmente</td>\n",
       "      <td>[{'nombre': 'OSCAR BENEDICTO PACHECO PARRA', '...</td>\n",
       "    </tr>\n",
       "    <tr>\n",
       "      <th>5</th>\n",
       "      <td>775590629</td>\n",
       "      <td>Consultoría y producción de eventos Coach-Arte...</td>\n",
       "      <td>2022-04-16</td>\n",
       "      <td>2022-05-02 17:46:23.717461</td>\n",
       "      <td>[{'nombre': 'MARÍA LORENA MARTÍNEZ SALAMANCA',...</td>\n",
       "      <td>True</td>\n",
       "      <td>indistintamente</td>\n",
       "      <td>[{'rut': '17.314.903-4', 'nombre': 'maria lore...</td>\n",
       "    </tr>\n",
       "    <tr>\n",
       "      <th>6</th>\n",
       "      <td>775590637</td>\n",
       "      <td>beethoven spa</td>\n",
       "      <td>2022-04-16</td>\n",
       "      <td>2022-05-02 18:54:53.329299</td>\n",
       "      <td>[{'nombre': 'FRANCISCA GROSS DEMPSTER', 'rut':...</td>\n",
       "      <td>True</td>\n",
       "      <td>individualmente</td>\n",
       "      <td>[{'rut': '9.290.930-1', 'nombre': 'francisca g...</td>\n",
       "    </tr>\n",
       "    <tr>\n",
       "      <th>7</th>\n",
       "      <td>775590645</td>\n",
       "      <td>bach spa</td>\n",
       "      <td>2022-04-16</td>\n",
       "      <td>2022-05-02 17:46:15.633451</td>\n",
       "      <td>[{'nombre': 'FRANCISCA GROSS DEMPSTER', 'rut':...</td>\n",
       "      <td>True</td>\n",
       "      <td>individualmente</td>\n",
       "      <td>[{'rut': '9.290.930-1', 'nombre': 'francisca g...</td>\n",
       "    </tr>\n",
       "    <tr>\n",
       "      <th>8</th>\n",
       "      <td>775590653</td>\n",
       "      <td>mozart spa</td>\n",
       "      <td>2022-04-16</td>\n",
       "      <td>2022-05-02 19:45:17.758505</td>\n",
       "      <td>[{'nombre': 'FRANCISCA GROSS DEMPSTER', 'rut':...</td>\n",
       "      <td>False</td>\n",
       "      <td>individualmente</td>\n",
       "      <td>[{'rut': '9.290.930-1', 'nombre': 'francisca g...</td>\n",
       "    </tr>\n",
       "    <tr>\n",
       "      <th>9</th>\n",
       "      <td>775590661</td>\n",
       "      <td>SANTO SANTINO UNO SPA</td>\n",
       "      <td>2022-04-16</td>\n",
       "      <td>2022-05-02 19:13:27.253546</td>\n",
       "      <td>[{'nombre': 'MARTIN ADRIAN FERNANDEZ', 'rut': ...</td>\n",
       "      <td>True</td>\n",
       "      <td>individualmente</td>\n",
       "      <td>[{'rut': '22.814.643-9', 'nombre': 'martin adr...</td>\n",
       "    </tr>\n",
       "  </tbody>\n",
       "</table>\n",
       "</div>"
      ],
      "text/plain": [
       "         rut                                       razon_social  \\\n",
       "0  775590564                Minimarket Makarena Krause E.I.R.L.   \n",
       "1  775590572                                 Adonnay Beauty SpA   \n",
       "2  775590580                                   BARROS DURAN SPA   \n",
       "3  775590599             Prevención y cumplimiento Integral SpA   \n",
       "4  775590610            Consultora Óscar Pacheco Parra E.I.R.L.   \n",
       "5  775590629  Consultoría y producción de eventos Coach-Arte...   \n",
       "6  775590637                                      beethoven spa   \n",
       "7  775590645                                           bach spa   \n",
       "8  775590653                                         mozart spa   \n",
       "9  775590661                              SANTO SANTINO UNO SPA   \n",
       "\n",
       "  fecha_actuacion               fecha_estudio  \\\n",
       "0      2022-04-16  2022-05-02 19:15:10.509874   \n",
       "1      2022-04-16  2022-05-02 19:26:48.053295   \n",
       "2      2022-04-16  2022-05-02 19:29:01.014415   \n",
       "3      2022-04-16  2022-05-02 18:49:20.426186   \n",
       "4      2022-04-16  2022-05-02 19:12:03.149842   \n",
       "5      2022-04-16  2022-05-02 17:46:23.717461   \n",
       "6      2022-04-16  2022-05-02 18:54:53.329299   \n",
       "7      2022-04-16  2022-05-02 17:46:15.633451   \n",
       "8      2022-04-16  2022-05-02 19:45:17.758505   \n",
       "9      2022-04-16  2022-05-02 19:13:27.253546   \n",
       "\n",
       "                                              socios  pre_aprobado  \\\n",
       "0  [{'nombre': 'MAKARENA DENISS KRAUSE VEGA', 'ru...         False   \n",
       "1  [{'nombre': 'FELIPE IGNACIO ILABACA LEAL', 'ru...          True   \n",
       "2  [{'nombre': 'DHORTTY IRIS BARROS DURÁN', 'rut'...          True   \n",
       "3  [{'nombre': 'VISNA DEL PILAR ORELLANA MARTÍNEZ...          True   \n",
       "4  [{'nombre': 'OSCAR BENEDICTO PACHECO PARRA', '...          True   \n",
       "5  [{'nombre': 'MARÍA LORENA MARTÍNEZ SALAMANCA',...          True   \n",
       "6  [{'nombre': 'FRANCISCA GROSS DEMPSTER', 'rut':...          True   \n",
       "7  [{'nombre': 'FRANCISCA GROSS DEMPSTER', 'rut':...          True   \n",
       "8  [{'nombre': 'FRANCISCA GROSS DEMPSTER', 'rut':...         False   \n",
       "9  [{'nombre': 'MARTIN ADRIAN FERNANDEZ', 'rut': ...          True   \n",
       "\n",
       "        tipo_firma                                         apoderados  \n",
       "0  individualmente  [{'nombre': 'MAKARENA DENISS KRAUSE VEGA', 'ru...  \n",
       "1  individualmente  [{'rut': '18.174.910-5', 'nombre': 'felipe ign...  \n",
       "2  individualmente  [{'rut': '12.372.700-2', 'nombre': 'dhortty ir...  \n",
       "3  individualmente  [{'rut': '11.930.118-1', 'nombre': 'visna del ...  \n",
       "4  individualmente  [{'nombre': 'OSCAR BENEDICTO PACHECO PARRA', '...  \n",
       "5  indistintamente  [{'rut': '17.314.903-4', 'nombre': 'maria lore...  \n",
       "6  individualmente  [{'rut': '9.290.930-1', 'nombre': 'francisca g...  \n",
       "7  individualmente  [{'rut': '9.290.930-1', 'nombre': 'francisca g...  \n",
       "8  individualmente  [{'rut': '9.290.930-1', 'nombre': 'francisca g...  \n",
       "9  individualmente  [{'rut': '22.814.643-9', 'nombre': 'martin adr...  "
      ]
     },
     "execution_count": 265,
     "metadata": {},
     "output_type": "execute_result"
    }
   ],
   "source": [
    "df.head(10)"
   ]
  },
  {
   "cell_type": "markdown",
   "metadata": {},
   "source": [
    "Fechas"
   ]
  },
  {
   "cell_type": "code",
   "execution_count": 266,
   "metadata": {},
   "outputs": [],
   "source": [
    "#df['fecha_actuacion_2'] = pd.to_datetime(df['fecha_actuacion'], format='%Y%m%d%H%M%S%f')\n",
    "df['fecha_actuacion_2'] = pd.to_datetime(df['fecha_actuacion'], format='%Y-%m-%d')"
   ]
  },
  {
   "cell_type": "code",
   "execution_count": 267,
   "metadata": {},
   "outputs": [
    {
     "data": {
      "text/html": [
       "<div>\n",
       "<style scoped>\n",
       "    .dataframe tbody tr th:only-of-type {\n",
       "        vertical-align: middle;\n",
       "    }\n",
       "\n",
       "    .dataframe tbody tr th {\n",
       "        vertical-align: top;\n",
       "    }\n",
       "\n",
       "    .dataframe thead th {\n",
       "        text-align: right;\n",
       "    }\n",
       "</style>\n",
       "<table border=\"1\" class=\"dataframe\">\n",
       "  <thead>\n",
       "    <tr style=\"text-align: right;\">\n",
       "      <th></th>\n",
       "      <th>rut</th>\n",
       "      <th>razon_social</th>\n",
       "      <th>fecha_actuacion</th>\n",
       "      <th>fecha_estudio</th>\n",
       "      <th>socios</th>\n",
       "      <th>pre_aprobado</th>\n",
       "      <th>tipo_firma</th>\n",
       "      <th>apoderados</th>\n",
       "      <th>fecha_actuacion_2</th>\n",
       "    </tr>\n",
       "  </thead>\n",
       "  <tbody>\n",
       "    <tr>\n",
       "      <th>0</th>\n",
       "      <td>775590564</td>\n",
       "      <td>Minimarket Makarena Krause E.I.R.L.</td>\n",
       "      <td>2022-04-16</td>\n",
       "      <td>2022-05-02 19:15:10.509874</td>\n",
       "      <td>[{'nombre': 'MAKARENA DENISS KRAUSE VEGA', 'ru...</td>\n",
       "      <td>False</td>\n",
       "      <td>individualmente</td>\n",
       "      <td>[{'nombre': 'MAKARENA DENISS KRAUSE VEGA', 'ru...</td>\n",
       "      <td>2022-04-16</td>\n",
       "    </tr>\n",
       "    <tr>\n",
       "      <th>1</th>\n",
       "      <td>775590572</td>\n",
       "      <td>Adonnay Beauty SpA</td>\n",
       "      <td>2022-04-16</td>\n",
       "      <td>2022-05-02 19:26:48.053295</td>\n",
       "      <td>[{'nombre': 'FELIPE IGNACIO ILABACA LEAL', 'ru...</td>\n",
       "      <td>True</td>\n",
       "      <td>individualmente</td>\n",
       "      <td>[{'rut': '18.174.910-5', 'nombre': 'felipe ign...</td>\n",
       "      <td>2022-04-16</td>\n",
       "    </tr>\n",
       "  </tbody>\n",
       "</table>\n",
       "</div>"
      ],
      "text/plain": [
       "         rut                         razon_social fecha_actuacion  \\\n",
       "0  775590564  Minimarket Makarena Krause E.I.R.L.      2022-04-16   \n",
       "1  775590572                   Adonnay Beauty SpA      2022-04-16   \n",
       "\n",
       "                fecha_estudio  \\\n",
       "0  2022-05-02 19:15:10.509874   \n",
       "1  2022-05-02 19:26:48.053295   \n",
       "\n",
       "                                              socios  pre_aprobado  \\\n",
       "0  [{'nombre': 'MAKARENA DENISS KRAUSE VEGA', 'ru...         False   \n",
       "1  [{'nombre': 'FELIPE IGNACIO ILABACA LEAL', 'ru...          True   \n",
       "\n",
       "        tipo_firma                                         apoderados  \\\n",
       "0  individualmente  [{'nombre': 'MAKARENA DENISS KRAUSE VEGA', 'ru...   \n",
       "1  individualmente  [{'rut': '18.174.910-5', 'nombre': 'felipe ign...   \n",
       "\n",
       "  fecha_actuacion_2  \n",
       "0        2022-04-16  \n",
       "1        2022-04-16  "
      ]
     },
     "execution_count": 267,
     "metadata": {},
     "output_type": "execute_result"
    }
   ],
   "source": [
    "df.head(2)"
   ]
  },
  {
   "cell_type": "markdown",
   "metadata": {},
   "source": [
    "Expandir Socios"
   ]
  },
  {
   "cell_type": "code",
   "execution_count": 268,
   "metadata": {},
   "outputs": [],
   "source": [
    "#df.loc[0, 'socios']"
   ]
  },
  {
   "cell_type": "code",
   "execution_count": 269,
   "metadata": {},
   "outputs": [],
   "source": [
    "df['n_socios'] = df['socios'].apply(lambda x: len(x))\n",
    "df['n_apoderados'] = df['apoderados'].apply(lambda x: len(x))"
   ]
  },
  {
   "cell_type": "code",
   "execution_count": null,
   "metadata": {},
   "outputs": [],
   "source": []
  },
  {
   "cell_type": "code",
   "execution_count": 281,
   "metadata": {},
   "outputs": [],
   "source": [
    "def expand_list(series, field):\n",
    "    list_df = pd.DataFrame(series.tolist())\n",
    "    for col in list_df.columns:\n",
    "    #for col in [0]:\n",
    "        list_df[field + '_' + series.name + '_' + str(col + 1)] = \\\n",
    "            list_df[col].apply(lambda x: x.get(field) if x is not None else None)\n",
    "        del list_df[col]\n",
    "    return list_df\n",
    "\n",
    "def clean_ruts(series):\n",
    "    series = series.str.replace('\\.', '')\n",
    "    series = series.str.replace('-', '')\n",
    "    \n",
    "    return series"
   ]
  },
  {
   "cell_type": "code",
   "execution_count": null,
   "metadata": {},
   "outputs": [],
   "source": []
  },
  {
   "cell_type": "code",
   "execution_count": 282,
   "metadata": {},
   "outputs": [],
   "source": [
    "df_socios = expand_list(df['socios'], 'rut')\n",
    "df_apoderados = expand_list(df['apoderados'], 'rut')\n",
    "\n",
    "for col in df_socios:\n",
    "    df_socios[col] = clean_ruts(df_socios[col])\n",
    "for col in df_apoderados:\n",
    "    df_apoderados[col] = clean_ruts(df_apoderados[col])\n",
    "    "
   ]
  },
  {
   "cell_type": "code",
   "execution_count": 284,
   "metadata": {},
   "outputs": [],
   "source": [
    "df1 = pd.concat([df, df_socios, df_apoderados], axis=1)"
   ]
  },
  {
   "cell_type": "code",
   "execution_count": 286,
   "metadata": {},
   "outputs": [
    {
     "data": {
      "text/html": [
       "<div>\n",
       "<style scoped>\n",
       "    .dataframe tbody tr th:only-of-type {\n",
       "        vertical-align: middle;\n",
       "    }\n",
       "\n",
       "    .dataframe tbody tr th {\n",
       "        vertical-align: top;\n",
       "    }\n",
       "\n",
       "    .dataframe thead th {\n",
       "        text-align: right;\n",
       "    }\n",
       "</style>\n",
       "<table border=\"1\" class=\"dataframe\">\n",
       "  <thead>\n",
       "    <tr style=\"text-align: right;\">\n",
       "      <th></th>\n",
       "      <th>rut</th>\n",
       "      <th>razon_social</th>\n",
       "      <th>fecha_actuacion</th>\n",
       "      <th>fecha_estudio</th>\n",
       "      <th>socios</th>\n",
       "      <th>pre_aprobado</th>\n",
       "      <th>tipo_firma</th>\n",
       "      <th>apoderados</th>\n",
       "      <th>fecha_actuacion_2</th>\n",
       "      <th>n_socios</th>\n",
       "      <th>...</th>\n",
       "      <th>rut_socios_38</th>\n",
       "      <th>rut_socios_39</th>\n",
       "      <th>rut_socios_40</th>\n",
       "      <th>rut_apoderados_1</th>\n",
       "      <th>rut_apoderados_2</th>\n",
       "      <th>rut_apoderados_3</th>\n",
       "      <th>rut_apoderados_4</th>\n",
       "      <th>rut_apoderados_5</th>\n",
       "      <th>rut_apoderados_6</th>\n",
       "      <th>rut_apoderados_7</th>\n",
       "    </tr>\n",
       "  </thead>\n",
       "  <tbody>\n",
       "    <tr>\n",
       "      <th>0</th>\n",
       "      <td>775590564</td>\n",
       "      <td>Minimarket Makarena Krause E.I.R.L.</td>\n",
       "      <td>2022-04-16</td>\n",
       "      <td>2022-05-02 19:15:10.509874</td>\n",
       "      <td>[{'nombre': 'MAKARENA DENISS KRAUSE VEGA', 'ru...</td>\n",
       "      <td>False</td>\n",
       "      <td>individualmente</td>\n",
       "      <td>[{'nombre': 'MAKARENA DENISS KRAUSE VEGA', 'ru...</td>\n",
       "      <td>2022-04-16</td>\n",
       "      <td>1</td>\n",
       "      <td>...</td>\n",
       "      <td>None</td>\n",
       "      <td>None</td>\n",
       "      <td>None</td>\n",
       "      <td>186527518</td>\n",
       "      <td>None</td>\n",
       "      <td>None</td>\n",
       "      <td>None</td>\n",
       "      <td>None</td>\n",
       "      <td>None</td>\n",
       "      <td>None</td>\n",
       "    </tr>\n",
       "    <tr>\n",
       "      <th>1</th>\n",
       "      <td>775590572</td>\n",
       "      <td>Adonnay Beauty SpA</td>\n",
       "      <td>2022-04-16</td>\n",
       "      <td>2022-05-02 19:26:48.053295</td>\n",
       "      <td>[{'nombre': 'FELIPE IGNACIO ILABACA LEAL', 'ru...</td>\n",
       "      <td>True</td>\n",
       "      <td>individualmente</td>\n",
       "      <td>[{'rut': '18.174.910-5', 'nombre': 'felipe ign...</td>\n",
       "      <td>2022-04-16</td>\n",
       "      <td>1</td>\n",
       "      <td>...</td>\n",
       "      <td>None</td>\n",
       "      <td>None</td>\n",
       "      <td>None</td>\n",
       "      <td>181749105</td>\n",
       "      <td>None</td>\n",
       "      <td>None</td>\n",
       "      <td>None</td>\n",
       "      <td>None</td>\n",
       "      <td>None</td>\n",
       "      <td>None</td>\n",
       "    </tr>\n",
       "  </tbody>\n",
       "</table>\n",
       "<p>2 rows × 58 columns</p>\n",
       "</div>"
      ],
      "text/plain": [
       "         rut                         razon_social fecha_actuacion  \\\n",
       "0  775590564  Minimarket Makarena Krause E.I.R.L.      2022-04-16   \n",
       "1  775590572                   Adonnay Beauty SpA      2022-04-16   \n",
       "\n",
       "                fecha_estudio  \\\n",
       "0  2022-05-02 19:15:10.509874   \n",
       "1  2022-05-02 19:26:48.053295   \n",
       "\n",
       "                                              socios  pre_aprobado  \\\n",
       "0  [{'nombre': 'MAKARENA DENISS KRAUSE VEGA', 'ru...         False   \n",
       "1  [{'nombre': 'FELIPE IGNACIO ILABACA LEAL', 'ru...          True   \n",
       "\n",
       "        tipo_firma                                         apoderados  \\\n",
       "0  individualmente  [{'nombre': 'MAKARENA DENISS KRAUSE VEGA', 'ru...   \n",
       "1  individualmente  [{'rut': '18.174.910-5', 'nombre': 'felipe ign...   \n",
       "\n",
       "  fecha_actuacion_2  n_socios  ...  rut_socios_38 rut_socios_39 rut_socios_40  \\\n",
       "0        2022-04-16         1  ...           None          None          None   \n",
       "1        2022-04-16         1  ...           None          None          None   \n",
       "\n",
       "  rut_apoderados_1 rut_apoderados_2 rut_apoderados_3 rut_apoderados_4  \\\n",
       "0        186527518             None             None             None   \n",
       "1        181749105             None             None             None   \n",
       "\n",
       "  rut_apoderados_5 rut_apoderados_6 rut_apoderados_7  \n",
       "0             None             None             None  \n",
       "1             None             None             None  \n",
       "\n",
       "[2 rows x 58 columns]"
      ]
     },
     "execution_count": 286,
     "metadata": {},
     "output_type": "execute_result"
    }
   ],
   "source": [
    "df1.head(2)"
   ]
  },
  {
   "cell_type": "markdown",
   "metadata": {},
   "source": [
    "Organizar columnas"
   ]
  },
  {
   "cell_type": "code",
   "execution_count": 287,
   "metadata": {},
   "outputs": [],
   "source": [
    "del df1['fecha_actuacion']\n",
    "df1 = df1.rename(columns={'fecha_actuacion_2' : 'fecha_actuacion'})"
   ]
  },
  {
   "cell_type": "code",
   "execution_count": 288,
   "metadata": {},
   "outputs": [],
   "source": [
    "del df1['socios']\n",
    "del df1['apoderados']"
   ]
  },
  {
   "cell_type": "markdown",
   "metadata": {},
   "source": [
    "Reorder Columns"
   ]
  },
  {
   "cell_type": "code",
   "execution_count": 289,
   "metadata": {},
   "outputs": [],
   "source": [
    "max_socios = df1['n_socios'].max()\n",
    "max_apoderados = df1['n_apoderados'].max()"
   ]
  },
  {
   "cell_type": "code",
   "execution_count": 290,
   "metadata": {},
   "outputs": [],
   "source": [
    "col_socios = ['rut_socios_' + str(i) for i in range(1, max_socios + 1)]\n",
    "col_apoderados = ['rut_apoderados_' + str(i) for i in range(1, max_apoderados + 1)]"
   ]
  },
  {
   "cell_type": "code",
   "execution_count": 291,
   "metadata": {},
   "outputs": [
    {
     "data": {
      "text/plain": [
       "Index(['rut', 'razon_social', 'fecha_estudio', 'pre_aprobado', 'tipo_firma',\n",
       "       'fecha_actuacion', 'n_socios', 'n_apoderados', 'rut_socios_1',\n",
       "       'rut_socios_2', 'rut_socios_3', 'rut_socios_4', 'rut_socios_5',\n",
       "       'rut_socios_6', 'rut_socios_7', 'rut_socios_8', 'rut_socios_9',\n",
       "       'rut_socios_10', 'rut_socios_11', 'rut_socios_12', 'rut_socios_13',\n",
       "       'rut_socios_14', 'rut_socios_15', 'rut_socios_16', 'rut_socios_17',\n",
       "       'rut_socios_18', 'rut_socios_19', 'rut_socios_20', 'rut_socios_21',\n",
       "       'rut_socios_22', 'rut_socios_23', 'rut_socios_24', 'rut_socios_25',\n",
       "       'rut_socios_26', 'rut_socios_27', 'rut_socios_28', 'rut_socios_29',\n",
       "       'rut_socios_30', 'rut_socios_31', 'rut_socios_32', 'rut_socios_33',\n",
       "       'rut_socios_34', 'rut_socios_35', 'rut_socios_36', 'rut_socios_37',\n",
       "       'rut_socios_38', 'rut_socios_39', 'rut_socios_40', 'rut_apoderados_1',\n",
       "       'rut_apoderados_2', 'rut_apoderados_3', 'rut_apoderados_4',\n",
       "       'rut_apoderados_5', 'rut_apoderados_6', 'rut_apoderados_7'],\n",
       "      dtype='object')"
      ]
     },
     "execution_count": 291,
     "metadata": {},
     "output_type": "execute_result"
    }
   ],
   "source": [
    "df1.columns"
   ]
  },
  {
   "cell_type": "code",
   "execution_count": 292,
   "metadata": {},
   "outputs": [
    {
     "data": {
      "text/plain": [
       "(5653, 55)"
      ]
     },
     "execution_count": 292,
     "metadata": {},
     "output_type": "execute_result"
    }
   ],
   "source": [
    "df1.shape"
   ]
  },
  {
   "cell_type": "code",
   "execution_count": 293,
   "metadata": {},
   "outputs": [],
   "source": [
    "cols = ['rut', 'razon_social', 'tipo_firma', 'fecha_actuacion', 'fecha_estudio',\n",
    "              'pre_aprobado'] + ['n_socios'] + ['n_apoderados'] + col_socios + col_apoderados\n",
    "#cols"
   ]
  },
  {
   "cell_type": "code",
   "execution_count": 294,
   "metadata": {},
   "outputs": [],
   "source": [
    "df1 = df1.loc[:, cols]"
   ]
  },
  {
   "cell_type": "markdown",
   "metadata": {},
   "source": [
    "## EDA"
   ]
  },
  {
   "cell_type": "code",
   "execution_count": 295,
   "metadata": {},
   "outputs": [
    {
     "data": {
      "text/plain": [
       "individualmente              4445\n",
       "indistintamente               657\n",
       "conjuntamente                 258\n",
       "separadamente                 247\n",
       "no determinado                 35\n",
       "un representante no socio      11\n",
       "Name: tipo_firma, dtype: int64"
      ]
     },
     "execution_count": 295,
     "metadata": {},
     "output_type": "execute_result"
    }
   ],
   "source": [
    "df1['tipo_firma'].value_counts()"
   ]
  },
  {
   "cell_type": "code",
   "execution_count": 296,
   "metadata": {},
   "outputs": [
    {
     "data": {
      "text/plain": [
       "True     4849\n",
       "False     804\n",
       "Name: pre_aprobado, dtype: int64"
      ]
     },
     "execution_count": 296,
     "metadata": {},
     "output_type": "execute_result"
    }
   ],
   "source": [
    "df1['pre_aprobado'].value_counts()"
   ]
  },
  {
   "cell_type": "code",
   "execution_count": 297,
   "metadata": {},
   "outputs": [
    {
     "data": {
      "text/plain": [
       "1     3903\n",
       "2     1482\n",
       "3      181\n",
       "4       61\n",
       "5       14\n",
       "17       3\n",
       "7        2\n",
       "6        2\n",
       "15       1\n",
       "10       1\n",
       "9        1\n",
       "40       1\n",
       "8        1\n",
       "Name: n_socios, dtype: int64"
      ]
     },
     "execution_count": 297,
     "metadata": {},
     "output_type": "execute_result"
    }
   ],
   "source": [
    "df1['n_socios'].value_counts()"
   ]
  },
  {
   "cell_type": "code",
   "execution_count": 298,
   "metadata": {},
   "outputs": [
    {
     "data": {
      "text/plain": [
       "1    4470\n",
       "2     997\n",
       "3     131\n",
       "0      27\n",
       "4      22\n",
       "5       3\n",
       "6       2\n",
       "7       1\n",
       "Name: n_apoderados, dtype: int64"
      ]
     },
     "execution_count": 298,
     "metadata": {},
     "output_type": "execute_result"
    }
   ],
   "source": [
    "df1['n_apoderados'].value_counts()"
   ]
  },
  {
   "cell_type": "code",
   "execution_count": 299,
   "metadata": {},
   "outputs": [
    {
     "data": {
      "text/plain": [
       "fecha_actuacion\n",
       "2022-03-16      1\n",
       "2022-03-17      1\n",
       "2022-03-18      0\n",
       "2022-03-19      0\n",
       "2022-03-20      0\n",
       "2022-03-21      0\n",
       "2022-03-22      1\n",
       "2022-03-23      1\n",
       "2022-03-24      1\n",
       "2022-03-25      0\n",
       "2022-03-26      0\n",
       "2022-03-27      0\n",
       "2022-03-28      0\n",
       "2022-03-29      1\n",
       "2022-03-30      1\n",
       "2022-03-31      2\n",
       "2022-04-01      0\n",
       "2022-04-02      0\n",
       "2022-04-03      4\n",
       "2022-04-04      2\n",
       "2022-04-05      1\n",
       "2022-04-06      4\n",
       "2022-04-07      5\n",
       "2022-04-08      3\n",
       "2022-04-09      1\n",
       "2022-04-10      2\n",
       "2022-04-11      8\n",
       "2022-04-12      7\n",
       "2022-04-13     13\n",
       "2022-04-14     12\n",
       "2022-04-15      7\n",
       "2022-04-16     68\n",
       "2022-04-17     75\n",
       "2022-04-18    578\n",
       "2022-04-19    630\n",
       "2022-04-20    521\n",
       "2022-04-21    419\n",
       "2022-04-22    447\n",
       "2022-04-23      0\n",
       "2022-04-24     62\n",
       "2022-04-25    614\n",
       "2022-04-26    616\n",
       "2022-04-27    538\n",
       "2022-04-28    483\n",
       "2022-04-29    436\n",
       "2022-04-30     88\n",
       "Freq: D, Name: rut, dtype: int64"
      ]
     },
     "execution_count": 299,
     "metadata": {},
     "output_type": "execute_result"
    }
   ],
   "source": [
    "vol_dia = df1.groupby(pd.Grouper(key='fecha_actuacion', freq='d'))['rut'].count()\n",
    "vol_dia"
   ]
  },
  {
   "cell_type": "markdown",
   "metadata": {},
   "source": [
    "## Output"
   ]
  },
  {
   "cell_type": "code",
   "execution_count": 300,
   "metadata": {},
   "outputs": [],
   "source": [
    "df1['razon_social'] = df1['razon_social'].str.normalize('NFKD').str.title() \\\n",
    "                    .str.encode('ascii', errors='ignore').str.decode('utf-8')"
   ]
  },
  {
   "cell_type": "code",
   "execution_count": 301,
   "metadata": {},
   "outputs": [],
   "source": [
    "#df1"
   ]
  },
  {
   "cell_type": "code",
   "execution_count": 302,
   "metadata": {},
   "outputs": [],
   "source": [
    "df1.to_csv('../reports/100. Obex intelligence/corporate_intelligence_DEMO-202205.csv', \n",
    "           index=False,\n",
    "           encoding='utf-8',\n",
    "           quoting=2)"
   ]
  },
  {
   "cell_type": "code",
   "execution_count": null,
   "metadata": {},
   "outputs": [],
   "source": []
  }
 ],
 "metadata": {
  "instance_type": "ml.t3.medium",
  "kernelspec": {
   "display_name": "Python 3 (Data Science)",
   "language": "python",
   "name": "python3__SAGEMAKER_INTERNAL__arn:aws:sagemaker:sa-east-1:782484402741:image/datascience-1.0"
  },
  "language_info": {
   "codemirror_mode": {
    "name": "ipython",
    "version": 3
   },
   "file_extension": ".py",
   "mimetype": "text/x-python",
   "name": "python",
   "nbconvert_exporter": "python",
   "pygments_lexer": "ipython3",
   "version": "3.7.10"
  }
 },
 "nbformat": 4,
 "nbformat_minor": 4
}
