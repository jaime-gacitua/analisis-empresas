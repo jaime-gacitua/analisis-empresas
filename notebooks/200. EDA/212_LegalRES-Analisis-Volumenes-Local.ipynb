{
 "cells": [
  {
   "cell_type": "markdown",
   "metadata": {},
   "source": [
    "# Analisis De Volumen\n",
    "\n",
    "1. De que tratan las empresas que se estan consitituyendo? NLP en descripcion de actividades.\n",
    "2. Hay algun patron geografico? (x ej con https://kepler.gl/)\n",
    "3. Hay cambios a lo largo del tiempo? Algún peak interesante?\n",
    "4. Qué características de empresa tienden a pedir cuenta corriente y cuáles no?\n",
    "5. Cuánto tiempo pasa entre que una empresa se constituye y solicitan una cuenta corriente?\n",
    "6. Podemos ver alguna red de RUTs? Gente que esta relacionada en varias empresas (quizas con https://www.graphext.com/)\n"
   ]
  },
  {
   "cell_type": "code",
   "execution_count": 1,
   "metadata": {
    "ExecuteTime": {
     "end_time": "2022-06-15T11:04:24.546896Z",
     "start_time": "2022-06-15T11:04:24.538395Z"
    }
   },
   "outputs": [],
   "source": [
    "#!pip install awswrangler\n",
    "#!pip install --upgrade seaborn\n",
    "#!pip install wordcloud\n",
    "#!pip install --upgrade pandas\n",
    "#!pip install unidecode\n",
    "#!pip install gensim"
   ]
  },
  {
   "cell_type": "code",
   "execution_count": 18,
   "metadata": {
    "ExecuteTime": {
     "end_time": "2022-06-15T11:08:54.187795Z",
     "start_time": "2022-06-15T11:08:54.178003Z"
    }
   },
   "outputs": [],
   "source": [
    "import boto3\n",
    "\n",
    "import pandas as pd\n",
    "import awswrangler as wr\n",
    "import seaborn as sns\n",
    "import numpy as np\n",
    "sns.set_theme()\n",
    "\n",
    "from matplotlib import rcParams\n",
    "rcParams['figure.figsize'] = 15,8\n",
    "rcParams['font.family'] = \"roboto\""
   ]
  },
  {
   "cell_type": "code",
   "execution_count": 7,
   "metadata": {
    "ExecuteTime": {
     "end_time": "2022-06-15T11:05:43.845237Z",
     "start_time": "2022-06-15T11:05:43.342296Z"
    }
   },
   "outputs": [],
   "source": [
    "bucket='legalres-storage-study-json'\n",
    "prefix = 'processed'\n",
    "data_location = 's3://{}/{}/'.format(bucket, prefix)\n",
    "\n",
    "session = boto3.Session(profile_name='legalbot')\n",
    "boto3.setup_default_session(profile_name='legalbot')\n",
    "s3 = boto3.client('s3')\n"
   ]
  },
  {
   "cell_type": "code",
   "execution_count": 8,
   "metadata": {
    "ExecuteTime": {
     "end_time": "2022-06-15T11:08:29.971678Z",
     "start_time": "2022-06-15T11:05:47.166077Z"
    }
   },
   "outputs": [],
   "source": [
    "df = wr.s3.read_parquet(path=data_location,\n",
    "                        boto3_session=session)"
   ]
  },
  {
   "cell_type": "code",
   "execution_count": 9,
   "metadata": {
    "ExecuteTime": {
     "end_time": "2022-06-15T11:08:30.008158Z",
     "start_time": "2022-06-15T11:08:29.976494Z"
    }
   },
   "outputs": [
    {
     "data": {
      "text/plain": [
       "(881320, 7)"
      ]
     },
     "execution_count": 9,
     "metadata": {},
     "output_type": "execute_result"
    }
   ],
   "source": [
    "df.shape"
   ]
  },
  {
   "cell_type": "code",
   "execution_count": 10,
   "metadata": {
    "ExecuteTime": {
     "end_time": "2022-06-15T11:08:30.030657Z",
     "start_time": "2022-06-15T11:08:30.015679Z"
    }
   },
   "outputs": [
    {
     "data": {
      "text/plain": [
       "Index(['rut', 'cve', 'fecha', 'lugar', 'tipo_sociedad', 'objeto', 'firmas'], dtype='object')"
      ]
     },
     "execution_count": 10,
     "metadata": {},
     "output_type": "execute_result"
    }
   ],
   "source": [
    "df.columns"
   ]
  },
  {
   "cell_type": "code",
   "execution_count": 11,
   "metadata": {
    "ExecuteTime": {
     "end_time": "2022-06-15T11:08:30.105483Z",
     "start_time": "2022-06-15T11:08:30.037143Z"
    }
   },
   "outputs": [
    {
     "data": {
      "text/html": [
       "<div>\n",
       "<style scoped>\n",
       "    .dataframe tbody tr th:only-of-type {\n",
       "        vertical-align: middle;\n",
       "    }\n",
       "\n",
       "    .dataframe tbody tr th {\n",
       "        vertical-align: top;\n",
       "    }\n",
       "\n",
       "    .dataframe thead th {\n",
       "        text-align: right;\n",
       "    }\n",
       "</style>\n",
       "<table border=\"1\" class=\"dataframe\">\n",
       "  <thead>\n",
       "    <tr style=\"text-align: right;\">\n",
       "      <th></th>\n",
       "      <th>rut</th>\n",
       "      <th>cve</th>\n",
       "      <th>fecha</th>\n",
       "      <th>lugar</th>\n",
       "      <th>tipo_sociedad</th>\n",
       "      <th>objeto</th>\n",
       "      <th>firmas</th>\n",
       "    </tr>\n",
       "  </thead>\n",
       "  <tbody>\n",
       "    <tr>\n",
       "      <th>0</th>\n",
       "      <td>76305353-9</td>\n",
       "      <td>AC00DaeUV9O5</td>\n",
       "      <td>2013-10-16</td>\n",
       "      <td>En PROVIDENCIA, Región METROPOLITANA DE SANTIA...</td>\n",
       "      <td>EMPRESA INDIVIDUAL DE RESPONSABILIDAD LIMITADA</td>\n",
       "      <td>La Empresa tendrá por objeto desarrollar las s...</td>\n",
       "      <td>[{'anotacion': None, 'firmado': 'Firmado elect...</td>\n",
       "    </tr>\n",
       "    <tr>\n",
       "      <th>1</th>\n",
       "      <td>76313659-0</td>\n",
       "      <td>AC00iMWofV5q</td>\n",
       "      <td>2013-10-28</td>\n",
       "      <td>En QUILPUE, Región de VALPARAISO, Chile, a 28 ...</td>\n",
       "      <td>EMPRESA INDIVIDUAL DE RESPONSABILIDAD LIMITADA</td>\n",
       "      <td>La Empresa tendrá por objeto desarrollar las s...</td>\n",
       "      <td>[{'anotacion': None, 'firmado': 'Firmado elect...</td>\n",
       "    </tr>\n",
       "    <tr>\n",
       "      <th>2</th>\n",
       "      <td>76313458-K</td>\n",
       "      <td>AC01CGsqBCMM</td>\n",
       "      <td>2013-10-25</td>\n",
       "      <td>En COYHAIQUE, Región de AYSEN DEL GRAL. CARLOS...</td>\n",
       "      <td>SOCIEDAD DE RESPONSABILIDAD LIMITADA</td>\n",
       "      <td>La Sociedad tendrá por objeto desarrollar las ...</td>\n",
       "      <td>[{'anotacion': None, 'firmado': 'Firmado elect...</td>\n",
       "    </tr>\n",
       "    <tr>\n",
       "      <th>3</th>\n",
       "      <td>76313026-6</td>\n",
       "      <td>AC01YjJkTvS3</td>\n",
       "      <td>2013-10-23</td>\n",
       "      <td>En PUENTE ALTO, Región METROPOLITANA DE SANTIA...</td>\n",
       "      <td>EMPRESA INDIVIDUAL DE RESPONSABILIDAD LIMITADA</td>\n",
       "      <td>La Empresa tendrá por objeto desarrollar las s...</td>\n",
       "      <td>[{'anotacion': None, 'firmado': 'Firmado elect...</td>\n",
       "    </tr>\n",
       "    <tr>\n",
       "      <th>4</th>\n",
       "      <td>76304233-2</td>\n",
       "      <td>AC1DrSkE1pdl</td>\n",
       "      <td>2013-10-08</td>\n",
       "      <td>En TEMUCO, Región de LA ARAUCANIA, Chile, a 08...</td>\n",
       "      <td>EMPRESA INDIVIDUAL DE RESPONSABILIDAD LIMITADA</td>\n",
       "      <td>La Empresa tendrá por objeto desarrollar las s...</td>\n",
       "      <td>[{'anotacion': None, 'firmado': 'Firmado elect...</td>\n",
       "    </tr>\n",
       "  </tbody>\n",
       "</table>\n",
       "</div>"
      ],
      "text/plain": [
       "          rut           cve      fecha  \\\n",
       "0  76305353-9  AC00DaeUV9O5 2013-10-16   \n",
       "1  76313659-0  AC00iMWofV5q 2013-10-28   \n",
       "2  76313458-K  AC01CGsqBCMM 2013-10-25   \n",
       "3  76313026-6  AC01YjJkTvS3 2013-10-23   \n",
       "4  76304233-2  AC1DrSkE1pdl 2013-10-08   \n",
       "\n",
       "                                               lugar  \\\n",
       "0  En PROVIDENCIA, Región METROPOLITANA DE SANTIA...   \n",
       "1  En QUILPUE, Región de VALPARAISO, Chile, a 28 ...   \n",
       "2  En COYHAIQUE, Región de AYSEN DEL GRAL. CARLOS...   \n",
       "3  En PUENTE ALTO, Región METROPOLITANA DE SANTIA...   \n",
       "4  En TEMUCO, Región de LA ARAUCANIA, Chile, a 08...   \n",
       "\n",
       "                                    tipo_sociedad  \\\n",
       "0  EMPRESA INDIVIDUAL DE RESPONSABILIDAD LIMITADA   \n",
       "1  EMPRESA INDIVIDUAL DE RESPONSABILIDAD LIMITADA   \n",
       "2            SOCIEDAD DE RESPONSABILIDAD LIMITADA   \n",
       "3  EMPRESA INDIVIDUAL DE RESPONSABILIDAD LIMITADA   \n",
       "4  EMPRESA INDIVIDUAL DE RESPONSABILIDAD LIMITADA   \n",
       "\n",
       "                                              objeto  \\\n",
       "0  La Empresa tendrá por objeto desarrollar las s...   \n",
       "1  La Empresa tendrá por objeto desarrollar las s...   \n",
       "2  La Sociedad tendrá por objeto desarrollar las ...   \n",
       "3  La Empresa tendrá por objeto desarrollar las s...   \n",
       "4  La Empresa tendrá por objeto desarrollar las s...   \n",
       "\n",
       "                                              firmas  \n",
       "0  [{'anotacion': None, 'firmado': 'Firmado elect...  \n",
       "1  [{'anotacion': None, 'firmado': 'Firmado elect...  \n",
       "2  [{'anotacion': None, 'firmado': 'Firmado elect...  \n",
       "3  [{'anotacion': None, 'firmado': 'Firmado elect...  \n",
       "4  [{'anotacion': None, 'firmado': 'Firmado elect...  "
      ]
     },
     "execution_count": 11,
     "metadata": {},
     "output_type": "execute_result"
    }
   ],
   "source": [
    "df.head()"
   ]
  },
  {
   "cell_type": "markdown",
   "metadata": {},
   "source": [
    "## EDA"
   ]
  },
  {
   "cell_type": "markdown",
   "metadata": {},
   "source": [
    "### Rut repetidos? "
   ]
  },
  {
   "cell_type": "code",
   "execution_count": 12,
   "metadata": {
    "ExecuteTime": {
     "end_time": "2022-06-15T11:08:31.481798Z",
     "start_time": "2022-06-15T11:08:30.109485Z"
    }
   },
   "outputs": [
    {
     "data": {
      "text/plain": [
       "76583346-9    2\n",
       "77310252-K    2\n",
       "76304404-1    2\n",
       "77117628-3    2\n",
       "76826175-K    2\n",
       "Name: rut, dtype: Int64"
      ]
     },
     "execution_count": 12,
     "metadata": {},
     "output_type": "execute_result"
    }
   ],
   "source": [
    "df['rut'].value_counts().head()"
   ]
  },
  {
   "cell_type": "markdown",
   "metadata": {},
   "source": [
    "Un ejemplo de rut repetido"
   ]
  },
  {
   "cell_type": "code",
   "execution_count": 13,
   "metadata": {
    "ExecuteTime": {
     "end_time": "2022-06-15T11:08:32.971975Z",
     "start_time": "2022-06-15T11:08:31.492442Z"
    }
   },
   "outputs": [
    {
     "data": {
      "text/html": [
       "<div>\n",
       "<style scoped>\n",
       "    .dataframe tbody tr th:only-of-type {\n",
       "        vertical-align: middle;\n",
       "    }\n",
       "\n",
       "    .dataframe tbody tr th {\n",
       "        vertical-align: top;\n",
       "    }\n",
       "\n",
       "    .dataframe thead th {\n",
       "        text-align: right;\n",
       "    }\n",
       "</style>\n",
       "<table border=\"1\" class=\"dataframe\">\n",
       "  <thead>\n",
       "    <tr style=\"text-align: right;\">\n",
       "      <th></th>\n",
       "      <th>rut</th>\n",
       "      <th>cve</th>\n",
       "      <th>fecha</th>\n",
       "      <th>lugar</th>\n",
       "      <th>tipo_sociedad</th>\n",
       "      <th>objeto</th>\n",
       "      <th>firmas</th>\n",
       "    </tr>\n",
       "  </thead>\n",
       "  <tbody>\n",
       "    <tr>\n",
       "      <th>137194</th>\n",
       "      <td>76583346-9</td>\n",
       "      <td>AC8Vdm3ERua9</td>\n",
       "      <td>2016-01-25</td>\n",
       "      <td>En PROVIDENCIA, Región METROPOLITANA DE SANTIA...</td>\n",
       "      <td>EMPRESA INDIVIDUAL DE RESPONSABILIDAD LIMITADA</td>\n",
       "      <td>La Empresa tendrá por objeto desarrollar las s...</td>\n",
       "      <td>[{'anotacion': None, 'firmado': 'Firmado elect...</td>\n",
       "    </tr>\n",
       "    <tr>\n",
       "      <th>137493</th>\n",
       "      <td>76583346-9</td>\n",
       "      <td>ACBvqmum11lT</td>\n",
       "      <td>2016-01-20</td>\n",
       "      <td>En PUERTO NATALES, Región de MAGALLANES Y DE L...</td>\n",
       "      <td>EMPRESA INDIVIDUAL DE RESPONSABILIDAD LIMITADA</td>\n",
       "      <td>La Empresa tendrá por objeto desarrollar las s...</td>\n",
       "      <td>[{'anotacion': None, 'firmado': 'Firmado elect...</td>\n",
       "    </tr>\n",
       "  </tbody>\n",
       "</table>\n",
       "</div>"
      ],
      "text/plain": [
       "               rut           cve      fecha  \\\n",
       "137194  76583346-9  AC8Vdm3ERua9 2016-01-25   \n",
       "137493  76583346-9  ACBvqmum11lT 2016-01-20   \n",
       "\n",
       "                                                    lugar  \\\n",
       "137194  En PROVIDENCIA, Región METROPOLITANA DE SANTIA...   \n",
       "137493  En PUERTO NATALES, Región de MAGALLANES Y DE L...   \n",
       "\n",
       "                                         tipo_sociedad  \\\n",
       "137194  EMPRESA INDIVIDUAL DE RESPONSABILIDAD LIMITADA   \n",
       "137493  EMPRESA INDIVIDUAL DE RESPONSABILIDAD LIMITADA   \n",
       "\n",
       "                                                   objeto  \\\n",
       "137194  La Empresa tendrá por objeto desarrollar las s...   \n",
       "137493  La Empresa tendrá por objeto desarrollar las s...   \n",
       "\n",
       "                                                   firmas  \n",
       "137194  [{'anotacion': None, 'firmado': 'Firmado elect...  \n",
       "137493  [{'anotacion': None, 'firmado': 'Firmado elect...  "
      ]
     },
     "execution_count": 13,
     "metadata": {},
     "output_type": "execute_result"
    }
   ],
   "source": [
    "df.loc[df['rut'] == df['rut'].value_counts().index[0]]"
   ]
  },
  {
   "cell_type": "markdown",
   "metadata": {},
   "source": [
    "### Volumen y fechas"
   ]
  },
  {
   "cell_type": "code",
   "execution_count": 40,
   "metadata": {
    "ExecuteTime": {
     "end_time": "2022-06-15T11:16:14.956089Z",
     "start_time": "2022-06-15T11:16:13.533383Z"
    }
   },
   "outputs": [],
   "source": [
    "volumen = df.groupby(pd.Grouper(key='fecha', freq='m'))['rut'].count().to_frame()"
   ]
  },
  {
   "cell_type": "code",
   "execution_count": 41,
   "metadata": {
    "ExecuteTime": {
     "end_time": "2022-06-15T11:16:14.990997Z",
     "start_time": "2022-06-15T11:16:14.979726Z"
    }
   },
   "outputs": [],
   "source": [
    "volumen['MM6'] = volumen['rut'].rolling(6).mean()"
   ]
  },
  {
   "cell_type": "code",
   "execution_count": 42,
   "metadata": {
    "ExecuteTime": {
     "end_time": "2022-06-15T11:16:15.003480Z",
     "start_time": "2022-06-15T11:16:14.994503Z"
    }
   },
   "outputs": [
    {
     "name": "stdout",
     "output_type": "stream",
     "text": [
      "2013-05-31 00:00:00\n",
      "2022-06-30 00:00:00\n"
     ]
    }
   ],
   "source": [
    "print(volumen.index[0])\n",
    "print(volumen.index[-1])"
   ]
  },
  {
   "cell_type": "code",
   "execution_count": 43,
   "metadata": {
    "ExecuteTime": {
     "end_time": "2022-06-15T11:16:15.024788Z",
     "start_time": "2022-06-15T11:16:15.011093Z"
    }
   },
   "outputs": [],
   "source": [
    "# remove last month with incomplete data\n",
    "volumen = volumen.loc[volumen.index[0:-1], :]"
   ]
  },
  {
   "cell_type": "code",
   "execution_count": 44,
   "metadata": {
    "ExecuteTime": {
     "end_time": "2022-06-15T11:16:15.045007Z",
     "start_time": "2022-06-15T11:16:15.032863Z"
    }
   },
   "outputs": [],
   "source": [
    "volumen.index.name = 'mes'"
   ]
  },
  {
   "cell_type": "code",
   "execution_count": 45,
   "metadata": {
    "ExecuteTime": {
     "end_time": "2022-06-15T11:16:15.062892Z",
     "start_time": "2022-06-15T11:16:15.050206Z"
    }
   },
   "outputs": [],
   "source": [
    "# Create linear regression line\n",
    "nums = range(len(volumen.index))\n",
    "volumen['nums'] = nums\n",
    "X = volumen['nums'].values\n",
    "y = volumen['rut'].values\n",
    "m, b = np.polyfit(X, y, 1)\n",
    "preds = [m*x+b for x in nums]\n",
    "volumen['regresion'] = preds\n",
    "\n",
    "del volumen['nums']"
   ]
  },
  {
   "cell_type": "code",
   "execution_count": 46,
   "metadata": {
    "ExecuteTime": {
     "end_time": "2022-06-15T11:16:15.078804Z",
     "start_time": "2022-06-15T11:16:15.070097Z"
    }
   },
   "outputs": [],
   "source": [
    "sns.set_context('poster')"
   ]
  },
  {
   "cell_type": "code",
   "execution_count": 47,
   "metadata": {
    "ExecuteTime": {
     "end_time": "2022-06-15T11:16:15.106765Z",
     "start_time": "2022-06-15T11:16:15.081939Z"
    }
   },
   "outputs": [
    {
     "data": {
      "text/html": [
       "<div>\n",
       "<style scoped>\n",
       "    .dataframe tbody tr th:only-of-type {\n",
       "        vertical-align: middle;\n",
       "    }\n",
       "\n",
       "    .dataframe tbody tr th {\n",
       "        vertical-align: top;\n",
       "    }\n",
       "\n",
       "    .dataframe thead th {\n",
       "        text-align: right;\n",
       "    }\n",
       "</style>\n",
       "<table border=\"1\" class=\"dataframe\">\n",
       "  <thead>\n",
       "    <tr style=\"text-align: right;\">\n",
       "      <th></th>\n",
       "      <th>rut</th>\n",
       "      <th>MM6</th>\n",
       "      <th>regresion</th>\n",
       "    </tr>\n",
       "    <tr>\n",
       "      <th>mes</th>\n",
       "      <th></th>\n",
       "      <th></th>\n",
       "      <th></th>\n",
       "    </tr>\n",
       "  </thead>\n",
       "  <tbody>\n",
       "    <tr>\n",
       "      <th>2013-05-31</th>\n",
       "      <td>1685</td>\n",
       "      <td>NaN</td>\n",
       "      <td>2385.868891</td>\n",
       "    </tr>\n",
       "    <tr>\n",
       "      <th>2013-06-30</th>\n",
       "      <td>2017</td>\n",
       "      <td>NaN</td>\n",
       "      <td>2491.260208</td>\n",
       "    </tr>\n",
       "    <tr>\n",
       "      <th>2013-07-31</th>\n",
       "      <td>2317</td>\n",
       "      <td>NaN</td>\n",
       "      <td>2596.651524</td>\n",
       "    </tr>\n",
       "    <tr>\n",
       "      <th>2013-08-31</th>\n",
       "      <td>2180</td>\n",
       "      <td>NaN</td>\n",
       "      <td>2702.042841</td>\n",
       "    </tr>\n",
       "    <tr>\n",
       "      <th>2013-09-30</th>\n",
       "      <td>1522</td>\n",
       "      <td>NaN</td>\n",
       "      <td>2807.434158</td>\n",
       "    </tr>\n",
       "    <tr>\n",
       "      <th>...</th>\n",
       "      <td>...</td>\n",
       "      <td>...</td>\n",
       "      <td>...</td>\n",
       "    </tr>\n",
       "    <tr>\n",
       "      <th>2022-01-31</th>\n",
       "      <td>12256</td>\n",
       "      <td>13853.166667</td>\n",
       "      <td>13346.565842</td>\n",
       "    </tr>\n",
       "    <tr>\n",
       "      <th>2022-02-28</th>\n",
       "      <td>10799</td>\n",
       "      <td>12886.333333</td>\n",
       "      <td>13451.957159</td>\n",
       "    </tr>\n",
       "    <tr>\n",
       "      <th>2022-03-31</th>\n",
       "      <td>14070</td>\n",
       "      <td>12756.500000</td>\n",
       "      <td>13557.348476</td>\n",
       "    </tr>\n",
       "    <tr>\n",
       "      <th>2022-04-30</th>\n",
       "      <td>11780</td>\n",
       "      <td>12051.666667</td>\n",
       "      <td>13662.739792</td>\n",
       "    </tr>\n",
       "    <tr>\n",
       "      <th>2022-05-31</th>\n",
       "      <td>12622</td>\n",
       "      <td>11970.166667</td>\n",
       "      <td>13768.131109</td>\n",
       "    </tr>\n",
       "  </tbody>\n",
       "</table>\n",
       "<p>109 rows × 3 columns</p>\n",
       "</div>"
      ],
      "text/plain": [
       "              rut           MM6     regresion\n",
       "mes                                          \n",
       "2013-05-31   1685           NaN   2385.868891\n",
       "2013-06-30   2017           NaN   2491.260208\n",
       "2013-07-31   2317           NaN   2596.651524\n",
       "2013-08-31   2180           NaN   2702.042841\n",
       "2013-09-30   1522           NaN   2807.434158\n",
       "...           ...           ...           ...\n",
       "2022-01-31  12256  13853.166667  13346.565842\n",
       "2022-02-28  10799  12886.333333  13451.957159\n",
       "2022-03-31  14070  12756.500000  13557.348476\n",
       "2022-04-30  11780  12051.666667  13662.739792\n",
       "2022-05-31  12622  11970.166667  13768.131109\n",
       "\n",
       "[109 rows x 3 columns]"
      ]
     },
     "execution_count": 47,
     "metadata": {},
     "output_type": "execute_result"
    }
   ],
   "source": [
    "volumen"
   ]
  },
  {
   "cell_type": "code",
   "execution_count": 48,
   "metadata": {
    "ExecuteTime": {
     "end_time": "2022-06-15T11:16:15.616921Z",
     "start_time": "2022-06-15T11:16:15.112013Z"
    }
   },
   "outputs": [
    {
     "data": {
      "text/plain": [
       "[Text(0.5, 1.0, 'Volumen de CONSTITUCIONES en RES creciendo\\nMayo 2013 a Mayo 2021')]"
      ]
     },
     "execution_count": 48,
     "metadata": {},
     "output_type": "execute_result"
    },
    {
     "data": {
      "image/png": "[encoded data removed]",
      "text/plain": [
       "<Figure size 1080x576 with 1 Axes>"
      ]
     },
     "metadata": {},
     "output_type": "display_data"
    }
   ],
   "source": [
    "plot = sns.lineplot(data=volumen)\n",
    "plot.set(title='Volumen de CONSTITUCIONES en RES creciendo\\n'\n",
    "         'Mayo 2013 a Mayo 2021')"
   ]
  },
  {
   "cell_type": "code",
   "execution_count": null,
   "metadata": {},
   "outputs": [],
   "source": []
  }
 ],
 "metadata": {
  "instance_type": "ml.t3.medium",
  "kernelspec": {
   "display_name": "Python 3 (ipykernel)",
   "language": "python",
   "name": "python3"
  },
  "language_info": {
   "codemirror_mode": {
    "name": "ipython",
    "version": 3
   },
   "file_extension": ".py",
   "mimetype": "text/x-python",
   "name": "python",
   "nbconvert_exporter": "python",
   "pygments_lexer": "ipython3",
   "version": "3.8.5"
  },
  "toc": {
   "base_numbering": 1,
   "nav_menu": {},
   "number_sections": true,
   "sideBar": true,
   "skip_h1_title": false,
   "title_cell": "Table of Contents",
   "title_sidebar": "Contents",
   "toc_cell": false,
   "toc_position": {},
   "toc_section_display": true,
   "toc_window_display": false
  }
 },
 "nbformat": 4,
 "nbformat_minor": 4
}
