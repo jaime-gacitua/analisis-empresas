{
 "cells": [
  {
   "cell_type": "markdown",
   "metadata": {},
   "source": [
    "# Analisis De Volumen\n",
    "\n",
    "1. De que tratan las empresas que se estan consitituyendo? NLP en descripcion de actividades.\n",
    "2. Hay algun patron geografico? (x ej con https://kepler.gl/)\n",
    "3. Hay cambios a lo largo del tiempo? Algún peak interesante?\n",
    "4. Qué características de empresa tienden a pedir cuenta corriente y cuáles no?\n",
    "5. Cuánto tiempo pasa entre que una empresa se constituye y solicitan una cuenta corriente?\n",
    "6. Podemos ver alguna red de RUTs? Gente que esta relacionada en varias empresas (quizas con https://www.graphext.com/)\n"
   ]
  },
  {
   "cell_type": "code",
   "execution_count": 1,
   "metadata": {
    "ExecuteTime": {
     "end_time": "2022-04-17T23:06:07.575198Z",
     "start_time": "2022-04-17T23:06:07.571634Z"
    }
   },
   "outputs": [],
   "source": [
    "#!pip install awswrangler\n",
    "#!pip install --upgrade seaborn\n",
    "#!pip install wordcloud\n",
    "#!pip install --upgrade pandas\n",
    "#!pip install unidecode\n",
    "#!pip install gensim"
   ]
  },
  {
   "cell_type": "code",
   "execution_count": 2,
   "metadata": {
    "ExecuteTime": {
     "end_time": "2022-04-17T23:06:09.077204Z",
     "start_time": "2022-04-17T23:06:08.648817Z"
    }
   },
   "outputs": [],
   "source": [
    "import boto3\n",
    "\n",
    "session = boto3.session.Session(profile_name='legalbot')\n",
    "s3 = session.resource('s3')"
   ]
  },
  {
   "cell_type": "code",
   "execution_count": 92,
   "metadata": {
    "ExecuteTime": {
     "end_time": "2022-04-17T23:37:56.533979Z",
     "start_time": "2022-04-17T23:37:56.524069Z"
    }
   },
   "outputs": [],
   "source": [
    "import pandas as pd\n",
    "import awswrangler as wr\n",
    "import seaborn as sns\n",
    "sns.set_theme()\n",
    "\n",
    "from matplotlib import rcParams\n",
    "rcParams['figure.figsize'] = 15,8\n",
    "rcParams['font.family'] = \"roboto\""
   ]
  },
  {
   "cell_type": "code",
   "execution_count": 4,
   "metadata": {
    "ExecuteTime": {
     "end_time": "2022-04-17T23:06:28.418582Z",
     "start_time": "2022-04-17T23:06:28.414452Z"
    }
   },
   "outputs": [],
   "source": [
    "bucket='legalres-storage-study-json'\n",
    "prefix = 'processed'\n",
    "data_location = 's3://{}/{}/'.format(bucket, prefix)"
   ]
  },
  {
   "cell_type": "code",
   "execution_count": 5,
   "metadata": {
    "ExecuteTime": {
     "end_time": "2022-04-17T23:08:09.686867Z",
     "start_time": "2022-04-17T23:06:28.430791Z"
    }
   },
   "outputs": [],
   "source": [
    "df = wr.s3.read_parquet(path=data_location,\n",
    "                        boto3_session=session)"
   ]
  },
  {
   "cell_type": "code",
   "execution_count": 6,
   "metadata": {
    "ExecuteTime": {
     "end_time": "2022-04-17T23:08:09.706397Z",
     "start_time": "2022-04-17T23:08:09.691249Z"
    }
   },
   "outputs": [
    {
     "data": {
      "text/plain": [
       "(798060, 7)"
      ]
     },
     "execution_count": 6,
     "metadata": {},
     "output_type": "execute_result"
    }
   ],
   "source": [
    "df.shape"
   ]
  },
  {
   "cell_type": "code",
   "execution_count": 7,
   "metadata": {
    "ExecuteTime": {
     "end_time": "2022-04-17T23:08:09.718076Z",
     "start_time": "2022-04-17T23:08:09.710154Z"
    }
   },
   "outputs": [
    {
     "data": {
      "text/plain": [
       "Index(['rut', 'cve', 'fecha', 'lugar', 'tipo_sociedad', 'objeto', 'firmas'], dtype='object')"
      ]
     },
     "execution_count": 7,
     "metadata": {},
     "output_type": "execute_result"
    }
   ],
   "source": [
    "df.columns"
   ]
  },
  {
   "cell_type": "code",
   "execution_count": 8,
   "metadata": {
    "ExecuteTime": {
     "end_time": "2022-04-17T23:08:09.746013Z",
     "start_time": "2022-04-17T23:08:09.723525Z"
    }
   },
   "outputs": [
    {
     "data": {
      "text/html": [
       "<div>\n",
       "<style scoped>\n",
       "    .dataframe tbody tr th:only-of-type {\n",
       "        vertical-align: middle;\n",
       "    }\n",
       "\n",
       "    .dataframe tbody tr th {\n",
       "        vertical-align: top;\n",
       "    }\n",
       "\n",
       "    .dataframe thead th {\n",
       "        text-align: right;\n",
       "    }\n",
       "</style>\n",
       "<table border=\"1\" class=\"dataframe\">\n",
       "  <thead>\n",
       "    <tr style=\"text-align: right;\">\n",
       "      <th></th>\n",
       "      <th>rut</th>\n",
       "      <th>cve</th>\n",
       "      <th>fecha</th>\n",
       "      <th>lugar</th>\n",
       "      <th>tipo_sociedad</th>\n",
       "      <th>objeto</th>\n",
       "      <th>firmas</th>\n",
       "    </tr>\n",
       "  </thead>\n",
       "  <tbody>\n",
       "    <tr>\n",
       "      <th>0</th>\n",
       "      <td>76304233-2</td>\n",
       "      <td>AC1DrSkE1pdl</td>\n",
       "      <td>2013-10-08</td>\n",
       "      <td>En TEMUCO, Región de LA ARAUCANIA, Chile, a 08...</td>\n",
       "      <td>EMPRESA INDIVIDUAL DE RESPONSABILIDAD LIMITADA</td>\n",
       "      <td>La Empresa tendrá por objeto desarrollar las s...</td>\n",
       "      <td>[{'anotacion': None, 'firmado': 'Firmado elect...</td>\n",
       "    </tr>\n",
       "    <tr>\n",
       "      <th>1</th>\n",
       "      <td>76304089-5</td>\n",
       "      <td>AC1Dv0J0V4Zr</td>\n",
       "      <td>2013-10-07</td>\n",
       "      <td>En CONCEPCION, Región del BIOBIO, Chile, a 07 ...</td>\n",
       "      <td>SOCIEDAD DE RESPONSABILIDAD LIMITADA</td>\n",
       "      <td>La Sociedad tendrá por objeto desarrollar las ...</td>\n",
       "      <td>[{'anotacion': None, 'firmado': 'Firmado elect...</td>\n",
       "    </tr>\n",
       "    <tr>\n",
       "      <th>2</th>\n",
       "      <td>76313238-2</td>\n",
       "      <td>AC1G6RzRn16K</td>\n",
       "      <td>2013-10-24</td>\n",
       "      <td>En MOLINA, Región del MAULE, Chile, a 24 de oc...</td>\n",
       "      <td>SOCIEDAD DE RESPONSABILIDAD LIMITADA</td>\n",
       "      <td>La Sociedad tendrá por objeto desarrollar las ...</td>\n",
       "      <td>[{'anotacion': None, 'firmado': 'Firmado elect...</td>\n",
       "    </tr>\n",
       "    <tr>\n",
       "      <th>3</th>\n",
       "      <td>76313389-3</td>\n",
       "      <td>AC1G8rKdG7Xu</td>\n",
       "      <td>2013-10-24</td>\n",
       "      <td>En COPIAPO, Región de ATACAMA, Chile, a 24 de ...</td>\n",
       "      <td>SOCIEDAD DE RESPONSABILIDAD LIMITADA</td>\n",
       "      <td>La Sociedad tendrá por objeto desarrollar las ...</td>\n",
       "      <td>[{'anotacion': None, 'firmado': 'Firmado elect...</td>\n",
       "    </tr>\n",
       "    <tr>\n",
       "      <th>4</th>\n",
       "      <td>76313805-4</td>\n",
       "      <td>AC1H6Pt61S4o</td>\n",
       "      <td>2013-10-29</td>\n",
       "      <td>En TALCA, Región del MAULE, Chile, a 29 de oct...</td>\n",
       "      <td>EMPRESA INDIVIDUAL DE RESPONSABILIDAD LIMITADA</td>\n",
       "      <td>La Empresa tendrá por objeto desarrollar las s...</td>\n",
       "      <td>[{'anotacion': None, 'firmado': 'Firmado elect...</td>\n",
       "    </tr>\n",
       "  </tbody>\n",
       "</table>\n",
       "</div>"
      ],
      "text/plain": [
       "          rut           cve      fecha  \\\n",
       "0  76304233-2  AC1DrSkE1pdl 2013-10-08   \n",
       "1  76304089-5  AC1Dv0J0V4Zr 2013-10-07   \n",
       "2  76313238-2  AC1G6RzRn16K 2013-10-24   \n",
       "3  76313389-3  AC1G8rKdG7Xu 2013-10-24   \n",
       "4  76313805-4  AC1H6Pt61S4o 2013-10-29   \n",
       "\n",
       "                                               lugar  \\\n",
       "0  En TEMUCO, Región de LA ARAUCANIA, Chile, a 08...   \n",
       "1  En CONCEPCION, Región del BIOBIO, Chile, a 07 ...   \n",
       "2  En MOLINA, Región del MAULE, Chile, a 24 de oc...   \n",
       "3  En COPIAPO, Región de ATACAMA, Chile, a 24 de ...   \n",
       "4  En TALCA, Región del MAULE, Chile, a 29 de oct...   \n",
       "\n",
       "                                    tipo_sociedad  \\\n",
       "0  EMPRESA INDIVIDUAL DE RESPONSABILIDAD LIMITADA   \n",
       "1            SOCIEDAD DE RESPONSABILIDAD LIMITADA   \n",
       "2            SOCIEDAD DE RESPONSABILIDAD LIMITADA   \n",
       "3            SOCIEDAD DE RESPONSABILIDAD LIMITADA   \n",
       "4  EMPRESA INDIVIDUAL DE RESPONSABILIDAD LIMITADA   \n",
       "\n",
       "                                              objeto  \\\n",
       "0  La Empresa tendrá por objeto desarrollar las s...   \n",
       "1  La Sociedad tendrá por objeto desarrollar las ...   \n",
       "2  La Sociedad tendrá por objeto desarrollar las ...   \n",
       "3  La Sociedad tendrá por objeto desarrollar las ...   \n",
       "4  La Empresa tendrá por objeto desarrollar las s...   \n",
       "\n",
       "                                              firmas  \n",
       "0  [{'anotacion': None, 'firmado': 'Firmado elect...  \n",
       "1  [{'anotacion': None, 'firmado': 'Firmado elect...  \n",
       "2  [{'anotacion': None, 'firmado': 'Firmado elect...  \n",
       "3  [{'anotacion': None, 'firmado': 'Firmado elect...  \n",
       "4  [{'anotacion': None, 'firmado': 'Firmado elect...  "
      ]
     },
     "execution_count": 8,
     "metadata": {},
     "output_type": "execute_result"
    }
   ],
   "source": [
    "df.head()"
   ]
  },
  {
   "cell_type": "markdown",
   "metadata": {},
   "source": [
    "## EDA"
   ]
  },
  {
   "cell_type": "markdown",
   "metadata": {},
   "source": [
    "### Rut repetidos? "
   ]
  },
  {
   "cell_type": "code",
   "execution_count": 52,
   "metadata": {
    "ExecuteTime": {
     "end_time": "2022-04-17T23:20:27.191389Z",
     "start_time": "2022-04-17T23:20:25.918785Z"
    }
   },
   "outputs": [
    {
     "data": {
      "text/plain": [
       "76826175-K    2\n",
       "77117628-3    2\n",
       "76304404-1    2\n",
       "76583346-9    2\n",
       "76304625-7    1\n",
       "Name: rut, dtype: Int64"
      ]
     },
     "execution_count": 52,
     "metadata": {},
     "output_type": "execute_result"
    }
   ],
   "source": [
    "df['rut'].value_counts().head()"
   ]
  },
  {
   "cell_type": "markdown",
   "metadata": {},
   "source": [
    "Un ejemplo de rut repetido"
   ]
  },
  {
   "cell_type": "code",
   "execution_count": 56,
   "metadata": {
    "ExecuteTime": {
     "end_time": "2022-04-17T23:21:41.773123Z",
     "start_time": "2022-04-17T23:21:40.439140Z"
    }
   },
   "outputs": [
    {
     "data": {
      "text/html": [
       "<div>\n",
       "<style scoped>\n",
       "    .dataframe tbody tr th:only-of-type {\n",
       "        vertical-align: middle;\n",
       "    }\n",
       "\n",
       "    .dataframe tbody tr th {\n",
       "        vertical-align: top;\n",
       "    }\n",
       "\n",
       "    .dataframe thead th {\n",
       "        text-align: right;\n",
       "    }\n",
       "</style>\n",
       "<table border=\"1\" class=\"dataframe\">\n",
       "  <thead>\n",
       "    <tr style=\"text-align: right;\">\n",
       "      <th></th>\n",
       "      <th>rut</th>\n",
       "      <th>cve</th>\n",
       "      <th>fecha</th>\n",
       "      <th>lugar</th>\n",
       "      <th>tipo_sociedad</th>\n",
       "      <th>objeto</th>\n",
       "      <th>firmas</th>\n",
       "    </tr>\n",
       "  </thead>\n",
       "  <tbody>\n",
       "    <tr>\n",
       "      <th>305324</th>\n",
       "      <td>76826175-K</td>\n",
       "      <td>ACl13tlQfihA</td>\n",
       "      <td>2018-01-23</td>\n",
       "      <td>En MAIPU, Región METROPOLITANA DE SANTIAGO, Ch...</td>\n",
       "      <td>EMPRESA INDIVIDUAL DE RESPONSABILIDAD LIMITADA</td>\n",
       "      <td>La Empresa tendrá por objeto desarrollar las s...</td>\n",
       "      <td>[{'anotacion': None, 'firmado': 'Firmado elect...</td>\n",
       "    </tr>\n",
       "    <tr>\n",
       "      <th>315424</th>\n",
       "      <td>76826175-K</td>\n",
       "      <td>AClxnAxUWhTS</td>\n",
       "      <td>2018-10-19</td>\n",
       "      <td>En MAIPU, Región METROPOLITANA DE SANTIAGO, Ch...</td>\n",
       "      <td>EMPRESA INDIVIDUAL DE RESPONSABILIDAD LIMITADA</td>\n",
       "      <td>La Empresa tendrá por objeto desarrollar las s...</td>\n",
       "      <td>[{'anotacion': None, 'firmado': 'Firmado elect...</td>\n",
       "    </tr>\n",
       "  </tbody>\n",
       "</table>\n",
       "</div>"
      ],
      "text/plain": [
       "               rut           cve      fecha  \\\n",
       "305324  76826175-K  ACl13tlQfihA 2018-01-23   \n",
       "315424  76826175-K  AClxnAxUWhTS 2018-10-19   \n",
       "\n",
       "                                                    lugar  \\\n",
       "305324  En MAIPU, Región METROPOLITANA DE SANTIAGO, Ch...   \n",
       "315424  En MAIPU, Región METROPOLITANA DE SANTIAGO, Ch...   \n",
       "\n",
       "                                         tipo_sociedad  \\\n",
       "305324  EMPRESA INDIVIDUAL DE RESPONSABILIDAD LIMITADA   \n",
       "315424  EMPRESA INDIVIDUAL DE RESPONSABILIDAD LIMITADA   \n",
       "\n",
       "                                                   objeto  \\\n",
       "305324  La Empresa tendrá por objeto desarrollar las s...   \n",
       "315424  La Empresa tendrá por objeto desarrollar las s...   \n",
       "\n",
       "                                                   firmas  \n",
       "305324  [{'anotacion': None, 'firmado': 'Firmado elect...  \n",
       "315424  [{'anotacion': None, 'firmado': 'Firmado elect...  "
      ]
     },
     "execution_count": 56,
     "metadata": {},
     "output_type": "execute_result"
    }
   ],
   "source": [
    "df.loc[df['rut'] == df['rut'].value_counts().index[0]]"
   ]
  },
  {
   "cell_type": "markdown",
   "metadata": {},
   "source": [
    "### Volumen y fechas"
   ]
  },
  {
   "cell_type": "code",
   "execution_count": 119,
   "metadata": {
    "ExecuteTime": {
     "end_time": "2022-04-17T23:59:06.058186Z",
     "start_time": "2022-04-17T23:59:04.855044Z"
    }
   },
   "outputs": [],
   "source": [
    "volumen = df.groupby(pd.Grouper(key='fecha', freq='m'))['rut'].count().to_frame()"
   ]
  },
  {
   "cell_type": "code",
   "execution_count": 120,
   "metadata": {
    "ExecuteTime": {
     "end_time": "2022-04-17T23:59:06.080223Z",
     "start_time": "2022-04-17T23:59:06.063200Z"
    }
   },
   "outputs": [
    {
     "name": "stdout",
     "output_type": "stream",
     "text": [
      "2013-05-31 00:00:00\n",
      "2021-11-30 00:00:00\n"
     ]
    }
   ],
   "source": [
    "print(volumen.index[0])\n",
    "print(volumen.index[-1])"
   ]
  },
  {
   "cell_type": "code",
   "execution_count": 121,
   "metadata": {
    "ExecuteTime": {
     "end_time": "2022-04-17T23:59:06.093567Z",
     "start_time": "2022-04-17T23:59:06.086091Z"
    }
   },
   "outputs": [],
   "source": [
    "# remove last month with incomplete data\n",
    "volumen = volumen.loc[volumen.index[0:-1], :]"
   ]
  },
  {
   "cell_type": "code",
   "execution_count": 122,
   "metadata": {
    "ExecuteTime": {
     "end_time": "2022-04-17T23:59:06.147826Z",
     "start_time": "2022-04-17T23:59:06.107570Z"
    }
   },
   "outputs": [],
   "source": [
    "# Create linear regression line\n",
    "nums = range(len(volumen.index))\n",
    "volumen['nums'] = nums\n",
    "X = volumen['nums'].values\n",
    "y = volumen['rut'].values\n",
    "m, b = np.polyfit(X, y, 1)\n",
    "preds = [m*x+b for x in nums]\n",
    "volumen['regresion'] = preds\n",
    "\n",
    "del volumen['nums']"
   ]
  },
  {
   "cell_type": "code",
   "execution_count": 123,
   "metadata": {
    "ExecuteTime": {
     "end_time": "2022-04-17T23:59:06.173926Z",
     "start_time": "2022-04-17T23:59:06.155359Z"
    }
   },
   "outputs": [],
   "source": [
    "sns.set_context('poster')"
   ]
  },
  {
   "cell_type": "code",
   "execution_count": 124,
   "metadata": {
    "ExecuteTime": {
     "end_time": "2022-04-17T23:59:06.633965Z",
     "start_time": "2022-04-17T23:59:06.182263Z"
    }
   },
   "outputs": [
    {
     "data": {
      "text/plain": [
       "[Text(0.5, 1.0, 'CONSTITUCIONES Mensuales en RES creciendo\\nMayo 2013 a Octubre 2021')]"
      ]
     },
     "execution_count": 124,
     "metadata": {},
     "output_type": "execute_result"
    },
    {
     "data": {
      "image/png": "[encoded data removed]",
      "text/plain": [
       "<Figure size 1080x576 with 1 Axes>"
      ]
     },
     "metadata": {},
     "output_type": "display_data"
    }
   ],
   "source": [
    "plot = sns.lineplot(data=volumen)\n",
    "plot.set(title='CONSTITUCIONES Mensuales en RES creciendo\\n'\n",
    "         'Mayo 2013 a Octubre 2021')"
   ]
  },
  {
   "cell_type": "code",
   "execution_count": null,
   "metadata": {},
   "outputs": [],
   "source": []
  }
 ],
 "metadata": {
  "instance_type": "ml.t3.medium",
  "kernelspec": {
   "display_name": "Python 3 (ipykernel)",
   "language": "python",
   "name": "python3"
  },
  "language_info": {
   "codemirror_mode": {
    "name": "ipython",
    "version": 3
   },
   "file_extension": ".py",
   "mimetype": "text/x-python",
   "name": "python",
   "nbconvert_exporter": "python",
   "pygments_lexer": "ipython3",
   "version": "3.8.5"
  },
  "toc": {
   "base_numbering": 1,
   "nav_menu": {},
   "number_sections": true,
   "sideBar": true,
   "skip_h1_title": false,
   "title_cell": "Table of Contents",
   "title_sidebar": "Contents",
   "toc_cell": false,
   "toc_position": {},
   "toc_section_display": true,
   "toc_window_display": false
  }
 },
 "nbformat": 4,
 "nbformat_minor": 4
}
