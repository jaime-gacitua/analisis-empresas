{
 "cells": [
  {
   "cell_type": "markdown",
   "metadata": {},
   "source": [
    "# ETL Reporte para OBEX"
   ]
  },
  {
   "cell_type": "markdown",
   "metadata": {},
   "source": [
    "* Extraer la data de los JSON\n",
    "* Transformar en una tabla con los campos requeridos\n",
    "* Guardar en formato CSV"
   ]
  },
  {
   "cell_type": "code",
   "execution_count": 46,
   "metadata": {},
   "outputs": [],
   "source": [
    "import boto3\n",
    "import json\n",
    "import pandas as pd\n",
    "from tqdm.notebook import trange, tqdm"
   ]
  },
  {
   "cell_type": "code",
   "execution_count": 24,
   "metadata": {},
   "outputs": [],
   "source": [
    "bucketname = 'bi-obex-study-json'\n",
    "test_file = '77559056-4.json'"
   ]
  },
  {
   "cell_type": "code",
   "execution_count": 26,
   "metadata": {},
   "outputs": [],
   "source": [
    "client = boto3.client('s3')"
   ]
  },
  {
   "cell_type": "code",
   "execution_count": null,
   "metadata": {},
   "outputs": [],
   "source": [
    "#Create a file object using the bucket and object key. \n",
    "fileobj = client.get_object(\n",
    "    Bucket=bucketname,\n",
    "    Key=test_file\n",
    "    ) \n",
    "# open the file object and read it into the variable filedata. \n",
    "filedata = fileobj['Body'].read()\n",
    "\n",
    "# file data will be a binary stream.  We have to decode it \n",
    "test_json = json.loads(filedata)\n",
    "\n",
    "#print(json.dumps(test_json, indent=4, sort_keys=True))"
   ]
  },
  {
   "cell_type": "raw",
   "metadata": {},
   "source": [
    "Socios: \"data..prestudios[-1].accionistas.valor\"\n",
    "Preaprobado: \"data.estudio.preAprobado\"\n",
    "Tipo firma: \"data.estudio.prestudios[-1].administracion.valor.comoAdministran\"\n",
    "Apoderados: \"data.estudio.prestudios[-1].administracion.valor.administradores\""
   ]
  },
  {
   "cell_type": "code",
   "execution_count": null,
   "metadata": {},
   "outputs": [
    {
     "data": {
      "application/vnd.jupyter.widget-view+json": {
       "model_id": "fd6df9afbe394691902dc34aac389730",
       "version_major": 2,
       "version_minor": 0
      },
      "text/plain": [
       "HBox(children=(FloatProgress(value=1.0, bar_style='info', max=1.0), HTML(value='')))"
      ]
     },
     "metadata": {},
     "output_type": "display_data"
    },
    {
     "data": {
      "application/vnd.jupyter.widget-view+json": {
       "model_id": "f7fd18d905cf40c0aeab08e78a5256db",
       "version_major": 2,
       "version_minor": 0
      },
      "text/plain": [
       "HBox(children=(FloatProgress(value=0.0, max=1000.0), HTML(value='')))"
      ]
     },
     "metadata": {},
     "output_type": "display_data"
    },
    {
     "name": "stdout",
     "output_type": "stream",
     "text": [
      "\n"
     ]
    },
    {
     "data": {
      "application/vnd.jupyter.widget-view+json": {
       "model_id": "78dd19c6fbd2484b85158b1c364e9c73",
       "version_major": 2,
       "version_minor": 0
      },
      "text/plain": [
       "HBox(children=(FloatProgress(value=0.0, max=1000.0), HTML(value='')))"
      ]
     },
     "metadata": {},
     "output_type": "display_data"
    },
    {
     "name": "stdout",
     "output_type": "stream",
     "text": [
      "\n"
     ]
    },
    {
     "data": {
      "application/vnd.jupyter.widget-view+json": {
       "model_id": "433ab2b228f944d39acb156b412ea1b6",
       "version_major": 2,
       "version_minor": 0
      },
      "text/plain": [
       "HBox(children=(FloatProgress(value=0.0, max=1000.0), HTML(value='')))"
      ]
     },
     "metadata": {},
     "output_type": "display_data"
    }
   ],
   "source": [
    "\n",
    "paginator = client.get_paginator('list_objects_v2')\n",
    "pages = paginator.paginate(Bucket=bucketname)\n",
    "\n",
    "data = []\n",
    "\n",
    "j=0\n",
    "for page in tqdm(pages):\n",
    "    for obj in tqdm(page['Contents']):\n",
    "        \n",
    "        if j < 10000000:\n",
    "            # Read data\n",
    "            fileobj = client.get_object(Bucket=bucketname,\n",
    "                                        Key=obj['Key']\n",
    "                                       ) \n",
    "            filedata = fileobj['Body'].read().decode('utf-8') \n",
    "            obj_json = json.loads(filedata)\n",
    "\n",
    "            # Parse and create data row\n",
    "            item = dict()\n",
    "            item['rut'] = obj_json['data']['estado']['rut']\n",
    "            item['razon_social'] = obj_json['data']['estado']['razonSocial']\n",
    "            #item['fecha_actuacion'] = obj_json['data']['estado']['fecha']\n",
    "            item['fecha_actuacion'] = obj_json['data']['estudio']['prestudios'][0]['fecha']\n",
    "            item['fecha_estudio'] = obj_json['data']['estudio']['fechaEstudio']\n",
    "            item['socios'] = obj_json['data']['estudio']['prestudios'][-1]['accionistas']['valor']\n",
    "            item['pre_aprobado'] = obj_json['data']['estudio']['preAprobado']\n",
    "            item['tipo_firma'] = obj_json['data']['estudio']['prestudios'][-1]['administracion']['valor']['comoAdministran']\n",
    "            item['apoderados'] = obj_json['data']['estudio']['prestudios'][-1]['administracion']['valor']['administradores']\n",
    "            data.append(item)\n",
    "        j+=1\n",
    "        \n",
    "print(j)"
   ]
  },
  {
   "cell_type": "code",
   "execution_count": null,
   "metadata": {},
   "outputs": [],
   "source": [
    "df = pd.DataFrame(data)"
   ]
  },
  {
   "cell_type": "markdown",
   "metadata": {},
   "source": [
    "## Transformations"
   ]
  },
  {
   "cell_type": "code",
   "execution_count": null,
   "metadata": {},
   "outputs": [],
   "source": [
    "df.head(10)"
   ]
  },
  {
   "cell_type": "markdown",
   "metadata": {},
   "source": [
    "Fechas"
   ]
  },
  {
   "cell_type": "code",
   "execution_count": null,
   "metadata": {},
   "outputs": [],
   "source": [
    "#df['fecha_actuacion_2'] = pd.to_datetime(df['fecha_actuacion'], format='%Y%m%d%H%M%S%f')\n",
    "df['fecha_actuacion_2'] = pd.to_datetime(df['fecha_actuacion'], format='%Y-%m-%d')"
   ]
  },
  {
   "cell_type": "code",
   "execution_count": null,
   "metadata": {},
   "outputs": [],
   "source": [
    "df.head(2)"
   ]
  },
  {
   "cell_type": "markdown",
   "metadata": {},
   "source": [
    "Expandir Socios"
   ]
  },
  {
   "cell_type": "code",
   "execution_count": null,
   "metadata": {},
   "outputs": [],
   "source": [
    "#df.loc[0, 'socios']"
   ]
  },
  {
   "cell_type": "code",
   "execution_count": null,
   "metadata": {},
   "outputs": [],
   "source": [
    "df['n_socios'] = df['socios'].apply(lambda x: len(x))\n",
    "df['n_apoderados'] = df['apoderados'].apply(lambda x: len(x))"
   ]
  },
  {
   "cell_type": "code",
   "execution_count": null,
   "metadata": {},
   "outputs": [],
   "source": [
    "def expand_list(series, field):\n",
    "    list_df = pd.DataFrame(series.tolist())\n",
    "    for col in list_df.columns:\n",
    "    #for col in [0]:\n",
    "        list_df[field + '_' + series.name + '_' + str(col + 1)] = \\\n",
    "            socios_df[col].apply(lambda x: x.get(field) if x is not None else None)\n",
    "        del list_df[col]\n",
    "    return list_df\n",
    "\n",
    "def clean_ruts(series):\n",
    "    series = series.str.replace('\\.', '')\n",
    "    series = series.str.replace('-', '')\n",
    "    \n",
    "    return series"
   ]
  },
  {
   "cell_type": "code",
   "execution_count": null,
   "metadata": {},
   "outputs": [],
   "source": [
    "df_socios = expand_list(df['socios'], 'rut')\n",
    "df_apoderados = expand_list(df['apoderados'], 'rut')\n",
    "\n",
    "for col in df_socios:\n",
    "    df_socios[col] = clean_ruts(df_socios[col])\n",
    "for col in df_apoderados:\n",
    "    df_apoderados[col] = clean_ruts(df_apoderados[col])\n",
    "    "
   ]
  },
  {
   "cell_type": "code",
   "execution_count": null,
   "metadata": {},
   "outputs": [],
   "source": [
    "df_socios"
   ]
  },
  {
   "cell_type": "code",
   "execution_count": null,
   "metadata": {},
   "outputs": [],
   "source": [
    "df1 = pd.concat([df, df_socios, df_apoderados], axis=1)"
   ]
  },
  {
   "cell_type": "code",
   "execution_count": null,
   "metadata": {},
   "outputs": [],
   "source": [
    "df1.head(2)"
   ]
  },
  {
   "cell_type": "markdown",
   "metadata": {},
   "source": [
    "Organizar columnas"
   ]
  },
  {
   "cell_type": "code",
   "execution_count": null,
   "metadata": {},
   "outputs": [],
   "source": [
    "del df1['fecha_actuacion']\n",
    "df1 = df1.rename(columns={'fecha_actuacion_2' : 'fecha_actuacion'})"
   ]
  },
  {
   "cell_type": "code",
   "execution_count": null,
   "metadata": {},
   "outputs": [],
   "source": [
    "del df1['socios']\n",
    "del df1['apoderados']"
   ]
  },
  {
   "cell_type": "markdown",
   "metadata": {},
   "source": [
    "Reorder Columns"
   ]
  },
  {
   "cell_type": "code",
   "execution_count": null,
   "metadata": {},
   "outputs": [],
   "source": [
    "max_socios = df1['n_socios'].max()\n",
    "max_apoderados = df1['n_apoderados'].max()"
   ]
  },
  {
   "cell_type": "code",
   "execution_count": null,
   "metadata": {},
   "outputs": [],
   "source": [
    "col_socios = ['rut_socios_' + str(i) for i in range(1, max_socios + 1)]\n",
    "col_apoderados = ['rut_apoderados_' + str(i) for i in range(1, max_apoderados + 1)]"
   ]
  },
  {
   "cell_type": "code",
   "execution_count": null,
   "metadata": {},
   "outputs": [],
   "source": [
    "df1.columns"
   ]
  },
  {
   "cell_type": "code",
   "execution_count": null,
   "metadata": {},
   "outputs": [],
   "source": [
    "df1.shape"
   ]
  },
  {
   "cell_type": "code",
   "execution_count": null,
   "metadata": {},
   "outputs": [],
   "source": [
    "cols = ['rut', 'razon_social', 'tipo_firma', 'fecha_actuacion', 'fecha_estudio',\n",
    "              'pre_aprobado'] + ['n_socios'] + col_socios + ['n_apoderados'] + col_apoderados\n",
    "#cols"
   ]
  },
  {
   "cell_type": "code",
   "execution_count": null,
   "metadata": {},
   "outputs": [],
   "source": [
    "df1 = df1.loc[:, cols]"
   ]
  },
  {
   "cell_type": "markdown",
   "metadata": {},
   "source": [
    "## EDA"
   ]
  },
  {
   "cell_type": "code",
   "execution_count": null,
   "metadata": {},
   "outputs": [],
   "source": [
    "df1['tipo_firma'].value_counts()"
   ]
  },
  {
   "cell_type": "code",
   "execution_count": null,
   "metadata": {},
   "outputs": [],
   "source": [
    "df1['pre_aprobado'].value_counts()"
   ]
  },
  {
   "cell_type": "code",
   "execution_count": null,
   "metadata": {},
   "outputs": [],
   "source": [
    "df1['n_socios'].value_counts()"
   ]
  },
  {
   "cell_type": "code",
   "execution_count": null,
   "metadata": {},
   "outputs": [],
   "source": [
    "df1['n_apoderados'].value_counts()"
   ]
  },
  {
   "cell_type": "code",
   "execution_count": null,
   "metadata": {},
   "outputs": [],
   "source": [
    "vol_dia = df1.groupby(pd.Grouper(key='fecha_actuacion', freq='d'))['rut'].count()\n",
    "vol_dia"
   ]
  },
  {
   "cell_type": "markdown",
   "metadata": {},
   "source": [
    "## Output"
   ]
  },
  {
   "cell_type": "code",
   "execution_count": null,
   "metadata": {},
   "outputs": [],
   "source": [
    "df1['razon_social'] = df1['razon_social'].str.normalize('NFKD').str.title() \\\n",
    "                    .str.encode('ascii', errors='ignore').str.decode('utf-8')"
   ]
  },
  {
   "cell_type": "code",
   "execution_count": null,
   "metadata": {},
   "outputs": [],
   "source": [
    "#df1"
   ]
  },
  {
   "cell_type": "code",
   "execution_count": null,
   "metadata": {},
   "outputs": [],
   "source": [
    "df1.to_csv('../reports/100. Obex intelligence/corporate_intelligence_DEMO-202205.csv', \n",
    "           index=False,\n",
    "           encoding='utf-8',\n",
    "           quoting=2)"
   ]
  },
  {
   "cell_type": "code",
   "execution_count": null,
   "metadata": {},
   "outputs": [],
   "source": []
  }
 ],
 "metadata": {
  "instance_type": "ml.t3.medium",
  "kernelspec": {
   "display_name": "Python 3 (Data Science)",
   "language": "python",
   "name": "python3__SAGEMAKER_INTERNAL__arn:aws:sagemaker:sa-east-1:782484402741:image/datascience-1.0"
  },
  "language_info": {
   "codemirror_mode": {
    "name": "ipython",
    "version": 3
   },
   "file_extension": ".py",
   "mimetype": "text/x-python",
   "name": "python",
   "nbconvert_exporter": "python",
   "pygments_lexer": "ipython3",
   "version": "3.7.10"
  }
 },
 "nbformat": 4,
 "nbformat_minor": 4
}
