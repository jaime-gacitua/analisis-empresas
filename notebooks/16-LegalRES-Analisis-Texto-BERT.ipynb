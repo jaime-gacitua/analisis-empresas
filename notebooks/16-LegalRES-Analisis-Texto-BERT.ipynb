{
 "cells": [
  {
   "cell_type": "markdown",
   "metadata": {},
   "source": [
    "# Analisis De Textos\n",
    "\n",
    "1. De que tratan las empresas que se estan consitituyendo? NLP en descripcion de actividades.\n",
    "2. Hay algun patron geografico? (x ej con https://kepler.gl/)\n",
    "3. Hay cambios a lo largo del tiempo? Algún peak interesante?\n",
    "4. Qué características de empresa tienden a pedir cuenta corriente y cuáles no?\n",
    "5. Cuánto tiempo pasa entre que una empresa se constituye y solicitan una cuenta corriente?\n",
    "6. Podemos ver alguna red de RUTs? Gente que esta relacionada en varias empresas (quizas con https://www.graphext.com/)\n"
   ]
  },
  {
   "cell_type": "markdown",
   "metadata": {},
   "source": [
    "https://maartengr.github.io/BERTopic/index.html"
   ]
  },
  {
   "cell_type": "code",
   "execution_count": 1,
   "metadata": {
    "ExecuteTime": {
     "end_time": "2022-04-18T02:20:04.215549Z",
     "start_time": "2022-04-18T02:20:04.201644Z"
    }
   },
   "outputs": [],
   "source": [
    "#!pip install awswrangler\n",
    "#!pip install --upgrade seaborn\n",
    "#!pip install wordcloud\n",
    "#!pip install --upgrade pandas\n",
    "#!pip install unidecode\n",
    "#!pip install gensim"
   ]
  },
  {
   "cell_type": "code",
   "execution_count": 32,
   "metadata": {
    "ExecuteTime": {
     "end_time": "2022-04-19T21:37:15.411506Z",
     "start_time": "2022-04-19T21:37:14.312635Z"
    }
   },
   "outputs": [],
   "source": [
    "%load_ext autoreload\n",
    "%autoreload 2"
   ]
  },
  {
   "cell_type": "code",
   "execution_count": 31,
   "metadata": {
    "ExecuteTime": {
     "end_time": "2022-04-19T21:37:05.681620Z",
     "start_time": "2022-04-19T21:37:05.147840Z"
    }
   },
   "outputs": [],
   "source": [
    "import boto3\n",
    "session = boto3.session.Session(profile_name='legalbot')\n",
    "s3 = session.resource('s3')"
   ]
  },
  {
   "cell_type": "code",
   "execution_count": 6,
   "metadata": {
    "ExecuteTime": {
     "end_time": "2022-04-19T02:27:05.792079Z",
     "start_time": "2022-04-19T02:27:03.993287Z"
    }
   },
   "outputs": [],
   "source": [
    "import pandas as pd\n",
    "import awswrangler as wr\n",
    "import matplotlib.pyplot as plt\n",
    "import seaborn as sns\n",
    "sns.set_theme()\n",
    "sns.set_context('poster')\n",
    "\n",
    "from matplotlib import rcParams\n",
    "rcParams['figure.figsize'] = 15,8"
   ]
  },
  {
   "cell_type": "code",
   "execution_count": 33,
   "metadata": {
    "ExecuteTime": {
     "end_time": "2022-04-19T21:38:24.492616Z",
     "start_time": "2022-04-19T21:38:24.372021Z"
    }
   },
   "outputs": [],
   "source": [
    "import sys\n",
    "sys.path.insert(0, '../src/')"
   ]
  },
  {
   "cell_type": "code",
   "execution_count": 36,
   "metadata": {
    "ExecuteTime": {
     "end_time": "2022-04-19T21:38:44.694156Z",
     "start_time": "2022-04-19T21:38:44.613768Z"
    }
   },
   "outputs": [],
   "source": [
    "from features.build_features import remove_stop_phrases"
   ]
  },
  {
   "cell_type": "code",
   "execution_count": 7,
   "metadata": {
    "ExecuteTime": {
     "end_time": "2022-04-19T02:27:05.814986Z",
     "start_time": "2022-04-19T02:27:05.809675Z"
    }
   },
   "outputs": [],
   "source": [
    "bucket='legalres-storage-study-json'\n",
    "prefix = 'processed'\n",
    "data_location = 's3://{}/{}/'.format(bucket, prefix)"
   ]
  },
  {
   "cell_type": "code",
   "execution_count": 8,
   "metadata": {
    "ExecuteTime": {
     "end_time": "2022-04-19T02:28:47.559660Z",
     "start_time": "2022-04-19T02:27:05.825943Z"
    }
   },
   "outputs": [],
   "source": [
    "df = wr.s3.read_parquet(path=data_location,\n",
    "                        boto3_session=session)"
   ]
  },
  {
   "cell_type": "code",
   "execution_count": 9,
   "metadata": {
    "ExecuteTime": {
     "end_time": "2022-04-19T02:28:47.575962Z",
     "start_time": "2022-04-19T02:28:47.563582Z"
    }
   },
   "outputs": [
    {
     "data": {
      "text/plain": [
       "(798060, 7)"
      ]
     },
     "execution_count": 9,
     "metadata": {},
     "output_type": "execute_result"
    }
   ],
   "source": [
    "df.shape"
   ]
  },
  {
   "cell_type": "code",
   "execution_count": 10,
   "metadata": {
    "ExecuteTime": {
     "end_time": "2022-04-19T02:28:47.592011Z",
     "start_time": "2022-04-19T02:28:47.580133Z"
    }
   },
   "outputs": [
    {
     "data": {
      "text/plain": [
       "Index(['rut', 'cve', 'fecha', 'lugar', 'tipo_sociedad', 'objeto', 'firmas'], dtype='object')"
      ]
     },
     "execution_count": 10,
     "metadata": {},
     "output_type": "execute_result"
    }
   ],
   "source": [
    "df.columns"
   ]
  },
  {
   "cell_type": "code",
   "execution_count": 11,
   "metadata": {
    "ExecuteTime": {
     "end_time": "2022-04-19T02:28:47.645785Z",
     "start_time": "2022-04-19T02:28:47.596474Z"
    }
   },
   "outputs": [
    {
     "data": {
      "text/html": [
       "<div>\n",
       "<style scoped>\n",
       "    .dataframe tbody tr th:only-of-type {\n",
       "        vertical-align: middle;\n",
       "    }\n",
       "\n",
       "    .dataframe tbody tr th {\n",
       "        vertical-align: top;\n",
       "    }\n",
       "\n",
       "    .dataframe thead th {\n",
       "        text-align: right;\n",
       "    }\n",
       "</style>\n",
       "<table border=\"1\" class=\"dataframe\">\n",
       "  <thead>\n",
       "    <tr style=\"text-align: right;\">\n",
       "      <th></th>\n",
       "      <th>rut</th>\n",
       "      <th>cve</th>\n",
       "      <th>fecha</th>\n",
       "      <th>lugar</th>\n",
       "      <th>tipo_sociedad</th>\n",
       "      <th>objeto</th>\n",
       "      <th>firmas</th>\n",
       "    </tr>\n",
       "  </thead>\n",
       "  <tbody>\n",
       "    <tr>\n",
       "      <th>0</th>\n",
       "      <td>76304233-2</td>\n",
       "      <td>AC1DrSkE1pdl</td>\n",
       "      <td>2013-10-08</td>\n",
       "      <td>En TEMUCO, Región de LA ARAUCANIA, Chile, a 08...</td>\n",
       "      <td>EMPRESA INDIVIDUAL DE RESPONSABILIDAD LIMITADA</td>\n",
       "      <td>La Empresa tendrá por objeto desarrollar las s...</td>\n",
       "      <td>[{'anotacion': None, 'firmado': 'Firmado elect...</td>\n",
       "    </tr>\n",
       "    <tr>\n",
       "      <th>1</th>\n",
       "      <td>76304089-5</td>\n",
       "      <td>AC1Dv0J0V4Zr</td>\n",
       "      <td>2013-10-07</td>\n",
       "      <td>En CONCEPCION, Región del BIOBIO, Chile, a 07 ...</td>\n",
       "      <td>SOCIEDAD DE RESPONSABILIDAD LIMITADA</td>\n",
       "      <td>La Sociedad tendrá por objeto desarrollar las ...</td>\n",
       "      <td>[{'anotacion': None, 'firmado': 'Firmado elect...</td>\n",
       "    </tr>\n",
       "    <tr>\n",
       "      <th>2</th>\n",
       "      <td>76313238-2</td>\n",
       "      <td>AC1G6RzRn16K</td>\n",
       "      <td>2013-10-24</td>\n",
       "      <td>En MOLINA, Región del MAULE, Chile, a 24 de oc...</td>\n",
       "      <td>SOCIEDAD DE RESPONSABILIDAD LIMITADA</td>\n",
       "      <td>La Sociedad tendrá por objeto desarrollar las ...</td>\n",
       "      <td>[{'anotacion': None, 'firmado': 'Firmado elect...</td>\n",
       "    </tr>\n",
       "    <tr>\n",
       "      <th>3</th>\n",
       "      <td>76313389-3</td>\n",
       "      <td>AC1G8rKdG7Xu</td>\n",
       "      <td>2013-10-24</td>\n",
       "      <td>En COPIAPO, Región de ATACAMA, Chile, a 24 de ...</td>\n",
       "      <td>SOCIEDAD DE RESPONSABILIDAD LIMITADA</td>\n",
       "      <td>La Sociedad tendrá por objeto desarrollar las ...</td>\n",
       "      <td>[{'anotacion': None, 'firmado': 'Firmado elect...</td>\n",
       "    </tr>\n",
       "    <tr>\n",
       "      <th>4</th>\n",
       "      <td>76313805-4</td>\n",
       "      <td>AC1H6Pt61S4o</td>\n",
       "      <td>2013-10-29</td>\n",
       "      <td>En TALCA, Región del MAULE, Chile, a 29 de oct...</td>\n",
       "      <td>EMPRESA INDIVIDUAL DE RESPONSABILIDAD LIMITADA</td>\n",
       "      <td>La Empresa tendrá por objeto desarrollar las s...</td>\n",
       "      <td>[{'anotacion': None, 'firmado': 'Firmado elect...</td>\n",
       "    </tr>\n",
       "  </tbody>\n",
       "</table>\n",
       "</div>"
      ],
      "text/plain": [
       "          rut           cve      fecha  \\\n",
       "0  76304233-2  AC1DrSkE1pdl 2013-10-08   \n",
       "1  76304089-5  AC1Dv0J0V4Zr 2013-10-07   \n",
       "2  76313238-2  AC1G6RzRn16K 2013-10-24   \n",
       "3  76313389-3  AC1G8rKdG7Xu 2013-10-24   \n",
       "4  76313805-4  AC1H6Pt61S4o 2013-10-29   \n",
       "\n",
       "                                               lugar  \\\n",
       "0  En TEMUCO, Región de LA ARAUCANIA, Chile, a 08...   \n",
       "1  En CONCEPCION, Región del BIOBIO, Chile, a 07 ...   \n",
       "2  En MOLINA, Región del MAULE, Chile, a 24 de oc...   \n",
       "3  En COPIAPO, Región de ATACAMA, Chile, a 24 de ...   \n",
       "4  En TALCA, Región del MAULE, Chile, a 29 de oct...   \n",
       "\n",
       "                                    tipo_sociedad  \\\n",
       "0  EMPRESA INDIVIDUAL DE RESPONSABILIDAD LIMITADA   \n",
       "1            SOCIEDAD DE RESPONSABILIDAD LIMITADA   \n",
       "2            SOCIEDAD DE RESPONSABILIDAD LIMITADA   \n",
       "3            SOCIEDAD DE RESPONSABILIDAD LIMITADA   \n",
       "4  EMPRESA INDIVIDUAL DE RESPONSABILIDAD LIMITADA   \n",
       "\n",
       "                                              objeto  \\\n",
       "0  La Empresa tendrá por objeto desarrollar las s...   \n",
       "1  La Sociedad tendrá por objeto desarrollar las ...   \n",
       "2  La Sociedad tendrá por objeto desarrollar las ...   \n",
       "3  La Sociedad tendrá por objeto desarrollar las ...   \n",
       "4  La Empresa tendrá por objeto desarrollar las s...   \n",
       "\n",
       "                                              firmas  \n",
       "0  [{'anotacion': None, 'firmado': 'Firmado elect...  \n",
       "1  [{'anotacion': None, 'firmado': 'Firmado elect...  \n",
       "2  [{'anotacion': None, 'firmado': 'Firmado elect...  \n",
       "3  [{'anotacion': None, 'firmado': 'Firmado elect...  \n",
       "4  [{'anotacion': None, 'firmado': 'Firmado elect...  "
      ]
     },
     "execution_count": 11,
     "metadata": {},
     "output_type": "execute_result"
    }
   ],
   "source": [
    "df.head()"
   ]
  },
  {
   "cell_type": "markdown",
   "metadata": {},
   "source": [
    "## Analisis de Texto "
   ]
  },
  {
   "cell_type": "markdown",
   "metadata": {},
   "source": [
    "### Limpieza "
   ]
  },
  {
   "cell_type": "code",
   "execution_count": 51,
   "metadata": {
    "ExecuteTime": {
     "end_time": "2022-04-19T22:34:16.586453Z",
     "start_time": "2022-04-19T22:32:14.846921Z"
    }
   },
   "outputs": [],
   "source": [
    "# Load the regular expression library\n",
    "import re\n",
    "# Remove punctuation\n",
    "df['objeto_processed'] = \\\n",
    "df['objeto'].map(lambda x: re.sub('[,\\.!?]', '', x))\n",
    "# Convert the titles to lowercase\n",
    "df['objeto_processed'] = \\\n",
    "df['objeto_processed'].map(lambda x: x.lower())\n",
    "# Print out the first rows of papers\n",
    "df['objeto_processed'].head()\n",
    "\n",
    "import unidecode\n",
    "\n",
    "df['objeto_processed'] = \\\n",
    "df['objeto_processed'].map(lambda x: unidecode.unidecode(x))"
   ]
  },
  {
   "cell_type": "code",
   "execution_count": 54,
   "metadata": {
    "ExecuteTime": {
     "end_time": "2022-04-19T22:39:40.201301Z",
     "start_time": "2022-04-19T22:38:06.800073Z"
    }
   },
   "outputs": [
    {
     "data": {
      "application/vnd.jupyter.widget-view+json": {
       "model_id": "4ed9dac04eaf4951bdcedd9c9cdfe001",
       "version_major": 2,
       "version_minor": 0
      },
      "text/plain": [
       "HBox(children=(HTML(value=''), FloatProgress(value=0.0, max=32.0), HTML(value='')))"
      ]
     },
     "metadata": {},
     "output_type": "display_data"
    },
    {
     "name": "stdout",
     "output_type": "stream",
     "text": [
      "\n"
     ]
    }
   ],
   "source": [
    "df['objeto_processed'] = remove_stop_phrases(df['objeto_processed'].to_list())"
   ]
  },
  {
   "cell_type": "code",
   "execution_count": 55,
   "metadata": {
    "ExecuteTime": {
     "end_time": "2022-04-19T22:39:41.333435Z",
     "start_time": "2022-04-19T22:39:40.214112Z"
    }
   },
   "outputs": [
    {
     "data": {
      "text/plain": [
       "22     a) compraventa consignacion permuta distribuci...\n",
       "50     el la servicios de reserva de espacios de aten...\n",
       "59     efectuar asesorias y formulacion de proyectos ...\n",
       "72     a) la servicios serigraficos publicidad y otro...\n",
       "75     a) la confeccion y elaboracion de proyectos y ...\n",
       "101    a) la investigacion estudio asesoria capacitac...\n",
       "103    la servicios de ingenieria prevencion de riesg...\n",
       "122    construccion de obras y todos los actos tendie...\n",
       "123    uno- arriendo de vehiculos con y sin chofer tr...\n",
       "126    empresa de asesorias y servicios gastronomicos...\n",
       "Name: objeto_processed, dtype: object"
      ]
     },
     "execution_count": 55,
     "metadata": {},
     "output_type": "execute_result"
    }
   ],
   "source": [
    "df.loc[df['objeto_processed'].str.contains('objeto'), 'objeto_processed'].head(10)"
   ]
  },
  {
   "cell_type": "code",
   "execution_count": 56,
   "metadata": {
    "ExecuteTime": {
     "end_time": "2022-04-19T22:40:03.678556Z",
     "start_time": "2022-04-19T22:40:03.589119Z"
    }
   },
   "outputs": [],
   "source": [
    "from bertopic import BERTopic"
   ]
  },
  {
   "cell_type": "code",
   "execution_count": 57,
   "metadata": {
    "ExecuteTime": {
     "end_time": "2022-04-19T22:40:13.082626Z",
     "start_time": "2022-04-19T22:40:03.971294Z"
    },
    "scrolled": true
   },
   "outputs": [],
   "source": [
    "from sentence_transformers import SentenceTransformer\n",
    "model = SentenceTransformer('sentence-transformers/paraphrase-multilingual-MiniLM-L12-v2')\n",
    "#model = SentenceTransformer('dccuchile/bert-base-spanish-wwm-uncased')\n",
    "\n",
    "\n"
   ]
  },
  {
   "cell_type": "code",
   "execution_count": 58,
   "metadata": {
    "ExecuteTime": {
     "end_time": "2022-04-19T22:40:13.449578Z",
     "start_time": "2022-04-19T22:40:13.086478Z"
    }
   },
   "outputs": [],
   "source": [
    "topic_model = BERTopic(embedding_model=model, language='spanish',\n",
    "                       n_gram_range=(1, 3), verbose=True)"
   ]
  },
  {
   "cell_type": "code",
   "execution_count": null,
   "metadata": {
    "ExecuteTime": {
     "start_time": "2022-04-20T00:09:20.988Z"
    }
   },
   "outputs": [
    {
     "data": {
      "application/vnd.jupyter.widget-view+json": {
       "model_id": "d931de7831e74f0bba86ccc1752eed50",
       "version_major": 2,
       "version_minor": 0
      },
      "text/plain": [
       "HBox(children=(HTML(value='Batches'), FloatProgress(value=0.0, max=938.0), HTML(value='')))"
      ]
     },
     "metadata": {},
     "output_type": "display_data"
    }
   ],
   "source": [
    "topics, probs = topic_model.fit_transform(df['objeto_processed'].sample(30000).to_list())"
   ]
  },
  {
   "cell_type": "code",
   "execution_count": null,
   "metadata": {
    "ExecuteTime": {
     "start_time": "2022-04-20T00:09:22.187Z"
    }
   },
   "outputs": [],
   "source": [
    "topic_model.visualize_topics(top_n_topics=30)"
   ]
  },
  {
   "cell_type": "code",
   "execution_count": null,
   "metadata": {},
   "outputs": [],
   "source": []
  }
 ],
 "metadata": {
  "instance_type": "ml.t3.medium",
  "kernelspec": {
   "display_name": "Python 3 (ipykernel)",
   "language": "python",
   "name": "python3"
  },
  "language_info": {
   "codemirror_mode": {
    "name": "ipython",
    "version": 3
   },
   "file_extension": ".py",
   "mimetype": "text/x-python",
   "name": "python",
   "nbconvert_exporter": "python",
   "pygments_lexer": "ipython3",
   "version": "3.8.5"
  },
  "toc": {
   "base_numbering": 1,
   "nav_menu": {},
   "number_sections": true,
   "sideBar": true,
   "skip_h1_title": false,
   "title_cell": "Table of Contents",
   "title_sidebar": "Contents",
   "toc_cell": false,
   "toc_position": {},
   "toc_section_display": true,
   "toc_window_display": false
  }
 },
 "nbformat": 4,
 "nbformat_minor": 4
}
