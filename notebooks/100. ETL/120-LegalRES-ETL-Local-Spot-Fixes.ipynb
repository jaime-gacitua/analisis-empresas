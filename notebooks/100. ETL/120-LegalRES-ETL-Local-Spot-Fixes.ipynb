{
 "cells": [
  {
   "cell_type": "markdown",
   "metadata": {},
   "source": [
    "# ETL LegalRES\n",
    "\n",
    "* Extract: Bajar los JSON de legalRES de S3 \n",
    "* Transform: Seleccionar las columnas que interesan, aplanar a una tabla y generar columnas nuevas\n",
    "* Load: Cargar tabla limpia a S3"
   ]
  },
  {
   "cell_type": "code",
   "execution_count": 1,
   "metadata": {
    "ExecuteTime": {
     "end_time": "2022-06-15T12:09:46.610389Z",
     "start_time": "2022-06-15T12:09:46.601960Z"
    }
   },
   "outputs": [],
   "source": [
    "#!pip install awswrangler\n",
    "#!pip install --upgrade pandas"
   ]
  },
  {
   "cell_type": "code",
   "execution_count": 14,
   "metadata": {
    "ExecuteTime": {
     "end_time": "2022-06-15T12:41:07.168443Z",
     "start_time": "2022-06-15T12:41:07.148876Z"
    }
   },
   "outputs": [],
   "source": [
    "import pandas as pd\n",
    "import boto3\n",
    "from tqdm.notebook import tqdm\n",
    "\n",
    "import awswrangler as wr\n",
    "\n",
    "import json\n",
    "from pandas.io.json import json_normalize\n",
    "\n",
    "#data = pd.read_json(data_location)"
   ]
  },
  {
   "cell_type": "code",
   "execution_count": 15,
   "metadata": {
    "ExecuteTime": {
     "end_time": "2022-06-15T12:41:07.296142Z",
     "start_time": "2022-06-15T12:41:07.281694Z"
    }
   },
   "outputs": [],
   "source": [
    "USE_LOCAL = True"
   ]
  },
  {
   "cell_type": "code",
   "execution_count": 16,
   "metadata": {
    "ExecuteTime": {
     "end_time": "2022-06-15T12:41:07.680377Z",
     "start_time": "2022-06-15T12:41:07.397301Z"
    }
   },
   "outputs": [],
   "source": [
    "bucket='legalres-storage-study-json'\n",
    "data_key = 'AC000lvffws1.json'\n",
    "data_location = 's3://{}/{}'.format(bucket, data_key)\n",
    "\n",
    "session = boto3.Session(profile_name='legalbot')\n",
    "boto3.setup_default_session(profile_name='legalbot')\n",
    "s3 = boto3.client('s3')\n"
   ]
  },
  {
   "cell_type": "markdown",
   "metadata": {},
   "source": [
    "Config datos ya extraidos para no duplicar"
   ]
  },
  {
   "cell_type": "code",
   "execution_count": 17,
   "metadata": {
    "ExecuteTime": {
     "end_time": "2022-06-15T12:41:07.695520Z",
     "start_time": "2022-06-15T12:41:07.683761Z"
    }
   },
   "outputs": [],
   "source": [
    "prefix_processed = 'processed'\n",
    "data_location_processed = 's3://{}/{}/'.format(bucket, prefix_processed)"
   ]
  },
  {
   "cell_type": "markdown",
   "metadata": {},
   "source": [
    "## Extract "
   ]
  },
  {
   "cell_type": "markdown",
   "metadata": {},
   "source": [
    "Datos ya extraidos para no duplicar"
   ]
  },
  {
   "cell_type": "code",
   "execution_count": 18,
   "metadata": {
    "ExecuteTime": {
     "end_time": "2022-06-15T12:41:26.385099Z",
     "start_time": "2022-06-15T12:41:08.169962Z"
    }
   },
   "outputs": [],
   "source": [
    "if USE_LOCAL:\n",
    "    df_processed = pd.read_csv('../../data/processed/processed-studies.csv')\n",
    "else:\n",
    "    df_processed = wr.s3.read_parquet(path=data_location_processed,\n",
    "                                  columns=['cve'], boto3_session=session )"
   ]
  },
  {
   "cell_type": "markdown",
   "metadata": {},
   "source": [
    "537735"
   ]
  },
  {
   "cell_type": "markdown",
   "metadata": {},
   "source": [
    "798060"
   ]
  },
  {
   "cell_type": "markdown",
   "metadata": {},
   "source": [
    "880520"
   ]
  },
  {
   "cell_type": "markdown",
   "metadata": {},
   "source": [
    "881320"
   ]
  },
  {
   "cell_type": "code",
   "execution_count": 19,
   "metadata": {
    "ExecuteTime": {
     "end_time": "2022-06-15T12:41:26.419373Z",
     "start_time": "2022-06-15T12:41:26.393179Z"
    }
   },
   "outputs": [
    {
     "data": {
      "text/plain": [
       "(881320, 7)"
      ]
     },
     "execution_count": 19,
     "metadata": {},
     "output_type": "execute_result"
    }
   ],
   "source": [
    "df_processed.shape"
   ]
  },
  {
   "cell_type": "code",
   "execution_count": 20,
   "metadata": {
    "ExecuteTime": {
     "end_time": "2022-06-15T12:41:26.444133Z",
     "start_time": "2022-06-15T12:41:26.432982Z"
    }
   },
   "outputs": [],
   "source": [
    "if not USE_LOCAL:\n",
    "    df_processed.to_csv('../../data/processed/processed-studies.csv', index=False)"
   ]
  },
  {
   "cell_type": "code",
   "execution_count": 21,
   "metadata": {
    "ExecuteTime": {
     "end_time": "2022-06-15T12:41:26.510689Z",
     "start_time": "2022-06-15T12:41:26.478485Z"
    }
   },
   "outputs": [],
   "source": [
    "cve_processed = list(df_processed['cve'].values)"
   ]
  },
  {
   "cell_type": "code",
   "execution_count": 22,
   "metadata": {
    "ExecuteTime": {
     "end_time": "2022-06-15T12:41:26.526685Z",
     "start_time": "2022-06-15T12:41:26.513912Z"
    }
   },
   "outputs": [],
   "source": [
    "assert len(cve_processed) == len(df_processed.index)"
   ]
  },
  {
   "cell_type": "code",
   "execution_count": 23,
   "metadata": {
    "ExecuteTime": {
     "end_time": "2022-06-15T12:41:26.551459Z",
     "start_time": "2022-06-15T12:41:26.531196Z"
    }
   },
   "outputs": [
    {
     "data": {
      "text/plain": [
       "True"
      ]
     },
     "execution_count": 23,
     "metadata": {},
     "output_type": "execute_result"
    }
   ],
   "source": [
    "'AC0AEHf1alMr' in cve_processed"
   ]
  },
  {
   "cell_type": "markdown",
   "metadata": {},
   "source": [
    "Prueba con un archivo para ver estructura"
   ]
  },
  {
   "cell_type": "code",
   "execution_count": 24,
   "metadata": {
    "ExecuteTime": {
     "end_time": "2022-06-15T12:41:30.779666Z",
     "start_time": "2022-06-15T12:41:30.743216Z"
    }
   },
   "outputs": [
    {
     "data": {
      "text/html": [
       "<div>\n",
       "<style scoped>\n",
       "    .dataframe tbody tr th:only-of-type {\n",
       "        vertical-align: middle;\n",
       "    }\n",
       "\n",
       "    .dataframe tbody tr th {\n",
       "        vertical-align: top;\n",
       "    }\n",
       "\n",
       "    .dataframe thead th {\n",
       "        text-align: right;\n",
       "    }\n",
       "</style>\n",
       "<table border=\"1\" class=\"dataframe\">\n",
       "  <thead>\n",
       "    <tr style=\"text-align: right;\">\n",
       "      <th></th>\n",
       "      <th>rut</th>\n",
       "      <th>cve</th>\n",
       "      <th>fecha</th>\n",
       "      <th>lugar</th>\n",
       "      <th>tipo_sociedad</th>\n",
       "      <th>objeto</th>\n",
       "      <th>firmas</th>\n",
       "    </tr>\n",
       "  </thead>\n",
       "  <tbody>\n",
       "    <tr>\n",
       "      <th>0</th>\n",
       "      <td>76305353-9</td>\n",
       "      <td>AC00DaeUV9O5</td>\n",
       "      <td>2013-10-16</td>\n",
       "      <td>En PROVIDENCIA, Región METROPOLITANA DE SANTIA...</td>\n",
       "      <td>EMPRESA INDIVIDUAL DE RESPONSABILIDAD LIMITADA</td>\n",
       "      <td>La Empresa tendrá por objeto desarrollar las s...</td>\n",
       "      <td>[{'anotacion': None, 'firmado': 'Firmado elect...</td>\n",
       "    </tr>\n",
       "    <tr>\n",
       "      <th>1</th>\n",
       "      <td>76313659-0</td>\n",
       "      <td>AC00iMWofV5q</td>\n",
       "      <td>2013-10-28</td>\n",
       "      <td>En QUILPUE, Región de VALPARAISO, Chile, a 28 ...</td>\n",
       "      <td>EMPRESA INDIVIDUAL DE RESPONSABILIDAD LIMITADA</td>\n",
       "      <td>La Empresa tendrá por objeto desarrollar las s...</td>\n",
       "      <td>[{'anotacion': None, 'firmado': 'Firmado elect...</td>\n",
       "    </tr>\n",
       "  </tbody>\n",
       "</table>\n",
       "</div>"
      ],
      "text/plain": [
       "          rut           cve       fecha  \\\n",
       "0  76305353-9  AC00DaeUV9O5  2013-10-16   \n",
       "1  76313659-0  AC00iMWofV5q  2013-10-28   \n",
       "\n",
       "                                               lugar  \\\n",
       "0  En PROVIDENCIA, Región METROPOLITANA DE SANTIA...   \n",
       "1  En QUILPUE, Región de VALPARAISO, Chile, a 28 ...   \n",
       "\n",
       "                                    tipo_sociedad  \\\n",
       "0  EMPRESA INDIVIDUAL DE RESPONSABILIDAD LIMITADA   \n",
       "1  EMPRESA INDIVIDUAL DE RESPONSABILIDAD LIMITADA   \n",
       "\n",
       "                                              objeto  \\\n",
       "0  La Empresa tendrá por objeto desarrollar las s...   \n",
       "1  La Empresa tendrá por objeto desarrollar las s...   \n",
       "\n",
       "                                              firmas  \n",
       "0  [{'anotacion': None, 'firmado': 'Firmado elect...  \n",
       "1  [{'anotacion': None, 'firmado': 'Firmado elect...  "
      ]
     },
     "execution_count": 24,
     "metadata": {},
     "output_type": "execute_result"
    }
   ],
   "source": [
    "df_processed.head(2)"
   ]
  },
  {
   "cell_type": "code",
   "execution_count": 25,
   "metadata": {
    "ExecuteTime": {
     "end_time": "2022-06-15T12:41:49.018148Z",
     "start_time": "2022-06-15T12:41:48.699756Z"
    }
   },
   "outputs": [
    {
     "name": "stdout",
     "output_type": "stream",
     "text": [
      "{\n",
      "    \"error_fatal\": false,\n",
      "    \"disuelto\": false,\n",
      "    \"rut\": \"76305353-9\",\n",
      "    \"fecha\": \"2013-10-16\",\n",
      "    \"cve\": \"AC00DaeUV9O5\",\n",
      "    \"tipo_actuacion\": \"CONSTITUCION\",\n",
      "    \"tipo_sociedad\": \"EMPRESA INDIVIDUAL DE RESPONSABILIDAD LIMITADA\",\n",
      "    \"estructura\": [\n",
      "        {\n",
      "            \"numero\": 1,\n",
      "            \"tipo\": \"titulo_primero\",\n",
      "            \"texto\": \"CONSTITUCION DE EMPRESA INDIVIDUAL DE RESPONSABILIDAD LIMITADA SIGMAQ MAQUINARIA E INGENIERIA DIEGO IGNACIO ALVIAL ARREPOL E.I.R.L. Rut 76.305.353-9\"\n",
      "        },\n",
      "        {\n",
      "            \"numero\": 2,\n",
      "            \"tipo\": \"principal\",\n",
      "            \"articulos\": [\n",
      "                {\n",
      "                    \"numero\": 0,\n",
      "                    \"id\": \"articulo_0\",\n",
      "                    \"articulo\": \"inicio\",\n",
      "                    \"subtitulo\": \"\",\n",
      "                    \"texto\": \"En PROVIDENCIA, Región METROPOLITANA DE SANTIAGO, Chile, a 16 de octubre del 2013, ante el Registro Electrónico de Empresas y Sociedades, comparece: DIEGO IGNACIO ALVIAL ARREPOL, Rut 14.374.547-3, 43 años de edad, Divorciado, ingeniero mecanico, país de nacionalidad Chile, domiciliado en ROSAS N°3286 depto/local 1404, comuna de SANTIAGO, Región METROPOLITANA DE SANTIAGO; el compareciente expone que viene en constituir empresa individual de responsabilidad limitada, que se regirá por las disposiciones de la ley número diecinueve mil ochocientos cincuenta y siete y sus modificaciones y demás leyes pertinentes, y en especial, por las disposiciones de los siguientes estatutos: \",\n",
      "                    \"subarticulos\": []\n",
      "                },\n",
      "                {\n",
      "                    \"numero\": 1,\n",
      "                    \"id\": \"articulo_1\",\n",
      "                    \"articulo\": \"ARTÍCULO PRIMERO\",\n",
      "                    \"subtitulo\": \"DEL NOMBRE O RAZON SOCIAL\",\n",
      "                    \"texto\": \"El nombre o razón social de la Empresa es \\\"SIGMAQ MAQUINARIA E INGENIERIA DIEGO IGNACIO ALVIAL ARREPOL E.I.R.L.\\\", pudiendo funcionar y actuar, inclusive ante Bancos y Entidades Financieras con el nombre de fantasía de SIGMAQ MAQUINARIA E INGENIERIA E.I.R.L.\",\n",
      "                    \"subarticulos\": []\n",
      "                },\n",
      "                {\n",
      "                    \"numero\": 2,\n",
      "                    \"id\": \"articulo_2\",\n",
      "                    \"articulo\": \"ARTÍCULO SEGUNDO\",\n",
      "                    \"subtitulo\": \"OBJETO\",\n",
      "                    \"texto\": \"La Empresa tendrá por objeto desarrollar las siguientes actividades: ALQUILER DE OTROS TIPOS DE MAQUINARIA Y EQUIPO, OTRAS ACTIVIDADES DE SERVICIOS.\",\n",
      "                    \"subarticulos\": []\n",
      "                },\n",
      "                {\n",
      "                    \"numero\": 3,\n",
      "                    \"id\": \"articulo_3\",\n",
      "                    \"articulo\": \"ARTÍCULO TERCERO\",\n",
      "                    \"subtitulo\": \"DOMICILIO\",\n",
      "                    \"texto\": \"El domicilio de la Empresa es la comuna de PROVIDENCIA, Región METROPOLITANA DE SANTIAGO, sin perjuicio de que pueda establecer agencias, sucursales o establecimientos en el resto del país o en el extranjero.\",\n",
      "                    \"subarticulos\": []\n",
      "                },\n",
      "                {\n",
      "                    \"numero\": 4,\n",
      "                    \"id\": \"articulo_4\",\n",
      "                    \"articulo\": \"ARTÍCULO CUARTO\",\n",
      "                    \"subtitulo\": \"DURACIÓN\",\n",
      "                    \"texto\": \"La duración de la Empresa será, a contar de la fecha de la presente escritura, indefinida.\",\n",
      "                    \"subarticulos\": []\n",
      "                },\n",
      "                {\n",
      "                    \"numero\": 5,\n",
      "                    \"id\": \"articulo_5\",\n",
      "                    \"articulo\": \"ARTÍCULO QUINTO\",\n",
      "                    \"subtitulo\": \"DEL CAPITAL SOCIAL\",\n",
      "                    \"texto\": \"El capital de la Empresa es la cantidad de $5.000.000 de pesos ; que el constituyente se obliga a aportar y pagar de la forma siguiente: A) DIEGO IGNACIO ALVIAL ARREPOL se obliga a enterar el equivalente al 100 por ciento del capital social, mediante el aporte de $5.000.000 de pesos que entera y paga a la caja social en efectivo en este acto;\",\n",
      "                    \"subarticulos\": []\n",
      "                },\n",
      "                {\n",
      "                    \"numero\": 6,\n",
      "                    \"id\": \"articulo_6\",\n",
      "                    \"articulo\": \"ARTÍCULO SEXTO\",\n",
      "                    \"subtitulo\": \"DE LA RESPONSABILIDAD DEL SOCIO\",\n",
      "                    \"texto\": \"La responsabilidad del socio queda limitada al monto de su aporte.\",\n",
      "                    \"subarticulos\": []\n",
      "                },\n",
      "                {\n",
      "                    \"numero\": 7,\n",
      "                    \"id\": \"articulo_7\",\n",
      "                    \"articulo\": \"ARTÍCULO SÉPTIMO\",\n",
      "                    \"subtitulo\": \"DE LA ADMINISTRACIÓN\",\n",
      "                    \"texto\": \"La administración de la Empresa y el uso de su razón social corresponderá a DIEGO IGNACIO ALVIAL ARREPOL.\",\n",
      "                    \"subarticulos\": []\n",
      "                },\n",
      "                {\n",
      "                    \"numero\": 8,\n",
      "                    \"id\": \"articulo_8\",\n",
      "                    \"articulo\": \"ARTÍCULO OCTAVO\",\n",
      "                    \"subtitulo\": \"DE LOS PODERES CONFERIDOS AL ADMINISTRADOR\",\n",
      "                    \"texto\": \" REPRESENTACION ANTE INSTITUCIONES. Concurrir ante toda clase de autoridades políticas, administrativas, municipales, organismos o instituciones de derecho público, fiscales o semifiscales, autoridades de orden tributario, previsional o laboral, o personas de derecho privado, sean ellas naturales o jurídicas, con toda clase de solicitudes y demás documentos que sean menester y desistirse de sus peticiones; CELEBRACION DE CONTRATOS. Celebrar contratos de promesa, compraventa, arrendamiento, con o sin opción de compra, leasing, factoring, permuta, comodato, depósito, transporte, mutuos, préstamos, concesiones, seguros, y, en general toda clase contratos nominados e innominados, pudiendo comprar, vender, adquirir, transferir y enajenar a cualquier título toda clase de bienes muebles o inmuebles, corporales o incorporales, incluso valores mobiliarios, acciones, bonos, moneda extranjera, efectos públicos o de comercio, y derechos de cualquier naturaleza; fijar precios, rentas, renunciar derechos y acciones y, especialmente la acción resolutoria, cabidas o deslindes, condiciones de pago, plazos y demás cláusulas, modalidades y estipulaciones que sean de la esencia, de naturaleza o meramente accidentales; aceptar toda clase de garantías que se constituyan a favor de la empresa; CONSTITUCION DE GARANTIAS. Constituir toda clase de garantías, hipotecas, prendas, fianzas simples y/o solidarias, avales en letras de cambio o pagarés, warrant, gravar los bienes de la empresa con derechos de uso, usufructo, habitación, etcétera; constituir servidumbres activas o pasivas; posponerlas; CONTRATOS DE TRABAJO. Celebrar contratos de trabajo, colectivos o individuales, contratar y despedir trabajadores, contratar servicios profesionales o técnicos y ponerles término; celebrar contratos de confección de obra material, de arrendamiento de servicios; fijar remuneraciones, honorarios, bonos, etc; OPERACIONES CON CHEQUES, LETRAS, PAGARES Y OTROS DOCUMENTOS MERCANTILES. Girar, suscribir, cancelar, aceptar, endosar, reaceptar, renovar, prorrogar, revalidar, descontar, cobrar, protestar cheques, letras de cambio, pagarés, y demás documentos mercantiles, sean nominativos, a la orden o al portador, en moneda nacional o extranjera; ceder y aceptar cesiones de crédito, sean nominativos, a la orden o al portador y, en general, efectuar toda clase de operaciones con documentos mercantiles, valores mobiliarios, efectos públicos y de comercio; CONSTITUCION DE SOCIEDADES. Constituir sociedades de cualquier clase, de comunidades o asociaciones de corporaciones, de cooperativas, ingresar a las ya constituidas, representar a la empresa, con voz y voto, en todas ellas; concurrir a la modificación, disolución y liquidación de aquéllas de que forme parte y ejercer o renunciar las acciones que competan a la empresa en tales sociedades o comunidades sin limitación alguna; OPERACIONES CON BANCOS E INSTITUCIONES FINANCIERAS. Representar a la empresa en los bancos e instituciones financieras con las más amplias facultades que se precisen; darles instrucciones y cometerles comisiones de confianza; celebrar contratos de cuenta corriente bancaria de depósito o de crédito, pudiendo depositar, girar y sobregirar en ellas, sea mediante cheques, órdenes de pago o transferencias electrónicas, imponerse de su movimiento, modificarlos y ponerles término o solicitar su terminación; aprobar y objetar saldos; requerir y retirar talonarios de cheques o cheques sueltos; arrendar cajas de seguridad, abrirlas y poner término a su arrendamiento; abrir cuentas de ahorro, a la vista o a plazo, hacer depósitos en ellas, retirar fondos total o parcialmente, cerrar las cuentas; colocar y retirar dineros, sea en moneda nacional o extranjera, y valores en depósito, custodia o garantía o cancelar los certificados respectivos; tomar y cancelar vales vista, boletas bancarias o boletas de garantía; celebrar toda clase contratos de futuros, swaps, opciones y en general con instrumentos derivados; asumir riesgos de cambio, liquidar y/o remesar divisas y, en general, efectuar toda clase de operaciones bancarias en moneda nacional o extranjera; OPERACIONES DE COMERCIO EXTERIOR. Contratar y efectuar toda clase de operaciones de comercio exterior y de cambios internacionales, estando facultados para representar a la empresa en todas las operaciones, diligencias, trámites o actuaciones relacionadas con importaciones y exportaciones ante los bancos comerciales, Banco Central de Chile y cualquier otra entidad o autoridad competente pudiendo al efecto representar y firmar registros de importación y exportación, abrir acreditivos divisibles o indivisibles, revocables o irrevocables, presentar solicitudes anexas, cartas explicativas, declaraciones juradas y toda otra documentación pertinente que fuere exigida por los bancos o por el Banco Central de Chile y solicitar la modificación de las condiciones bajo las cuales ha autorizado una determinada operación; autorizar cargos en las cuentas corrientes de la empresa a causa de operaciones de comercio exterior, otorgar, retirar, endosar, enajenar y negociar en cualquier forma documentos de embarque, facturas y conocimientos y carta de porte y documentos consulares y, en general, ejecutar todos los actos y realizar todas las operaciones que fueren conducentes al adecuado cumplimiento del encargo que se les confiere; PAGOS Y EXTINCION DE OBLIGACIONES. Pagar en efectivo, por dación en pago de bienes muebles e inmuebles, por consignación, subrogación, cesión de bienes, etcétera, todo lo que la empresa adeudare por cualquier título y, en general, extinguir obligaciones ya sea por novación, remisión, compensación, etc; FIRMA DE DOCUMENTOS Y RETIRO DE CORRESPONDENCIA. Firmar recibos, finiquitos y cancelaciones y, en general, suscribir, otorgar, firmar, extender, modificar y refrendar toda clase de documentos públicos o privados, pudiendo formular en ellos todas las declaraciones que estimen necesarias o convenientes; retirar de las oficinas de correos, aduanas, empresas de transporte terrestre, marítimo, aéreo, toda clase de correspondencia, incluso certificada, giros, reembolsos, cargas, encomiendas, mercaderías, piezas postales, etcétera, consignadas o dirigidas a la empresa; firmar la correspondencia de la empresa; MANDATOS. Conferir mandatos y poderes generales y especiales, revocarlos, delegar y reasumir, aceptar en todo o en parte, sus poderes cuantas veces lo estimen necesario; REPRESENTACION JUDICIAL. Representar judicialmente a la empresa con todas y cada una de las facultades ordinarias y extraordinarias del mandato judicial contempladas en ambos incisos del artículo siete del Código de Procedimiento Civil, las que incluyen la facultad de desistirse en primera instancia de la acción deducida, aceptar la demanda contraria, absolver posiciones, renunciar a los recursos y los términos legales, transigir, con declaración expresa que la facultad de transigir comprende también la transacción extrajudicial, comprometer, otorgar a los árbitros facultades de arbitradores, aprobar convenios judiciales o extrajudiciales, percibir, otorgar quitas o esperas; COBRAR Y PERCIBIR. Cobrar y percibir judicial y extrajudicialmente todo cuanto se adeude a la empresa a cualquier título que sea en dinero, en otra clase de bienes corporales o incorporales, raíces, muebles, valores mobiliarios, efectos de comercio, etc;\",\n",
      "                    \"subarticulos\": []\n",
      "                }\n",
      "            ],\n",
      "            \"sub_articulos\": [],\n",
      "            \"referencias\": {\n",
      "                \"razon_social\": 1,\n",
      "                \"objeto\": 2,\n",
      "                \"domicilio\": 3,\n",
      "                \"duracion\": 4,\n",
      "                \"capital\": 5,\n",
      "                \"responsabilidad\": 6,\n",
      "                \"administracion\": 7,\n",
      "                \"facultades\": 8,\n",
      "                \"administracion_gg_spa\": -1,\n",
      "                \"acciones_socios_spa\": -1,\n",
      "                \"administracion_transitoria\": -1,\n",
      "                \"gerente_general\": -1,\n",
      "                \"fantasia\": -1\n",
      "            }\n",
      "        },\n",
      "        {\n",
      "            \"numero\": 3,\n",
      "            \"tipo\": \"firmas\",\n",
      "            \"firmas\": [\n",
      "                {\n",
      "                    \"rut\": \"14.374.547-3\",\n",
      "                    \"nombre\": \"DIEGO IGNACIO ALVIAL ARREPOL\",\n",
      "                    \"firmado\": \"Firmado electrónicamente por notario Nelson Eulogio Baeza Gutierrez el 16-10-2013\"\n",
      "                }\n",
      "            ],\n",
      "            \"bloques\": [\n",
      "                {\n",
      "                    \"pos_x\": 82.0,\n",
      "                    \"pos_y\": 2992.0,\n",
      "                    \"tipo\": \"Tm\",\n",
      "                    \"texto\": \"\",\n",
      "                    \"objetos\": [\n",
      "                        {\n",
      "                            \"pos_x\": 0.0,\n",
      "                            \"pos_y\": 0.0,\n",
      "                            \"texto\": \"DIEGO IGNACIO ALVIAL ARREPOL\"\n",
      "                        },\n",
      "                        {\n",
      "                            \"pos_x\": 277.2,\n",
      "                            \"pos_y\": 0.0,\n",
      "                            \"texto\": \"Firmado electrónicamente por\"\n",
      "                        },\n",
      "                        {\n",
      "                            \"pos_x\": 0.0,\n",
      "                            \"pos_y\": 18.0,\n",
      "                            \"texto\": \"RUT: 14.374.547-3\"\n",
      "                        },\n",
      "                        {\n",
      "                            \"pos_x\": 277.2,\n",
      "                            \"pos_y\": 18.0,\n",
      "                            \"texto\": \"notario Nelson Eulogio Baeza\"\n",
      "                        },\n",
      "                        {\n",
      "                            \"pos_x\": 277.2,\n",
      "                            \"pos_y\": 36.0,\n",
      "                            \"texto\": \"Gutierrez\"\n",
      "                        },\n",
      "                        {\n",
      "                            \"pos_x\": 277.2,\n",
      "                            \"pos_y\": 54.0,\n",
      "                            \"texto\": \"el 16-10-2013\"\n",
      "                        }\n",
      "                    ],\n",
      "                    \"fuente\": \"/Helvetica\"\n",
      "                }\n",
      "            ]\n",
      "        }\n",
      "    ],\n",
      "    \"firmas\": {\n",
      "        \"numero\": 3,\n",
      "        \"tipo\": \"firmas\",\n",
      "        \"firmas\": [\n",
      "            {\n",
      "                \"rut\": \"14.374.547-3\",\n",
      "                \"nombre\": \"DIEGO IGNACIO ALVIAL ARREPOL\",\n",
      "                \"firmado\": \"Firmado electrónicamente por notario Nelson Eulogio Baeza Gutierrez el 16-10-2013\"\n",
      "            }\n",
      "        ],\n",
      "        \"bloques\": [\n",
      "            {\n",
      "                \"pos_x\": 82.0,\n",
      "                \"pos_y\": 2992.0,\n",
      "                \"tipo\": \"Tm\",\n",
      "                \"texto\": \"\",\n",
      "                \"objetos\": [\n",
      "                    {\n",
      "                        \"pos_x\": 0.0,\n",
      "                        \"pos_y\": 0.0,\n",
      "                        \"texto\": \"DIEGO IGNACIO ALVIAL ARREPOL\"\n",
      "                    },\n",
      "                    {\n",
      "                        \"pos_x\": 277.2,\n",
      "                        \"pos_y\": 0.0,\n",
      "                        \"texto\": \"Firmado electrónicamente por\"\n",
      "                    },\n",
      "                    {\n",
      "                        \"pos_x\": 0.0,\n",
      "                        \"pos_y\": 18.0,\n",
      "                        \"texto\": \"RUT: 14.374.547-3\"\n",
      "                    },\n",
      "                    {\n",
      "                        \"pos_x\": 277.2,\n",
      "                        \"pos_y\": 18.0,\n",
      "                        \"texto\": \"notario Nelson Eulogio Baeza\"\n",
      "                    },\n",
      "                    {\n",
      "                        \"pos_x\": 277.2,\n",
      "                        \"pos_y\": 36.0,\n",
      "                        \"texto\": \"Gutierrez\"\n",
      "                    },\n",
      "                    {\n",
      "                        \"pos_x\": 277.2,\n",
      "                        \"pos_y\": 54.0,\n",
      "                        \"texto\": \"el 16-10-2013\"\n",
      "                    }\n",
      "                ],\n",
      "                \"fuente\": \"/Helvetica\"\n",
      "            }\n",
      "        ]\n",
      "    },\n",
      "    \"modificacion\": {},\n",
      "    \"anexos\": [],\n",
      "    \"pre_aprobado\": true,\n",
      "    \"mensajes\": [],\n",
      "    \"accionistas\": {\n",
      "        \"ok\": true,\n",
      "        \"mensajes\": [],\n",
      "        \"articulos_referencia\": [\n",
      "            \"articulo_5\"\n",
      "        ],\n",
      "        \"frases_referencia\": [\n",
      "            \"DIEGO IGNACIO ALVIAL ARREPOL se obliga a enterar el equivalente al 100 por ciento del capital social, mediante el aporte de $5.000.000 de pesos\"\n",
      "        ],\n",
      "        \"valor\": [\n",
      "            {\n",
      "                \"nombre\": \"DIEGO IGNACIO ALVIAL ARREPOL\",\n",
      "                \"rut\": \"14.374.547-3\",\n",
      "                \"firmas\": [\n",
      "                    {\n",
      "                        \"rut\": \"14.374.547-3\",\n",
      "                        \"nombre\": \"DIEGO IGNACIO ALVIAL ARREPOL\",\n",
      "                        \"firmado\": \"Firmado electrónicamente por notario Nelson Eulogio Baeza Gutierrez el 16-10-2013\"\n",
      "                    }\n",
      "                ],\n",
      "                \"participacion\": 100.0,\n",
      "                \"participacion_dinero\": 5000000.0,\n",
      "                \"participacion_extraccion\": \"DIEGO IGNACIO ALVIAL ARREPOL se obliga a enterar el equivalente al 100 por ciento del capital social, mediante el aporte de $5.000.000 de pesos\"\n",
      "            }\n",
      "        ]\n",
      "    },\n",
      "    \"administracion\": {\n",
      "        \"ok\": true,\n",
      "        \"mensajes\": [],\n",
      "        \"articulos_referencia\": [\n",
      "            \"articulo_7\"\n",
      "        ],\n",
      "        \"frases_referencia\": [\n",
      "            \"La administración de la Empresa y el uso de su razón social corresponderá a DIEGO IGNACIO ALVIAL ARREPOL.\"\n",
      "        ],\n",
      "        \"valor\": {\n",
      "            \"administradores\": [\n",
      "                {\n",
      "                    \"nombre\": \"DIEGO IGNACIO ALVIAL ARREPOL\",\n",
      "                    \"rut\": \"14.374.547-3\",\n",
      "                    \"como_administra\": \"individualmente\",\n",
      "                    \"provisorio\": false,\n",
      "                    \"tipo\": \"administrador\"\n",
      "                }\n",
      "            ],\n",
      "            \"como_administran\": \"individualmente\",\n",
      "            \"quien_administra\": {\n",
      "                \"gg\": 0,\n",
      "                \"ad\": 1,\n",
      "                \"di\": 0,\n",
      "                \"todos\": 1\n",
      "            },\n",
      "            \"todos_con_rut\": true,\n",
      "            \"texto\": \"La administración de la Empresa y el uso de su razón social corresponderá a DIEGO IGNACIO ALVIAL ARREPOL.\"\n",
      "        }\n",
      "    },\n",
      "    \"articulos_repetidos\": {\n",
      "        \"ok\": true,\n",
      "        \"mensajes\": [],\n",
      "        \"articulos_referencia\": [],\n",
      "        \"frases_referencia\": [],\n",
      "        \"valor\": 0\n",
      "    },\n",
      "    \"capital\": {\n",
      "        \"ok\": true,\n",
      "        \"mensajes\": [],\n",
      "        \"articulos_referencia\": [\n",
      "            \"articulo_5\"\n",
      "        ],\n",
      "        \"frases_referencia\": [\n",
      "            \"5.000.000\"\n",
      "        ],\n",
      "        \"valor\": \"5.000.000\"\n",
      "    },\n",
      "    \"domicilio\": {\n",
      "        \"ok\": true,\n",
      "        \"mensajes\": [],\n",
      "        \"articulos_referencia\": [\n",
      "            \"articulo_3\"\n",
      "        ],\n",
      "        \"frases_referencia\": [\n",
      "            \"la comuna de PROVIDENCIA, Región METROPOLITANA DE SANTIAGO\"\n",
      "        ],\n",
      "        \"valor\": \"la comuna de PROVIDENCIA, Región METROPOLITANA DE SANTIAGO\"\n",
      "    },\n",
      "    \"duracion\": {\n",
      "        \"ok\": true,\n",
      "        \"mensajes\": [],\n",
      "        \"articulos_referencia\": [\n",
      "            \"articulo_4\"\n",
      "        ],\n",
      "        \"frases_referencia\": [\n",
      "            \"indefinida\"\n",
      "        ],\n",
      "        \"valor\": {\n",
      "            \"tags\": [\n",
      "                \"indefinido\"\n",
      "            ],\n",
      "            \"finalizada\": false,\n",
      "            \"texto\": \"la duración de la empresa será a contar de la fecha de la presente escritura indefinida\"\n",
      "        }\n",
      "    },\n",
      "    \"facultades\": {\n",
      "        \"ok\": true,\n",
      "        \"mensajes\": [],\n",
      "        \"articulos_referencia\": [\n",
      "            \"articulo_8\"\n",
      "        ],\n",
      "        \"frases_referencia\": [],\n",
      "        \"valor\": {\n",
      "            \"facultades\": {\n",
      "                \"REPRESENTACION ANTE INSTITUCIONES\": \"concurrir ante toda clase de autoridades politicas, administrativas, municipales, organismos o instituciones de derecho publico, fiscales o semifiscales, autoridades de orden tributario, previsional o laboral, o personas de derecho privado, sean ellas naturales o juridicas, con toda clase de solicitudes y demas documentos que sean menester y desistirse de sus peticiones\",\n",
      "                \"CELEBRACION DE CONTRATOS\": \"celebrar contratos de promesa, compraventa, arrendamiento, con o sin opcion de compra, leasing, factoring, permuta, comodato, deposito, transporte, mutuos, prestamos, concesiones, seguros, y, en general toda clase contratos nominados e innominados, pudiendo comprar, vender, adquirir, transferir y enajenar a cualquier titulo toda clase de bienes muebles o inmuebles, corporales o incorporales, incluso valores mobiliarios, acciones, bonos, moneda extranjera, efectos publicos o de comercio, y derechos de cualquier naturaleza; fijar precios, rentas, renunciar derechos y acciones y, especialmente la accion resolutoria, cabidas o deslindes, condiciones de pago, plazos y demas clausulas, modalidades y estipulaciones que sean de la esencia, de naturaleza o meramente accidentales; aceptar toda clase de garantias que se constituyan a favor de la empresa\",\n",
      "                \"CONSTITUCION DE GARANTIAS\": \"constituir toda clase de garantias, hipotecas, prendas, fianzas simples y/o solidarias, avales en letras de cambio o pagares, warrant, gravar los bienes de la empresa con derechos de uso, usufructo, habitacion, etcetera; constituir servidumbres activas o pasivas\",\n",
      "                \"CONTRATOS DE TRABAJO\": \"celebrar contratos de trabajo, colectivos o individuales, contratar y despedir trabajadores, contratar servicios profesionales o tecnicos y ponerles termino; celebrar contratos de confeccion de obra material, de arrendamiento de servicios; fijar remuneraciones, honorarios, bonos, etc\",\n",
      "                \"OPERACIONES CON CHEQUES, LETRAS, PAGARES Y OTROS DOCUMENTOS MERCANTILES\": \"girar, suscribir, cancelar, aceptar, endosar, reaceptar, renovar, prorrogar, revalidar, descontar, cobrar, protestar cheques, letras de cambio, pagares, y demas documentos mercantiles, sean nominativos, a la orden o al portador, en moneda nacional o extranjera; ceder y aceptar cesiones de credito, sean nominativos, a la orden o al portador y, en general, efectuar toda clase de operaciones con documentos mercantiles, valores mobiliarios, efectos publicos y de comercio\",\n",
      "                \"CONSTITUCION DE SOCIEDADES\": \"constituir sociedades de cualquier clase, de comunidades o asociaciones de corporaciones, de cooperativas, ingresar a las ya constituidas, representar a la empresa, con voz y voto, en todas ellas; concurrir a la modificacion, disolucion y liquidacion de aquellas de que forme parte y ejercer o renunciar las acciones que competan a la empresa en tales sociedades o comunidades sin limitacion alguna\",\n",
      "                \"OPERACIONES CON BANCOS E INSTITUCIONES FINANCIERAS\": \"representar a la empresa en los bancos e instituciones financieras con las mas amplias facultades que se precisen; darles instrucciones y cometerles comisiones de confianza; celebrar contratos de cuenta corriente bancaria de deposito o de credito, pudiendo depositar, girar y sobregirar en ellas, sea mediante cheques, ordenes de pago o transferencias electronicas, imponerse de su movimiento, modificarlos y ponerles termino o solicitar su terminacion; aprobar y objetar saldos; requerir y retirar talonarios de cheques o cheques sueltos; arrendar cajas de seguridad, abrirlas y poner termino a su arrendamiento; abrir cuentas de ahorro, a la vista o a plazo, hacer depositos en ellas, retirar fondos total o parcialmente, cerrar las cuentas; colocar y retirar dineros, sea en moneda nacional o extranjera, y valores en deposito, custodia o garantia o cancelar los certificados respectivos; tomar y cancelar vales vista, boletas bancarias o boletas de garantia; celebrar toda clase contratos de futuros, swaps, opciones y en general con instrumentos derivados; asumir riesgos de cambio, liquidar y/o remesar divisas y, en general, efectuar toda clase de operaciones bancarias en moneda nacional o extranjera\",\n",
      "                \"OPERACIONES DE COMERCIO EXTERIOR\": \"contratar y efectuar toda clase de operaciones de comercio exterior y de cambios internacionales, estando facultados para representar a la empresa en todas las operaciones, diligencias, tramites o actuaciones relacionadas con importaciones y exportaciones ante los bancos comerciales, banco central de chile y cualquier otra entidad o autoridad competente pudiendo al efecto representar y firmar registros de importacion y exportacion, abrir acreditivos divisibles o indivisibles, revocables o irrevocables, presentar solicitudes anexas, cartas explicativas, declaraciones juradas y toda otra documentacion pertinente que fuere exigida por los bancos o por el banco central de chile y solicitar la modificacion de las condiciones bajo las cuales ha autorizado una determinada operacion; autorizar cargos en las cuentas corrientes de la empresa a causa de operaciones de comercio exterior, otorgar, retirar, endosar, enajenar y negociar en cualquier forma documentos de embarque, facturas y conocimientos y carta de porte y documentos consulares y, en general, ejecutar todos los actos y realizar todas las operaciones que fueren conducentes al adecuado cumplimiento del encargo que se les confiere\",\n",
      "                \"PAGOS Y EXTINCION DE OBLIGACIONES\": \"pagar en efectivo, por dacion en pago de bienes muebles e inmuebles, por consignacion, subrogacion, cesion de bienes, etcetera, todo lo que la empresa adeudare por cualquier titulo y, en general, extinguir obligaciones ya sea por novacion, remision, compensacion, etc\",\n",
      "                \"FIRMA DE DOCUMENTOS Y RETIRO DE CORRESPONDENCIA\": \"firmar recibos, finiquitos y cancelaciones y, en general, suscribir, otorgar, firmar, extender, modificar y refrendar toda clase de documentos publicos o privados, pudiendo formular en ellos todas las declaraciones que estimen necesarias o convenientes; retirar de las oficinas de correos, aduanas, empresas de transporte terrestre, maritimo, aereo, toda clase de correspondencia, incluso certificada, giros, reembolsos, cargas, encomiendas, mercaderias, piezas postales, etcetera, consignadas o dirigidas a la empresa; firmar la correspondencia de la empresa\",\n",
      "                \"MANDATOS\": \"conferir mandatos y poderes generales y especiales, revocarlos, delegar y reasumir, aceptar en todo o en parte, sus poderes cuantas veces lo estimen necesario\",\n",
      "                \"REPRESENTACION JUDICIAL\": \"representar judicialmente a la empresa con todas y cada una de las facultades ordinarias y extraordinarias del mandato judicial contempladas en ambos incisos del articulo siete del codigo de procedimiento civil, las que incluyen la facultad de desistirse en primera instancia de la accion deducida, aceptar la demanda contraria, absolver posiciones, renunciar a los recursos y los terminos legales, transigir, con declaracion expresa que la facultad de transigir comprende tambien la transaccion extrajudicial, comprometer, otorgar a los arbitros facultades de arbitradores, aprobar convenios judiciales o extrajudiciales, percibir, otorgar quitas o esperas\",\n",
      "                \"COBRAR Y PERCIBIR\": \"cobrar y percibir judicial y extrajudicialmente todo cuanto se adeude a la empresa a cualquier titulo que sea en dinero, en otra clase de bienes corporales o incorporales, raices, muebles, valores mobiliarios, efectos de comercio, etc\"\n",
      "            },\n",
      "            \"facultados\": null,\n",
      "            \"inicio\": \" \"\n",
      "        }\n",
      "    },\n",
      "    \"nombre_fantasia\": {\n",
      "        \"ok\": true,\n",
      "        \"mensajes\": [],\n",
      "        \"articulos_referencia\": [\n",
      "            \"articulo_1\"\n",
      "        ],\n",
      "        \"frases_referencia\": [\n",
      "            \"SIGMAQ MAQUINARIA E INGENIERIA E.I.R.L.\"\n",
      "        ],\n",
      "        \"valor\": \"SIGMAQ MAQUINARIA E INGENIERIA E.I.R.L.\"\n",
      "    },\n",
      "    \"objeto\": {\n",
      "        \"ok\": true,\n",
      "        \"mensajes\": [],\n",
      "        \"articulos_referencia\": [\n",
      "            \"articulo_2\"\n",
      "        ],\n",
      "        \"frases_referencia\": [\n",
      "            \"ALQUILER DE OTROS TIPOS DE MAQUINARIA Y EQUIPO, OTRAS ACTIVIDADES DE SERVICIOS.\"\n",
      "        ],\n",
      "        \"valor\": \"ALQUILER DE OTROS TIPOS DE MAQUINARIA Y EQUIPO, OTRAS ACTIVIDADES DE SERVICIOS.\"\n",
      "    },\n",
      "    \"razon_social\": {\n",
      "        \"ok\": true,\n",
      "        \"mensajes\": [],\n",
      "        \"articulos_referencia\": [\n",
      "            \"articulo_1\"\n",
      "        ],\n",
      "        \"frases_referencia\": [\n",
      "            \"SIGMAQ MAQUINARIA E INGENIERIA DIEGO IGNACIO ALVIAL ARREPOL E.I.R.L.\"\n",
      "        ],\n",
      "        \"valor\": \"SIGMAQ MAQUINARIA E INGENIERIA DIEGO IGNACIO ALVIAL ARREPOL E.I.R.L.\"\n",
      "    }\n",
      "}\n"
     ]
    }
   ],
   "source": [
    "data_stream = s3.get_object(Bucket=bucket,Key='AC00DaeUV9O5.json')['Body'].read().decode('utf-8')\n",
    "data = json.loads(data_stream)\n",
    "print(json.dumps(data, indent=4, ensure_ascii=False))"
   ]
  },
  {
   "cell_type": "code",
   "execution_count": 26,
   "metadata": {
    "ExecuteTime": {
     "end_time": "2022-06-15T12:41:49.031880Z",
     "start_time": "2022-06-15T12:41:49.026016Z"
    }
   },
   "outputs": [
    {
     "data": {
      "text/plain": [
       "True"
      ]
     },
     "execution_count": 26,
     "metadata": {},
     "output_type": "execute_result"
    }
   ],
   "source": [
    "\"\\\"tipo_actuacion\\\": \\\"CONSTITUCION\\\"\" in data_stream[:200]"
   ]
  },
  {
   "cell_type": "markdown",
   "metadata": {},
   "source": [
    "Helper functions"
   ]
  },
  {
   "cell_type": "markdown",
   "metadata": {},
   "source": [
    "## Spot Fixes "
   ]
  },
  {
   "cell_type": "code",
   "execution_count": 37,
   "metadata": {
    "ExecuteTime": {
     "end_time": "2022-06-15T12:47:25.357995Z",
     "start_time": "2022-06-15T12:47:25.354375Z"
    }
   },
   "outputs": [],
   "source": [
    "df = df_processed"
   ]
  },
  {
   "cell_type": "code",
   "execution_count": 38,
   "metadata": {
    "ExecuteTime": {
     "end_time": "2022-06-15T12:47:30.885129Z",
     "start_time": "2022-06-15T12:47:30.747527Z"
    }
   },
   "outputs": [],
   "source": [
    "df['tipo_actuacion'] = 'CONSTITUCION'"
   ]
  },
  {
   "cell_type": "code",
   "execution_count": 39,
   "metadata": {
    "ExecuteTime": {
     "end_time": "2022-06-15T12:47:33.915543Z",
     "start_time": "2022-06-15T12:47:33.906563Z"
    }
   },
   "outputs": [
    {
     "data": {
      "text/plain": [
       "Index(['rut', 'cve', 'fecha', 'tipo_actuacion', 'lugar', 'tipo_sociedad',\n",
       "       'objeto', 'firmas'],\n",
       "      dtype='object')"
      ]
     },
     "execution_count": 39,
     "metadata": {},
     "output_type": "execute_result"
    }
   ],
   "source": [
    "df.columns"
   ]
  },
  {
   "cell_type": "code",
   "execution_count": 40,
   "metadata": {
    "ExecuteTime": {
     "end_time": "2022-06-15T12:47:38.948750Z",
     "start_time": "2022-06-15T12:47:38.437454Z"
    }
   },
   "outputs": [],
   "source": [
    "df = df[['rut', 'cve', 'fecha', 'tipo_actuacion', 'lugar', 'tipo_sociedad', 'objeto', 'firmas']]"
   ]
  },
  {
   "cell_type": "code",
   "execution_count": 41,
   "metadata": {
    "ExecuteTime": {
     "end_time": "2022-06-15T12:47:41.523591Z",
     "start_time": "2022-06-15T12:47:41.507526Z"
    }
   },
   "outputs": [
    {
     "data": {
      "text/html": [
       "<div>\n",
       "<style scoped>\n",
       "    .dataframe tbody tr th:only-of-type {\n",
       "        vertical-align: middle;\n",
       "    }\n",
       "\n",
       "    .dataframe tbody tr th {\n",
       "        vertical-align: top;\n",
       "    }\n",
       "\n",
       "    .dataframe thead th {\n",
       "        text-align: right;\n",
       "    }\n",
       "</style>\n",
       "<table border=\"1\" class=\"dataframe\">\n",
       "  <thead>\n",
       "    <tr style=\"text-align: right;\">\n",
       "      <th></th>\n",
       "      <th>rut</th>\n",
       "      <th>cve</th>\n",
       "      <th>fecha</th>\n",
       "      <th>tipo_actuacion</th>\n",
       "      <th>lugar</th>\n",
       "      <th>tipo_sociedad</th>\n",
       "      <th>objeto</th>\n",
       "      <th>firmas</th>\n",
       "    </tr>\n",
       "  </thead>\n",
       "  <tbody>\n",
       "    <tr>\n",
       "      <th>0</th>\n",
       "      <td>76305353-9</td>\n",
       "      <td>AC00DaeUV9O5</td>\n",
       "      <td>2013-10-16</td>\n",
       "      <td>CONSTITUCION</td>\n",
       "      <td>En PROVIDENCIA, Región METROPOLITANA DE SANTIA...</td>\n",
       "      <td>EMPRESA INDIVIDUAL DE RESPONSABILIDAD LIMITADA</td>\n",
       "      <td>La Empresa tendrá por objeto desarrollar las s...</td>\n",
       "      <td>[{'anotacion': None, 'firmado': 'Firmado elect...</td>\n",
       "    </tr>\n",
       "    <tr>\n",
       "      <th>1</th>\n",
       "      <td>76313659-0</td>\n",
       "      <td>AC00iMWofV5q</td>\n",
       "      <td>2013-10-28</td>\n",
       "      <td>CONSTITUCION</td>\n",
       "      <td>En QUILPUE, Región de VALPARAISO, Chile, a 28 ...</td>\n",
       "      <td>EMPRESA INDIVIDUAL DE RESPONSABILIDAD LIMITADA</td>\n",
       "      <td>La Empresa tendrá por objeto desarrollar las s...</td>\n",
       "      <td>[{'anotacion': None, 'firmado': 'Firmado elect...</td>\n",
       "    </tr>\n",
       "    <tr>\n",
       "      <th>2</th>\n",
       "      <td>76313458-K</td>\n",
       "      <td>AC01CGsqBCMM</td>\n",
       "      <td>2013-10-25</td>\n",
       "      <td>CONSTITUCION</td>\n",
       "      <td>En COYHAIQUE, Región de AYSEN DEL GRAL. CARLOS...</td>\n",
       "      <td>SOCIEDAD DE RESPONSABILIDAD LIMITADA</td>\n",
       "      <td>La Sociedad tendrá por objeto desarrollar las ...</td>\n",
       "      <td>[{'anotacion': None, 'firmado': 'Firmado elect...</td>\n",
       "    </tr>\n",
       "    <tr>\n",
       "      <th>3</th>\n",
       "      <td>76313026-6</td>\n",
       "      <td>AC01YjJkTvS3</td>\n",
       "      <td>2013-10-23</td>\n",
       "      <td>CONSTITUCION</td>\n",
       "      <td>En PUENTE ALTO, Región METROPOLITANA DE SANTIA...</td>\n",
       "      <td>EMPRESA INDIVIDUAL DE RESPONSABILIDAD LIMITADA</td>\n",
       "      <td>La Empresa tendrá por objeto desarrollar las s...</td>\n",
       "      <td>[{'anotacion': None, 'firmado': 'Firmado elect...</td>\n",
       "    </tr>\n",
       "    <tr>\n",
       "      <th>4</th>\n",
       "      <td>76304233-2</td>\n",
       "      <td>AC1DrSkE1pdl</td>\n",
       "      <td>2013-10-08</td>\n",
       "      <td>CONSTITUCION</td>\n",
       "      <td>En TEMUCO, Región de LA ARAUCANIA, Chile, a 08...</td>\n",
       "      <td>EMPRESA INDIVIDUAL DE RESPONSABILIDAD LIMITADA</td>\n",
       "      <td>La Empresa tendrá por objeto desarrollar las s...</td>\n",
       "      <td>[{'anotacion': None, 'firmado': 'Firmado elect...</td>\n",
       "    </tr>\n",
       "  </tbody>\n",
       "</table>\n",
       "</div>"
      ],
      "text/plain": [
       "          rut           cve       fecha tipo_actuacion  \\\n",
       "0  76305353-9  AC00DaeUV9O5  2013-10-16   CONSTITUCION   \n",
       "1  76313659-0  AC00iMWofV5q  2013-10-28   CONSTITUCION   \n",
       "2  76313458-K  AC01CGsqBCMM  2013-10-25   CONSTITUCION   \n",
       "3  76313026-6  AC01YjJkTvS3  2013-10-23   CONSTITUCION   \n",
       "4  76304233-2  AC1DrSkE1pdl  2013-10-08   CONSTITUCION   \n",
       "\n",
       "                                               lugar  \\\n",
       "0  En PROVIDENCIA, Región METROPOLITANA DE SANTIA...   \n",
       "1  En QUILPUE, Región de VALPARAISO, Chile, a 28 ...   \n",
       "2  En COYHAIQUE, Región de AYSEN DEL GRAL. CARLOS...   \n",
       "3  En PUENTE ALTO, Región METROPOLITANA DE SANTIA...   \n",
       "4  En TEMUCO, Región de LA ARAUCANIA, Chile, a 08...   \n",
       "\n",
       "                                    tipo_sociedad  \\\n",
       "0  EMPRESA INDIVIDUAL DE RESPONSABILIDAD LIMITADA   \n",
       "1  EMPRESA INDIVIDUAL DE RESPONSABILIDAD LIMITADA   \n",
       "2            SOCIEDAD DE RESPONSABILIDAD LIMITADA   \n",
       "3  EMPRESA INDIVIDUAL DE RESPONSABILIDAD LIMITADA   \n",
       "4  EMPRESA INDIVIDUAL DE RESPONSABILIDAD LIMITADA   \n",
       "\n",
       "                                              objeto  \\\n",
       "0  La Empresa tendrá por objeto desarrollar las s...   \n",
       "1  La Empresa tendrá por objeto desarrollar las s...   \n",
       "2  La Sociedad tendrá por objeto desarrollar las ...   \n",
       "3  La Empresa tendrá por objeto desarrollar las s...   \n",
       "4  La Empresa tendrá por objeto desarrollar las s...   \n",
       "\n",
       "                                              firmas  \n",
       "0  [{'anotacion': None, 'firmado': 'Firmado elect...  \n",
       "1  [{'anotacion': None, 'firmado': 'Firmado elect...  \n",
       "2  [{'anotacion': None, 'firmado': 'Firmado elect...  \n",
       "3  [{'anotacion': None, 'firmado': 'Firmado elect...  \n",
       "4  [{'anotacion': None, 'firmado': 'Firmado elect...  "
      ]
     },
     "execution_count": 41,
     "metadata": {},
     "output_type": "execute_result"
    }
   ],
   "source": [
    "df.head()"
   ]
  },
  {
   "cell_type": "markdown",
   "metadata": {},
   "source": [
    "### Standard changes "
   ]
  },
  {
   "cell_type": "code",
   "execution_count": 42,
   "metadata": {
    "ExecuteTime": {
     "end_time": "2022-06-15T12:48:01.039996Z",
     "start_time": "2022-06-15T12:48:00.812038Z"
    }
   },
   "outputs": [],
   "source": [
    "df['fecha'] = pd.to_datetime(df['fecha'], format=\"%Y-%m-%d\")"
   ]
  },
  {
   "cell_type": "code",
   "execution_count": 43,
   "metadata": {
    "ExecuteTime": {
     "end_time": "2022-06-15T12:48:12.241142Z",
     "start_time": "2022-06-15T12:48:12.142436Z"
    }
   },
   "outputs": [],
   "source": [
    "df['year'] = df['fecha'].dt.year\n",
    "df['month'] = df['fecha'].dt.month"
   ]
  },
  {
   "cell_type": "markdown",
   "metadata": {},
   "source": [
    "## Load "
   ]
  },
  {
   "cell_type": "markdown",
   "metadata": {},
   "source": [
    "En formato Apache Parquet"
   ]
  },
  {
   "cell_type": "code",
   "execution_count": 45,
   "metadata": {
    "ExecuteTime": {
     "end_time": "2022-06-15T13:02:52.595118Z",
     "start_time": "2022-06-15T12:48:29.529800Z"
    }
   },
   "outputs": [
    {
     "data": {
      "text/plain": [
       "{'paths': ['s3://legalres-storage-study-json/processed/year=2013/month=5/e6a0806da75045e7801c34eefdfd43e6.snappy.parquet',\n",
       "  's3://legalres-storage-study-json/processed/year=2013/month=6/e6a0806da75045e7801c34eefdfd43e6.snappy.parquet',\n",
       "  's3://legalres-storage-study-json/processed/year=2013/month=7/e6a0806da75045e7801c34eefdfd43e6.snappy.parquet',\n",
       "  's3://legalres-storage-study-json/processed/year=2013/month=8/e6a0806da75045e7801c34eefdfd43e6.snappy.parquet',\n",
       "  's3://legalres-storage-study-json/processed/year=2013/month=9/e6a0806da75045e7801c34eefdfd43e6.snappy.parquet',\n",
       "  's3://legalres-storage-study-json/processed/year=2013/month=10/e6a0806da75045e7801c34eefdfd43e6.snappy.parquet',\n",
       "  's3://legalres-storage-study-json/processed/year=2013/month=11/e6a0806da75045e7801c34eefdfd43e6.snappy.parquet',\n",
       "  's3://legalres-storage-study-json/processed/year=2013/month=12/e6a0806da75045e7801c34eefdfd43e6.snappy.parquet',\n",
       "  's3://legalres-storage-study-json/processed/year=2014/month=1/e6a0806da75045e7801c34eefdfd43e6.snappy.parquet',\n",
       "  's3://legalres-storage-study-json/processed/year=2014/month=2/e6a0806da75045e7801c34eefdfd43e6.snappy.parquet',\n",
       "  's3://legalres-storage-study-json/processed/year=2014/month=3/e6a0806da75045e7801c34eefdfd43e6.snappy.parquet',\n",
       "  's3://legalres-storage-study-json/processed/year=2014/month=4/e6a0806da75045e7801c34eefdfd43e6.snappy.parquet',\n",
       "  's3://legalres-storage-study-json/processed/year=2014/month=5/e6a0806da75045e7801c34eefdfd43e6.snappy.parquet',\n",
       "  's3://legalres-storage-study-json/processed/year=2014/month=6/e6a0806da75045e7801c34eefdfd43e6.snappy.parquet',\n",
       "  's3://legalres-storage-study-json/processed/year=2014/month=7/e6a0806da75045e7801c34eefdfd43e6.snappy.parquet',\n",
       "  's3://legalres-storage-study-json/processed/year=2014/month=8/e6a0806da75045e7801c34eefdfd43e6.snappy.parquet',\n",
       "  's3://legalres-storage-study-json/processed/year=2014/month=9/e6a0806da75045e7801c34eefdfd43e6.snappy.parquet',\n",
       "  's3://legalres-storage-study-json/processed/year=2014/month=10/e6a0806da75045e7801c34eefdfd43e6.snappy.parquet',\n",
       "  's3://legalres-storage-study-json/processed/year=2014/month=11/e6a0806da75045e7801c34eefdfd43e6.snappy.parquet',\n",
       "  's3://legalres-storage-study-json/processed/year=2014/month=12/e6a0806da75045e7801c34eefdfd43e6.snappy.parquet',\n",
       "  's3://legalres-storage-study-json/processed/year=2015/month=1/e6a0806da75045e7801c34eefdfd43e6.snappy.parquet',\n",
       "  's3://legalres-storage-study-json/processed/year=2015/month=2/e6a0806da75045e7801c34eefdfd43e6.snappy.parquet',\n",
       "  's3://legalres-storage-study-json/processed/year=2015/month=3/e6a0806da75045e7801c34eefdfd43e6.snappy.parquet',\n",
       "  's3://legalres-storage-study-json/processed/year=2015/month=4/e6a0806da75045e7801c34eefdfd43e6.snappy.parquet',\n",
       "  's3://legalres-storage-study-json/processed/year=2015/month=5/e6a0806da75045e7801c34eefdfd43e6.snappy.parquet',\n",
       "  's3://legalres-storage-study-json/processed/year=2015/month=6/e6a0806da75045e7801c34eefdfd43e6.snappy.parquet',\n",
       "  's3://legalres-storage-study-json/processed/year=2015/month=7/e6a0806da75045e7801c34eefdfd43e6.snappy.parquet',\n",
       "  's3://legalres-storage-study-json/processed/year=2015/month=8/e6a0806da75045e7801c34eefdfd43e6.snappy.parquet',\n",
       "  's3://legalres-storage-study-json/processed/year=2015/month=9/e6a0806da75045e7801c34eefdfd43e6.snappy.parquet',\n",
       "  's3://legalres-storage-study-json/processed/year=2015/month=10/e6a0806da75045e7801c34eefdfd43e6.snappy.parquet',\n",
       "  's3://legalres-storage-study-json/processed/year=2015/month=11/e6a0806da75045e7801c34eefdfd43e6.snappy.parquet',\n",
       "  's3://legalres-storage-study-json/processed/year=2015/month=12/e6a0806da75045e7801c34eefdfd43e6.snappy.parquet',\n",
       "  's3://legalres-storage-study-json/processed/year=2016/month=1/e6a0806da75045e7801c34eefdfd43e6.snappy.parquet',\n",
       "  's3://legalres-storage-study-json/processed/year=2016/month=2/e6a0806da75045e7801c34eefdfd43e6.snappy.parquet',\n",
       "  's3://legalres-storage-study-json/processed/year=2016/month=3/e6a0806da75045e7801c34eefdfd43e6.snappy.parquet',\n",
       "  's3://legalres-storage-study-json/processed/year=2016/month=4/e6a0806da75045e7801c34eefdfd43e6.snappy.parquet',\n",
       "  's3://legalres-storage-study-json/processed/year=2016/month=5/e6a0806da75045e7801c34eefdfd43e6.snappy.parquet',\n",
       "  's3://legalres-storage-study-json/processed/year=2016/month=6/e6a0806da75045e7801c34eefdfd43e6.snappy.parquet',\n",
       "  's3://legalres-storage-study-json/processed/year=2016/month=7/e6a0806da75045e7801c34eefdfd43e6.snappy.parquet',\n",
       "  's3://legalres-storage-study-json/processed/year=2016/month=8/e6a0806da75045e7801c34eefdfd43e6.snappy.parquet',\n",
       "  's3://legalres-storage-study-json/processed/year=2016/month=9/e6a0806da75045e7801c34eefdfd43e6.snappy.parquet',\n",
       "  's3://legalres-storage-study-json/processed/year=2016/month=10/e6a0806da75045e7801c34eefdfd43e6.snappy.parquet',\n",
       "  's3://legalres-storage-study-json/processed/year=2016/month=11/e6a0806da75045e7801c34eefdfd43e6.snappy.parquet',\n",
       "  's3://legalres-storage-study-json/processed/year=2016/month=12/e6a0806da75045e7801c34eefdfd43e6.snappy.parquet',\n",
       "  's3://legalres-storage-study-json/processed/year=2017/month=1/e6a0806da75045e7801c34eefdfd43e6.snappy.parquet',\n",
       "  's3://legalres-storage-study-json/processed/year=2017/month=2/e6a0806da75045e7801c34eefdfd43e6.snappy.parquet',\n",
       "  's3://legalres-storage-study-json/processed/year=2017/month=3/e6a0806da75045e7801c34eefdfd43e6.snappy.parquet',\n",
       "  's3://legalres-storage-study-json/processed/year=2017/month=4/e6a0806da75045e7801c34eefdfd43e6.snappy.parquet',\n",
       "  's3://legalres-storage-study-json/processed/year=2017/month=5/e6a0806da75045e7801c34eefdfd43e6.snappy.parquet',\n",
       "  's3://legalres-storage-study-json/processed/year=2017/month=6/e6a0806da75045e7801c34eefdfd43e6.snappy.parquet',\n",
       "  's3://legalres-storage-study-json/processed/year=2017/month=7/e6a0806da75045e7801c34eefdfd43e6.snappy.parquet',\n",
       "  's3://legalres-storage-study-json/processed/year=2017/month=8/e6a0806da75045e7801c34eefdfd43e6.snappy.parquet',\n",
       "  's3://legalres-storage-study-json/processed/year=2017/month=9/e6a0806da75045e7801c34eefdfd43e6.snappy.parquet',\n",
       "  's3://legalres-storage-study-json/processed/year=2017/month=10/e6a0806da75045e7801c34eefdfd43e6.snappy.parquet',\n",
       "  's3://legalres-storage-study-json/processed/year=2017/month=11/e6a0806da75045e7801c34eefdfd43e6.snappy.parquet',\n",
       "  's3://legalres-storage-study-json/processed/year=2017/month=12/e6a0806da75045e7801c34eefdfd43e6.snappy.parquet',\n",
       "  's3://legalres-storage-study-json/processed/year=2018/month=1/e6a0806da75045e7801c34eefdfd43e6.snappy.parquet',\n",
       "  's3://legalres-storage-study-json/processed/year=2018/month=2/e6a0806da75045e7801c34eefdfd43e6.snappy.parquet',\n",
       "  's3://legalres-storage-study-json/processed/year=2018/month=3/e6a0806da75045e7801c34eefdfd43e6.snappy.parquet',\n",
       "  's3://legalres-storage-study-json/processed/year=2018/month=4/e6a0806da75045e7801c34eefdfd43e6.snappy.parquet',\n",
       "  's3://legalres-storage-study-json/processed/year=2018/month=5/e6a0806da75045e7801c34eefdfd43e6.snappy.parquet',\n",
       "  's3://legalres-storage-study-json/processed/year=2018/month=6/e6a0806da75045e7801c34eefdfd43e6.snappy.parquet',\n",
       "  's3://legalres-storage-study-json/processed/year=2018/month=7/e6a0806da75045e7801c34eefdfd43e6.snappy.parquet',\n",
       "  's3://legalres-storage-study-json/processed/year=2018/month=8/e6a0806da75045e7801c34eefdfd43e6.snappy.parquet',\n",
       "  's3://legalres-storage-study-json/processed/year=2018/month=9/e6a0806da75045e7801c34eefdfd43e6.snappy.parquet',\n",
       "  's3://legalres-storage-study-json/processed/year=2018/month=10/e6a0806da75045e7801c34eefdfd43e6.snappy.parquet',\n",
       "  's3://legalres-storage-study-json/processed/year=2018/month=11/e6a0806da75045e7801c34eefdfd43e6.snappy.parquet',\n",
       "  's3://legalres-storage-study-json/processed/year=2018/month=12/e6a0806da75045e7801c34eefdfd43e6.snappy.parquet',\n",
       "  's3://legalres-storage-study-json/processed/year=2019/month=1/e6a0806da75045e7801c34eefdfd43e6.snappy.parquet',\n",
       "  's3://legalres-storage-study-json/processed/year=2019/month=2/e6a0806da75045e7801c34eefdfd43e6.snappy.parquet',\n",
       "  's3://legalres-storage-study-json/processed/year=2019/month=3/e6a0806da75045e7801c34eefdfd43e6.snappy.parquet',\n",
       "  's3://legalres-storage-study-json/processed/year=2019/month=4/e6a0806da75045e7801c34eefdfd43e6.snappy.parquet',\n",
       "  's3://legalres-storage-study-json/processed/year=2019/month=5/e6a0806da75045e7801c34eefdfd43e6.snappy.parquet',\n",
       "  's3://legalres-storage-study-json/processed/year=2019/month=6/e6a0806da75045e7801c34eefdfd43e6.snappy.parquet',\n",
       "  's3://legalres-storage-study-json/processed/year=2019/month=7/e6a0806da75045e7801c34eefdfd43e6.snappy.parquet',\n",
       "  's3://legalres-storage-study-json/processed/year=2019/month=8/e6a0806da75045e7801c34eefdfd43e6.snappy.parquet',\n",
       "  's3://legalres-storage-study-json/processed/year=2019/month=9/e6a0806da75045e7801c34eefdfd43e6.snappy.parquet',\n",
       "  's3://legalres-storage-study-json/processed/year=2019/month=10/e6a0806da75045e7801c34eefdfd43e6.snappy.parquet',\n",
       "  's3://legalres-storage-study-json/processed/year=2019/month=11/e6a0806da75045e7801c34eefdfd43e6.snappy.parquet',\n",
       "  's3://legalres-storage-study-json/processed/year=2019/month=12/e6a0806da75045e7801c34eefdfd43e6.snappy.parquet',\n",
       "  's3://legalres-storage-study-json/processed/year=2020/month=1/e6a0806da75045e7801c34eefdfd43e6.snappy.parquet',\n",
       "  's3://legalres-storage-study-json/processed/year=2020/month=2/e6a0806da75045e7801c34eefdfd43e6.snappy.parquet',\n",
       "  's3://legalres-storage-study-json/processed/year=2020/month=3/e6a0806da75045e7801c34eefdfd43e6.snappy.parquet',\n",
       "  's3://legalres-storage-study-json/processed/year=2020/month=4/e6a0806da75045e7801c34eefdfd43e6.snappy.parquet',\n",
       "  's3://legalres-storage-study-json/processed/year=2020/month=5/e6a0806da75045e7801c34eefdfd43e6.snappy.parquet',\n",
       "  's3://legalres-storage-study-json/processed/year=2020/month=6/e6a0806da75045e7801c34eefdfd43e6.snappy.parquet',\n",
       "  's3://legalres-storage-study-json/processed/year=2020/month=7/e6a0806da75045e7801c34eefdfd43e6.snappy.parquet',\n",
       "  's3://legalres-storage-study-json/processed/year=2020/month=8/e6a0806da75045e7801c34eefdfd43e6.snappy.parquet',\n",
       "  's3://legalres-storage-study-json/processed/year=2020/month=9/e6a0806da75045e7801c34eefdfd43e6.snappy.parquet',\n",
       "  's3://legalres-storage-study-json/processed/year=2020/month=10/e6a0806da75045e7801c34eefdfd43e6.snappy.parquet',\n",
       "  's3://legalres-storage-study-json/processed/year=2020/month=11/e6a0806da75045e7801c34eefdfd43e6.snappy.parquet',\n",
       "  's3://legalres-storage-study-json/processed/year=2020/month=12/e6a0806da75045e7801c34eefdfd43e6.snappy.parquet',\n",
       "  's3://legalres-storage-study-json/processed/year=2021/month=1/e6a0806da75045e7801c34eefdfd43e6.snappy.parquet',\n",
       "  's3://legalres-storage-study-json/processed/year=2021/month=2/e6a0806da75045e7801c34eefdfd43e6.snappy.parquet',\n",
       "  's3://legalres-storage-study-json/processed/year=2021/month=3/e6a0806da75045e7801c34eefdfd43e6.snappy.parquet',\n",
       "  's3://legalres-storage-study-json/processed/year=2021/month=4/e6a0806da75045e7801c34eefdfd43e6.snappy.parquet',\n",
       "  's3://legalres-storage-study-json/processed/year=2021/month=5/e6a0806da75045e7801c34eefdfd43e6.snappy.parquet',\n",
       "  's3://legalres-storage-study-json/processed/year=2021/month=6/e6a0806da75045e7801c34eefdfd43e6.snappy.parquet',\n",
       "  's3://legalres-storage-study-json/processed/year=2021/month=7/e6a0806da75045e7801c34eefdfd43e6.snappy.parquet',\n",
       "  's3://legalres-storage-study-json/processed/year=2021/month=8/e6a0806da75045e7801c34eefdfd43e6.snappy.parquet',\n",
       "  's3://legalres-storage-study-json/processed/year=2021/month=9/e6a0806da75045e7801c34eefdfd43e6.snappy.parquet',\n",
       "  's3://legalres-storage-study-json/processed/year=2021/month=10/e6a0806da75045e7801c34eefdfd43e6.snappy.parquet',\n",
       "  's3://legalres-storage-study-json/processed/year=2021/month=11/e6a0806da75045e7801c34eefdfd43e6.snappy.parquet',\n",
       "  's3://legalres-storage-study-json/processed/year=2021/month=12/e6a0806da75045e7801c34eefdfd43e6.snappy.parquet',\n",
       "  's3://legalres-storage-study-json/processed/year=2022/month=1/e6a0806da75045e7801c34eefdfd43e6.snappy.parquet',\n",
       "  's3://legalres-storage-study-json/processed/year=2022/month=2/e6a0806da75045e7801c34eefdfd43e6.snappy.parquet',\n",
       "  's3://legalres-storage-study-json/processed/year=2022/month=3/e6a0806da75045e7801c34eefdfd43e6.snappy.parquet',\n",
       "  's3://legalres-storage-study-json/processed/year=2022/month=4/e6a0806da75045e7801c34eefdfd43e6.snappy.parquet',\n",
       "  's3://legalres-storage-study-json/processed/year=2022/month=5/e6a0806da75045e7801c34eefdfd43e6.snappy.parquet',\n",
       "  's3://legalres-storage-study-json/processed/year=2022/month=6/e6a0806da75045e7801c34eefdfd43e6.snappy.parquet'],\n",
       " 'partitions_values': {'s3://legalres-storage-study-json/processed/year=2013/month=5/': ['2013',\n",
       "   '5'],\n",
       "  's3://legalres-storage-study-json/processed/year=2013/month=6/': ['2013',\n",
       "   '6'],\n",
       "  's3://legalres-storage-study-json/processed/year=2013/month=7/': ['2013',\n",
       "   '7'],\n",
       "  's3://legalres-storage-study-json/processed/year=2013/month=8/': ['2013',\n",
       "   '8'],\n",
       "  's3://legalres-storage-study-json/processed/year=2013/month=9/': ['2013',\n",
       "   '9'],\n",
       "  's3://legalres-storage-study-json/processed/year=2013/month=10/': ['2013',\n",
       "   '10'],\n",
       "  's3://legalres-storage-study-json/processed/year=2013/month=11/': ['2013',\n",
       "   '11'],\n",
       "  's3://legalres-storage-study-json/processed/year=2013/month=12/': ['2013',\n",
       "   '12'],\n",
       "  's3://legalres-storage-study-json/processed/year=2014/month=1/': ['2014',\n",
       "   '1'],\n",
       "  's3://legalres-storage-study-json/processed/year=2014/month=2/': ['2014',\n",
       "   '2'],\n",
       "  's3://legalres-storage-study-json/processed/year=2014/month=3/': ['2014',\n",
       "   '3'],\n",
       "  's3://legalres-storage-study-json/processed/year=2014/month=4/': ['2014',\n",
       "   '4'],\n",
       "  's3://legalres-storage-study-json/processed/year=2014/month=5/': ['2014',\n",
       "   '5'],\n",
       "  's3://legalres-storage-study-json/processed/year=2014/month=6/': ['2014',\n",
       "   '6'],\n",
       "  's3://legalres-storage-study-json/processed/year=2014/month=7/': ['2014',\n",
       "   '7'],\n",
       "  's3://legalres-storage-study-json/processed/year=2014/month=8/': ['2014',\n",
       "   '8'],\n",
       "  's3://legalres-storage-study-json/processed/year=2014/month=9/': ['2014',\n",
       "   '9'],\n",
       "  's3://legalres-storage-study-json/processed/year=2014/month=10/': ['2014',\n",
       "   '10'],\n",
       "  's3://legalres-storage-study-json/processed/year=2014/month=11/': ['2014',\n",
       "   '11'],\n",
       "  's3://legalres-storage-study-json/processed/year=2014/month=12/': ['2014',\n",
       "   '12'],\n",
       "  's3://legalres-storage-study-json/processed/year=2015/month=1/': ['2015',\n",
       "   '1'],\n",
       "  's3://legalres-storage-study-json/processed/year=2015/month=2/': ['2015',\n",
       "   '2'],\n",
       "  's3://legalres-storage-study-json/processed/year=2015/month=3/': ['2015',\n",
       "   '3'],\n",
       "  's3://legalres-storage-study-json/processed/year=2015/month=4/': ['2015',\n",
       "   '4'],\n",
       "  's3://legalres-storage-study-json/processed/year=2015/month=5/': ['2015',\n",
       "   '5'],\n",
       "  's3://legalres-storage-study-json/processed/year=2015/month=6/': ['2015',\n",
       "   '6'],\n",
       "  's3://legalres-storage-study-json/processed/year=2015/month=7/': ['2015',\n",
       "   '7'],\n",
       "  's3://legalres-storage-study-json/processed/year=2015/month=8/': ['2015',\n",
       "   '8'],\n",
       "  's3://legalres-storage-study-json/processed/year=2015/month=9/': ['2015',\n",
       "   '9'],\n",
       "  's3://legalres-storage-study-json/processed/year=2015/month=10/': ['2015',\n",
       "   '10'],\n",
       "  's3://legalres-storage-study-json/processed/year=2015/month=11/': ['2015',\n",
       "   '11'],\n",
       "  's3://legalres-storage-study-json/processed/year=2015/month=12/': ['2015',\n",
       "   '12'],\n",
       "  's3://legalres-storage-study-json/processed/year=2016/month=1/': ['2016',\n",
       "   '1'],\n",
       "  's3://legalres-storage-study-json/processed/year=2016/month=2/': ['2016',\n",
       "   '2'],\n",
       "  's3://legalres-storage-study-json/processed/year=2016/month=3/': ['2016',\n",
       "   '3'],\n",
       "  's3://legalres-storage-study-json/processed/year=2016/month=4/': ['2016',\n",
       "   '4'],\n",
       "  's3://legalres-storage-study-json/processed/year=2016/month=5/': ['2016',\n",
       "   '5'],\n",
       "  's3://legalres-storage-study-json/processed/year=2016/month=6/': ['2016',\n",
       "   '6'],\n",
       "  's3://legalres-storage-study-json/processed/year=2016/month=7/': ['2016',\n",
       "   '7'],\n",
       "  's3://legalres-storage-study-json/processed/year=2016/month=8/': ['2016',\n",
       "   '8'],\n",
       "  's3://legalres-storage-study-json/processed/year=2016/month=9/': ['2016',\n",
       "   '9'],\n",
       "  's3://legalres-storage-study-json/processed/year=2016/month=10/': ['2016',\n",
       "   '10'],\n",
       "  's3://legalres-storage-study-json/processed/year=2016/month=11/': ['2016',\n",
       "   '11'],\n",
       "  's3://legalres-storage-study-json/processed/year=2016/month=12/': ['2016',\n",
       "   '12'],\n",
       "  's3://legalres-storage-study-json/processed/year=2017/month=1/': ['2017',\n",
       "   '1'],\n",
       "  's3://legalres-storage-study-json/processed/year=2017/month=2/': ['2017',\n",
       "   '2'],\n",
       "  's3://legalres-storage-study-json/processed/year=2017/month=3/': ['2017',\n",
       "   '3'],\n",
       "  's3://legalres-storage-study-json/processed/year=2017/month=4/': ['2017',\n",
       "   '4'],\n",
       "  's3://legalres-storage-study-json/processed/year=2017/month=5/': ['2017',\n",
       "   '5'],\n",
       "  's3://legalres-storage-study-json/processed/year=2017/month=6/': ['2017',\n",
       "   '6'],\n",
       "  's3://legalres-storage-study-json/processed/year=2017/month=7/': ['2017',\n",
       "   '7'],\n",
       "  's3://legalres-storage-study-json/processed/year=2017/month=8/': ['2017',\n",
       "   '8'],\n",
       "  's3://legalres-storage-study-json/processed/year=2017/month=9/': ['2017',\n",
       "   '9'],\n",
       "  's3://legalres-storage-study-json/processed/year=2017/month=10/': ['2017',\n",
       "   '10'],\n",
       "  's3://legalres-storage-study-json/processed/year=2017/month=11/': ['2017',\n",
       "   '11'],\n",
       "  's3://legalres-storage-study-json/processed/year=2017/month=12/': ['2017',\n",
       "   '12'],\n",
       "  's3://legalres-storage-study-json/processed/year=2018/month=1/': ['2018',\n",
       "   '1'],\n",
       "  's3://legalres-storage-study-json/processed/year=2018/month=2/': ['2018',\n",
       "   '2'],\n",
       "  's3://legalres-storage-study-json/processed/year=2018/month=3/': ['2018',\n",
       "   '3'],\n",
       "  's3://legalres-storage-study-json/processed/year=2018/month=4/': ['2018',\n",
       "   '4'],\n",
       "  's3://legalres-storage-study-json/processed/year=2018/month=5/': ['2018',\n",
       "   '5'],\n",
       "  's3://legalres-storage-study-json/processed/year=2018/month=6/': ['2018',\n",
       "   '6'],\n",
       "  's3://legalres-storage-study-json/processed/year=2018/month=7/': ['2018',\n",
       "   '7'],\n",
       "  's3://legalres-storage-study-json/processed/year=2018/month=8/': ['2018',\n",
       "   '8'],\n",
       "  's3://legalres-storage-study-json/processed/year=2018/month=9/': ['2018',\n",
       "   '9'],\n",
       "  's3://legalres-storage-study-json/processed/year=2018/month=10/': ['2018',\n",
       "   '10'],\n",
       "  's3://legalres-storage-study-json/processed/year=2018/month=11/': ['2018',\n",
       "   '11'],\n",
       "  's3://legalres-storage-study-json/processed/year=2018/month=12/': ['2018',\n",
       "   '12'],\n",
       "  's3://legalres-storage-study-json/processed/year=2019/month=1/': ['2019',\n",
       "   '1'],\n",
       "  's3://legalres-storage-study-json/processed/year=2019/month=2/': ['2019',\n",
       "   '2'],\n",
       "  's3://legalres-storage-study-json/processed/year=2019/month=3/': ['2019',\n",
       "   '3'],\n",
       "  's3://legalres-storage-study-json/processed/year=2019/month=4/': ['2019',\n",
       "   '4'],\n",
       "  's3://legalres-storage-study-json/processed/year=2019/month=5/': ['2019',\n",
       "   '5'],\n",
       "  's3://legalres-storage-study-json/processed/year=2019/month=6/': ['2019',\n",
       "   '6'],\n",
       "  's3://legalres-storage-study-json/processed/year=2019/month=7/': ['2019',\n",
       "   '7'],\n",
       "  's3://legalres-storage-study-json/processed/year=2019/month=8/': ['2019',\n",
       "   '8'],\n",
       "  's3://legalres-storage-study-json/processed/year=2019/month=9/': ['2019',\n",
       "   '9'],\n",
       "  's3://legalres-storage-study-json/processed/year=2019/month=10/': ['2019',\n",
       "   '10'],\n",
       "  's3://legalres-storage-study-json/processed/year=2019/month=11/': ['2019',\n",
       "   '11'],\n",
       "  's3://legalres-storage-study-json/processed/year=2019/month=12/': ['2019',\n",
       "   '12'],\n",
       "  's3://legalres-storage-study-json/processed/year=2020/month=1/': ['2020',\n",
       "   '1'],\n",
       "  's3://legalres-storage-study-json/processed/year=2020/month=2/': ['2020',\n",
       "   '2'],\n",
       "  's3://legalres-storage-study-json/processed/year=2020/month=3/': ['2020',\n",
       "   '3'],\n",
       "  's3://legalres-storage-study-json/processed/year=2020/month=4/': ['2020',\n",
       "   '4'],\n",
       "  's3://legalres-storage-study-json/processed/year=2020/month=5/': ['2020',\n",
       "   '5'],\n",
       "  's3://legalres-storage-study-json/processed/year=2020/month=6/': ['2020',\n",
       "   '6'],\n",
       "  's3://legalres-storage-study-json/processed/year=2020/month=7/': ['2020',\n",
       "   '7'],\n",
       "  's3://legalres-storage-study-json/processed/year=2020/month=8/': ['2020',\n",
       "   '8'],\n",
       "  's3://legalres-storage-study-json/processed/year=2020/month=9/': ['2020',\n",
       "   '9'],\n",
       "  's3://legalres-storage-study-json/processed/year=2020/month=10/': ['2020',\n",
       "   '10'],\n",
       "  's3://legalres-storage-study-json/processed/year=2020/month=11/': ['2020',\n",
       "   '11'],\n",
       "  's3://legalres-storage-study-json/processed/year=2020/month=12/': ['2020',\n",
       "   '12'],\n",
       "  's3://legalres-storage-study-json/processed/year=2021/month=1/': ['2021',\n",
       "   '1'],\n",
       "  's3://legalres-storage-study-json/processed/year=2021/month=2/': ['2021',\n",
       "   '2'],\n",
       "  's3://legalres-storage-study-json/processed/year=2021/month=3/': ['2021',\n",
       "   '3'],\n",
       "  's3://legalres-storage-study-json/processed/year=2021/month=4/': ['2021',\n",
       "   '4'],\n",
       "  's3://legalres-storage-study-json/processed/year=2021/month=5/': ['2021',\n",
       "   '5'],\n",
       "  's3://legalres-storage-study-json/processed/year=2021/month=6/': ['2021',\n",
       "   '6'],\n",
       "  's3://legalres-storage-study-json/processed/year=2021/month=7/': ['2021',\n",
       "   '7'],\n",
       "  's3://legalres-storage-study-json/processed/year=2021/month=8/': ['2021',\n",
       "   '8'],\n",
       "  's3://legalres-storage-study-json/processed/year=2021/month=9/': ['2021',\n",
       "   '9'],\n",
       "  's3://legalres-storage-study-json/processed/year=2021/month=10/': ['2021',\n",
       "   '10'],\n",
       "  's3://legalres-storage-study-json/processed/year=2021/month=11/': ['2021',\n",
       "   '11'],\n",
       "  's3://legalres-storage-study-json/processed/year=2021/month=12/': ['2021',\n",
       "   '12'],\n",
       "  's3://legalres-storage-study-json/processed/year=2022/month=1/': ['2022',\n",
       "   '1'],\n",
       "  's3://legalres-storage-study-json/processed/year=2022/month=2/': ['2022',\n",
       "   '2'],\n",
       "  's3://legalres-storage-study-json/processed/year=2022/month=3/': ['2022',\n",
       "   '3'],\n",
       "  's3://legalres-storage-study-json/processed/year=2022/month=4/': ['2022',\n",
       "   '4'],\n",
       "  's3://legalres-storage-study-json/processed/year=2022/month=5/': ['2022',\n",
       "   '5'],\n",
       "  's3://legalres-storage-study-json/processed/year=2022/month=6/': ['2022',\n",
       "   '6']}}"
      ]
     },
     "execution_count": 45,
     "metadata": {},
     "output_type": "execute_result"
    }
   ],
   "source": [
    "wr.s3.to_parquet(\n",
    "    df,\n",
    "    path='s3://{}/processed'.format(bucket),\n",
    "    dataset=True,\n",
    "    partition_cols=['year', 'month'],\n",
    "    mode='overwrite'\n",
    ")"
   ]
  }
 ],
 "metadata": {
  "kernelspec": {
   "display_name": "Python 3 (ipykernel)",
   "language": "python",
   "name": "python3"
  },
  "language_info": {
   "codemirror_mode": {
    "name": "ipython",
    "version": 3
   },
   "file_extension": ".py",
   "mimetype": "text/x-python",
   "name": "python",
   "nbconvert_exporter": "python",
   "pygments_lexer": "ipython3",
   "version": "3.8.5"
  },
  "toc": {
   "base_numbering": 1,
   "nav_menu": {},
   "number_sections": true,
   "sideBar": true,
   "skip_h1_title": true,
   "title_cell": "Table of Contents",
   "title_sidebar": "Contents",
   "toc_cell": false,
   "toc_position": {},
   "toc_section_display": true,
   "toc_window_display": true
  }
 },
 "nbformat": 4,
 "nbformat_minor": 4
}
