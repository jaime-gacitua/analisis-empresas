{
 "cells": [
  {
   "cell_type": "markdown",
   "metadata": {},
   "source": [
    "# ETL LegalRES\n",
    "\n",
    "* Extract: Bajar los JSON de legalRES de S3 \n",
    "* Transform: Seleccionar las columnas que interesan, aplanar a una tabla y generar columnas nuevas\n",
    "* Load: Cargar tabla limpia a S3"
   ]
  },
  {
   "cell_type": "code",
   "execution_count": 74,
   "metadata": {
    "ExecuteTime": {
     "end_time": "2022-06-15T13:16:46.589260Z",
     "start_time": "2022-06-15T13:16:46.545054Z"
    }
   },
   "outputs": [
    {
     "name": "stdout",
     "output_type": "stream",
     "text": [
      "The autoreload extension is already loaded. To reload it, use:\n",
      "  %reload_ext autoreload\n"
     ]
    }
   ],
   "source": [
    "%load_ext autoreload\n",
    "\n",
    "%autoreload 2\n"
   ]
  },
  {
   "cell_type": "code",
   "execution_count": 75,
   "metadata": {
    "ExecuteTime": {
     "end_time": "2022-06-15T13:16:46.772081Z",
     "start_time": "2022-06-15T13:16:46.731535Z"
    }
   },
   "outputs": [],
   "source": [
    "#!pip install awswrangler\n",
    "#!pip install --upgrade pandas"
   ]
  },
  {
   "cell_type": "code",
   "execution_count": 76,
   "metadata": {
    "ExecuteTime": {
     "end_time": "2022-06-15T13:16:53.828002Z",
     "start_time": "2022-06-15T13:16:53.778123Z"
    }
   },
   "outputs": [],
   "source": [
    "import sys\n",
    "sys.path.append('../../src/data')\n",
    "\n",
    "from make_dataset import *\n",
    "\n",
    "import pandas as pd\n",
    "import boto3\n",
    "from tqdm.notebook import tqdm\n",
    "\n",
    "import awswrangler as wr\n",
    "\n",
    "import json\n",
    "from pandas.io.json import json_normalize\n",
    "\n",
    "#data = pd.read_json(data_location)"
   ]
  },
  {
   "cell_type": "code",
   "execution_count": 77,
   "metadata": {
    "ExecuteTime": {
     "end_time": "2022-06-15T13:16:56.642388Z",
     "start_time": "2022-06-15T13:16:56.592338Z"
    }
   },
   "outputs": [],
   "source": [
    "USE_LOCAL = True"
   ]
  },
  {
   "cell_type": "code",
   "execution_count": 78,
   "metadata": {
    "ExecuteTime": {
     "end_time": "2022-06-15T13:17:00.912826Z",
     "start_time": "2022-06-15T13:17:00.565559Z"
    }
   },
   "outputs": [],
   "source": [
    "bucket='legalres-storage-study-json'\n",
    "data_key = 'AC000lvffws1.json'\n",
    "data_location = 's3://{}/{}'.format(bucket, data_key)\n",
    "\n",
    "session = boto3.Session(profile_name='legalbot')\n",
    "boto3.setup_default_session(profile_name='legalbot')\n",
    "s3 = boto3.client('s3')\n"
   ]
  },
  {
   "cell_type": "markdown",
   "metadata": {},
   "source": [
    "Config datos ya extraidos para no duplicar"
   ]
  },
  {
   "cell_type": "code",
   "execution_count": 79,
   "metadata": {
    "ExecuteTime": {
     "end_time": "2022-06-15T13:17:02.308592Z",
     "start_time": "2022-06-15T13:17:02.238821Z"
    }
   },
   "outputs": [],
   "source": [
    "prefix_processed = 'processed'\n",
    "data_location_processed = 's3://{}/{}/'.format(bucket, prefix_processed)"
   ]
  },
  {
   "cell_type": "markdown",
   "metadata": {},
   "source": [
    "## Extract "
   ]
  },
  {
   "cell_type": "markdown",
   "metadata": {},
   "source": [
    "Datos ya extraidos para no duplicar"
   ]
  },
  {
   "cell_type": "code",
   "execution_count": 80,
   "metadata": {
    "ExecuteTime": {
     "end_time": "2022-06-15T13:17:30.195694Z",
     "start_time": "2022-06-15T13:17:07.729079Z"
    }
   },
   "outputs": [],
   "source": [
    "if USE_LOCAL:\n",
    "    df_processed = pd.read_csv('../../data/processed/processed-studies.csv')\n",
    "else:\n",
    "    df_processed = wr.s3.read_parquet(path=data_location_processed,\n",
    "                                  #columns=['cve'], \n",
    "                                      boto3_session=session )"
   ]
  },
  {
   "cell_type": "markdown",
   "metadata": {},
   "source": [
    "537735"
   ]
  },
  {
   "cell_type": "markdown",
   "metadata": {},
   "source": [
    "798060"
   ]
  },
  {
   "cell_type": "markdown",
   "metadata": {},
   "source": [
    "880520"
   ]
  },
  {
   "cell_type": "markdown",
   "metadata": {},
   "source": [
    "881320"
   ]
  },
  {
   "cell_type": "code",
   "execution_count": 81,
   "metadata": {
    "ExecuteTime": {
     "end_time": "2022-06-15T13:17:30.264566Z",
     "start_time": "2022-06-15T13:17:30.201032Z"
    }
   },
   "outputs": [
    {
     "data": {
      "text/plain": [
       "(881320, 7)"
      ]
     },
     "execution_count": 81,
     "metadata": {},
     "output_type": "execute_result"
    }
   ],
   "source": [
    "df_processed.shape"
   ]
  },
  {
   "cell_type": "code",
   "execution_count": 82,
   "metadata": {
    "ExecuteTime": {
     "end_time": "2022-06-15T13:17:30.332535Z",
     "start_time": "2022-06-15T13:17:30.271344Z"
    }
   },
   "outputs": [],
   "source": [
    "if not USE_LOCAL:\n",
    "    df_processed.to_csv('../../data/processed/processed-studies.csv', index=False)"
   ]
  },
  {
   "cell_type": "code",
   "execution_count": 83,
   "metadata": {
    "ExecuteTime": {
     "end_time": "2022-06-15T13:17:30.422032Z",
     "start_time": "2022-06-15T13:17:30.341401Z"
    }
   },
   "outputs": [],
   "source": [
    "cve_processed = list(df_processed['cve'].values)"
   ]
  },
  {
   "cell_type": "code",
   "execution_count": 84,
   "metadata": {
    "ExecuteTime": {
     "end_time": "2022-06-15T13:17:30.481836Z",
     "start_time": "2022-06-15T13:17:30.431267Z"
    }
   },
   "outputs": [],
   "source": [
    "assert len(cve_processed) == len(df_processed.index)"
   ]
  },
  {
   "cell_type": "code",
   "execution_count": 85,
   "metadata": {
    "ExecuteTime": {
     "end_time": "2022-06-15T13:17:30.532092Z",
     "start_time": "2022-06-15T13:17:30.484425Z"
    }
   },
   "outputs": [
    {
     "data": {
      "text/plain": [
       "True"
      ]
     },
     "execution_count": 85,
     "metadata": {},
     "output_type": "execute_result"
    }
   ],
   "source": [
    "'AC0AEHf1alMr' in cve_processed"
   ]
  },
  {
   "cell_type": "markdown",
   "metadata": {},
   "source": [
    "Prueba con un archivo para ver estructura"
   ]
  },
  {
   "cell_type": "markdown",
   "metadata": {},
   "source": [
    "Constitucion: AC00DaeUV9O5.json"
   ]
  },
  {
   "cell_type": "code",
   "execution_count": 86,
   "metadata": {
    "ExecuteTime": {
     "end_time": "2022-06-15T13:17:30.862847Z",
     "start_time": "2022-06-15T13:17:30.534896Z"
    },
    "scrolled": true
   },
   "outputs": [
    {
     "name": "stdout",
     "output_type": "stream",
     "text": [
      "{\n",
      "    \"error_fatal\": false,\n",
      "    \"disuelto\": false,\n",
      "    \"rut\": \"76305353-9\",\n",
      "    \"fecha\": \"2013-10-16\",\n",
      "    \"cve\": \"AC00DaeUV9O5\",\n",
      "    \"tipo_actuacion\": \"CONSTITUCION\",\n",
      "    \"tipo_sociedad\": \"EMPRESA INDIVIDUAL DE RESPONSABILIDAD LIMITADA\",\n",
      "    \"estructura\": [\n",
      "        {\n",
      "            \"numero\": 1,\n",
      "            \"tipo\": \"titulo_primero\",\n",
      "            \"texto\": \"CONSTITUCION DE EMPRESA INDIVIDUAL DE RESPONSABILIDAD LIMITADA SIGMAQ MAQUINARIA E INGENIERIA DIEGO IGNACIO ALVIAL ARREPOL E.I.R.L. Rut 76.305.353-9\"\n",
      "        },\n",
      "        {\n",
      "            \"numero\": 2,\n",
      "            \"tipo\": \"principal\",\n",
      "            \"articulos\": [\n",
      "                {\n",
      "                    \"numero\": 0,\n",
      "                    \"id\": \"articulo_0\",\n",
      "                    \"articulo\": \"inicio\",\n",
      "                    \"subtitulo\": \"\",\n",
      "                    \"texto\": \"En PROVIDENCIA, Región METROPOLITANA DE SANTIAGO, Chile, a 16 de octubre del 2013, ante el Registro Electrónico de Empresas y Sociedades, comparece: DIEGO IGNACIO ALVIAL ARREPOL, Rut 14.374.547-3, 43 años de edad, Divorciado, ingeniero mecanico, país de nacionalidad Chile, domiciliado en ROSAS N°3286 depto/local 1404, comuna de SANTIAGO, Región METROPOLITANA DE SANTIAGO; el compareciente expone que viene en constituir empresa individual de responsabilidad limitada, que se regirá por las disposiciones de la ley número diecinueve mil ochocientos cincuenta y siete y sus modificaciones y demás leyes pertinentes, y en especial, por las disposiciones de los siguientes estatutos: \",\n",
      "                    \"subarticulos\": []\n",
      "                },\n",
      "                {\n",
      "                    \"numero\": 1,\n",
      "                    \"id\": \"articulo_1\",\n",
      "                    \"articulo\": \"ARTÍCULO PRIMERO\",\n",
      "                    \"subtitulo\": \"DEL NOMBRE O RAZON SOCIAL\",\n",
      "                    \"texto\": \"El nombre o razón social de la Empresa es \\\"SIGMAQ MAQUINARIA E INGENIERIA DIEGO IGNACIO ALVIAL ARREPOL E.I.R.L.\\\", pudiendo funcionar y actuar, inclusive ante Bancos y Entidades Financieras con el nombre de fantasía de SIGMAQ MAQUINARIA E INGENIERIA E.I.R.L.\",\n",
      "                    \"subarticulos\": []\n",
      "                },\n",
      "                {\n",
      "                    \"numero\": 2,\n",
      "                    \"id\": \"articulo_2\",\n",
      "                    \"articulo\": \"ARTÍCULO SEGUNDO\",\n",
      "                    \"subtitulo\": \"OBJETO\",\n",
      "                    \"texto\": \"La Empresa tendrá por objeto desarrollar las siguientes actividades: ALQUILER DE OTROS TIPOS DE MAQUINARIA Y EQUIPO, OTRAS ACTIVIDADES DE SERVICIOS.\",\n",
      "                    \"subarticulos\": []\n",
      "                },\n",
      "                {\n",
      "                    \"numero\": 3,\n",
      "                    \"id\": \"articulo_3\",\n",
      "                    \"articulo\": \"ARTÍCULO TERCERO\",\n",
      "                    \"subtitulo\": \"DOMICILIO\",\n",
      "                    \"texto\": \"El domicilio de la Empresa es la comuna de PROVIDENCIA, Región METROPOLITANA DE SANTIAGO, sin perjuicio de que pueda establecer agencias, sucursales o establecimientos en el resto del país o en el extranjero.\",\n",
      "                    \"subarticulos\": []\n",
      "                },\n",
      "                {\n",
      "                    \"numero\": 4,\n",
      "                    \"id\": \"articulo_4\",\n",
      "                    \"articulo\": \"ARTÍCULO CUARTO\",\n",
      "                    \"subtitulo\": \"DURACIÓN\",\n",
      "                    \"texto\": \"La duración de la Empresa será, a contar de la fecha de la presente escritura, indefinida.\",\n",
      "                    \"subarticulos\": []\n",
      "                },\n",
      "                {\n",
      "                    \"numero\": 5,\n",
      "                    \"id\": \"articulo_5\",\n",
      "                    \"articulo\": \"ARTÍCULO QUINTO\",\n",
      "                    \"subtitulo\": \"DEL CAPITAL SOCIAL\",\n",
      "                    \"texto\": \"El capital de la Empresa es la cantidad de $5.000.000 de pesos ; que el constituyente se obliga a aportar y pagar de la forma siguiente: A) DIEGO IGNACIO ALVIAL ARREPOL se obliga a enterar el equivalente al 100 por ciento del capital social, mediante el aporte de $5.000.000 de pesos que entera y paga a la caja social en efectivo en este acto;\",\n",
      "                    \"subarticulos\": []\n",
      "                },\n",
      "                {\n",
      "                    \"numero\": 6,\n",
      "                    \"id\": \"articulo_6\",\n",
      "                    \"articulo\": \"ARTÍCULO SEXTO\",\n",
      "                    \"subtitulo\": \"DE LA RESPONSABILIDAD DEL SOCIO\",\n",
      "                    \"texto\": \"La responsabilidad del socio queda limitada al monto de su aporte.\",\n",
      "                    \"subarticulos\": []\n",
      "                },\n",
      "                {\n",
      "                    \"numero\": 7,\n",
      "                    \"id\": \"articulo_7\",\n",
      "                    \"articulo\": \"ARTÍCULO SÉPTIMO\",\n",
      "                    \"subtitulo\": \"DE LA ADMINISTRACIÓN\",\n",
      "                    \"texto\": \"La administración de la Empresa y el uso de su razón social corresponderá a DIEGO IGNACIO ALVIAL ARREPOL.\",\n",
      "                    \"subarticulos\": []\n",
      "                },\n",
      "                {\n",
      "                    \"numero\": 8,\n",
      "                    \"id\": \"articulo_8\",\n",
      "                    \"articulo\": \"ARTÍCULO OCTAVO\",\n",
      "                    \"subtitulo\": \"DE LOS PODERES CONFERIDOS AL ADMINISTRADOR\",\n",
      "                    \"texto\": \" REPRESENTACION ANTE INSTITUCIONES. Concurrir ante toda clase de autoridades políticas, administrativas, municipales, organismos o instituciones de derecho público, fiscales o semifiscales, autoridades de orden tributario, previsional o laboral, o personas de derecho privado, sean ellas naturales o jurídicas, con toda clase de solicitudes y demás documentos que sean menester y desistirse de sus peticiones; CELEBRACION DE CONTRATOS. Celebrar contratos de promesa, compraventa, arrendamiento, con o sin opción de compra, leasing, factoring, permuta, comodato, depósito, transporte, mutuos, préstamos, concesiones, seguros, y, en general toda clase contratos nominados e innominados, pudiendo comprar, vender, adquirir, transferir y enajenar a cualquier título toda clase de bienes muebles o inmuebles, corporales o incorporales, incluso valores mobiliarios, acciones, bonos, moneda extranjera, efectos públicos o de comercio, y derechos de cualquier naturaleza; fijar precios, rentas, renunciar derechos y acciones y, especialmente la acción resolutoria, cabidas o deslindes, condiciones de pago, plazos y demás cláusulas, modalidades y estipulaciones que sean de la esencia, de naturaleza o meramente accidentales; aceptar toda clase de garantías que se constituyan a favor de la empresa; CONSTITUCION DE GARANTIAS. Constituir toda clase de garantías, hipotecas, prendas, fianzas simples y/o solidarias, avales en letras de cambio o pagarés, warrant, gravar los bienes de la empresa con derechos de uso, usufructo, habitación, etcétera; constituir servidumbres activas o pasivas; posponerlas; CONTRATOS DE TRABAJO. Celebrar contratos de trabajo, colectivos o individuales, contratar y despedir trabajadores, contratar servicios profesionales o técnicos y ponerles término; celebrar contratos de confección de obra material, de arrendamiento de servicios; fijar remuneraciones, honorarios, bonos, etc; OPERACIONES CON CHEQUES, LETRAS, PAGARES Y OTROS DOCUMENTOS MERCANTILES. Girar, suscribir, cancelar, aceptar, endosar, reaceptar, renovar, prorrogar, revalidar, descontar, cobrar, protestar cheques, letras de cambio, pagarés, y demás documentos mercantiles, sean nominativos, a la orden o al portador, en moneda nacional o extranjera; ceder y aceptar cesiones de crédito, sean nominativos, a la orden o al portador y, en general, efectuar toda clase de operaciones con documentos mercantiles, valores mobiliarios, efectos públicos y de comercio; CONSTITUCION DE SOCIEDADES. Constituir sociedades de cualquier clase, de comunidades o asociaciones de corporaciones, de cooperativas, ingresar a las ya constituidas, representar a la empresa, con voz y voto, en todas ellas; concurrir a la modificación, disolución y liquidación de aquéllas de que forme parte y ejercer o renunciar las acciones que competan a la empresa en tales sociedades o comunidades sin limitación alguna; OPERACIONES CON BANCOS E INSTITUCIONES FINANCIERAS. Representar a la empresa en los bancos e instituciones financieras con las más amplias facultades que se precisen; darles instrucciones y cometerles comisiones de confianza; celebrar contratos de cuenta corriente bancaria de depósito o de crédito, pudiendo depositar, girar y sobregirar en ellas, sea mediante cheques, órdenes de pago o transferencias electrónicas, imponerse de su movimiento, modificarlos y ponerles término o solicitar su terminación; aprobar y objetar saldos; requerir y retirar talonarios de cheques o cheques sueltos; arrendar cajas de seguridad, abrirlas y poner término a su arrendamiento; abrir cuentas de ahorro, a la vista o a plazo, hacer depósitos en ellas, retirar fondos total o parcialmente, cerrar las cuentas; colocar y retirar dineros, sea en moneda nacional o extranjera, y valores en depósito, custodia o garantía o cancelar los certificados respectivos; tomar y cancelar vales vista, boletas bancarias o boletas de garantía; celebrar toda clase contratos de futuros, swaps, opciones y en general con instrumentos derivados; asumir riesgos de cambio, liquidar y/o remesar divisas y, en general, efectuar toda clase de operaciones bancarias en moneda nacional o extranjera; OPERACIONES DE COMERCIO EXTERIOR. Contratar y efectuar toda clase de operaciones de comercio exterior y de cambios internacionales, estando facultados para representar a la empresa en todas las operaciones, diligencias, trámites o actuaciones relacionadas con importaciones y exportaciones ante los bancos comerciales, Banco Central de Chile y cualquier otra entidad o autoridad competente pudiendo al efecto representar y firmar registros de importación y exportación, abrir acreditivos divisibles o indivisibles, revocables o irrevocables, presentar solicitudes anexas, cartas explicativas, declaraciones juradas y toda otra documentación pertinente que fuere exigida por los bancos o por el Banco Central de Chile y solicitar la modificación de las condiciones bajo las cuales ha autorizado una determinada operación; autorizar cargos en las cuentas corrientes de la empresa a causa de operaciones de comercio exterior, otorgar, retirar, endosar, enajenar y negociar en cualquier forma documentos de embarque, facturas y conocimientos y carta de porte y documentos consulares y, en general, ejecutar todos los actos y realizar todas las operaciones que fueren conducentes al adecuado cumplimiento del encargo que se les confiere; PAGOS Y EXTINCION DE OBLIGACIONES. Pagar en efectivo, por dación en pago de bienes muebles e inmuebles, por consignación, subrogación, cesión de bienes, etcétera, todo lo que la empresa adeudare por cualquier título y, en general, extinguir obligaciones ya sea por novación, remisión, compensación, etc; FIRMA DE DOCUMENTOS Y RETIRO DE CORRESPONDENCIA. Firmar recibos, finiquitos y cancelaciones y, en general, suscribir, otorgar, firmar, extender, modificar y refrendar toda clase de documentos públicos o privados, pudiendo formular en ellos todas las declaraciones que estimen necesarias o convenientes; retirar de las oficinas de correos, aduanas, empresas de transporte terrestre, marítimo, aéreo, toda clase de correspondencia, incluso certificada, giros, reembolsos, cargas, encomiendas, mercaderías, piezas postales, etcétera, consignadas o dirigidas a la empresa; firmar la correspondencia de la empresa; MANDATOS. Conferir mandatos y poderes generales y especiales, revocarlos, delegar y reasumir, aceptar en todo o en parte, sus poderes cuantas veces lo estimen necesario; REPRESENTACION JUDICIAL. Representar judicialmente a la empresa con todas y cada una de las facultades ordinarias y extraordinarias del mandato judicial contempladas en ambos incisos del artículo siete del Código de Procedimiento Civil, las que incluyen la facultad de desistirse en primera instancia de la acción deducida, aceptar la demanda contraria, absolver posiciones, renunciar a los recursos y los términos legales, transigir, con declaración expresa que la facultad de transigir comprende también la transacción extrajudicial, comprometer, otorgar a los árbitros facultades de arbitradores, aprobar convenios judiciales o extrajudiciales, percibir, otorgar quitas o esperas; COBRAR Y PERCIBIR. Cobrar y percibir judicial y extrajudicialmente todo cuanto se adeude a la empresa a cualquier título que sea en dinero, en otra clase de bienes corporales o incorporales, raíces, muebles, valores mobiliarios, efectos de comercio, etc;\",\n",
      "                    \"subarticulos\": []\n",
      "                }\n",
      "            ],\n",
      "            \"sub_articulos\": [],\n",
      "            \"referencias\": {\n",
      "                \"razon_social\": 1,\n",
      "                \"objeto\": 2,\n",
      "                \"domicilio\": 3,\n",
      "                \"duracion\": 4,\n",
      "                \"capital\": 5,\n",
      "                \"responsabilidad\": 6,\n",
      "                \"administracion\": 7,\n",
      "                \"facultades\": 8,\n",
      "                \"administracion_gg_spa\": -1,\n",
      "                \"acciones_socios_spa\": -1,\n",
      "                \"administracion_transitoria\": -1,\n",
      "                \"gerente_general\": -1,\n",
      "                \"fantasia\": -1\n",
      "            }\n",
      "        },\n",
      "        {\n",
      "            \"numero\": 3,\n",
      "            \"tipo\": \"firmas\",\n",
      "            \"firmas\": [\n",
      "                {\n",
      "                    \"rut\": \"14.374.547-3\",\n",
      "                    \"nombre\": \"DIEGO IGNACIO ALVIAL ARREPOL\",\n",
      "                    \"firmado\": \"Firmado electrónicamente por notario Nelson Eulogio Baeza Gutierrez el 16-10-2013\"\n",
      "                }\n",
      "            ],\n",
      "            \"bloques\": [\n",
      "                {\n",
      "                    \"pos_x\": 82.0,\n",
      "                    \"pos_y\": 2992.0,\n",
      "                    \"tipo\": \"Tm\",\n",
      "                    \"texto\": \"\",\n",
      "                    \"objetos\": [\n",
      "                        {\n",
      "                            \"pos_x\": 0.0,\n",
      "                            \"pos_y\": 0.0,\n",
      "                            \"texto\": \"DIEGO IGNACIO ALVIAL ARREPOL\"\n",
      "                        },\n",
      "                        {\n",
      "                            \"pos_x\": 277.2,\n",
      "                            \"pos_y\": 0.0,\n",
      "                            \"texto\": \"Firmado electrónicamente por\"\n",
      "                        },\n",
      "                        {\n",
      "                            \"pos_x\": 0.0,\n",
      "                            \"pos_y\": 18.0,\n",
      "                            \"texto\": \"RUT: 14.374.547-3\"\n",
      "                        },\n",
      "                        {\n",
      "                            \"pos_x\": 277.2,\n",
      "                            \"pos_y\": 18.0,\n",
      "                            \"texto\": \"notario Nelson Eulogio Baeza\"\n",
      "                        },\n",
      "                        {\n",
      "                            \"pos_x\": 277.2,\n",
      "                            \"pos_y\": 36.0,\n",
      "                            \"texto\": \"Gutierrez\"\n",
      "                        },\n",
      "                        {\n",
      "                            \"pos_x\": 277.2,\n",
      "                            \"pos_y\": 54.0,\n",
      "                            \"texto\": \"el 16-10-2013\"\n",
      "                        }\n",
      "                    ],\n",
      "                    \"fuente\": \"/Helvetica\"\n",
      "                }\n",
      "            ]\n",
      "        }\n",
      "    ],\n",
      "    \"firmas\": {\n",
      "        \"numero\": 3,\n",
      "        \"tipo\": \"firmas\",\n",
      "        \"firmas\": [\n",
      "            {\n",
      "                \"rut\": \"14.374.547-3\",\n",
      "                \"nombre\": \"DIEGO IGNACIO ALVIAL ARREPOL\",\n",
      "                \"firmado\": \"Firmado electrónicamente por notario Nelson Eulogio Baeza Gutierrez el 16-10-2013\"\n",
      "            }\n",
      "        ],\n",
      "        \"bloques\": [\n",
      "            {\n",
      "                \"pos_x\": 82.0,\n",
      "                \"pos_y\": 2992.0,\n",
      "                \"tipo\": \"Tm\",\n",
      "                \"texto\": \"\",\n",
      "                \"objetos\": [\n",
      "                    {\n",
      "                        \"pos_x\": 0.0,\n",
      "                        \"pos_y\": 0.0,\n",
      "                        \"texto\": \"DIEGO IGNACIO ALVIAL ARREPOL\"\n",
      "                    },\n",
      "                    {\n",
      "                        \"pos_x\": 277.2,\n",
      "                        \"pos_y\": 0.0,\n",
      "                        \"texto\": \"Firmado electrónicamente por\"\n",
      "                    },\n",
      "                    {\n",
      "                        \"pos_x\": 0.0,\n",
      "                        \"pos_y\": 18.0,\n",
      "                        \"texto\": \"RUT: 14.374.547-3\"\n",
      "                    },\n",
      "                    {\n",
      "                        \"pos_x\": 277.2,\n",
      "                        \"pos_y\": 18.0,\n",
      "                        \"texto\": \"notario Nelson Eulogio Baeza\"\n",
      "                    },\n",
      "                    {\n",
      "                        \"pos_x\": 277.2,\n",
      "                        \"pos_y\": 36.0,\n",
      "                        \"texto\": \"Gutierrez\"\n",
      "                    },\n",
      "                    {\n",
      "                        \"pos_x\": 277.2,\n",
      "                        \"pos_y\": 54.0,\n",
      "                        \"texto\": \"el 16-10-2013\"\n",
      "                    }\n",
      "                ],\n",
      "                \"fuente\": \"/Helvetica\"\n",
      "            }\n",
      "        ]\n",
      "    },\n",
      "    \"modificacion\": {},\n",
      "    \"anexos\": [],\n",
      "    \"pre_aprobado\": true,\n",
      "    \"mensajes\": [],\n",
      "    \"accionistas\": {\n",
      "        \"ok\": true,\n",
      "        \"mensajes\": [],\n",
      "        \"articulos_referencia\": [\n",
      "            \"articulo_5\"\n",
      "        ],\n",
      "        \"frases_referencia\": [\n",
      "            \"DIEGO IGNACIO ALVIAL ARREPOL se obliga a enterar el equivalente al 100 por ciento del capital social, mediante el aporte de $5.000.000 de pesos\"\n",
      "        ],\n",
      "        \"valor\": [\n",
      "            {\n",
      "                \"nombre\": \"DIEGO IGNACIO ALVIAL ARREPOL\",\n",
      "                \"rut\": \"14.374.547-3\",\n",
      "                \"firmas\": [\n",
      "                    {\n",
      "                        \"rut\": \"14.374.547-3\",\n",
      "                        \"nombre\": \"DIEGO IGNACIO ALVIAL ARREPOL\",\n",
      "                        \"firmado\": \"Firmado electrónicamente por notario Nelson Eulogio Baeza Gutierrez el 16-10-2013\"\n",
      "                    }\n",
      "                ],\n",
      "                \"participacion\": 100.0,\n",
      "                \"participacion_dinero\": 5000000.0,\n",
      "                \"participacion_extraccion\": \"DIEGO IGNACIO ALVIAL ARREPOL se obliga a enterar el equivalente al 100 por ciento del capital social, mediante el aporte de $5.000.000 de pesos\"\n",
      "            }\n",
      "        ]\n",
      "    },\n",
      "    \"administracion\": {\n",
      "        \"ok\": true,\n",
      "        \"mensajes\": [],\n",
      "        \"articulos_referencia\": [\n",
      "            \"articulo_7\"\n",
      "        ],\n",
      "        \"frases_referencia\": [\n",
      "            \"La administración de la Empresa y el uso de su razón social corresponderá a DIEGO IGNACIO ALVIAL ARREPOL.\"\n",
      "        ],\n",
      "        \"valor\": {\n",
      "            \"administradores\": [\n",
      "                {\n",
      "                    \"nombre\": \"DIEGO IGNACIO ALVIAL ARREPOL\",\n",
      "                    \"rut\": \"14.374.547-3\",\n",
      "                    \"como_administra\": \"individualmente\",\n",
      "                    \"provisorio\": false,\n",
      "                    \"tipo\": \"administrador\"\n",
      "                }\n",
      "            ],\n",
      "            \"como_administran\": \"individualmente\",\n",
      "            \"quien_administra\": {\n",
      "                \"gg\": 0,\n",
      "                \"ad\": 1,\n",
      "                \"di\": 0,\n",
      "                \"todos\": 1\n",
      "            },\n",
      "            \"todos_con_rut\": true,\n",
      "            \"texto\": \"La administración de la Empresa y el uso de su razón social corresponderá a DIEGO IGNACIO ALVIAL ARREPOL.\"\n",
      "        }\n",
      "    },\n",
      "    \"articulos_repetidos\": {\n",
      "        \"ok\": true,\n",
      "        \"mensajes\": [],\n",
      "        \"articulos_referencia\": [],\n",
      "        \"frases_referencia\": [],\n",
      "        \"valor\": 0\n",
      "    },\n",
      "    \"capital\": {\n",
      "        \"ok\": true,\n",
      "        \"mensajes\": [],\n",
      "        \"articulos_referencia\": [\n",
      "            \"articulo_5\"\n",
      "        ],\n",
      "        \"frases_referencia\": [\n",
      "            \"5.000.000\"\n",
      "        ],\n",
      "        \"valor\": \"5.000.000\"\n",
      "    },\n",
      "    \"domicilio\": {\n",
      "        \"ok\": true,\n",
      "        \"mensajes\": [],\n",
      "        \"articulos_referencia\": [\n",
      "            \"articulo_3\"\n",
      "        ],\n",
      "        \"frases_referencia\": [\n",
      "            \"la comuna de PROVIDENCIA, Región METROPOLITANA DE SANTIAGO\"\n",
      "        ],\n",
      "        \"valor\": \"la comuna de PROVIDENCIA, Región METROPOLITANA DE SANTIAGO\"\n",
      "    },\n",
      "    \"duracion\": {\n",
      "        \"ok\": true,\n",
      "        \"mensajes\": [],\n",
      "        \"articulos_referencia\": [\n",
      "            \"articulo_4\"\n",
      "        ],\n",
      "        \"frases_referencia\": [\n",
      "            \"indefinida\"\n",
      "        ],\n",
      "        \"valor\": {\n",
      "            \"tags\": [\n",
      "                \"indefinido\"\n",
      "            ],\n",
      "            \"finalizada\": false,\n",
      "            \"texto\": \"la duración de la empresa será a contar de la fecha de la presente escritura indefinida\"\n",
      "        }\n",
      "    },\n",
      "    \"facultades\": {\n",
      "        \"ok\": true,\n",
      "        \"mensajes\": [],\n",
      "        \"articulos_referencia\": [\n",
      "            \"articulo_8\"\n",
      "        ],\n",
      "        \"frases_referencia\": [],\n",
      "        \"valor\": {\n",
      "            \"facultades\": {\n",
      "                \"REPRESENTACION ANTE INSTITUCIONES\": \"concurrir ante toda clase de autoridades politicas, administrativas, municipales, organismos o instituciones de derecho publico, fiscales o semifiscales, autoridades de orden tributario, previsional o laboral, o personas de derecho privado, sean ellas naturales o juridicas, con toda clase de solicitudes y demas documentos que sean menester y desistirse de sus peticiones\",\n",
      "                \"CELEBRACION DE CONTRATOS\": \"celebrar contratos de promesa, compraventa, arrendamiento, con o sin opcion de compra, leasing, factoring, permuta, comodato, deposito, transporte, mutuos, prestamos, concesiones, seguros, y, en general toda clase contratos nominados e innominados, pudiendo comprar, vender, adquirir, transferir y enajenar a cualquier titulo toda clase de bienes muebles o inmuebles, corporales o incorporales, incluso valores mobiliarios, acciones, bonos, moneda extranjera, efectos publicos o de comercio, y derechos de cualquier naturaleza; fijar precios, rentas, renunciar derechos y acciones y, especialmente la accion resolutoria, cabidas o deslindes, condiciones de pago, plazos y demas clausulas, modalidades y estipulaciones que sean de la esencia, de naturaleza o meramente accidentales; aceptar toda clase de garantias que se constituyan a favor de la empresa\",\n",
      "                \"CONSTITUCION DE GARANTIAS\": \"constituir toda clase de garantias, hipotecas, prendas, fianzas simples y/o solidarias, avales en letras de cambio o pagares, warrant, gravar los bienes de la empresa con derechos de uso, usufructo, habitacion, etcetera; constituir servidumbres activas o pasivas\",\n",
      "                \"CONTRATOS DE TRABAJO\": \"celebrar contratos de trabajo, colectivos o individuales, contratar y despedir trabajadores, contratar servicios profesionales o tecnicos y ponerles termino; celebrar contratos de confeccion de obra material, de arrendamiento de servicios; fijar remuneraciones, honorarios, bonos, etc\",\n",
      "                \"OPERACIONES CON CHEQUES, LETRAS, PAGARES Y OTROS DOCUMENTOS MERCANTILES\": \"girar, suscribir, cancelar, aceptar, endosar, reaceptar, renovar, prorrogar, revalidar, descontar, cobrar, protestar cheques, letras de cambio, pagares, y demas documentos mercantiles, sean nominativos, a la orden o al portador, en moneda nacional o extranjera; ceder y aceptar cesiones de credito, sean nominativos, a la orden o al portador y, en general, efectuar toda clase de operaciones con documentos mercantiles, valores mobiliarios, efectos publicos y de comercio\",\n",
      "                \"CONSTITUCION DE SOCIEDADES\": \"constituir sociedades de cualquier clase, de comunidades o asociaciones de corporaciones, de cooperativas, ingresar a las ya constituidas, representar a la empresa, con voz y voto, en todas ellas; concurrir a la modificacion, disolucion y liquidacion de aquellas de que forme parte y ejercer o renunciar las acciones que competan a la empresa en tales sociedades o comunidades sin limitacion alguna\",\n",
      "                \"OPERACIONES CON BANCOS E INSTITUCIONES FINANCIERAS\": \"representar a la empresa en los bancos e instituciones financieras con las mas amplias facultades que se precisen; darles instrucciones y cometerles comisiones de confianza; celebrar contratos de cuenta corriente bancaria de deposito o de credito, pudiendo depositar, girar y sobregirar en ellas, sea mediante cheques, ordenes de pago o transferencias electronicas, imponerse de su movimiento, modificarlos y ponerles termino o solicitar su terminacion; aprobar y objetar saldos; requerir y retirar talonarios de cheques o cheques sueltos; arrendar cajas de seguridad, abrirlas y poner termino a su arrendamiento; abrir cuentas de ahorro, a la vista o a plazo, hacer depositos en ellas, retirar fondos total o parcialmente, cerrar las cuentas; colocar y retirar dineros, sea en moneda nacional o extranjera, y valores en deposito, custodia o garantia o cancelar los certificados respectivos; tomar y cancelar vales vista, boletas bancarias o boletas de garantia; celebrar toda clase contratos de futuros, swaps, opciones y en general con instrumentos derivados; asumir riesgos de cambio, liquidar y/o remesar divisas y, en general, efectuar toda clase de operaciones bancarias en moneda nacional o extranjera\",\n",
      "                \"OPERACIONES DE COMERCIO EXTERIOR\": \"contratar y efectuar toda clase de operaciones de comercio exterior y de cambios internacionales, estando facultados para representar a la empresa en todas las operaciones, diligencias, tramites o actuaciones relacionadas con importaciones y exportaciones ante los bancos comerciales, banco central de chile y cualquier otra entidad o autoridad competente pudiendo al efecto representar y firmar registros de importacion y exportacion, abrir acreditivos divisibles o indivisibles, revocables o irrevocables, presentar solicitudes anexas, cartas explicativas, declaraciones juradas y toda otra documentacion pertinente que fuere exigida por los bancos o por el banco central de chile y solicitar la modificacion de las condiciones bajo las cuales ha autorizado una determinada operacion; autorizar cargos en las cuentas corrientes de la empresa a causa de operaciones de comercio exterior, otorgar, retirar, endosar, enajenar y negociar en cualquier forma documentos de embarque, facturas y conocimientos y carta de porte y documentos consulares y, en general, ejecutar todos los actos y realizar todas las operaciones que fueren conducentes al adecuado cumplimiento del encargo que se les confiere\",\n",
      "                \"PAGOS Y EXTINCION DE OBLIGACIONES\": \"pagar en efectivo, por dacion en pago de bienes muebles e inmuebles, por consignacion, subrogacion, cesion de bienes, etcetera, todo lo que la empresa adeudare por cualquier titulo y, en general, extinguir obligaciones ya sea por novacion, remision, compensacion, etc\",\n",
      "                \"FIRMA DE DOCUMENTOS Y RETIRO DE CORRESPONDENCIA\": \"firmar recibos, finiquitos y cancelaciones y, en general, suscribir, otorgar, firmar, extender, modificar y refrendar toda clase de documentos publicos o privados, pudiendo formular en ellos todas las declaraciones que estimen necesarias o convenientes; retirar de las oficinas de correos, aduanas, empresas de transporte terrestre, maritimo, aereo, toda clase de correspondencia, incluso certificada, giros, reembolsos, cargas, encomiendas, mercaderias, piezas postales, etcetera, consignadas o dirigidas a la empresa; firmar la correspondencia de la empresa\",\n",
      "                \"MANDATOS\": \"conferir mandatos y poderes generales y especiales, revocarlos, delegar y reasumir, aceptar en todo o en parte, sus poderes cuantas veces lo estimen necesario\",\n",
      "                \"REPRESENTACION JUDICIAL\": \"representar judicialmente a la empresa con todas y cada una de las facultades ordinarias y extraordinarias del mandato judicial contempladas en ambos incisos del articulo siete del codigo de procedimiento civil, las que incluyen la facultad de desistirse en primera instancia de la accion deducida, aceptar la demanda contraria, absolver posiciones, renunciar a los recursos y los terminos legales, transigir, con declaracion expresa que la facultad de transigir comprende tambien la transaccion extrajudicial, comprometer, otorgar a los arbitros facultades de arbitradores, aprobar convenios judiciales o extrajudiciales, percibir, otorgar quitas o esperas\",\n",
      "                \"COBRAR Y PERCIBIR\": \"cobrar y percibir judicial y extrajudicialmente todo cuanto se adeude a la empresa a cualquier titulo que sea en dinero, en otra clase de bienes corporales o incorporales, raices, muebles, valores mobiliarios, efectos de comercio, etc\"\n",
      "            },\n",
      "            \"facultados\": null,\n",
      "            \"inicio\": \" \"\n",
      "        }\n",
      "    },\n",
      "    \"nombre_fantasia\": {\n",
      "        \"ok\": true,\n",
      "        \"mensajes\": [],\n",
      "        \"articulos_referencia\": [\n",
      "            \"articulo_1\"\n",
      "        ],\n",
      "        \"frases_referencia\": [\n",
      "            \"SIGMAQ MAQUINARIA E INGENIERIA E.I.R.L.\"\n",
      "        ],\n",
      "        \"valor\": \"SIGMAQ MAQUINARIA E INGENIERIA E.I.R.L.\"\n",
      "    },\n",
      "    \"objeto\": {\n",
      "        \"ok\": true,\n",
      "        \"mensajes\": [],\n",
      "        \"articulos_referencia\": [\n",
      "            \"articulo_2\"\n",
      "        ],\n",
      "        \"frases_referencia\": [\n",
      "            \"ALQUILER DE OTROS TIPOS DE MAQUINARIA Y EQUIPO, OTRAS ACTIVIDADES DE SERVICIOS.\"\n",
      "        ],\n",
      "        \"valor\": \"ALQUILER DE OTROS TIPOS DE MAQUINARIA Y EQUIPO, OTRAS ACTIVIDADES DE SERVICIOS.\"\n",
      "    },\n",
      "    \"razon_social\": {\n",
      "        \"ok\": true,\n",
      "        \"mensajes\": [],\n",
      "        \"articulos_referencia\": [\n",
      "            \"articulo_1\"\n",
      "        ],\n",
      "        \"frases_referencia\": [\n",
      "            \"SIGMAQ MAQUINARIA E INGENIERIA DIEGO IGNACIO ALVIAL ARREPOL E.I.R.L.\"\n",
      "        ],\n",
      "        \"valor\": \"SIGMAQ MAQUINARIA E INGENIERIA DIEGO IGNACIO ALVIAL ARREPOL E.I.R.L.\"\n",
      "    }\n",
      "}\n"
     ]
    }
   ],
   "source": [
    "data_stream = s3.get_object(Bucket=bucket,Key='AC00DaeUV9O5.json')['Body'].read().decode('utf-8')\n",
    "data = json.loads(data_stream)\n",
    "print(json.dumps(data, indent=4, ensure_ascii=False))"
   ]
  },
  {
   "cell_type": "code",
   "execution_count": 87,
   "metadata": {
    "ExecuteTime": {
     "end_time": "2022-06-15T13:17:30.903849Z",
     "start_time": "2022-06-15T13:17:30.866267Z"
    }
   },
   "outputs": [
    {
     "data": {
      "text/plain": [
       "True"
      ]
     },
     "execution_count": 87,
     "metadata": {},
     "output_type": "execute_result"
    }
   ],
   "source": [
    "\"\\\"tipo_actuacion\\\": \\\"CONSTITUCION\\\"\" in data_stream[:200]"
   ]
  },
  {
   "cell_type": "markdown",
   "metadata": {},
   "source": [
    "Helper functions"
   ]
  },
  {
   "cell_type": "markdown",
   "metadata": {},
   "source": [
    "## Get all Keys that should be processeed "
   ]
  },
  {
   "cell_type": "code",
   "execution_count": 88,
   "metadata": {
    "ExecuteTime": {
     "end_time": "2022-06-15T13:17:30.998853Z",
     "start_time": "2022-06-15T13:17:30.906734Z"
    }
   },
   "outputs": [],
   "source": [
    "fu = file_utilities()"
   ]
  },
  {
   "cell_type": "code",
   "execution_count": null,
   "metadata": {
    "ExecuteTime": {
     "end_time": "2022-06-15T13:17:31.064637Z",
     "start_time": "2022-06-15T13:17:31.064618Z"
    }
   },
   "outputs": [],
   "source": [
    "all_keys = fu.get_keys_from_prefix(bucket)"
   ]
  },
  {
   "cell_type": "code",
   "execution_count": null,
   "metadata": {
    "ExecuteTime": {
     "end_time": "2022-06-15T13:17:31.066458Z",
     "start_time": "2022-06-15T13:17:31.066433Z"
    }
   },
   "outputs": [],
   "source": [
    "all_keys_set = set([key.split('.')[0] for key in all_keys if 'processed' not in key])"
   ]
  },
  {
   "cell_type": "code",
   "execution_count": null,
   "metadata": {
    "ExecuteTime": {
     "end_time": "2022-06-15T13:17:31.067895Z",
     "start_time": "2022-06-15T13:17:31.067876Z"
    }
   },
   "outputs": [],
   "source": [
    "cve_processed_set = set(cve_processed)"
   ]
  },
  {
   "cell_type": "code",
   "execution_count": null,
   "metadata": {
    "ExecuteTime": {
     "end_time": "2022-06-15T13:17:31.070351Z",
     "start_time": "2022-06-15T13:17:31.070324Z"
    }
   },
   "outputs": [],
   "source": [
    "keys_not_processed = all_keys_set.difference(cve_processed_set)"
   ]
  },
  {
   "cell_type": "code",
   "execution_count": null,
   "metadata": {
    "ExecuteTime": {
     "end_time": "2022-06-15T13:17:31.072554Z",
     "start_time": "2022-06-15T13:17:31.072531Z"
    }
   },
   "outputs": [],
   "source": [
    "keys_not_processed = [str(key) + '.json' for key in keys_not_processed]"
   ]
  },
  {
   "cell_type": "code",
   "execution_count": null,
   "metadata": {
    "ExecuteTime": {
     "end_time": "2022-06-15T13:17:31.077408Z",
     "start_time": "2022-06-15T13:17:31.077378Z"
    }
   },
   "outputs": [],
   "source": [
    "len(keys_not_processed)"
   ]
  },
  {
   "cell_type": "code",
   "execution_count": null,
   "metadata": {
    "ExecuteTime": {
     "end_time": "2022-06-15T13:17:31.079979Z",
     "start_time": "2022-06-15T13:17:31.079935Z"
    }
   },
   "outputs": [],
   "source": [
    "proc = [x for x in keys_not_processed if 'processed' in x]"
   ]
  },
  {
   "cell_type": "code",
   "execution_count": null,
   "metadata": {
    "ExecuteTime": {
     "end_time": "2022-06-15T13:17:31.082658Z",
     "start_time": "2022-06-15T13:17:31.082637Z"
    }
   },
   "outputs": [],
   "source": [
    "assert len(proc) == 0"
   ]
  },
  {
   "cell_type": "markdown",
   "metadata": {},
   "source": [
    "## Intentando Multiprocess"
   ]
  },
  {
   "cell_type": "code",
   "execution_count": 100,
   "metadata": {
    "ExecuteTime": {
     "end_time": "2022-06-14T23:31:01.350490Z",
     "start_time": "2022-06-14T23:31:01.345719Z"
    }
   },
   "outputs": [
    {
     "name": "stdout",
     "output_type": "stream",
     "text": [
      "4\n"
     ]
    }
   ],
   "source": [
    "num_proc = os.cpu_count() #number of processors\n",
    "print(num_proc)"
   ]
  },
  {
   "cell_type": "code",
   "execution_count": 77,
   "metadata": {},
   "outputs": [
    {
     "data": {
      "application/vnd.jupyter.widget-view+json": {
       "model_id": "57381544719e4f2b8c41fef4cc3d8cb9",
       "version_major": 2,
       "version_minor": 0
      },
      "text/plain": [
       "HBox(children=(FloatProgress(value=0.0, max=1000.0), HTML(value='')))"
      ]
     },
     "metadata": {},
     "output_type": "display_data"
    },
    {
     "data": {
      "application/vnd.jupyter.widget-view+json": {
       "model_id": "6b2ceb3870cc405bb99121431581ddb9",
       "version_major": 2,
       "version_minor": 0
      },
      "text/plain": [
       "HBox(children=(FloatProgress(value=0.0, max=1000.0), HTML(value='')))"
      ]
     },
     "metadata": {},
     "output_type": "display_data"
    }
   ],
   "source": [
    "progress_bar = tqdm(total=len(keys_not_processed[:1000]))\n",
    "df_list = get_dflist_multiprocess(keys_not_processed[:1000], progress_bar, num_proc=num_proc) #collect dataframes for each file\n"
   ]
  },
  {
   "cell_type": "code",
   "execution_count": 78,
   "metadata": {},
   "outputs": [
    {
     "data": {
      "text/plain": [
       "[]"
      ]
     },
     "execution_count": 78,
     "metadata": {},
     "output_type": "execute_result"
    }
   ],
   "source": [
    "[x for x in df_list if x is not None]"
   ]
  },
  {
   "cell_type": "markdown",
   "metadata": {},
   "source": [
    "## Proceso normal "
   ]
  },
  {
   "cell_type": "markdown",
   "metadata": {},
   "source": [
    "El loop principal que recorre todos los archivos\n",
    "\n",
    "**Tarda 12 horas en procesar toda la carpeta**"
   ]
  },
  {
   "cell_type": "code",
   "execution_count": null,
   "metadata": {
    "ExecuteTime": {
     "start_time": "2022-06-15T13:40:48.521Z"
    },
    "scrolled": true
   },
   "outputs": [
    {
     "data": {
      "application/vnd.jupyter.widget-view+json": {
       "model_id": "bd5e392d856545c5b50c76f49ddebafd",
       "version_major": 2,
       "version_minor": 0
      },
      "text/plain": [
       "HBox(children=(HTML(value=''), FloatProgress(value=0.0, max=222502.0), HTML(value='')))"
      ]
     },
     "metadata": {},
     "output_type": "display_data"
    },
    {
     "name": "stdout",
     "output_type": "stream",
     "text": [
      "5000 / Processed: 4994 | Not Processed: 6 | Sample ACsC7n1517WM.json | Total Failed: 6\n",
      "10000 / Processed: 9991 | Not Processed: 9 | Sample ACsC7n1517WM.json | Total Failed: 9\n",
      "15000 / Processed: 14979 | Not Processed: 21 | Sample ACsC7n1517WM.json | Total Failed: 21\n",
      "20000 / Processed: 19976 | Not Processed: 24 | Sample ACsC7n1517WM.json | Total Failed: 24\n",
      "25000 / Processed: 24969 | Not Processed: 31 | Sample ACsC7n1517WM.json | Total Failed: 31\n",
      "30000 / Processed: 29964 | Not Processed: 36 | Sample ACsC7n1517WM.json | Total Failed: 36\n",
      "35000 / Processed: 34959 | Not Processed: 41 | Sample ACsC7n1517WM.json | Total Failed: 41\n"
     ]
    }
   ],
   "source": [
    "\n",
    "LIMIT = 1 # early stopping for debugging purposes\n",
    "i = 0 # pages\n",
    "j = 0 # constituciones\n",
    "k = 0\n",
    "output = []\n",
    "failed_cve = []\n",
    "\n",
    "for key in tqdm(keys_not_processed):\n",
    "    i = i + 1\n",
    "\n",
    "    # Read data\n",
    "    data_stream = s3.get_object(Bucket=bucket,Key=key)['Body'].read().decode('utf-8')\n",
    "    try:\n",
    "        data = json.loads(data_stream)\n",
    "        dictout = get_data_study(data)\n",
    "        output.append(dictout)\n",
    "        j = j + 1\n",
    "    except:\n",
    "        k = k + 1\n",
    "        failed_cve.append(key)\n",
    "\n",
    "    if i % 5000 == 0:\n",
    "        try:\n",
    "            a = failed_cve[0]\n",
    "        except:\n",
    "            a = ''\n",
    "        print(i, '/ Processed:', j, '| Not Processed:', k, '| Sample', a, \n",
    "          '| Total Failed:', len(failed_cve))\n",
    "\n",
    "    #if i >= LIMIT:\n",
    "    #    break"
   ]
  },
  {
   "cell_type": "code",
   "execution_count": 99,
   "metadata": {
    "ExecuteTime": {
     "end_time": "2022-06-15T13:39:24.162215Z",
     "start_time": "2022-06-15T13:39:24.105182Z"
    }
   },
   "outputs": [
    {
     "data": {
      "text/html": [
       "<div>\n",
       "<style scoped>\n",
       "    .dataframe tbody tr th:only-of-type {\n",
       "        vertical-align: middle;\n",
       "    }\n",
       "\n",
       "    .dataframe tbody tr th {\n",
       "        vertical-align: top;\n",
       "    }\n",
       "\n",
       "    .dataframe thead th {\n",
       "        text-align: right;\n",
       "    }\n",
       "</style>\n",
       "<table border=\"1\" class=\"dataframe\">\n",
       "  <thead>\n",
       "    <tr style=\"text-align: right;\">\n",
       "      <th></th>\n",
       "      <th>rut</th>\n",
       "      <th>cve</th>\n",
       "      <th>fecha</th>\n",
       "      <th>actuacion</th>\n",
       "      <th>lugar</th>\n",
       "      <th>tipo_sociedad</th>\n",
       "      <th>objeto</th>\n",
       "      <th>firmas</th>\n",
       "    </tr>\n",
       "  </thead>\n",
       "  <tbody>\n",
       "    <tr>\n",
       "      <th>0</th>\n",
       "      <td>76503991-6</td>\n",
       "      <td>ACO0GXJnDTVe</td>\n",
       "      <td>2016-11-07</td>\n",
       "      <td>MODIFICACION</td>\n",
       "      <td>None</td>\n",
       "      <td>None</td>\n",
       "      <td>None</td>\n",
       "      <td>None</td>\n",
       "    </tr>\n",
       "    <tr>\n",
       "      <th>1</th>\n",
       "      <td>76562099-6</td>\n",
       "      <td>ACDXQGePMB0v</td>\n",
       "      <td>2017-05-12</td>\n",
       "      <td>MODIFICACION</td>\n",
       "      <td>None</td>\n",
       "      <td>None</td>\n",
       "      <td>None</td>\n",
       "      <td>None</td>\n",
       "    </tr>\n",
       "    <tr>\n",
       "      <th>2</th>\n",
       "      <td>77211978-K</td>\n",
       "      <td>ACcS2XsEmQgC</td>\n",
       "      <td>2021-08-20</td>\n",
       "      <td>MODIFICACION</td>\n",
       "      <td>None</td>\n",
       "      <td>None</td>\n",
       "      <td>None</td>\n",
       "      <td>None</td>\n",
       "    </tr>\n",
       "    <tr>\n",
       "      <th>3</th>\n",
       "      <td>76375118-K</td>\n",
       "      <td>ACriiIqPeht6</td>\n",
       "      <td>2014-08-11</td>\n",
       "      <td>MODIFICACION</td>\n",
       "      <td>None</td>\n",
       "      <td>None</td>\n",
       "      <td>None</td>\n",
       "      <td>None</td>\n",
       "    </tr>\n",
       "    <tr>\n",
       "      <th>4</th>\n",
       "      <td>76342855-9</td>\n",
       "      <td>ACzC1vgrKsPV</td>\n",
       "      <td>2017-12-18</td>\n",
       "      <td>MODIFICACION</td>\n",
       "      <td>None</td>\n",
       "      <td>None</td>\n",
       "      <td>None</td>\n",
       "      <td>None</td>\n",
       "    </tr>\n",
       "  </tbody>\n",
       "</table>\n",
       "</div>"
      ],
      "text/plain": [
       "          rut           cve       fecha     actuacion lugar tipo_sociedad  \\\n",
       "0  76503991-6  ACO0GXJnDTVe  2016-11-07  MODIFICACION  None          None   \n",
       "1  76562099-6  ACDXQGePMB0v  2017-05-12  MODIFICACION  None          None   \n",
       "2  77211978-K  ACcS2XsEmQgC  2021-08-20  MODIFICACION  None          None   \n",
       "3  76375118-K  ACriiIqPeht6  2014-08-11  MODIFICACION  None          None   \n",
       "4  76342855-9  ACzC1vgrKsPV  2017-12-18  MODIFICACION  None          None   \n",
       "\n",
       "  objeto firmas  \n",
       "0   None   None  \n",
       "1   None   None  \n",
       "2   None   None  \n",
       "3   None   None  \n",
       "4   None   None  "
      ]
     },
     "execution_count": 99,
     "metadata": {},
     "output_type": "execute_result"
    }
   ],
   "source": [
    "df = pd.DataFrame(output)\n",
    "df.head()"
   ]
  },
  {
   "cell_type": "code",
   "execution_count": 100,
   "metadata": {
    "ExecuteTime": {
     "end_time": "2022-06-15T13:39:27.811240Z",
     "start_time": "2022-06-15T13:39:27.770598Z"
    }
   },
   "outputs": [
    {
     "data": {
      "text/plain": [
       "(217, 8)"
      ]
     },
     "execution_count": 100,
     "metadata": {},
     "output_type": "execute_result"
    }
   ],
   "source": [
    "df.shape"
   ]
  },
  {
   "cell_type": "code",
   "execution_count": 109,
   "metadata": {
    "ExecuteTime": {
     "end_time": "2022-06-15T11:01:13.363118Z",
     "start_time": "2022-06-15T11:01:13.348165Z"
    }
   },
   "outputs": [
    {
     "data": {
      "text/plain": [
       "Series([], dtype: object)"
      ]
     },
     "execution_count": 109,
     "metadata": {},
     "output_type": "execute_result"
    }
   ],
   "source": [
    "df.dtypes"
   ]
  },
  {
   "cell_type": "markdown",
   "metadata": {},
   "source": [
    "## Transform "
   ]
  },
  {
   "cell_type": "markdown",
   "metadata": {},
   "source": [
    "Campo fecha"
   ]
  },
  {
   "cell_type": "code",
   "execution_count": 106,
   "metadata": {
    "ExecuteTime": {
     "end_time": "2022-06-15T07:18:36.660227Z",
     "start_time": "2022-06-15T07:18:34.609633Z"
    },
    "scrolled": true
   },
   "outputs": [
    {
     "ename": "KeyError",
     "evalue": "'fecha'",
     "output_type": "error",
     "traceback": [
      "\u001b[0;31m---------------------------------------------------------------------------\u001b[0m",
      "\u001b[0;31mKeyError\u001b[0m                                  Traceback (most recent call last)",
      "File \u001b[0;32m~/opt/anaconda3/lib/python3.8/site-packages/pandas/core/indexes/base.py:3621\u001b[0m, in \u001b[0;36mIndex.get_loc\u001b[0;34m(self, key, method, tolerance)\u001b[0m\n\u001b[1;32m   3620\u001b[0m \u001b[38;5;28;01mtry\u001b[39;00m:\n\u001b[0;32m-> 3621\u001b[0m     \u001b[38;5;28;01mreturn\u001b[39;00m \u001b[38;5;28;43mself\u001b[39;49m\u001b[38;5;241;43m.\u001b[39;49m\u001b[43m_engine\u001b[49m\u001b[38;5;241;43m.\u001b[39;49m\u001b[43mget_loc\u001b[49m\u001b[43m(\u001b[49m\u001b[43mcasted_key\u001b[49m\u001b[43m)\u001b[49m\n\u001b[1;32m   3622\u001b[0m \u001b[38;5;28;01mexcept\u001b[39;00m \u001b[38;5;167;01mKeyError\u001b[39;00m \u001b[38;5;28;01mas\u001b[39;00m err:\n",
      "File \u001b[0;32mpandas/_libs/index.pyx:136\u001b[0m, in \u001b[0;36mpandas._libs.index.IndexEngine.get_loc\u001b[0;34m()\u001b[0m\n",
      "File \u001b[0;32mpandas/_libs/index.pyx:163\u001b[0m, in \u001b[0;36mpandas._libs.index.IndexEngine.get_loc\u001b[0;34m()\u001b[0m\n",
      "File \u001b[0;32mpandas/_libs/hashtable_class_helper.pxi:5198\u001b[0m, in \u001b[0;36mpandas._libs.hashtable.PyObjectHashTable.get_item\u001b[0;34m()\u001b[0m\n",
      "File \u001b[0;32mpandas/_libs/hashtable_class_helper.pxi:5206\u001b[0m, in \u001b[0;36mpandas._libs.hashtable.PyObjectHashTable.get_item\u001b[0;34m()\u001b[0m\n",
      "\u001b[0;31mKeyError\u001b[0m: 'fecha'",
      "\nThe above exception was the direct cause of the following exception:\n",
      "\u001b[0;31mKeyError\u001b[0m                                  Traceback (most recent call last)",
      "Input \u001b[0;32mIn [106]\u001b[0m, in \u001b[0;36m<cell line: 1>\u001b[0;34m()\u001b[0m\n\u001b[0;32m----> 1\u001b[0m df[\u001b[38;5;124m'\u001b[39m\u001b[38;5;124mfecha\u001b[39m\u001b[38;5;124m'\u001b[39m] \u001b[38;5;241m=\u001b[39m pd\u001b[38;5;241m.\u001b[39mto_datetime(\u001b[43mdf\u001b[49m\u001b[43m[\u001b[49m\u001b[38;5;124;43m'\u001b[39;49m\u001b[38;5;124;43mfecha\u001b[39;49m\u001b[38;5;124;43m'\u001b[39;49m\u001b[43m]\u001b[49m, \u001b[38;5;28mformat\u001b[39m\u001b[38;5;241m=\u001b[39m\u001b[38;5;124m\"\u001b[39m\u001b[38;5;124m%\u001b[39m\u001b[38;5;124mY-\u001b[39m\u001b[38;5;124m%\u001b[39m\u001b[38;5;124mm-\u001b[39m\u001b[38;5;132;01m%d\u001b[39;00m\u001b[38;5;124m\"\u001b[39m)\n",
      "File \u001b[0;32m~/opt/anaconda3/lib/python3.8/site-packages/pandas/core/frame.py:3505\u001b[0m, in \u001b[0;36mDataFrame.__getitem__\u001b[0;34m(self, key)\u001b[0m\n\u001b[1;32m   3503\u001b[0m \u001b[38;5;28;01mif\u001b[39;00m \u001b[38;5;28mself\u001b[39m\u001b[38;5;241m.\u001b[39mcolumns\u001b[38;5;241m.\u001b[39mnlevels \u001b[38;5;241m>\u001b[39m \u001b[38;5;241m1\u001b[39m:\n\u001b[1;32m   3504\u001b[0m     \u001b[38;5;28;01mreturn\u001b[39;00m \u001b[38;5;28mself\u001b[39m\u001b[38;5;241m.\u001b[39m_getitem_multilevel(key)\n\u001b[0;32m-> 3505\u001b[0m indexer \u001b[38;5;241m=\u001b[39m \u001b[38;5;28;43mself\u001b[39;49m\u001b[38;5;241;43m.\u001b[39;49m\u001b[43mcolumns\u001b[49m\u001b[38;5;241;43m.\u001b[39;49m\u001b[43mget_loc\u001b[49m\u001b[43m(\u001b[49m\u001b[43mkey\u001b[49m\u001b[43m)\u001b[49m\n\u001b[1;32m   3506\u001b[0m \u001b[38;5;28;01mif\u001b[39;00m is_integer(indexer):\n\u001b[1;32m   3507\u001b[0m     indexer \u001b[38;5;241m=\u001b[39m [indexer]\n",
      "File \u001b[0;32m~/opt/anaconda3/lib/python3.8/site-packages/pandas/core/indexes/base.py:3623\u001b[0m, in \u001b[0;36mIndex.get_loc\u001b[0;34m(self, key, method, tolerance)\u001b[0m\n\u001b[1;32m   3621\u001b[0m     \u001b[38;5;28;01mreturn\u001b[39;00m \u001b[38;5;28mself\u001b[39m\u001b[38;5;241m.\u001b[39m_engine\u001b[38;5;241m.\u001b[39mget_loc(casted_key)\n\u001b[1;32m   3622\u001b[0m \u001b[38;5;28;01mexcept\u001b[39;00m \u001b[38;5;167;01mKeyError\u001b[39;00m \u001b[38;5;28;01mas\u001b[39;00m err:\n\u001b[0;32m-> 3623\u001b[0m     \u001b[38;5;28;01mraise\u001b[39;00m \u001b[38;5;167;01mKeyError\u001b[39;00m(key) \u001b[38;5;28;01mfrom\u001b[39;00m \u001b[38;5;21;01merr\u001b[39;00m\n\u001b[1;32m   3624\u001b[0m \u001b[38;5;28;01mexcept\u001b[39;00m \u001b[38;5;167;01mTypeError\u001b[39;00m:\n\u001b[1;32m   3625\u001b[0m     \u001b[38;5;66;03m# If we have a listlike key, _check_indexing_error will raise\u001b[39;00m\n\u001b[1;32m   3626\u001b[0m     \u001b[38;5;66;03m#  InvalidIndexError. Otherwise we fall through and re-raise\u001b[39;00m\n\u001b[1;32m   3627\u001b[0m     \u001b[38;5;66;03m#  the TypeError.\u001b[39;00m\n\u001b[1;32m   3628\u001b[0m     \u001b[38;5;28mself\u001b[39m\u001b[38;5;241m.\u001b[39m_check_indexing_error(key)\n",
      "\u001b[0;31mKeyError\u001b[0m: 'fecha'"
     ]
    }
   ],
   "source": [
    "df['fecha'] = pd.to_datetime(df['fecha'], format=\"%Y-%m-%d\")"
   ]
  },
  {
   "cell_type": "code",
   "execution_count": null,
   "metadata": {
    "ExecuteTime": {
     "end_time": "2022-06-15T07:18:36.662932Z",
     "start_time": "2022-06-15T07:18:36.662901Z"
    }
   },
   "outputs": [],
   "source": [
    "df['year'] = df['fecha'].dt.year\n",
    "df['month'] = df['fecha'].dt.month"
   ]
  },
  {
   "cell_type": "code",
   "execution_count": null,
   "metadata": {
    "ExecuteTime": {
     "end_time": "2022-06-15T07:18:36.666837Z",
     "start_time": "2022-06-15T07:18:36.666783Z"
    }
   },
   "outputs": [],
   "source": [
    "df.head()"
   ]
  },
  {
   "cell_type": "markdown",
   "metadata": {},
   "source": [
    "## Load "
   ]
  },
  {
   "cell_type": "markdown",
   "metadata": {},
   "source": [
    "En formato Apache Parquet"
   ]
  },
  {
   "cell_type": "code",
   "execution_count": 21,
   "metadata": {},
   "outputs": [
    {
     "data": {
      "text/plain": [
       "{'paths': ['s3://legalres-storage-study-json/processed/year=2013/month=5/275de328138f41dfb2cbd75ced977514.snappy.parquet',\n",
       "  's3://legalres-storage-study-json/processed/year=2013/month=7/275de328138f41dfb2cbd75ced977514.snappy.parquet',\n",
       "  's3://legalres-storage-study-json/processed/year=2013/month=8/275de328138f41dfb2cbd75ced977514.snappy.parquet',\n",
       "  's3://legalres-storage-study-json/processed/year=2013/month=10/275de328138f41dfb2cbd75ced977514.snappy.parquet',\n",
       "  's3://legalres-storage-study-json/processed/year=2013/month=11/275de328138f41dfb2cbd75ced977514.snappy.parquet',\n",
       "  's3://legalres-storage-study-json/processed/year=2013/month=12/275de328138f41dfb2cbd75ced977514.snappy.parquet',\n",
       "  's3://legalres-storage-study-json/processed/year=2014/month=1/275de328138f41dfb2cbd75ced977514.snappy.parquet',\n",
       "  's3://legalres-storage-study-json/processed/year=2014/month=2/275de328138f41dfb2cbd75ced977514.snappy.parquet',\n",
       "  's3://legalres-storage-study-json/processed/year=2014/month=3/275de328138f41dfb2cbd75ced977514.snappy.parquet',\n",
       "  's3://legalres-storage-study-json/processed/year=2014/month=4/275de328138f41dfb2cbd75ced977514.snappy.parquet',\n",
       "  's3://legalres-storage-study-json/processed/year=2014/month=5/275de328138f41dfb2cbd75ced977514.snappy.parquet',\n",
       "  's3://legalres-storage-study-json/processed/year=2014/month=6/275de328138f41dfb2cbd75ced977514.snappy.parquet',\n",
       "  's3://legalres-storage-study-json/processed/year=2014/month=7/275de328138f41dfb2cbd75ced977514.snappy.parquet',\n",
       "  's3://legalres-storage-study-json/processed/year=2014/month=8/275de328138f41dfb2cbd75ced977514.snappy.parquet',\n",
       "  's3://legalres-storage-study-json/processed/year=2014/month=9/275de328138f41dfb2cbd75ced977514.snappy.parquet',\n",
       "  's3://legalres-storage-study-json/processed/year=2014/month=10/275de328138f41dfb2cbd75ced977514.snappy.parquet',\n",
       "  's3://legalres-storage-study-json/processed/year=2014/month=11/275de328138f41dfb2cbd75ced977514.snappy.parquet',\n",
       "  's3://legalres-storage-study-json/processed/year=2014/month=12/275de328138f41dfb2cbd75ced977514.snappy.parquet',\n",
       "  's3://legalres-storage-study-json/processed/year=2015/month=1/275de328138f41dfb2cbd75ced977514.snappy.parquet',\n",
       "  's3://legalres-storage-study-json/processed/year=2015/month=2/275de328138f41dfb2cbd75ced977514.snappy.parquet',\n",
       "  's3://legalres-storage-study-json/processed/year=2015/month=3/275de328138f41dfb2cbd75ced977514.snappy.parquet',\n",
       "  's3://legalres-storage-study-json/processed/year=2015/month=4/275de328138f41dfb2cbd75ced977514.snappy.parquet',\n",
       "  's3://legalres-storage-study-json/processed/year=2015/month=5/275de328138f41dfb2cbd75ced977514.snappy.parquet',\n",
       "  's3://legalres-storage-study-json/processed/year=2015/month=6/275de328138f41dfb2cbd75ced977514.snappy.parquet',\n",
       "  's3://legalres-storage-study-json/processed/year=2015/month=7/275de328138f41dfb2cbd75ced977514.snappy.parquet',\n",
       "  's3://legalres-storage-study-json/processed/year=2015/month=8/275de328138f41dfb2cbd75ced977514.snappy.parquet',\n",
       "  's3://legalres-storage-study-json/processed/year=2015/month=9/275de328138f41dfb2cbd75ced977514.snappy.parquet',\n",
       "  's3://legalres-storage-study-json/processed/year=2015/month=10/275de328138f41dfb2cbd75ced977514.snappy.parquet',\n",
       "  's3://legalres-storage-study-json/processed/year=2015/month=11/275de328138f41dfb2cbd75ced977514.snappy.parquet',\n",
       "  's3://legalres-storage-study-json/processed/year=2015/month=12/275de328138f41dfb2cbd75ced977514.snappy.parquet',\n",
       "  's3://legalres-storage-study-json/processed/year=2016/month=1/275de328138f41dfb2cbd75ced977514.snappy.parquet',\n",
       "  's3://legalres-storage-study-json/processed/year=2016/month=2/275de328138f41dfb2cbd75ced977514.snappy.parquet',\n",
       "  's3://legalres-storage-study-json/processed/year=2016/month=3/275de328138f41dfb2cbd75ced977514.snappy.parquet',\n",
       "  's3://legalres-storage-study-json/processed/year=2016/month=4/275de328138f41dfb2cbd75ced977514.snappy.parquet',\n",
       "  's3://legalres-storage-study-json/processed/year=2016/month=5/275de328138f41dfb2cbd75ced977514.snappy.parquet',\n",
       "  's3://legalres-storage-study-json/processed/year=2016/month=6/275de328138f41dfb2cbd75ced977514.snappy.parquet',\n",
       "  's3://legalres-storage-study-json/processed/year=2016/month=7/275de328138f41dfb2cbd75ced977514.snappy.parquet',\n",
       "  's3://legalres-storage-study-json/processed/year=2016/month=8/275de328138f41dfb2cbd75ced977514.snappy.parquet',\n",
       "  's3://legalres-storage-study-json/processed/year=2016/month=9/275de328138f41dfb2cbd75ced977514.snappy.parquet',\n",
       "  's3://legalres-storage-study-json/processed/year=2016/month=10/275de328138f41dfb2cbd75ced977514.snappy.parquet',\n",
       "  's3://legalres-storage-study-json/processed/year=2016/month=11/275de328138f41dfb2cbd75ced977514.snappy.parquet',\n",
       "  's3://legalres-storage-study-json/processed/year=2016/month=12/275de328138f41dfb2cbd75ced977514.snappy.parquet',\n",
       "  's3://legalres-storage-study-json/processed/year=2017/month=1/275de328138f41dfb2cbd75ced977514.snappy.parquet',\n",
       "  's3://legalres-storage-study-json/processed/year=2017/month=2/275de328138f41dfb2cbd75ced977514.snappy.parquet',\n",
       "  's3://legalres-storage-study-json/processed/year=2017/month=3/275de328138f41dfb2cbd75ced977514.snappy.parquet',\n",
       "  's3://legalres-storage-study-json/processed/year=2017/month=4/275de328138f41dfb2cbd75ced977514.snappy.parquet',\n",
       "  's3://legalres-storage-study-json/processed/year=2017/month=5/275de328138f41dfb2cbd75ced977514.snappy.parquet',\n",
       "  's3://legalres-storage-study-json/processed/year=2017/month=6/275de328138f41dfb2cbd75ced977514.snappy.parquet',\n",
       "  's3://legalres-storage-study-json/processed/year=2017/month=7/275de328138f41dfb2cbd75ced977514.snappy.parquet',\n",
       "  's3://legalres-storage-study-json/processed/year=2017/month=8/275de328138f41dfb2cbd75ced977514.snappy.parquet',\n",
       "  's3://legalres-storage-study-json/processed/year=2017/month=9/275de328138f41dfb2cbd75ced977514.snappy.parquet',\n",
       "  's3://legalres-storage-study-json/processed/year=2017/month=10/275de328138f41dfb2cbd75ced977514.snappy.parquet',\n",
       "  's3://legalres-storage-study-json/processed/year=2017/month=11/275de328138f41dfb2cbd75ced977514.snappy.parquet',\n",
       "  's3://legalres-storage-study-json/processed/year=2017/month=12/275de328138f41dfb2cbd75ced977514.snappy.parquet',\n",
       "  's3://legalres-storage-study-json/processed/year=2018/month=1/275de328138f41dfb2cbd75ced977514.snappy.parquet',\n",
       "  's3://legalres-storage-study-json/processed/year=2018/month=2/275de328138f41dfb2cbd75ced977514.snappy.parquet',\n",
       "  's3://legalres-storage-study-json/processed/year=2018/month=3/275de328138f41dfb2cbd75ced977514.snappy.parquet',\n",
       "  's3://legalres-storage-study-json/processed/year=2018/month=4/275de328138f41dfb2cbd75ced977514.snappy.parquet',\n",
       "  's3://legalres-storage-study-json/processed/year=2018/month=5/275de328138f41dfb2cbd75ced977514.snappy.parquet',\n",
       "  's3://legalres-storage-study-json/processed/year=2018/month=6/275de328138f41dfb2cbd75ced977514.snappy.parquet',\n",
       "  's3://legalres-storage-study-json/processed/year=2018/month=7/275de328138f41dfb2cbd75ced977514.snappy.parquet',\n",
       "  's3://legalres-storage-study-json/processed/year=2018/month=8/275de328138f41dfb2cbd75ced977514.snappy.parquet',\n",
       "  's3://legalres-storage-study-json/processed/year=2018/month=9/275de328138f41dfb2cbd75ced977514.snappy.parquet',\n",
       "  's3://legalres-storage-study-json/processed/year=2018/month=10/275de328138f41dfb2cbd75ced977514.snappy.parquet',\n",
       "  's3://legalres-storage-study-json/processed/year=2018/month=11/275de328138f41dfb2cbd75ced977514.snappy.parquet',\n",
       "  's3://legalres-storage-study-json/processed/year=2018/month=12/275de328138f41dfb2cbd75ced977514.snappy.parquet',\n",
       "  's3://legalres-storage-study-json/processed/year=2019/month=1/275de328138f41dfb2cbd75ced977514.snappy.parquet',\n",
       "  's3://legalres-storage-study-json/processed/year=2019/month=2/275de328138f41dfb2cbd75ced977514.snappy.parquet',\n",
       "  's3://legalres-storage-study-json/processed/year=2019/month=3/275de328138f41dfb2cbd75ced977514.snappy.parquet',\n",
       "  's3://legalres-storage-study-json/processed/year=2019/month=4/275de328138f41dfb2cbd75ced977514.snappy.parquet',\n",
       "  's3://legalres-storage-study-json/processed/year=2019/month=5/275de328138f41dfb2cbd75ced977514.snappy.parquet',\n",
       "  's3://legalres-storage-study-json/processed/year=2019/month=6/275de328138f41dfb2cbd75ced977514.snappy.parquet',\n",
       "  's3://legalres-storage-study-json/processed/year=2019/month=7/275de328138f41dfb2cbd75ced977514.snappy.parquet',\n",
       "  's3://legalres-storage-study-json/processed/year=2019/month=8/275de328138f41dfb2cbd75ced977514.snappy.parquet',\n",
       "  's3://legalres-storage-study-json/processed/year=2019/month=9/275de328138f41dfb2cbd75ced977514.snappy.parquet',\n",
       "  's3://legalres-storage-study-json/processed/year=2019/month=10/275de328138f41dfb2cbd75ced977514.snappy.parquet',\n",
       "  's3://legalres-storage-study-json/processed/year=2019/month=11/275de328138f41dfb2cbd75ced977514.snappy.parquet',\n",
       "  's3://legalres-storage-study-json/processed/year=2019/month=12/275de328138f41dfb2cbd75ced977514.snappy.parquet',\n",
       "  's3://legalres-storage-study-json/processed/year=2020/month=1/275de328138f41dfb2cbd75ced977514.snappy.parquet',\n",
       "  's3://legalres-storage-study-json/processed/year=2020/month=2/275de328138f41dfb2cbd75ced977514.snappy.parquet',\n",
       "  's3://legalres-storage-study-json/processed/year=2020/month=3/275de328138f41dfb2cbd75ced977514.snappy.parquet',\n",
       "  's3://legalres-storage-study-json/processed/year=2020/month=4/275de328138f41dfb2cbd75ced977514.snappy.parquet',\n",
       "  's3://legalres-storage-study-json/processed/year=2020/month=5/275de328138f41dfb2cbd75ced977514.snappy.parquet',\n",
       "  's3://legalres-storage-study-json/processed/year=2020/month=6/275de328138f41dfb2cbd75ced977514.snappy.parquet',\n",
       "  's3://legalres-storage-study-json/processed/year=2020/month=7/275de328138f41dfb2cbd75ced977514.snappy.parquet',\n",
       "  's3://legalres-storage-study-json/processed/year=2020/month=8/275de328138f41dfb2cbd75ced977514.snappy.parquet',\n",
       "  's3://legalres-storage-study-json/processed/year=2020/month=9/275de328138f41dfb2cbd75ced977514.snappy.parquet',\n",
       "  's3://legalres-storage-study-json/processed/year=2020/month=10/275de328138f41dfb2cbd75ced977514.snappy.parquet',\n",
       "  's3://legalres-storage-study-json/processed/year=2020/month=11/275de328138f41dfb2cbd75ced977514.snappy.parquet',\n",
       "  's3://legalres-storage-study-json/processed/year=2020/month=12/275de328138f41dfb2cbd75ced977514.snappy.parquet',\n",
       "  's3://legalres-storage-study-json/processed/year=2021/month=1/275de328138f41dfb2cbd75ced977514.snappy.parquet',\n",
       "  's3://legalres-storage-study-json/processed/year=2021/month=2/275de328138f41dfb2cbd75ced977514.snappy.parquet',\n",
       "  's3://legalres-storage-study-json/processed/year=2021/month=3/275de328138f41dfb2cbd75ced977514.snappy.parquet',\n",
       "  's3://legalres-storage-study-json/processed/year=2021/month=4/275de328138f41dfb2cbd75ced977514.snappy.parquet',\n",
       "  's3://legalres-storage-study-json/processed/year=2021/month=5/275de328138f41dfb2cbd75ced977514.snappy.parquet',\n",
       "  's3://legalres-storage-study-json/processed/year=2021/month=6/275de328138f41dfb2cbd75ced977514.snappy.parquet',\n",
       "  's3://legalres-storage-study-json/processed/year=2021/month=7/275de328138f41dfb2cbd75ced977514.snappy.parquet',\n",
       "  's3://legalres-storage-study-json/processed/year=2021/month=8/275de328138f41dfb2cbd75ced977514.snappy.parquet',\n",
       "  's3://legalres-storage-study-json/processed/year=2021/month=9/275de328138f41dfb2cbd75ced977514.snappy.parquet',\n",
       "  's3://legalres-storage-study-json/processed/year=2021/month=10/275de328138f41dfb2cbd75ced977514.snappy.parquet',\n",
       "  's3://legalres-storage-study-json/processed/year=2021/month=11/275de328138f41dfb2cbd75ced977514.snappy.parquet',\n",
       "  's3://legalres-storage-study-json/processed/year=2021/month=12/275de328138f41dfb2cbd75ced977514.snappy.parquet',\n",
       "  's3://legalres-storage-study-json/processed/year=2022/month=1/275de328138f41dfb2cbd75ced977514.snappy.parquet',\n",
       "  's3://legalres-storage-study-json/processed/year=2022/month=2/275de328138f41dfb2cbd75ced977514.snappy.parquet',\n",
       "  's3://legalres-storage-study-json/processed/year=2022/month=3/275de328138f41dfb2cbd75ced977514.snappy.parquet',\n",
       "  's3://legalres-storage-study-json/processed/year=2022/month=4/275de328138f41dfb2cbd75ced977514.snappy.parquet',\n",
       "  's3://legalres-storage-study-json/processed/year=2022/month=5/275de328138f41dfb2cbd75ced977514.snappy.parquet'],\n",
       " 'partitions_values': {'s3://legalres-storage-study-json/processed/year=2013/month=5/': ['2013',\n",
       "   '5'],\n",
       "  's3://legalres-storage-study-json/processed/year=2013/month=7/': ['2013',\n",
       "   '7'],\n",
       "  's3://legalres-storage-study-json/processed/year=2013/month=8/': ['2013',\n",
       "   '8'],\n",
       "  's3://legalres-storage-study-json/processed/year=2013/month=10/': ['2013',\n",
       "   '10'],\n",
       "  's3://legalres-storage-study-json/processed/year=2013/month=11/': ['2013',\n",
       "   '11'],\n",
       "  's3://legalres-storage-study-json/processed/year=2013/month=12/': ['2013',\n",
       "   '12'],\n",
       "  's3://legalres-storage-study-json/processed/year=2014/month=1/': ['2014',\n",
       "   '1'],\n",
       "  's3://legalres-storage-study-json/processed/year=2014/month=2/': ['2014',\n",
       "   '2'],\n",
       "  's3://legalres-storage-study-json/processed/year=2014/month=3/': ['2014',\n",
       "   '3'],\n",
       "  's3://legalres-storage-study-json/processed/year=2014/month=4/': ['2014',\n",
       "   '4'],\n",
       "  's3://legalres-storage-study-json/processed/year=2014/month=5/': ['2014',\n",
       "   '5'],\n",
       "  's3://legalres-storage-study-json/processed/year=2014/month=6/': ['2014',\n",
       "   '6'],\n",
       "  's3://legalres-storage-study-json/processed/year=2014/month=7/': ['2014',\n",
       "   '7'],\n",
       "  's3://legalres-storage-study-json/processed/year=2014/month=8/': ['2014',\n",
       "   '8'],\n",
       "  's3://legalres-storage-study-json/processed/year=2014/month=9/': ['2014',\n",
       "   '9'],\n",
       "  's3://legalres-storage-study-json/processed/year=2014/month=10/': ['2014',\n",
       "   '10'],\n",
       "  's3://legalres-storage-study-json/processed/year=2014/month=11/': ['2014',\n",
       "   '11'],\n",
       "  's3://legalres-storage-study-json/processed/year=2014/month=12/': ['2014',\n",
       "   '12'],\n",
       "  's3://legalres-storage-study-json/processed/year=2015/month=1/': ['2015',\n",
       "   '1'],\n",
       "  's3://legalres-storage-study-json/processed/year=2015/month=2/': ['2015',\n",
       "   '2'],\n",
       "  's3://legalres-storage-study-json/processed/year=2015/month=3/': ['2015',\n",
       "   '3'],\n",
       "  's3://legalres-storage-study-json/processed/year=2015/month=4/': ['2015',\n",
       "   '4'],\n",
       "  's3://legalres-storage-study-json/processed/year=2015/month=5/': ['2015',\n",
       "   '5'],\n",
       "  's3://legalres-storage-study-json/processed/year=2015/month=6/': ['2015',\n",
       "   '6'],\n",
       "  's3://legalres-storage-study-json/processed/year=2015/month=7/': ['2015',\n",
       "   '7'],\n",
       "  's3://legalres-storage-study-json/processed/year=2015/month=8/': ['2015',\n",
       "   '8'],\n",
       "  's3://legalres-storage-study-json/processed/year=2015/month=9/': ['2015',\n",
       "   '9'],\n",
       "  's3://legalres-storage-study-json/processed/year=2015/month=10/': ['2015',\n",
       "   '10'],\n",
       "  's3://legalres-storage-study-json/processed/year=2015/month=11/': ['2015',\n",
       "   '11'],\n",
       "  's3://legalres-storage-study-json/processed/year=2015/month=12/': ['2015',\n",
       "   '12'],\n",
       "  's3://legalres-storage-study-json/processed/year=2016/month=1/': ['2016',\n",
       "   '1'],\n",
       "  's3://legalres-storage-study-json/processed/year=2016/month=2/': ['2016',\n",
       "   '2'],\n",
       "  's3://legalres-storage-study-json/processed/year=2016/month=3/': ['2016',\n",
       "   '3'],\n",
       "  's3://legalres-storage-study-json/processed/year=2016/month=4/': ['2016',\n",
       "   '4'],\n",
       "  's3://legalres-storage-study-json/processed/year=2016/month=5/': ['2016',\n",
       "   '5'],\n",
       "  's3://legalres-storage-study-json/processed/year=2016/month=6/': ['2016',\n",
       "   '6'],\n",
       "  's3://legalres-storage-study-json/processed/year=2016/month=7/': ['2016',\n",
       "   '7'],\n",
       "  's3://legalres-storage-study-json/processed/year=2016/month=8/': ['2016',\n",
       "   '8'],\n",
       "  's3://legalres-storage-study-json/processed/year=2016/month=9/': ['2016',\n",
       "   '9'],\n",
       "  's3://legalres-storage-study-json/processed/year=2016/month=10/': ['2016',\n",
       "   '10'],\n",
       "  's3://legalres-storage-study-json/processed/year=2016/month=11/': ['2016',\n",
       "   '11'],\n",
       "  's3://legalres-storage-study-json/processed/year=2016/month=12/': ['2016',\n",
       "   '12'],\n",
       "  's3://legalres-storage-study-json/processed/year=2017/month=1/': ['2017',\n",
       "   '1'],\n",
       "  's3://legalres-storage-study-json/processed/year=2017/month=2/': ['2017',\n",
       "   '2'],\n",
       "  's3://legalres-storage-study-json/processed/year=2017/month=3/': ['2017',\n",
       "   '3'],\n",
       "  's3://legalres-storage-study-json/processed/year=2017/month=4/': ['2017',\n",
       "   '4'],\n",
       "  's3://legalres-storage-study-json/processed/year=2017/month=5/': ['2017',\n",
       "   '5'],\n",
       "  's3://legalres-storage-study-json/processed/year=2017/month=6/': ['2017',\n",
       "   '6'],\n",
       "  's3://legalres-storage-study-json/processed/year=2017/month=7/': ['2017',\n",
       "   '7'],\n",
       "  's3://legalres-storage-study-json/processed/year=2017/month=8/': ['2017',\n",
       "   '8'],\n",
       "  's3://legalres-storage-study-json/processed/year=2017/month=9/': ['2017',\n",
       "   '9'],\n",
       "  's3://legalres-storage-study-json/processed/year=2017/month=10/': ['2017',\n",
       "   '10'],\n",
       "  's3://legalres-storage-study-json/processed/year=2017/month=11/': ['2017',\n",
       "   '11'],\n",
       "  's3://legalres-storage-study-json/processed/year=2017/month=12/': ['2017',\n",
       "   '12'],\n",
       "  's3://legalres-storage-study-json/processed/year=2018/month=1/': ['2018',\n",
       "   '1'],\n",
       "  's3://legalres-storage-study-json/processed/year=2018/month=2/': ['2018',\n",
       "   '2'],\n",
       "  's3://legalres-storage-study-json/processed/year=2018/month=3/': ['2018',\n",
       "   '3'],\n",
       "  's3://legalres-storage-study-json/processed/year=2018/month=4/': ['2018',\n",
       "   '4'],\n",
       "  's3://legalres-storage-study-json/processed/year=2018/month=5/': ['2018',\n",
       "   '5'],\n",
       "  's3://legalres-storage-study-json/processed/year=2018/month=6/': ['2018',\n",
       "   '6'],\n",
       "  's3://legalres-storage-study-json/processed/year=2018/month=7/': ['2018',\n",
       "   '7'],\n",
       "  's3://legalres-storage-study-json/processed/year=2018/month=8/': ['2018',\n",
       "   '8'],\n",
       "  's3://legalres-storage-study-json/processed/year=2018/month=9/': ['2018',\n",
       "   '9'],\n",
       "  's3://legalres-storage-study-json/processed/year=2018/month=10/': ['2018',\n",
       "   '10'],\n",
       "  's3://legalres-storage-study-json/processed/year=2018/month=11/': ['2018',\n",
       "   '11'],\n",
       "  's3://legalres-storage-study-json/processed/year=2018/month=12/': ['2018',\n",
       "   '12'],\n",
       "  's3://legalres-storage-study-json/processed/year=2019/month=1/': ['2019',\n",
       "   '1'],\n",
       "  's3://legalres-storage-study-json/processed/year=2019/month=2/': ['2019',\n",
       "   '2'],\n",
       "  's3://legalres-storage-study-json/processed/year=2019/month=3/': ['2019',\n",
       "   '3'],\n",
       "  's3://legalres-storage-study-json/processed/year=2019/month=4/': ['2019',\n",
       "   '4'],\n",
       "  's3://legalres-storage-study-json/processed/year=2019/month=5/': ['2019',\n",
       "   '5'],\n",
       "  's3://legalres-storage-study-json/processed/year=2019/month=6/': ['2019',\n",
       "   '6'],\n",
       "  's3://legalres-storage-study-json/processed/year=2019/month=7/': ['2019',\n",
       "   '7'],\n",
       "  's3://legalres-storage-study-json/processed/year=2019/month=8/': ['2019',\n",
       "   '8'],\n",
       "  's3://legalres-storage-study-json/processed/year=2019/month=9/': ['2019',\n",
       "   '9'],\n",
       "  's3://legalres-storage-study-json/processed/year=2019/month=10/': ['2019',\n",
       "   '10'],\n",
       "  's3://legalres-storage-study-json/processed/year=2019/month=11/': ['2019',\n",
       "   '11'],\n",
       "  's3://legalres-storage-study-json/processed/year=2019/month=12/': ['2019',\n",
       "   '12'],\n",
       "  's3://legalres-storage-study-json/processed/year=2020/month=1/': ['2020',\n",
       "   '1'],\n",
       "  's3://legalres-storage-study-json/processed/year=2020/month=2/': ['2020',\n",
       "   '2'],\n",
       "  's3://legalres-storage-study-json/processed/year=2020/month=3/': ['2020',\n",
       "   '3'],\n",
       "  's3://legalres-storage-study-json/processed/year=2020/month=4/': ['2020',\n",
       "   '4'],\n",
       "  's3://legalres-storage-study-json/processed/year=2020/month=5/': ['2020',\n",
       "   '5'],\n",
       "  's3://legalres-storage-study-json/processed/year=2020/month=6/': ['2020',\n",
       "   '6'],\n",
       "  's3://legalres-storage-study-json/processed/year=2020/month=7/': ['2020',\n",
       "   '7'],\n",
       "  's3://legalres-storage-study-json/processed/year=2020/month=8/': ['2020',\n",
       "   '8'],\n",
       "  's3://legalres-storage-study-json/processed/year=2020/month=9/': ['2020',\n",
       "   '9'],\n",
       "  's3://legalres-storage-study-json/processed/year=2020/month=10/': ['2020',\n",
       "   '10'],\n",
       "  's3://legalres-storage-study-json/processed/year=2020/month=11/': ['2020',\n",
       "   '11'],\n",
       "  's3://legalres-storage-study-json/processed/year=2020/month=12/': ['2020',\n",
       "   '12'],\n",
       "  's3://legalres-storage-study-json/processed/year=2021/month=1/': ['2021',\n",
       "   '1'],\n",
       "  's3://legalres-storage-study-json/processed/year=2021/month=2/': ['2021',\n",
       "   '2'],\n",
       "  's3://legalres-storage-study-json/processed/year=2021/month=3/': ['2021',\n",
       "   '3'],\n",
       "  's3://legalres-storage-study-json/processed/year=2021/month=4/': ['2021',\n",
       "   '4'],\n",
       "  's3://legalres-storage-study-json/processed/year=2021/month=5/': ['2021',\n",
       "   '5'],\n",
       "  's3://legalres-storage-study-json/processed/year=2021/month=6/': ['2021',\n",
       "   '6'],\n",
       "  's3://legalres-storage-study-json/processed/year=2021/month=7/': ['2021',\n",
       "   '7'],\n",
       "  's3://legalres-storage-study-json/processed/year=2021/month=8/': ['2021',\n",
       "   '8'],\n",
       "  's3://legalres-storage-study-json/processed/year=2021/month=9/': ['2021',\n",
       "   '9'],\n",
       "  's3://legalres-storage-study-json/processed/year=2021/month=10/': ['2021',\n",
       "   '10'],\n",
       "  's3://legalres-storage-study-json/processed/year=2021/month=11/': ['2021',\n",
       "   '11'],\n",
       "  's3://legalres-storage-study-json/processed/year=2021/month=12/': ['2021',\n",
       "   '12'],\n",
       "  's3://legalres-storage-study-json/processed/year=2022/month=1/': ['2022',\n",
       "   '1'],\n",
       "  's3://legalres-storage-study-json/processed/year=2022/month=2/': ['2022',\n",
       "   '2'],\n",
       "  's3://legalres-storage-study-json/processed/year=2022/month=3/': ['2022',\n",
       "   '3'],\n",
       "  's3://legalres-storage-study-json/processed/year=2022/month=4/': ['2022',\n",
       "   '4'],\n",
       "  's3://legalres-storage-study-json/processed/year=2022/month=5/': ['2022',\n",
       "   '5']}}"
      ]
     },
     "execution_count": 21,
     "metadata": {},
     "output_type": "execute_result"
    }
   ],
   "source": [
    "\n",
    "\n",
    "wr.s3.to_parquet(\n",
    "    df,\n",
    "    path='s3://{}/processed'.format(bucket),\n",
    "    dataset=True,\n",
    "    partition_cols=['year', 'month'],\n",
    "    mode='append'\n",
    ")"
   ]
  },
  {
   "cell_type": "code",
   "execution_count": null,
   "metadata": {},
   "outputs": [],
   "source": []
  }
 ],
 "metadata": {
  "kernelspec": {
   "display_name": "Python 3 (ipykernel)",
   "language": "python",
   "name": "python3"
  },
  "language_info": {
   "codemirror_mode": {
    "name": "ipython",
    "version": 3
   },
   "file_extension": ".py",
   "mimetype": "text/x-python",
   "name": "python",
   "nbconvert_exporter": "python",
   "pygments_lexer": "ipython3",
   "version": "3.8.5"
  },
  "toc": {
   "base_numbering": 1,
   "nav_menu": {},
   "number_sections": true,
   "sideBar": true,
   "skip_h1_title": false,
   "title_cell": "Table of Contents",
   "title_sidebar": "Contents",
   "toc_cell": false,
   "toc_position": {},
   "toc_section_display": true,
   "toc_window_display": false
  }
 },
 "nbformat": 4,
 "nbformat_minor": 4
}
