{
 "cells": [
  {
   "cell_type": "markdown",
   "metadata": {},
   "source": [
    "# ETL LegalRES\n",
    "\n",
    "* Extract: Bajar los JSON de legalRES de S3 \n",
    "* Transform: Seleccionar las columnas que interesan, aplanar a una tabla y generar columnas nuevas\n",
    "* Load: Cargar tabla limpia a S3"
   ]
  },
  {
   "cell_type": "code",
   "execution_count": 1,
   "metadata": {
    "ExecuteTime": {
     "end_time": "2022-06-14T22:25:51.666696Z",
     "start_time": "2022-06-14T22:25:51.657796Z"
    }
   },
   "outputs": [],
   "source": [
    "#!pip install awswrangler\n",
    "#!pip install --upgrade pandas"
   ]
  },
  {
   "cell_type": "code",
   "execution_count": 2,
   "metadata": {
    "ExecuteTime": {
     "end_time": "2022-06-14T22:25:55.911632Z",
     "start_time": "2022-06-14T22:25:52.647238Z"
    }
   },
   "outputs": [
    {
     "ename": "ModuleNotFoundError",
     "evalue": "No module named 'sagemaker'",
     "output_type": "error",
     "traceback": [
      "\u001b[0;31m---------------------------------------------------------------------------\u001b[0m",
      "\u001b[0;31mModuleNotFoundError\u001b[0m                       Traceback (most recent call last)",
      "Input \u001b[0;32mIn [2]\u001b[0m, in \u001b[0;36m<cell line: 2>\u001b[0;34m()\u001b[0m\n\u001b[1;32m      1\u001b[0m \u001b[38;5;28;01mimport\u001b[39;00m \u001b[38;5;21;01mpandas\u001b[39;00m \u001b[38;5;28;01mas\u001b[39;00m \u001b[38;5;21;01mpd\u001b[39;00m\n\u001b[0;32m----> 2\u001b[0m \u001b[38;5;28;01mfrom\u001b[39;00m \u001b[38;5;21;01msagemaker\u001b[39;00m \u001b[38;5;28;01mimport\u001b[39;00m get_execution_role\n\u001b[1;32m      3\u001b[0m \u001b[38;5;28;01mimport\u001b[39;00m \u001b[38;5;21;01mboto3\u001b[39;00m\n\u001b[1;32m      4\u001b[0m \u001b[38;5;28;01mfrom\u001b[39;00m \u001b[38;5;21;01mtqdm\u001b[39;00m\u001b[38;5;21;01m.\u001b[39;00m\u001b[38;5;21;01mnotebook\u001b[39;00m \u001b[38;5;28;01mimport\u001b[39;00m tqdm\n",
      "\u001b[0;31mModuleNotFoundError\u001b[0m: No module named 'sagemaker'"
     ]
    }
   ],
   "source": [
    "import pandas as pd\n",
    "from sagemaker import get_execution_role\n",
    "import boto3\n",
    "from tqdm.notebook import tqdm\n",
    "\n",
    "import awswrangler as wr\n",
    "\n",
    "import json\n",
    "from pandas.io.json import json_normalize\n",
    "\n",
    "#data = pd.read_json(data_location)"
   ]
  },
  {
   "cell_type": "code",
   "execution_count": null,
   "metadata": {
    "ExecuteTime": {
     "end_time": "2022-06-14T22:25:55.914855Z",
     "start_time": "2022-06-14T22:25:55.914841Z"
    }
   },
   "outputs": [],
   "source": [
    "bucket='legalres-storage-study-json'\n",
    "data_key = 'AC000lvffws1.json'\n",
    "data_location = 's3://{}/{}'.format(bucket, data_key)\n",
    "\n",
    "\n",
    "s3 = boto3.client('s3')\n"
   ]
  },
  {
   "cell_type": "markdown",
   "metadata": {},
   "source": [
    "Config datos ya extraidos para no duplicar"
   ]
  },
  {
   "cell_type": "code",
   "execution_count": 4,
   "metadata": {},
   "outputs": [],
   "source": [
    "prefix_processed = 'processed'\n",
    "data_location_processed = 's3://{}/{}/'.format(bucket, prefix_processed)"
   ]
  },
  {
   "cell_type": "markdown",
   "metadata": {},
   "source": [
    "## Extract "
   ]
  },
  {
   "cell_type": "markdown",
   "metadata": {},
   "source": [
    "Datos ya extraidos para no duplicar"
   ]
  },
  {
   "cell_type": "code",
   "execution_count": 5,
   "metadata": {},
   "outputs": [],
   "source": [
    "df_processed = wr.s3.read_parquet(path=data_location_processed,\n",
    "                                  columns=['cve'])"
   ]
  },
  {
   "cell_type": "markdown",
   "metadata": {},
   "source": [
    "537735"
   ]
  },
  {
   "cell_type": "markdown",
   "metadata": {},
   "source": [
    "798060"
   ]
  },
  {
   "cell_type": "markdown",
   "metadata": {},
   "source": [
    "880520"
   ]
  },
  {
   "cell_type": "markdown",
   "metadata": {},
   "source": [
    "881320"
   ]
  },
  {
   "cell_type": "code",
   "execution_count": 6,
   "metadata": {},
   "outputs": [
    {
     "data": {
      "text/plain": [
       "(881320, 1)"
      ]
     },
     "execution_count": 6,
     "metadata": {},
     "output_type": "execute_result"
    }
   ],
   "source": [
    "df_processed.shape"
   ]
  },
  {
   "cell_type": "code",
   "execution_count": 7,
   "metadata": {},
   "outputs": [],
   "source": [
    "cve_processed = list(df_processed['cve'].values)"
   ]
  },
  {
   "cell_type": "code",
   "execution_count": 8,
   "metadata": {},
   "outputs": [],
   "source": [
    "assert len(cve_processed) == len(df_processed.index)"
   ]
  },
  {
   "cell_type": "code",
   "execution_count": 9,
   "metadata": {},
   "outputs": [
    {
     "data": {
      "text/plain": [
       "True"
      ]
     },
     "execution_count": 9,
     "metadata": {},
     "output_type": "execute_result"
    }
   ],
   "source": [
    "'AC0AEHf1alMr' in cve_processed"
   ]
  },
  {
   "cell_type": "markdown",
   "metadata": {},
   "source": [
    "Prueba con un archivo para ver estructura"
   ]
  },
  {
   "cell_type": "code",
   "execution_count": 10,
   "metadata": {},
   "outputs": [],
   "source": [
    "data_stream = s3.get_object(Bucket=bucket,Key=data_key)['Body'].read().decode('utf-8')\n",
    "#data = json.loads(data_stream)\n",
    "#print(json.dumps(data, indent=4, ensure_ascii=False))"
   ]
  },
  {
   "cell_type": "code",
   "execution_count": 11,
   "metadata": {},
   "outputs": [
    {
     "data": {
      "text/plain": [
       "True"
      ]
     },
     "execution_count": 11,
     "metadata": {},
     "output_type": "execute_result"
    }
   ],
   "source": [
    "\"\\\"tipo_actuacion\\\": \\\"CONSTITUCION\\\"\" in data_stream[:200]"
   ]
  },
  {
   "cell_type": "code",
   "execution_count": 12,
   "metadata": {},
   "outputs": [
    {
     "name": "stdout",
     "output_type": "stream",
     "text": [
      "{\n",
      "    \"error_fatal\": false,\n",
      "    \"disuelto\": true,\n",
      "    \"rut\": \"77181329-1\",\n",
      "    \"fecha\": \"2021-06-02\",\n",
      "    \"cve\": \"AC0Ani2IvrvE\",\n",
      "    \"tipo_actuacion\": \"ANOTACION\",\n",
      "    \"tipo_sociedad\": \"NA\",\n",
      "    \"estructura\": [\n",
      "        {\n",
      "            \"numero\": 1,\n",
      "            \"tipo\": \"titulo_primero\",\n",
      "            \"text\n"
     ]
    }
   ],
   "source": [
    "data_stream = s3.get_object(Bucket=bucket,Key=\"AC0Ani2IvrvE.json\", Range='bytes=0-300')['Body'].read().decode('utf-8')\n",
    "print(data_stream)\n",
    "#data = json.loads(data_stream)\n",
    "#print(json.dumps(data, indent=4, ensure_ascii=False))"
   ]
  },
  {
   "cell_type": "code",
   "execution_count": 13,
   "metadata": {},
   "outputs": [
    {
     "data": {
      "text/plain": [
       "True"
      ]
     },
     "execution_count": 13,
     "metadata": {},
     "output_type": "execute_result"
    }
   ],
   "source": [
    "'ANOTACION' in data_stream"
   ]
  },
  {
   "cell_type": "markdown",
   "metadata": {},
   "source": [
    "Helper functions"
   ]
  },
  {
   "cell_type": "code",
   "execution_count": null,
   "metadata": {},
   "outputs": [],
   "source": []
  },
  {
   "cell_type": "code",
   "execution_count": 14,
   "metadata": {},
   "outputs": [],
   "source": [
    "def find_item(struct, field='tipo', string=''):\n",
    "    for item in struct:\n",
    "        if item[field] == string:\n",
    "            return item\n",
    "    return None"
   ]
  },
  {
   "cell_type": "code",
   "execution_count": 15,
   "metadata": {},
   "outputs": [],
   "source": [
    "def get_data_study(dj):\n",
    "    \"\"\"\n",
    "    Parses the relevant data from a JSON\n",
    "    \n",
    "    inputs\n",
    "    ------\n",
    "    \n",
    "    dj: json \n",
    "        data jason\n",
    "        \n",
    "    \n",
    "    outputs\n",
    "    -------\n",
    "    \n",
    "    dict\n",
    "        With the relevant columns\n",
    "    \"\"\"\n",
    "    \n",
    "    parsed = dict()\n",
    "    \n",
    "    parsed['rut'] = dj['rut']\n",
    "    parsed['cve'] = dj['cve']\n",
    "    parsed['fecha'] = dj['fecha']\n",
    "    parsed['actuacion'] = dj['tipo_actuacion']\n",
    "    parsed['lugar'] = find_item(dj['estructura'][1]['articulos'],\n",
    "                                 field='articulo',\n",
    "                                 string='inicio')['texto']\n",
    "    parsed['tipo_sociedad'] = dj['tipo_sociedad']\n",
    "    \n",
    "    parsed['objeto'] = find_item(dj['estructura'][1]['articulos'],\n",
    "                                 field='subtitulo',\n",
    "                                 string='OBJETO')['texto']\n",
    "    \n",
    "    parsed['firmas'] = find_item(dj['estructura'], \n",
    "                                 field='tipo',\n",
    "                                 string='firmas')['firmas']\n",
    "    \n",
    "    return parsed\n",
    "    "
   ]
  },
  {
   "cell_type": "markdown",
   "metadata": {},
   "source": [
    "Test helper"
   ]
  },
  {
   "cell_type": "markdown",
   "metadata": {},
   "source": [
    "Objetos para recorrer carpeta con JSON"
   ]
  },
  {
   "cell_type": "code",
   "execution_count": 16,
   "metadata": {},
   "outputs": [],
   "source": [
    "paginator = s3.get_paginator(\"list_objects_v2\")\n",
    "pages = paginator.paginate(Bucket=bucket)"
   ]
  },
  {
   "cell_type": "markdown",
   "metadata": {},
   "source": [
    "El loop principal que recorre todos los archivos\n",
    "\n",
    "**Tarda 12 horas en procesar toda la carpeta**"
   ]
  },
  {
   "cell_type": "code",
   "execution_count": 66,
   "metadata": {},
   "outputs": [],
   "source": [
    "class file_utilities:\n",
    "    \"\"\"file handling function\"\"\"\n",
    "\n",
    "    def get_keys_from_prefix(self, bucket):\n",
    "        '''gets list of keys and dates for given bucket and prefix'''\n",
    "        keys_list = []\n",
    "        paginator = s3.get_paginator('list_objects_v2')\n",
    "        # use Delimiter to limit search to that level of hierarchy\n",
    "        for page in tqdm(paginator.paginate(Bucket=bucket), total=1200):\n",
    "            keys = [content['Key'] for content in page.get('Contents')]\n",
    "            # print('keys in page: ', len(keys))\n",
    "            keys_list.extend(keys)\n",
    "        return keys_list\n",
    "    \n",
    "    def process_study_json(self, bucket, key):\n",
    "        \"\"\"read json file\"\"\"\n",
    "        data_stream = s3.get_object(Bucket=bucket,Key=key)['Body'].read().decode('utf-8')\n",
    "        progress_bar.update(1)\n",
    "        if \"CONSTITUCION\" in data_stream[:200]:\n",
    "            data = json.loads(data_stream)\n",
    "            dictout = get_data_study(data)\n",
    "            return dictout\n",
    "\n",
    "        return None"
   ]
  },
  {
   "cell_type": "code",
   "execution_count": 67,
   "metadata": {},
   "outputs": [],
   "source": [
    "fu = file_utilities()"
   ]
  },
  {
   "cell_type": "code",
   "execution_count": 18,
   "metadata": {},
   "outputs": [
    {
     "data": {
      "application/vnd.jupyter.widget-view+json": {
       "model_id": "9ff0fa290401431eb1ef34614662a16e",
       "version_major": 2,
       "version_minor": 0
      },
      "text/plain": [
       "HBox(children=(FloatProgress(value=0.0, max=1200.0), HTML(value='')))"
      ]
     },
     "metadata": {},
     "output_type": "display_data"
    },
    {
     "name": "stdout",
     "output_type": "stream",
     "text": [
      "\n"
     ]
    }
   ],
   "source": [
    "\n",
    "all_keys = fu.get_keys_from_prefix(bucket)"
   ]
  },
  {
   "cell_type": "code",
   "execution_count": 19,
   "metadata": {},
   "outputs": [],
   "source": [
    "#keys_not_processed = [key for key in all_keys if key.split('.')[0] not in cve_processed]"
   ]
  },
  {
   "cell_type": "code",
   "execution_count": 46,
   "metadata": {},
   "outputs": [],
   "source": [
    "all_keys_set = set([key.split('.')[0] for key in all_keys if 'processed' not in key])"
   ]
  },
  {
   "cell_type": "code",
   "execution_count": 47,
   "metadata": {},
   "outputs": [],
   "source": [
    "cve_processed_set = set(cve_processed)"
   ]
  },
  {
   "cell_type": "code",
   "execution_count": 48,
   "metadata": {},
   "outputs": [],
   "source": [
    "keys_not_processed = all_keys_set.difference(cve_processed_set)"
   ]
  },
  {
   "cell_type": "code",
   "execution_count": 49,
   "metadata": {},
   "outputs": [],
   "source": [
    "keys_not_processed = [str(key) + '.json' for key in keys_not_processed]"
   ]
  },
  {
   "cell_type": "code",
   "execution_count": 50,
   "metadata": {},
   "outputs": [
    {
     "data": {
      "text/plain": [
       "222502"
      ]
     },
     "execution_count": 50,
     "metadata": {},
     "output_type": "execute_result"
    }
   ],
   "source": [
    "len(keys_not_processed)"
   ]
  },
  {
   "cell_type": "code",
   "execution_count": 51,
   "metadata": {},
   "outputs": [],
   "source": [
    "proc = [x for x in keys_not_processed if 'processed' in x]"
   ]
  },
  {
   "cell_type": "code",
   "execution_count": 53,
   "metadata": {},
   "outputs": [],
   "source": [
    "import os\n",
    "from multiprocessing import Pool\n",
    "from itertools import repeat\n",
    "import pandas as pd\n",
    "import json"
   ]
  },
  {
   "cell_type": "code",
   "execution_count": 68,
   "metadata": {},
   "outputs": [],
   "source": [
    "def get_dflist_multiprocess(keys_list, progress_bar, num_proc=4):\n",
    "    with Pool(num_proc) as pool:\n",
    "        df_list = pool.starmap(fu.process_study_json, zip(repeat(bucket), keys_list), 15)\n",
    "        pool.close()\n",
    "        pool.join()\n",
    "    return df_list"
   ]
  },
  {
   "cell_type": "code",
   "execution_count": 69,
   "metadata": {},
   "outputs": [
    {
     "name": "stdout",
     "output_type": "stream",
     "text": [
      "2\n"
     ]
    }
   ],
   "source": [
    "num_proc = os.cpu_count() #number of processors\n",
    "print(num_proc)"
   ]
  },
  {
   "cell_type": "code",
   "execution_count": 77,
   "metadata": {},
   "outputs": [
    {
     "data": {
      "application/vnd.jupyter.widget-view+json": {
       "model_id": "57381544719e4f2b8c41fef4cc3d8cb9",
       "version_major": 2,
       "version_minor": 0
      },
      "text/plain": [
       "HBox(children=(FloatProgress(value=0.0, max=1000.0), HTML(value='')))"
      ]
     },
     "metadata": {},
     "output_type": "display_data"
    },
    {
     "data": {
      "application/vnd.jupyter.widget-view+json": {
       "model_id": "6b2ceb3870cc405bb99121431581ddb9",
       "version_major": 2,
       "version_minor": 0
      },
      "text/plain": [
       "HBox(children=(FloatProgress(value=0.0, max=1000.0), HTML(value='')))"
      ]
     },
     "metadata": {},
     "output_type": "display_data"
    }
   ],
   "source": [
    "progress_bar = tqdm(total=len(keys_not_processed[:1000]))\n",
    "df_list = get_dflist_multiprocess(keys_not_processed[:1000], progress_bar, num_proc=num_proc) #collect dataframes for each file\n"
   ]
  },
  {
   "cell_type": "code",
   "execution_count": 78,
   "metadata": {},
   "outputs": [
    {
     "data": {
      "text/plain": [
       "[]"
      ]
     },
     "execution_count": 78,
     "metadata": {},
     "output_type": "execute_result"
    }
   ],
   "source": [
    "[x for x in df_list if x is not None]"
   ]
  },
  {
   "cell_type": "code",
   "execution_count": null,
   "metadata": {},
   "outputs": [
    {
     "data": {
      "application/vnd.jupyter.widget-view+json": {
       "model_id": "158039e2ebd645caa28fcccc122fe745",
       "version_major": 2,
       "version_minor": 0
      },
      "text/plain": [
       "HBox(children=(FloatProgress(value=0.0, max=1200.0), HTML(value='')))"
      ]
     },
     "metadata": {},
     "output_type": "display_data"
    },
    {
     "name": "stdout",
     "output_type": "stream",
     "text": [
      "1 / New keys in page: 200 | Sample AC00uoenQA5k.json | Processed: 0 | Other: 200 | Total Failed: 0\n",
      "2 / New keys in page: 216 | Sample AC02SbPpwjtD.json | Processed: 0 | Other: 216 | Total Failed: 0\n",
      "3 / New keys in page: 177 | Sample AC06MVpDajef.json | Processed: 0 | Other: 177 | Total Failed: 0\n",
      "4 / New keys in page: 186 | Sample AC0CQEJ1pbFA.json | Processed: 0 | Other: 186 | Total Failed: 0\n",
      "5 / New keys in page: 201 | Sample AC0DA1yUCD8f.json | Processed: 0 | Other: 201 | Total Failed: 0\n",
      "6 / New keys in page: 190 | Sample AC0IU2UiXxcF.json | Processed: 0 | Other: 190 | Total Failed: 0\n",
      "7 / New keys in page: 204 | Sample AC0MJqLsSMXy.json | Processed: 0 | Other: 204 | Total Failed: 0\n",
      "8 / New keys in page: 191 | Sample AC0QsOSnomDX.json | Processed: 0 | Other: 191 | Total Failed: 0\n",
      "9 / New keys in page: 196 | Sample AC0TzUEYc1mg.json | Processed: 0 | Other: 196 | Total Failed: 0\n",
      "10 / New keys in page: 208 | Sample AC0VLPJ1qD6l.json | Processed: 0 | Other: 208 | Total Failed: 0\n",
      "11 / New keys in page: 195 | Sample AC0bgWU1ixrc.json | Processed: 0 | Other: 195 | Total Failed: 0\n",
      "12 / New keys in page: 197 | Sample AC0dJG6smqyM.json | Processed: 0 | Other: 197 | Total Failed: 0\n",
      "13 / New keys in page: 202 | Sample AC0i8EIbGLHY.json | Processed: 0 | Other: 202 | Total Failed: 0\n",
      "14 / New keys in page: 193 | Sample AC0keKrQGxMS.json | Processed: 0 | Other: 193 | Total Failed: 0\n",
      "15 / New keys in page: 195 | Sample AC0oFSlgJne2.json | Processed: 0 | Other: 195 | Total Failed: 0\n",
      "16 / New keys in page: 202 | Sample AC0tJImKAs7D.json | Processed: 0 | Other: 202 | Total Failed: 0\n",
      "17 / New keys in page: 197 | Sample AC0wQv5rbK8F.json | Processed: 0 | Other: 197 | Total Failed: 0\n",
      "18 / New keys in page: 177 | Sample AC0xtcjrA1B4.json | Processed: 0 | Other: 177 | Total Failed: 0\n",
      "19 / New keys in page: 187 | Sample AC10VILS2sfi.json | Processed: 0 | Other: 187 | Total Failed: 0\n",
      "20 / New keys in page: 209 | Sample AC11gp5rkdx1.json | Processed: 0 | Other: 209 | Total Failed: 0\n",
      "21 / New keys in page: 183 | Sample AC12jORVIEnq.json | Processed: 0 | Other: 183 | Total Failed: 0\n",
      "22 / New keys in page: 193 | Sample AC164IgPJG2c.json | Processed: 0 | Other: 193 | Total Failed: 0\n",
      "23 / New keys in page: 194 | Sample AC17QMvvfmuB.json | Processed: 0 | Other: 194 | Total Failed: 0\n",
      "24 / New keys in page: 203 | Sample AC18XaxHrmF2.json | Processed: 0 | Other: 203 | Total Failed: 0\n",
      "25 / New keys in page: 207 | Sample AC1AF3wRFeOJ.json | Processed: 0 | Other: 207 | Total Failed: 0\n",
      "26 / New keys in page: 205 | Sample AC1C3ga1bLu1.json | Processed: 0 | Other: 205 | Total Failed: 0\n",
      "AC1Enbok5dwB.json\n",
      "27 / New keys in page: 203 | Sample AC1DGt8UaY81.json | Processed: 0 | Other: 202 | Total Failed: 0\n",
      "28 / New keys in page: 181 | Sample AC1FEPZp9xir.json | Processed: 0 | Other: 181 | Total Failed: 0\n",
      "29 / New keys in page: 200 | Sample AC1HV1faciLI.json | Processed: 0 | Other: 200 | Total Failed: 0\n",
      "30 / New keys in page: 195 | Sample AC1JFBxsXDCY.json | Processed: 0 | Other: 195 | Total Failed: 0\n",
      "31 / New keys in page: 205 | Sample AC1LKfR0K0z8.json | Processed: 0 | Other: 205 | Total Failed: 0\n",
      "32 / New keys in page: 198 | Sample AC1OGt1dd6Rp.json | Processed: 0 | Other: 198 | Total Failed: 0\n",
      "33 / New keys in page: 180 | Sample AC1PakiGPMav.json | Processed: 0 | Other: 180 | Total Failed: 0\n",
      "34 / New keys in page: 205 | Sample AC1QXeFTw2yV.json | Processed: 0 | Other: 205 | Total Failed: 0\n",
      "35 / New keys in page: 200 | Sample AC1TKT1zWChE.json | Processed: 0 | Other: 200 | Total Failed: 0\n",
      "36 / New keys in page: 215 | Sample AC1UkWnCcQ5V.json | Processed: 0 | Other: 215 | Total Failed: 0\n",
      "37 / New keys in page: 199 | Sample AC1X5bpbIe11.json | Processed: 0 | Other: 199 | Total Failed: 0\n",
      "38 / New keys in page: 207 | Sample AC1XL5wIYf1W.json | Processed: 0 | Other: 207 | Total Failed: 0\n",
      "AC1a88IrHHLd.json\n",
      "39 / New keys in page: 210 | Sample AC1afmLPOdSs.json | Processed: 0 | Other: 209 | Total Failed: 0\n",
      "40 / New keys in page: 207 | Sample AC1bMdFG2Qxo.json | Processed: 0 | Other: 207 | Total Failed: 0\n",
      "41 / New keys in page: 195 | Sample AC1dKGOeBy6a.json | Processed: 0 | Other: 195 | Total Failed: 0\n",
      "42 / New keys in page: 191 | Sample AC1epi30wzpD.json | Processed: 0 | Other: 191 | Total Failed: 0\n",
      "43 / New keys in page: 199 | Sample AC1gBfOTQ3h4.json | Processed: 0 | Other: 199 | Total Failed: 0\n",
      "AC1iWVgjpJti.json\n",
      "44 / New keys in page: 200 | Sample AC1ho5pcGXSS.json | Processed: 0 | Other: 199 | Total Failed: 0\n",
      "45 / New keys in page: 192 | Sample AC1kcFlxv5VT.json | Processed: 0 | Other: 192 | Total Failed: 0\n",
      "46 / New keys in page: 203 | Sample AC1ldZB0HXYA.json | Processed: 0 | Other: 203 | Total Failed: 0\n",
      "47 / New keys in page: 202 | Sample AC1oIb3KtdQX.json | Processed: 0 | Other: 202 | Total Failed: 0\n",
      "48 / New keys in page: 220 | Sample AC1oijkmYRnQ.json | Processed: 0 | Other: 220 | Total Failed: 0\n",
      "49 / New keys in page: 208 | Sample AC1qu6fMt2H2.json | Processed: 0 | Other: 208 | Total Failed: 0\n",
      "50 / New keys in page: 218 | Sample AC1sWjlM6oXk.json | Processed: 0 | Other: 218 | Total Failed: 0\n",
      "51 / New keys in page: 204 | Sample AC1v9xqy9WMQ.json | Processed: 0 | Other: 204 | Total Failed: 0\n",
      "52 / New keys in page: 191 | Sample AC1w7kZGhpHC.json | Processed: 0 | Other: 191 | Total Failed: 0\n",
      "53 / New keys in page: 207 | Sample AC1xkfzQzr1a.json | Processed: 0 | Other: 207 | Total Failed: 0\n",
      "54 / New keys in page: 222 | Sample AC1zlZdYW8sy.json | Processed: 0 | Other: 222 | Total Failed: 0\n",
      "55 / New keys in page: 227 | Sample AC23ztc1Vh5t.json | Processed: 0 | Other: 227 | Total Failed: 0\n",
      "56 / New keys in page: 186 | Sample AC27bp4TMs7Q.json | Processed: 0 | Other: 186 | Total Failed: 0\n",
      "57 / New keys in page: 200 | Sample AC29swxFY5Gx.json | Processed: 0 | Other: 200 | Total Failed: 0\n",
      "58 / New keys in page: 183 | Sample AC2DOMoBqWHL.json | Processed: 0 | Other: 183 | Total Failed: 0\n",
      "59 / New keys in page: 195 | Sample AC2F2o46bwhE.json | Processed: 0 | Other: 195 | Total Failed: 0\n",
      "60 / New keys in page: 183 | Sample AC2LHD0Siegf.json | Processed: 0 | Other: 183 | Total Failed: 0\n",
      "61 / New keys in page: 215 | Sample AC2ODBykpoS8.json | Processed: 0 | Other: 215 | Total Failed: 0\n",
      "62 / New keys in page: 208 | Sample AC2S99nMZaB6.json | Processed: 0 | Other: 208 | Total Failed: 0\n",
      "63 / New keys in page: 211 | Sample AC2XAlHSkYzz.json | Processed: 0 | Other: 211 | Total Failed: 0\n",
      "64 / New keys in page: 187 | Sample AC2Zx4HTacqb.json | Processed: 0 | Other: 187 | Total Failed: 0\n",
      "65 / New keys in page: 194 | Sample AC2cXHxOWlRQ.json | Processed: 0 | Other: 194 | Total Failed: 0\n",
      "66 / New keys in page: 187 | Sample AC2fH4VcUi3r.json | Processed: 0 | Other: 187 | Total Failed: 0\n",
      "67 / New keys in page: 191 | Sample AC2jmht8QYYn.json | Processed: 0 | Other: 191 | Total Failed: 0\n",
      "68 / New keys in page: 188 | Sample AC2nih6kxYDw.json | Processed: 0 | Other: 188 | Total Failed: 0\n",
      "69 / New keys in page: 208 | Sample AC2rWeOMXgXz.json | Processed: 0 | Other: 208 | Total Failed: 0\n",
      "70 / New keys in page: 211 | Sample AC2sey6LuWVw.json | Processed: 0 | Other: 211 | Total Failed: 0\n",
      "AC2wIBAeKWfw.json\n",
      "71 / New keys in page: 185 | Sample AC2yU060L1K1.json | Processed: 0 | Other: 184 | Total Failed: 0\n",
      "72 / New keys in page: 207 | Sample AC304agO4oCw.json | Processed: 0 | Other: 207 | Total Failed: 0\n",
      "73 / New keys in page: 199 | Sample AC33XLs7QDC7.json | Processed: 0 | Other: 199 | Total Failed: 0\n",
      "74 / New keys in page: 207 | Sample AC35XjCVAiUf.json | Processed: 0 | Other: 207 | Total Failed: 0\n",
      "75 / New keys in page: 196 | Sample AC3Bu4vt92R5.json | Processed: 0 | Other: 196 | Total Failed: 0\n",
      "76 / New keys in page: 216 | Sample AC3CdD9zciiQ.json | Processed: 0 | Other: 216 | Total Failed: 0\n",
      "77 / New keys in page: 223 | Sample AC3GEwF1kGFl.json | Processed: 0 | Other: 223 | Total Failed: 0\n",
      "78 / New keys in page: 201 | Sample AC3KYfceI8xw.json | Processed: 0 | Other: 201 | Total Failed: 0\n",
      "79 / New keys in page: 192 | Sample AC3PtvCnXOKK.json | Processed: 0 | Other: 192 | Total Failed: 0\n",
      "80 / New keys in page: 185 | Sample AC3UCdx0MxmJ.json | Processed: 0 | Other: 185 | Total Failed: 0\n",
      "81 / New keys in page: 192 | Sample AC3VfRVaHz53.json | Processed: 0 | Other: 192 | Total Failed: 0\n",
      "82 / New keys in page: 175 | Sample AC3bUGSxJTJQ.json | Processed: 0 | Other: 175 | Total Failed: 0\n",
      "83 / New keys in page: 221 | Sample AC3cxGl28ERM.json | Processed: 0 | Other: 221 | Total Failed: 0\n",
      "84 / New keys in page: 217 | Sample AC3hM7HRHhPQ.json | Processed: 0 | Other: 217 | Total Failed: 0\n",
      "85 / New keys in page: 210 | Sample AC3kfTduo0m3.json | Processed: 0 | Other: 210 | Total Failed: 0\n",
      "86 / New keys in page: 206 | Sample AC3oD2D4icBZ.json | Processed: 0 | Other: 206 | Total Failed: 0\n",
      "87 / New keys in page: 208 | Sample AC3rFoenU3zd.json | Processed: 0 | Other: 208 | Total Failed: 0\n",
      "88 / New keys in page: 203 | Sample AC3w7xkJ4Mam.json | Processed: 0 | Other: 203 | Total Failed: 0\n",
      "89 / New keys in page: 215 | Sample AC3zSdZRjsTX.json | Processed: 0 | Other: 215 | Total Failed: 0\n",
      "90 / New keys in page: 190 | Sample AC413AwuwR13.json | Processed: 0 | Other: 190 | Total Failed: 0\n",
      "91 / New keys in page: 204 | Sample AC4666Izr5fB.json | Processed: 0 | Other: 204 | Total Failed: 0\n",
      "92 / New keys in page: 189 | Sample AC480ef4KBDp.json | Processed: 0 | Other: 189 | Total Failed: 0\n",
      "93 / New keys in page: 187 | Sample AC4BZZznAHfY.json | Processed: 0 | Other: 187 | Total Failed: 0\n",
      "94 / New keys in page: 183 | Sample AC4EKKHKHXXV.json | Processed: 0 | Other: 183 | Total Failed: 0\n",
      "95 / New keys in page: 192 | Sample AC4IGEhLitFE.json | Processed: 0 | Other: 192 | Total Failed: 0\n",
      "96 / New keys in page: 191 | Sample AC4KqsFHU1eA.json | Processed: 0 | Other: 191 | Total Failed: 0\n",
      "97 / New keys in page: 221 | Sample AC4QMZBLvomI.json | Processed: 0 | Other: 221 | Total Failed: 0\n",
      "AC4UJElhgcm3.json\n",
      "98 / New keys in page: 203 | Sample AC4V2RijrRnD.json | Processed: 0 | Other: 202 | Total Failed: 0\n",
      "99 / New keys in page: 185 | Sample AC4Y7xKdP4z9.json | Processed: 0 | Other: 185 | Total Failed: 0\n",
      "100 / New keys in page: 206 | Sample AC4cxtml5hPb.json | Processed: 0 | Other: 206 | Total Failed: 0\n",
      "101 / New keys in page: 190 | Sample AC4fbbGR7nwr.json | Processed: 0 | Other: 190 | Total Failed: 0\n",
      "102 / New keys in page: 183 | Sample AC4grchR8Kqh.json | Processed: 0 | Other: 183 | Total Failed: 0\n",
      "103 / New keys in page: 199 | Sample AC4kOaczKrgr.json | Processed: 0 | Other: 199 | Total Failed: 0\n",
      "AC4qm8w7cHyY.json\n",
      "104 / New keys in page: 189 | Sample AC4oYF1PTufX.json | Processed: 0 | Other: 188 | Total Failed: 0\n",
      "105 / New keys in page: 208 | Sample AC4uVCmWgeCx.json | Processed: 0 | Other: 208 | Total Failed: 0\n",
      "106 / New keys in page: 186 | Sample AC4v4CT1TZbH.json | Processed: 0 | Other: 186 | Total Failed: 0\n",
      "107 / New keys in page: 189 | Sample AC4zWs0tdJI1.json | Processed: 0 | Other: 189 | Total Failed: 0\n",
      "108 / New keys in page: 173 | Sample AC526CD6vYi8.json | Processed: 0 | Other: 173 | Total Failed: 0\n",
      "109 / New keys in page: 186 | Sample AC570dU7y4DE.json | Processed: 0 | Other: 186 | Total Failed: 0\n",
      "110 / New keys in page: 203 | Sample AC59icYCt6zs.json | Processed: 0 | Other: 203 | Total Failed: 0\n",
      "111 / New keys in page: 225 | Sample AC5Bz9Evd310.json | Processed: 0 | Other: 225 | Total Failed: 0\n",
      "112 / New keys in page: 201 | Sample AC5EDXejeSZE.json | Processed: 0 | Other: 201 | Total Failed: 0\n",
      "113 / New keys in page: 203 | Sample AC5J9QZkm12l.json | Processed: 0 | Other: 203 | Total Failed: 0\n",
      "114 / New keys in page: 207 | Sample AC5ODyKm90f1.json | Processed: 0 | Other: 207 | Total Failed: 0\n",
      "115 / New keys in page: 211 | Sample AC5RcoMS1DF1.json | Processed: 0 | Other: 211 | Total Failed: 0\n",
      "116 / New keys in page: 210 | Sample AC5Up31ZarQt.json | Processed: 0 | Other: 210 | Total Failed: 0\n",
      "AC5a2iT5IxJk.json\n",
      "117 / New keys in page: 177 | Sample AC5ZI9Er28oH.json | Processed: 0 | Other: 176 | Total Failed: 0\n",
      "AC5cy0yaQ9sS.json\n",
      "118 / New keys in page: 197 | Sample AC5dCOYzMIFd.json | Processed: 0 | Other: 196 | Total Failed: 0\n",
      "119 / New keys in page: 211 | Sample AC5e7OHCRR4H.json | Processed: 0 | Other: 211 | Total Failed: 0\n",
      "120 / New keys in page: 207 | Sample AC5iAyepGZue.json | Processed: 0 | Other: 207 | Total Failed: 0\n",
      "121 / New keys in page: 178 | Sample AC5o9KfFcyBV.json | Processed: 0 | Other: 178 | Total Failed: 0\n",
      "122 / New keys in page: 216 | Sample AC5qhI5lcwQw.json | Processed: 0 | Other: 216 | Total Failed: 0\n",
      "123 / New keys in page: 199 | Sample AC5sBLqs2BWX.json | Processed: 0 | Other: 199 | Total Failed: 0\n",
      "124 / New keys in page: 204 | Sample AC5vGzQTWkAF.json | Processed: 0 | Other: 204 | Total Failed: 0\n",
      "125 / New keys in page: 214 | Sample AC615CLyS3kU.json | Processed: 0 | Other: 214 | Total Failed: 0\n",
      "126 / New keys in page: 207 | Sample AC63lkHxsRB1.json | Processed: 0 | Other: 207 | Total Failed: 0\n",
      "127 / New keys in page: 199 | Sample AC66iGWY8Ua2.json | Processed: 0 | Other: 199 | Total Failed: 0\n",
      "128 / New keys in page: 222 | Sample AC68QzEUg11k.json | Processed: 0 | Other: 222 | Total Failed: 0\n",
      "129 / New keys in page: 227 | Sample AC6BnCHv4phf.json | Processed: 0 | Other: 227 | Total Failed: 0\n",
      "130 / New keys in page: 195 | Sample AC6FM86K6RzY.json | Processed: 0 | Other: 195 | Total Failed: 0\n",
      "131 / New keys in page: 211 | Sample AC6IsKXW9mkS.json | Processed: 0 | Other: 211 | Total Failed: 0\n",
      "132 / New keys in page: 191 | Sample AC6LnSCXPU8K.json | Processed: 0 | Other: 191 | Total Failed: 0\n",
      "133 / New keys in page: 193 | Sample AC6Qf3jE30BC.json | Processed: 0 | Other: 193 | Total Failed: 0\n",
      "134 / New keys in page: 208 | Sample AC6WUohXDec6.json | Processed: 0 | Other: 208 | Total Failed: 0\n",
      "135 / New keys in page: 211 | Sample AC6agEofmF9k.json | Processed: 0 | Other: 211 | Total Failed: 0\n",
      "136 / New keys in page: 205 | Sample AC6b3MiibI89.json | Processed: 0 | Other: 205 | Total Failed: 0\n",
      "137 / New keys in page: 186 | Sample AC6fQDWE1xQQ.json | Processed: 0 | Other: 186 | Total Failed: 0\n",
      "138 / New keys in page: 206 | Sample AC6jEGhGb6Kq.json | Processed: 0 | Other: 206 | Total Failed: 0\n",
      "139 / New keys in page: 231 | Sample AC6mphQeff2j.json | Processed: 0 | Other: 231 | Total Failed: 0\n",
      "140 / New keys in page: 198 | Sample AC6rojJS12oR.json | Processed: 0 | Other: 198 | Total Failed: 0\n",
      "141 / New keys in page: 208 | Sample AC6uYkdn6OUW.json | Processed: 0 | Other: 208 | Total Failed: 0\n",
      "142 / New keys in page: 196 | Sample AC6y0295ZXze.json | Processed: 0 | Other: 196 | Total Failed: 0\n",
      "143 / New keys in page: 205 | Sample AC70iTt6j3Yb.json | Processed: 0 | Other: 205 | Total Failed: 0\n",
      "144 / New keys in page: 192 | Sample AC73jpRncojT.json | Processed: 0 | Other: 192 | Total Failed: 0\n",
      "145 / New keys in page: 216 | Sample AC77v1YEFSAS.json | Processed: 0 | Other: 216 | Total Failed: 0\n",
      "146 / New keys in page: 204 | Sample AC7AHI6Gjd8j.json | Processed: 0 | Other: 204 | Total Failed: 0\n",
      "147 / New keys in page: 201 | Sample AC7EZdKvyxII.json | Processed: 0 | Other: 201 | Total Failed: 0\n",
      "148 / New keys in page: 212 | Sample AC7Fuzx04X9b.json | Processed: 0 | Other: 212 | Total Failed: 0\n",
      "149 / New keys in page: 192 | Sample AC7KQulcMZcz.json | Processed: 0 | Other: 192 | Total Failed: 0\n",
      "150 / New keys in page: 194 | Sample AC7O8IWkyVj4.json | Processed: 0 | Other: 194 | Total Failed: 0\n",
      "AC7TVMnXIHox.json\n",
      "151 / New keys in page: 197 | Sample AC7U56D3QrO7.json | Processed: 0 | Other: 196 | Total Failed: 0\n",
      "152 / New keys in page: 205 | Sample AC7WBr0Ufi7m.json | Processed: 0 | Other: 205 | Total Failed: 0\n",
      "153 / New keys in page: 180 | Sample AC7aYj4ns8fL.json | Processed: 0 | Other: 180 | Total Failed: 0\n",
      "AC7cw6ZpL0ep.json\n",
      "154 / New keys in page: 213 | Sample AC7c7X2WyfKM.json | Processed: 0 | Other: 212 | Total Failed: 0\n",
      "155 / New keys in page: 209 | Sample AC7h0Hwrnqv1.json | Processed: 0 | Other: 209 | Total Failed: 0\n",
      "156 / New keys in page: 197 | Sample AC7jKHPne0ne.json | Processed: 0 | Other: 197 | Total Failed: 0\n",
      "157 / New keys in page: 202 | Sample AC7mChsf11qn.json | Processed: 0 | Other: 202 | Total Failed: 0\n",
      "158 / New keys in page: 219 | Sample AC7sBmsW3FpP.json | Processed: 0 | Other: 219 | Total Failed: 0\n",
      "159 / New keys in page: 219 | Sample AC7v81mtglus.json | Processed: 0 | Other: 219 | Total Failed: 0\n",
      "160 / New keys in page: 185 | Sample AC7wlAVGYQ2L.json | Processed: 0 | Other: 185 | Total Failed: 0\n",
      "161 / New keys in page: 205 | Sample AC81q9IRF6EJ.json | Processed: 0 | Other: 205 | Total Failed: 0\n",
      "162 / New keys in page: 169 | Sample AC83h4MPstSL.json | Processed: 0 | Other: 169 | Total Failed: 0\n",
      "163 / New keys in page: 196 | Sample AC878c27rGtO.json | Processed: 0 | Other: 196 | Total Failed: 0\n",
      "AC8BUXkQxYGG.json\n",
      "164 / New keys in page: 192 | Sample AC8B1s6LGm6c.json | Processed: 0 | Other: 191 | Total Failed: 0\n",
      "165 / New keys in page: 200 | Sample AC8F5ihWeW06.json | Processed: 0 | Other: 200 | Total Failed: 0\n",
      "166 / New keys in page: 209 | Sample AC8HEiIXxxWW.json | Processed: 0 | Other: 209 | Total Failed: 0\n",
      "167 / New keys in page: 203 | Sample AC8MB1x7hrzM.json | Processed: 0 | Other: 203 | Total Failed: 0\n",
      "168 / New keys in page: 205 | Sample AC8PSe12cvUy.json | Processed: 0 | Other: 205 | Total Failed: 0\n",
      "169 / New keys in page: 228 | Sample AC8UV8vllCys.json | Processed: 0 | Other: 228 | Total Failed: 0\n",
      "170 / New keys in page: 217 | Sample AC8YFtq8n5eH.json | Processed: 0 | Other: 217 | Total Failed: 0\n",
      "171 / New keys in page: 177 | Sample AC8a5b2fz2eJ.json | Processed: 0 | Other: 177 | Total Failed: 0\n",
      "172 / New keys in page: 203 | Sample AC8eA1Ryb1Yg.json | Processed: 0 | Other: 203 | Total Failed: 0\n",
      "173 / New keys in page: 184 | Sample AC8gX5OuyFO8.json | Processed: 0 | Other: 184 | Total Failed: 0\n",
      "174 / New keys in page: 196 | Sample AC8jCqM1akHU.json | Processed: 0 | Other: 196 | Total Failed: 0\n",
      "175 / New keys in page: 219 | Sample AC8mpbhST1Qi.json | Processed: 0 | Other: 219 | Total Failed: 0\n",
      "176 / New keys in page: 202 | Sample AC8q7Cw2EGQD.json | Processed: 0 | Other: 202 | Total Failed: 0\n",
      "AC8vIPii4AqC.json\n",
      "177 / New keys in page: 217 | Sample AC8tpQrHtcfT.json | Processed: 0 | Other: 216 | Total Failed: 0\n",
      "178 / New keys in page: 200 | Sample AC8yQMMZSi7E.json | Processed: 0 | Other: 200 | Total Failed: 0\n",
      "179 / New keys in page: 219 | Sample AC91dTryBlB0.json | Processed: 0 | Other: 219 | Total Failed: 0\n",
      "180 / New keys in page: 214 | Sample AC95bQEqyORH.json | Processed: 0 | Other: 214 | Total Failed: 0\n",
      "181 / New keys in page: 208 | Sample AC97eB956sdG.json | Processed: 0 | Other: 208 | Total Failed: 0\n",
      "182 / New keys in page: 200 | Sample AC99iP5Y25nW.json | Processed: 0 | Other: 200 | Total Failed: 0\n",
      "183 / New keys in page: 188 | Sample AC9DusOMtJIv.json | Processed: 0 | Other: 188 | Total Failed: 0\n",
      "184 / New keys in page: 208 | Sample AC9Gr1nc1S2Q.json | Processed: 0 | Other: 208 | Total Failed: 0\n",
      "185 / New keys in page: 199 | Sample AC9KSQewlHAx.json | Processed: 0 | Other: 199 | Total Failed: 0\n",
      "186 / New keys in page: 185 | Sample AC9QbsHHibag.json | Processed: 0 | Other: 185 | Total Failed: 0\n",
      "187 / New keys in page: 222 | Sample AC9SjfQ2j01P.json | Processed: 0 | Other: 222 | Total Failed: 0\n",
      "188 / New keys in page: 233 | Sample AC9WhnT1QpEz.json | Processed: 0 | Other: 233 | Total Failed: 0\n",
      "189 / New keys in page: 204 | Sample AC9aEHZ2KD18.json | Processed: 0 | Other: 204 | Total Failed: 0\n",
      "190 / New keys in page: 240 | Sample AC9dOdheGpwG.json | Processed: 0 | Other: 240 | Total Failed: 0\n",
      "191 / New keys in page: 222 | Sample AC9hgdCpRGeP.json | Processed: 0 | Other: 222 | Total Failed: 0\n",
      "192 / New keys in page: 206 | Sample AC9lUhoPcotA.json | Processed: 0 | Other: 206 | Total Failed: 0\n",
      "193 / New keys in page: 202 | Sample AC9o6nCK7kCA.json | Processed: 0 | Other: 202 | Total Failed: 0\n",
      "194 / New keys in page: 192 | Sample AC9sAoyVuxaf.json | Processed: 0 | Other: 192 | Total Failed: 0\n",
      "195 / New keys in page: 172 | Sample AC9vE4Wzz2K2.json | Processed: 0 | Other: 172 | Total Failed: 0\n",
      "196 / New keys in page: 201 | Sample AC9xG8mruUVO.json | Processed: 0 | Other: 201 | Total Failed: 0\n",
      "197 / New keys in page: 200 | Sample ACA0zuglUbXM.json | Processed: 0 | Other: 200 | Total Failed: 0\n",
      "198 / New keys in page: 221 | Sample ACA3czujEOwk.json | Processed: 0 | Other: 221 | Total Failed: 0\n",
      "ACA7GsKiVF7K.json\n",
      "199 / New keys in page: 195 | Sample ACA8RyKXJstz.json | Processed: 0 | Other: 194 | Total Failed: 0\n",
      "200 / New keys in page: 206 | Sample ACACsYKKwkIp.json | Processed: 0 | Other: 206 | Total Failed: 0\n",
      "201 / New keys in page: 191 | Sample ACAFUxPEoW9S.json | Processed: 0 | Other: 191 | Total Failed: 0\n",
      "202 / New keys in page: 222 | Sample ACAIyYxVXYk0.json | Processed: 0 | Other: 222 | Total Failed: 0\n",
      "203 / New keys in page: 199 | Sample ACAOlT3wJOa0.json | Processed: 0 | Other: 199 | Total Failed: 0\n",
      "ACAPq9mKlG15.json\n",
      "204 / New keys in page: 198 | Sample ACAPHCAhzpqs.json | Processed: 0 | Other: 197 | Total Failed: 0\n",
      "205 / New keys in page: 176 | Sample ACAVyS7MsdV9.json | Processed: 0 | Other: 176 | Total Failed: 0\n",
      "ACAZFqed2CGo.json\n",
      "206 / New keys in page: 210 | Sample ACAWHvwYMsa3.json | Processed: 0 | Other: 209 | Total Failed: 0\n",
      "207 / New keys in page: 199 | Sample ACAbFvqUaZw3.json | Processed: 0 | Other: 199 | Total Failed: 0\n",
      "208 / New keys in page: 208 | Sample ACAe7cEU3H0T.json | Processed: 0 | Other: 208 | Total Failed: 0\n",
      "209 / New keys in page: 203 | Sample ACAipOMgBDsV.json | Processed: 0 | Other: 203 | Total Failed: 0\n",
      "210 / New keys in page: 187 | Sample ACAlRQ1pARi7.json | Processed: 0 | Other: 187 | Total Failed: 0\n",
      "211 / New keys in page: 204 | Sample ACApEizfUdYn.json | Processed: 0 | Other: 204 | Total Failed: 0\n",
      "212 / New keys in page: 195 | Sample ACAuCCzfAqy8.json | Processed: 0 | Other: 195 | Total Failed: 0\n",
      "213 / New keys in page: 203 | Sample ACAxZ6KmrJFq.json | Processed: 0 | Other: 203 | Total Failed: 0\n",
      "214 / New keys in page: 213 | Sample ACB0Gbxd4qEb.json | Processed: 0 | Other: 213 | Total Failed: 0\n",
      "215 / New keys in page: 228 | Sample ACB1WqO0h9Sv.json | Processed: 0 | Other: 228 | Total Failed: 0\n",
      "216 / New keys in page: 191 | Sample ACB7YXLhKSxO.json | Processed: 0 | Other: 191 | Total Failed: 0\n",
      "217 / New keys in page: 213 | Sample ACB8y5uCwGix.json | Processed: 0 | Other: 213 | Total Failed: 0\n",
      "218 / New keys in page: 198 | Sample ACBEBFfRxb1i.json | Processed: 0 | Other: 198 | Total Failed: 0\n",
      "219 / New keys in page: 185 | Sample ACBGC1CyUYXj.json | Processed: 0 | Other: 185 | Total Failed: 0\n",
      "220 / New keys in page: 197 | Sample ACBIs9VG1JTO.json | Processed: 0 | Other: 197 | Total Failed: 0\n",
      "221 / New keys in page: 210 | Sample ACBOmDtAkxu6.json | Processed: 0 | Other: 210 | Total Failed: 0\n",
      "222 / New keys in page: 208 | Sample ACBR4IJEcipx.json | Processed: 0 | Other: 208 | Total Failed: 0\n",
      "ACBUuCXa9QOc.json\n",
      "223 / New keys in page: 217 | Sample ACBVYTXrpro1.json | Processed: 0 | Other: 216 | Total Failed: 0\n",
      "224 / New keys in page: 200 | Sample ACBYr1XcRLzT.json | Processed: 0 | Other: 200 | Total Failed: 0\n",
      "ACBaXAgcPDWh.json\n",
      "225 / New keys in page: 187 | Sample ACBavjX8KmEP.json | Processed: 0 | Other: 186 | Total Failed: 0\n",
      "226 / New keys in page: 206 | Sample ACBg5Peg5bev.json | Processed: 0 | Other: 206 | Total Failed: 0\n",
      "227 / New keys in page: 194 | Sample ACBjLdTfMuuR.json | Processed: 0 | Other: 194 | Total Failed: 0\n",
      "228 / New keys in page: 188 | Sample ACBlcz2KinVU.json | Processed: 0 | Other: 188 | Total Failed: 0\n",
      "229 / New keys in page: 211 | Sample ACBpjYos2w7V.json | Processed: 0 | Other: 211 | Total Failed: 0\n",
      "230 / New keys in page: 197 | Sample ACBv5kjqAdWF.json | Processed: 0 | Other: 197 | Total Failed: 0\n",
      "231 / New keys in page: 193 | Sample ACBxEUry2l6v.json | Processed: 0 | Other: 193 | Total Failed: 0\n",
      "232 / New keys in page: 206 | Sample ACC0fTwHo9ut.json | Processed: 0 | Other: 206 | Total Failed: 0\n",
      "233 / New keys in page: 207 | Sample ACC4to0g9RWK.json | Processed: 0 | Other: 207 | Total Failed: 0\n",
      "234 / New keys in page: 194 | Sample ACC6J58Ewe0f.json | Processed: 0 | Other: 194 | Total Failed: 0\n",
      "235 / New keys in page: 208 | Sample ACCBh3wOYq8l.json | Processed: 0 | Other: 208 | Total Failed: 0\n",
      "236 / New keys in page: 192 | Sample ACCCF0tuIQEE.json | Processed: 0 | Other: 192 | Total Failed: 0\n",
      "237 / New keys in page: 244 | Sample ACCGp162GzbJ.json | Processed: 0 | Other: 243 | Total Failed: 1\n",
      "238 / New keys in page: 198 | Sample ACCLh1n1ZV4w.json | Processed: 0 | Other: 198 | Total Failed: 1\n",
      "239 / New keys in page: 202 | Sample ACCRFFpDdeRo.json | Processed: 0 | Other: 202 | Total Failed: 1\n",
      "240 / New keys in page: 192 | Sample ACCSp1nLIV5p.json | Processed: 0 | Other: 192 | Total Failed: 1\n",
      "241 / New keys in page: 196 | Sample ACCVeP9V29eS.json | Processed: 0 | Other: 196 | Total Failed: 1\n",
      "242 / New keys in page: 188 | Sample ACCZALT9uKaG.json | Processed: 0 | Other: 188 | Total Failed: 1\n",
      "243 / New keys in page: 168 | Sample ACCfQF8DrL4g.json | Processed: 0 | Other: 168 | Total Failed: 1\n",
      "244 / New keys in page: 195 | Sample ACCfhMOQDQRh.json | Processed: 0 | Other: 195 | Total Failed: 1\n",
      "245 / New keys in page: 198 | Sample ACCjvfvOC9C1.json | Processed: 0 | Other: 198 | Total Failed: 1\n",
      "246 / New keys in page: 185 | Sample ACCnL5MZkXpI.json | Processed: 0 | Other: 185 | Total Failed: 1\n",
      "247 / New keys in page: 217 | Sample ACCtPWtkxoQ0.json | Processed: 0 | Other: 217 | Total Failed: 1\n",
      "248 / New keys in page: 213 | Sample ACCuO5asMsGs.json | Processed: 0 | Other: 213 | Total Failed: 1\n",
      "ACCzTL3Al5QV.json\n",
      "249 / New keys in page: 205 | Sample ACCy4PKmyyJJ.json | Processed: 0 | Other: 204 | Total Failed: 1\n",
      "250 / New keys in page: 219 | Sample ACD11FCrF1Py.json | Processed: 0 | Other: 219 | Total Failed: 1\n",
      "251 / New keys in page: 203 | Sample ACD32lpV5DGE.json | Processed: 0 | Other: 203 | Total Failed: 1\n",
      "252 / New keys in page: 216 | Sample ACD9LLlWBrpQ.json | Processed: 0 | Other: 216 | Total Failed: 1\n",
      "253 / New keys in page: 227 | Sample ACDAatoJxVmL.json | Processed: 0 | Other: 227 | Total Failed: 1\n",
      "254 / New keys in page: 214 | Sample ACDG7EVEVwki.json | Processed: 0 | Other: 214 | Total Failed: 1\n",
      "255 / New keys in page: 216 | Sample ACDJkHdR6wRW.json | Processed: 0 | Other: 216 | Total Failed: 1\n",
      "256 / New keys in page: 218 | Sample ACDKVtbB29bY.json | Processed: 0 | Other: 218 | Total Failed: 1\n",
      "257 / New keys in page: 211 | Sample ACDPUlx6QcSM.json | Processed: 0 | Other: 211 | Total Failed: 1\n",
      "258 / New keys in page: 195 | Sample ACDVrFgEu5Cg.json | Processed: 0 | Other: 195 | Total Failed: 1\n",
      "259 / New keys in page: 198 | Sample ACDZBKeYQ2lG.json | Processed: 0 | Other: 198 | Total Failed: 1\n",
      "260 / New keys in page: 199 | Sample ACDaR8xTEFgH.json | Processed: 0 | Other: 199 | Total Failed: 1\n",
      "261 / New keys in page: 210 | Sample ACDdUOSv7rt2.json | Processed: 0 | Other: 210 | Total Failed: 1\n",
      "262 / New keys in page: 195 | Sample ACDj13iYspLX.json | Processed: 0 | Other: 195 | Total Failed: 1\n",
      "263 / New keys in page: 193 | Sample ACDme1s16ivn.json | Processed: 0 | Other: 193 | Total Failed: 1\n",
      "264 / New keys in page: 215 | Sample ACDoBvazmMOn.json | Processed: 0 | Other: 215 | Total Failed: 1\n",
      "265 / New keys in page: 226 | Sample ACDrcQGzTjUP.json | Processed: 0 | Other: 226 | Total Failed: 1\n",
      "266 / New keys in page: 225 | Sample ACDuTwiaqni6.json | Processed: 0 | Other: 225 | Total Failed: 1\n",
      "267 / New keys in page: 190 | Sample ACDzI506dpzY.json | Processed: 0 | Other: 190 | Total Failed: 1\n",
      "268 / New keys in page: 184 | Sample ACE2BCc5ilSi.json | Processed: 0 | Other: 184 | Total Failed: 1\n",
      "269 / New keys in page: 205 | Sample ACE6ZpuqSZ8F.json | Processed: 0 | Other: 205 | Total Failed: 1\n",
      "270 / New keys in page: 199 | Sample ACE7c2YYQZT0.json | Processed: 0 | Other: 199 | Total Failed: 1\n",
      "271 / New keys in page: 191 | Sample ACEBpLdh2u8q.json | Processed: 0 | Other: 191 | Total Failed: 1\n",
      "272 / New keys in page: 222 | Sample ACEHKCWDRxMy.json | Processed: 0 | Other: 222 | Total Failed: 1\n",
      "273 / New keys in page: 191 | Sample ACEJFRP6BvHD.json | Processed: 0 | Other: 191 | Total Failed: 1\n",
      "274 / New keys in page: 202 | Sample ACEP21Guhpp8.json | Processed: 0 | Other: 202 | Total Failed: 1\n",
      "275 / New keys in page: 208 | Sample ACERnBJqAlvk.json | Processed: 0 | Other: 208 | Total Failed: 1\n",
      "276 / New keys in page: 182 | Sample ACEUbLC9uaw9.json | Processed: 0 | Other: 182 | Total Failed: 1\n",
      "277 / New keys in page: 205 | Sample ACEX0nHm1stA.json | Processed: 0 | Other: 205 | Total Failed: 1\n",
      "278 / New keys in page: 188 | Sample ACEaDXuazTgU.json | Processed: 0 | Other: 188 | Total Failed: 1\n",
      "279 / New keys in page: 221 | Sample ACEehu1i1j4m.json | Processed: 0 | Other: 221 | Total Failed: 1\n",
      "280 / New keys in page: 192 | Sample ACEhDGav4yOK.json | Processed: 0 | Other: 192 | Total Failed: 1\n",
      "281 / New keys in page: 202 | Sample ACEmI282VdBx.json | Processed: 0 | Other: 202 | Total Failed: 1\n",
      "282 / New keys in page: 207 | Sample ACEnwCUbcn1q.json | Processed: 0 | Other: 207 | Total Failed: 1\n",
      "283 / New keys in page: 185 | Sample ACEsA4u2RW7W.json | Processed: 0 | Other: 185 | Total Failed: 1\n",
      "284 / New keys in page: 201 | Sample ACEvFbqYiJ4K.json | Processed: 0 | Other: 201 | Total Failed: 1\n",
      "285 / New keys in page: 189 | Sample ACF0Pot5HmmZ.json | Processed: 0 | Other: 189 | Total Failed: 1\n",
      "286 / New keys in page: 190 | Sample ACF1r3KpbwjX.json | Processed: 0 | Other: 190 | Total Failed: 1\n",
      "287 / New keys in page: 204 | Sample ACF3eRdzRLIx.json | Processed: 0 | Other: 204 | Total Failed: 1\n",
      "288 / New keys in page: 192 | Sample ACF8Cqvp1WPE.json | Processed: 0 | Other: 192 | Total Failed: 1\n",
      "289 / New keys in page: 205 | Sample ACFC6Jz3PGUr.json | Processed: 0 | Other: 205 | Total Failed: 1\n",
      "290 / New keys in page: 186 | Sample ACFE6MxFh5lG.json | Processed: 0 | Other: 186 | Total Failed: 1\n",
      "291 / New keys in page: 209 | Sample ACFJYbrror70.json | Processed: 0 | Other: 209 | Total Failed: 1\n",
      "292 / New keys in page: 209 | Sample ACFOeJHb7GTh.json | Processed: 0 | Other: 209 | Total Failed: 1\n",
      "ACFRTDLLPqRq.json\n",
      "293 / New keys in page: 227 | Sample ACFRvE5Komu7.json | Processed: 0 | Other: 226 | Total Failed: 1\n",
      "294 / New keys in page: 210 | Sample ACFWWu62xG1z.json | Processed: 0 | Other: 210 | Total Failed: 1\n",
      "295 / New keys in page: 189 | Sample ACFYhk8jp1dI.json | Processed: 0 | Other: 189 | Total Failed: 1\n",
      "296 / New keys in page: 207 | Sample ACFcHHBfbC74.json | Processed: 0 | Other: 207 | Total Failed: 1\n",
      "ACFgi35DFdB3.json\n",
      "297 / New keys in page: 203 | Sample ACFeB05rPPC3.json | Processed: 0 | Other: 202 | Total Failed: 1\n",
      "298 / New keys in page: 196 | Sample ACFj8SqB8ccy.json | Processed: 0 | Other: 196 | Total Failed: 1\n",
      "299 / New keys in page: 179 | Sample ACFm46ItA4L9.json | Processed: 0 | Other: 179 | Total Failed: 1\n",
      "ACFrLK1wc8ly.json\n",
      "300 / New keys in page: 207 | Sample ACFr7i3qgjXz.json | Processed: 0 | Other: 206 | Total Failed: 1\n",
      "301 / New keys in page: 194 | Sample ACFsAPYrs4ep.json | Processed: 0 | Other: 194 | Total Failed: 1\n",
      "302 / New keys in page: 192 | Sample ACFvC0JR1imE.json | Processed: 0 | Other: 192 | Total Failed: 1\n",
      "303 / New keys in page: 206 | Sample ACFzH7mLIGy4.json | Processed: 0 | Other: 206 | Total Failed: 1\n",
      "304 / New keys in page: 180 | Sample ACG2DIAtzrJQ.json | Processed: 0 | Other: 180 | Total Failed: 1\n",
      "305 / New keys in page: 198 | Sample ACG5Gbd3x9gU.json | Processed: 0 | Other: 198 | Total Failed: 1\n",
      "306 / New keys in page: 223 | Sample ACGBJI4rQnCZ.json | Processed: 0 | Other: 223 | Total Failed: 1\n",
      "307 / New keys in page: 185 | Sample ACGCsFAMi9bD.json | Processed: 0 | Other: 185 | Total Failed: 1\n",
      "ACGH6ZoJklCB.json\n",
      "308 / New keys in page: 208 | Sample ACGF7VKhEWjH.json | Processed: 0 | Other: 207 | Total Failed: 1\n",
      "309 / New keys in page: 199 | Sample ACGKZF9BqeCK.json | Processed: 0 | Other: 199 | Total Failed: 1\n",
      "310 / New keys in page: 181 | Sample ACGPL7iLWQr1.json | Processed: 0 | Other: 181 | Total Failed: 1\n",
      "311 / New keys in page: 194 | Sample ACGTTrGwWjO8.json | Processed: 0 | Other: 194 | Total Failed: 1\n",
      "ACGVSeWkt0HO.json\n",
      "312 / New keys in page: 194 | Sample ACGWqncfIXTL.json | Processed: 0 | Other: 193 | Total Failed: 1\n",
      "313 / New keys in page: 185 | Sample ACGYx78jKvvQ.json | Processed: 0 | Other: 185 | Total Failed: 1\n",
      "314 / New keys in page: 219 | Sample ACGbbXTy7wT1.json | Processed: 0 | Other: 219 | Total Failed: 1\n",
      "315 / New keys in page: 184 | Sample ACGeZUvF5PiU.json | Processed: 0 | Other: 184 | Total Failed: 1\n",
      "316 / New keys in page: 215 | Sample ACGi11XQxjU9.json | Processed: 0 | Other: 215 | Total Failed: 1\n",
      "317 / New keys in page: 208 | Sample ACGllEjTd5li.json | Processed: 0 | Other: 208 | Total Failed: 1\n",
      "318 / New keys in page: 201 | Sample ACGqCiKofY32.json | Processed: 0 | Other: 201 | Total Failed: 1\n",
      "319 / New keys in page: 199 | Sample ACGsfuAQzaeB.json | Processed: 0 | Other: 199 | Total Failed: 1\n",
      "320 / New keys in page: 190 | Sample ACGvCpzix3ST.json | Processed: 0 | Other: 190 | Total Failed: 1\n",
      "321 / New keys in page: 208 | Sample ACH0147nqUtc.json | Processed: 0 | Other: 208 | Total Failed: 1\n",
      "322 / New keys in page: 205 | Sample ACH21BrZ35Yb.json | Processed: 0 | Other: 205 | Total Failed: 1\n",
      "323 / New keys in page: 196 | Sample ACH4y9bPEjEX.json | Processed: 0 | Other: 196 | Total Failed: 1\n",
      "324 / New keys in page: 207 | Sample ACH9l81mxnLM.json | Processed: 0 | Other: 207 | Total Failed: 1\n",
      "325 / New keys in page: 190 | Sample ACHDuL9skffh.json | Processed: 0 | Other: 190 | Total Failed: 1\n",
      "326 / New keys in page: 190 | Sample ACHICZv4nk1p.json | Processed: 0 | Other: 190 | Total Failed: 1\n",
      "327 / New keys in page: 206 | Sample ACHLaJ42wdZh.json | Processed: 0 | Other: 206 | Total Failed: 1\n",
      "328 / New keys in page: 182 | Sample ACHPVWiEaMpt.json | Processed: 0 | Other: 182 | Total Failed: 1\n",
      "ACHR65wnaCDg.json\n",
      "329 / New keys in page: 198 | Sample ACHSAv0hqKYQ.json | Processed: 0 | Other: 197 | Total Failed: 1\n",
      "330 / New keys in page: 199 | Sample ACHVEdXtTsVw.json | Processed: 0 | Other: 199 | Total Failed: 1\n",
      "331 / New keys in page: 220 | Sample ACHZvFC5cecz.json | Processed: 0 | Other: 220 | Total Failed: 1\n",
      "332 / New keys in page: 200 | Sample ACHbpt24Kgak.json | Processed: 0 | Other: 200 | Total Failed: 1\n",
      "333 / New keys in page: 186 | Sample ACHhZfQuXEls.json | Processed: 0 | Other: 186 | Total Failed: 1\n",
      "334 / New keys in page: 187 | Sample ACHi7fUPIMWX.json | Processed: 0 | Other: 187 | Total Failed: 1\n",
      "ACHnimnzRyno.json\n",
      "335 / New keys in page: 187 | Sample ACHoZVLEk74j.json | Processed: 0 | Other: 186 | Total Failed: 1\n",
      "336 / New keys in page: 228 | Sample ACHq4cseFnik.json | Processed: 0 | Other: 228 | Total Failed: 1\n",
      "337 / New keys in page: 203 | Sample ACHvJbw5YpUQ.json | Processed: 0 | Other: 203 | Total Failed: 1\n",
      "338 / New keys in page: 212 | Sample ACHwJff5t2ra.json | Processed: 0 | Other: 212 | Total Failed: 1\n",
      "339 / New keys in page: 210 | Sample ACI08qC9Msa0.json | Processed: 0 | Other: 210 | Total Failed: 1\n",
      "ACI4HUHWX7Zk.json\n",
      "340 / New keys in page: 192 | Sample ACI4JVC3373y.json | Processed: 0 | Other: 191 | Total Failed: 1\n",
      "341 / New keys in page: 176 | Sample ACI63Qs2hjDd.json | Processed: 0 | Other: 176 | Total Failed: 1\n",
      "342 / New keys in page: 200 | Sample ACI9QvfbJ7DU.json | Processed: 0 | Other: 200 | Total Failed: 1\n",
      "343 / New keys in page: 201 | Sample ACICTOj32Exa.json | Processed: 0 | Other: 201 | Total Failed: 1\n",
      "344 / New keys in page: 210 | Sample ACIG0FnvTXse.json | Processed: 0 | Other: 210 | Total Failed: 1\n",
      "345 / New keys in page: 206 | Sample ACIJkVuwe5JY.json | Processed: 0 | Other: 206 | Total Failed: 1\n",
      "346 / New keys in page: 213 | Sample ACIOshT17bO0.json | Processed: 0 | Other: 213 | Total Failed: 1\n",
      "347 / New keys in page: 210 | Sample ACIS6IOTfEvC.json | Processed: 0 | Other: 210 | Total Failed: 1\n",
      "348 / New keys in page: 200 | Sample ACIVItlpx0LI.json | Processed: 0 | Other: 200 | Total Failed: 1\n",
      "349 / New keys in page: 179 | Sample ACIYmbHR8KTE.json | Processed: 0 | Other: 179 | Total Failed: 1\n",
      "350 / New keys in page: 207 | Sample ACIfTM6J9A0Z.json | Processed: 0 | Other: 207 | Total Failed: 1\n",
      "351 / New keys in page: 190 | Sample ACIg6DYv4hoL.json | Processed: 0 | Other: 190 | Total Failed: 1\n",
      "ACImAhzug7j5.json\n",
      "ACIkv7hDne70.json\n",
      "352 / New keys in page: 199 | Sample ACImD1V0FxfQ.json | Processed: 0 | Other: 197 | Total Failed: 1\n",
      "353 / New keys in page: 205 | Sample ACIoH5GBtcX1.json | Processed: 0 | Other: 205 | Total Failed: 1\n",
      "354 / New keys in page: 212 | Sample ACIrC1hc1xFE.json | Processed: 0 | Other: 212 | Total Failed: 1\n",
      "355 / New keys in page: 205 | Sample ACIvSC9cQqMy.json | Processed: 0 | Other: 205 | Total Failed: 1\n",
      "356 / New keys in page: 201 | Sample ACIzaYymoZMQ.json | Processed: 0 | Other: 201 | Total Failed: 1\n",
      "357 / New keys in page: 204 | Sample ACJ22KIKA66z.json | Processed: 0 | Other: 204 | Total Failed: 1\n",
      "358 / New keys in page: 209 | Sample ACJ4xIg0TQL4.json | Processed: 0 | Other: 209 | Total Failed: 1\n",
      "359 / New keys in page: 203 | Sample ACJ7azJKZjn5.json | Processed: 0 | Other: 203 | Total Failed: 1\n",
      "360 / New keys in page: 202 | Sample ACJB2cKYULc6.json | Processed: 0 | Other: 202 | Total Failed: 1\n",
      "361 / New keys in page: 194 | Sample ACJFP0VRKt9C.json | Processed: 0 | Other: 194 | Total Failed: 1\n",
      "362 / New keys in page: 183 | Sample ACJHcoDL9Kbt.json | Processed: 0 | Other: 183 | Total Failed: 1\n",
      "363 / New keys in page: 180 | Sample ACJKcJl1vP4W.json | Processed: 0 | Other: 180 | Total Failed: 1\n",
      "364 / New keys in page: 193 | Sample ACJPwXF7kC3f.json | Processed: 0 | Other: 193 | Total Failed: 1\n",
      "365 / New keys in page: 221 | Sample ACJUtvquppHa.json | Processed: 0 | Other: 221 | Total Failed: 1\n",
      "366 / New keys in page: 199 | Sample ACJWFjEDiebO.json | Processed: 0 | Other: 199 | Total Failed: 1\n",
      "367 / New keys in page: 216 | Sample ACJaeJgghqDg.json | Processed: 0 | Other: 216 | Total Failed: 1\n",
      "368 / New keys in page: 212 | Sample ACJfvw7wdI8D.json | Processed: 0 | Other: 212 | Total Failed: 1\n",
      "369 / New keys in page: 168 | Sample ACJjZ8LBd9PE.json | Processed: 0 | Other: 168 | Total Failed: 1\n",
      "370 / New keys in page: 201 | Sample ACJlnpkLpu0V.json | Processed: 0 | Other: 201 | Total Failed: 1\n",
      "371 / New keys in page: 212 | Sample ACJpW08U28v3.json | Processed: 0 | Other: 212 | Total Failed: 1\n",
      "372 / New keys in page: 208 | Sample ACJtyVP0VMbx.json | Processed: 0 | Other: 208 | Total Failed: 1\n",
      "373 / New keys in page: 194 | Sample ACJwcsVjogQ1.json | Processed: 0 | Other: 194 | Total Failed: 1\n",
      "374 / New keys in page: 215 | Sample ACJy1kndB57r.json | Processed: 0 | Other: 215 | Total Failed: 1\n",
      "375 / New keys in page: 186 | Sample ACK37zqrOajc.json | Processed: 0 | Other: 186 | Total Failed: 1\n",
      "376 / New keys in page: 203 | Sample ACK49qJaxdSL.json | Processed: 0 | Other: 203 | Total Failed: 1\n",
      "377 / New keys in page: 196 | Sample ACK9Bd9zcGdr.json | Processed: 0 | Other: 196 | Total Failed: 1\n",
      "378 / New keys in page: 222 | Sample ACKB1iXF7gy1.json | Processed: 0 | Other: 222 | Total Failed: 1\n",
      "379 / New keys in page: 191 | Sample ACKHIYjtuI81.json | Processed: 0 | Other: 191 | Total Failed: 1\n",
      "380 / New keys in page: 205 | Sample ACKLD0WoQvPR.json | Processed: 0 | Other: 205 | Total Failed: 1\n",
      "381 / New keys in page: 206 | Sample ACKOuydd1waH.json | Processed: 0 | Other: 206 | Total Failed: 1\n",
      "382 / New keys in page: 231 | Sample ACKQ0oLHS960.json | Processed: 0 | Other: 231 | Total Failed: 1\n",
      "383 / New keys in page: 190 | Sample ACKVB1puiddS.json | Processed: 0 | Other: 190 | Total Failed: 1\n",
      "384 / New keys in page: 193 | Sample ACKZDp4Mh2M8.json | Processed: 0 | Other: 193 | Total Failed: 1\n",
      "385 / New keys in page: 200 | Sample ACKdd5K7qZxf.json | Processed: 0 | Other: 200 | Total Failed: 1\n",
      "ACKeMoyBUBGu.json\n",
      "386 / New keys in page: 192 | Sample ACKfWDCbrxR6.json | Processed: 0 | Other: 191 | Total Failed: 1\n",
      "387 / New keys in page: 222 | Sample ACKidhiPMSQQ.json | Processed: 0 | Other: 222 | Total Failed: 1\n",
      "ACKleYZGJiH4.json\n",
      "388 / New keys in page: 211 | Sample ACKoqzdWqpSV.json | Processed: 0 | Other: 210 | Total Failed: 1\n",
      "389 / New keys in page: 242 | Sample ACKs6eABf7LM.json | Processed: 0 | Other: 242 | Total Failed: 1\n",
      "390 / New keys in page: 189 | Sample ACKsQQc1kAxq.json | Processed: 0 | Other: 189 | Total Failed: 1\n",
      "391 / New keys in page: 219 | Sample ACKyb7FVBaTr.json | Processed: 0 | Other: 219 | Total Failed: 1\n",
      "392 / New keys in page: 212 | Sample ACL11Rix2KGW.json | Processed: 0 | Other: 212 | Total Failed: 1\n",
      "393 / New keys in page: 222 | Sample ACL5Ag4fvVfQ.json | Processed: 0 | Other: 222 | Total Failed: 1\n",
      "394 / New keys in page: 196 | Sample ACL7QDiy8ljF.json | Processed: 0 | Other: 196 | Total Failed: 1\n",
      "395 / New keys in page: 185 | Sample ACLAbhd2oclr.json | Processed: 0 | Other: 185 | Total Failed: 1\n",
      "396 / New keys in page: 194 | Sample ACLCyZwGRPTs.json | Processed: 0 | Other: 194 | Total Failed: 1\n",
      "397 / New keys in page: 215 | Sample ACLI1iOSqLJK.json | Processed: 0 | Other: 215 | Total Failed: 1\n",
      "398 / New keys in page: 188 | Sample ACLJRGf2vlah.json | Processed: 0 | Other: 188 | Total Failed: 1\n",
      "399 / New keys in page: 200 | Sample ACLO72u6zn5m.json | Processed: 0 | Other: 200 | Total Failed: 1\n",
      "400 / New keys in page: 218 | Sample ACLTR3Gpgrcl.json | Processed: 0 | Other: 218 | Total Failed: 1\n",
      "401 / New keys in page: 183 | Sample ACLWtfCdlwBp.json | Processed: 0 | Other: 183 | Total Failed: 1\n",
      "402 / New keys in page: 206 | Sample ACLYDmIioglV.json | Processed: 0 | Other: 206 | Total Failed: 1\n",
      "ACLeqy9z7afU.json\n",
      "403 / New keys in page: 227 | Sample ACLc11S5YA1m.json | Processed: 0 | Other: 226 | Total Failed: 1\n",
      "404 / New keys in page: 207 | Sample ACLhzoTYnRfQ.json | Processed: 0 | Other: 207 | Total Failed: 1\n",
      "ACLkCz56BJLS.json\n",
      "405 / New keys in page: 182 | Sample ACLkxtcqPLLb.json | Processed: 0 | Other: 181 | Total Failed: 1\n",
      "406 / New keys in page: 204 | Sample ACLox5hXMBSB.json | Processed: 0 | Other: 204 | Total Failed: 1\n",
      "407 / New keys in page: 192 | Sample ACLql92E1eOH.json | Processed: 0 | Other: 192 | Total Failed: 1\n",
      "408 / New keys in page: 195 | Sample ACLwBBy4rJYi.json | Processed: 0 | Other: 195 | Total Failed: 1\n",
      "409 / New keys in page: 191 | Sample ACLypIsQe9mh.json | Processed: 0 | Other: 191 | Total Failed: 1\n",
      "410 / New keys in page: 219 | Sample ACM1XhDWEM9x.json | Processed: 0 | Other: 219 | Total Failed: 1\n",
      "411 / New keys in page: 221 | Sample ACM5MVbnsotO.json | Processed: 0 | Other: 221 | Total Failed: 1\n",
      "412 / New keys in page: 191 | Sample ACM7KPuQY1BF.json | Processed: 0 | Other: 191 | Total Failed: 1\n",
      "413 / New keys in page: 186 | Sample ACM9ZqCTshme.json | Processed: 0 | Other: 186 | Total Failed: 1\n",
      "414 / New keys in page: 215 | Sample ACMD7gS0iHiS.json | Processed: 0 | Other: 215 | Total Failed: 1\n",
      "415 / New keys in page: 213 | Sample ACMHJypa8I3k.json | Processed: 0 | Other: 213 | Total Failed: 1\n",
      "ACMMVkG85Qds.json\n",
      "416 / New keys in page: 208 | Sample ACMKP1GL9j7h.json | Processed: 0 | Other: 207 | Total Failed: 1\n",
      "417 / New keys in page: 204 | Sample ACMP1IqRAuOB.json | Processed: 0 | Other: 204 | Total Failed: 1\n",
      "ACMSnIWPufAG.json\n",
      "418 / New keys in page: 196 | Sample ACMUGL7jDDeF.json | Processed: 0 | Other: 195 | Total Failed: 1\n",
      "419 / New keys in page: 218 | Sample ACMYFCBnSOOI.json | Processed: 0 | Other: 218 | Total Failed: 1\n",
      "420 / New keys in page: 188 | Sample ACMZgDl19srI.json | Processed: 0 | Other: 188 | Total Failed: 1\n",
      "421 / New keys in page: 204 | Sample ACMcdS05feFa.json | Processed: 0 | Other: 204 | Total Failed: 1\n",
      "422 / New keys in page: 210 | Sample ACMgI9OcG6qH.json | Processed: 0 | Other: 210 | Total Failed: 1\n",
      "423 / New keys in page: 203 | Sample ACMk1e50J2zB.json | Processed: 0 | Other: 203 | Total Failed: 1\n",
      "424 / New keys in page: 212 | Sample ACMor8aw3VTC.json | Processed: 0 | Other: 212 | Total Failed: 1\n",
      "425 / New keys in page: 192 | Sample ACMsO5tVkRiw.json | Processed: 0 | Other: 192 | Total Failed: 1\n",
      "426 / New keys in page: 214 | Sample ACMtfeyRFl0D.json | Processed: 0 | Other: 214 | Total Failed: 1\n",
      "427 / New keys in page: 178 | Sample ACMyDJU4JAGv.json | Processed: 0 | Other: 178 | Total Failed: 1\n",
      "428 / New keys in page: 185 | Sample ACO1lw0hH9FT.json | Processed: 0 | Other: 185 | Total Failed: 1\n",
      "429 / New keys in page: 187 | Sample ACO4to1rm4dh.json | Processed: 0 | Other: 187 | Total Failed: 1\n",
      "430 / New keys in page: 184 | Sample ACO6gRAZ72Dg.json | Processed: 0 | Other: 184 | Total Failed: 1\n",
      "431 / New keys in page: 216 | Sample ACOBb4Dg4KbT.json | Processed: 0 | Other: 216 | Total Failed: 1\n",
      "432 / New keys in page: 217 | Sample ACOGfZSaRYPW.json | Processed: 0 | Other: 217 | Total Failed: 1\n",
      "433 / New keys in page: 194 | Sample ACOIUEuUR6J0.json | Processed: 0 | Other: 194 | Total Failed: 1\n",
      "434 / New keys in page: 224 | Sample ACOMWqSr3Si5.json | Processed: 0 | Other: 224 | Total Failed: 1\n",
      "435 / New keys in page: 195 | Sample ACOSYxeqs1v6.json | Processed: 0 | Other: 195 | Total Failed: 1\n",
      "ACOVan5mcdP1.json\n",
      "436 / New keys in page: 199 | Sample ACOWDTxiQEA4.json | Processed: 0 | Other: 198 | Total Failed: 1\n",
      "437 / New keys in page: 209 | Sample ACOa0rRxQLqr.json | Processed: 0 | Other: 209 | Total Failed: 1\n",
      "438 / New keys in page: 221 | Sample ACOcYSd0rqKX.json | Processed: 0 | Other: 221 | Total Failed: 1\n",
      "439 / New keys in page: 229 | Sample ACOfxPRVZjvs.json | Processed: 0 | Other: 229 | Total Failed: 1\n",
      "440 / New keys in page: 220 | Sample ACOiG0fm91sW.json | Processed: 0 | Other: 220 | Total Failed: 1\n",
      "441 / New keys in page: 197 | Sample ACOlTnZBaPjc.json | Processed: 0 | Other: 197 | Total Failed: 1\n",
      "442 / New keys in page: 213 | Sample ACOqDiiODY7C.json | Processed: 0 | Other: 213 | Total Failed: 1\n",
      "443 / New keys in page: 194 | Sample ACOsyYM7qsQe.json | Processed: 0 | Other: 194 | Total Failed: 1\n",
      "444 / New keys in page: 192 | Sample ACOx8KvxGrx2.json | Processed: 0 | Other: 192 | Total Failed: 1\n",
      "445 / New keys in page: 188 | Sample ACP16ZcWdsSo.json | Processed: 0 | Other: 188 | Total Failed: 1\n",
      "446 / New keys in page: 240 | Sample ACP2iR9wcJCv.json | Processed: 0 | Other: 240 | Total Failed: 1\n",
      "447 / New keys in page: 213 | Sample ACP5yvmgO2XZ.json | Processed: 0 | Other: 213 | Total Failed: 1\n",
      "448 / New keys in page: 208 | Sample ACP8X1WOxvGm.json | Processed: 0 | Other: 208 | Total Failed: 1\n",
      "449 / New keys in page: 225 | Sample ACPCbMfFGsH0.json | Processed: 0 | Other: 225 | Total Failed: 1\n",
      "450 / New keys in page: 186 | Sample ACPH1djg1a1A.json | Processed: 0 | Other: 186 | Total Failed: 1\n",
      "451 / New keys in page: 199 | Sample ACPKMrAtSL3V.json | Processed: 0 | Other: 199 | Total Failed: 1\n",
      "452 / New keys in page: 196 | Sample ACPOMV1uqP4k.json | Processed: 0 | Other: 196 | Total Failed: 1\n",
      "453 / New keys in page: 220 | Sample ACPQO2XYtlsT.json | Processed: 0 | Other: 220 | Total Failed: 1\n",
      "454 / New keys in page: 197 | Sample ACPWc17EjiBg.json | Processed: 0 | Other: 197 | Total Failed: 1\n",
      "455 / New keys in page: 222 | Sample ACPYUvqjE8qs.json | Processed: 0 | Other: 222 | Total Failed: 1\n",
      "456 / New keys in page: 203 | Sample ACPdiJwbl1JZ.json | Processed: 0 | Other: 203 | Total Failed: 1\n",
      "457 / New keys in page: 171 | Sample ACPeyad1OSLk.json | Processed: 0 | Other: 171 | Total Failed: 1\n",
      "458 / New keys in page: 200 | Sample ACPhwHvmYxug.json | Processed: 0 | Other: 200 | Total Failed: 1\n",
      "459 / New keys in page: 201 | Sample ACPmEFnm4Qxd.json | Processed: 0 | Other: 201 | Total Failed: 1\n",
      "460 / New keys in page: 200 | Sample ACPowhWA4Amh.json | Processed: 0 | Other: 200 | Total Failed: 1\n",
      "461 / New keys in page: 218 | Sample ACPu9JlOxDj4.json | Processed: 0 | Other: 218 | Total Failed: 1\n",
      "462 / New keys in page: 198 | Sample ACPxsRT69Kil.json | Processed: 0 | Other: 198 | Total Failed: 1\n",
      "463 / New keys in page: 206 | Sample ACPzUqTSsWrx.json | Processed: 0 | Other: 206 | Total Failed: 1\n",
      "464 / New keys in page: 193 | Sample ACQ4vKUcxMmZ.json | Processed: 0 | Other: 193 | Total Failed: 1\n",
      "465 / New keys in page: 215 | Sample ACQ5wQs1uU8A.json | Processed: 0 | Other: 215 | Total Failed: 1\n",
      "ACQBu57SlkXi.json\n",
      "466 / New keys in page: 204 | Sample ACQAp5Htvr1l.json | Processed: 0 | Other: 203 | Total Failed: 1\n",
      "467 / New keys in page: 190 | Sample ACQCPQBwAU85.json | Processed: 0 | Other: 190 | Total Failed: 1\n",
      "468 / New keys in page: 208 | Sample ACQFQSC21nkW.json | Processed: 0 | Other: 208 | Total Failed: 1\n",
      "469 / New keys in page: 207 | Sample ACQJUE1wYiKj.json | Processed: 0 | Other: 207 | Total Failed: 1\n",
      "470 / New keys in page: 198 | Sample ACQP18bMcu6C.json | Processed: 0 | Other: 198 | Total Failed: 1\n",
      "471 / New keys in page: 211 | Sample ACQRI5FYzauU.json | Processed: 0 | Other: 211 | Total Failed: 1\n",
      "ACQUdFbBHwyH.json\n",
      "472 / New keys in page: 203 | Sample ACQV11AhayIW.json | Processed: 0 | Other: 202 | Total Failed: 1\n",
      "473 / New keys in page: 211 | Sample ACQafwGC7cuA.json | Processed: 0 | Other: 211 | Total Failed: 1\n",
      "ACQbYqTCikQp.json\n",
      "ACQczj7PzpKB.json\n",
      "474 / New keys in page: 194 | Sample ACQdq5jUjzK2.json | Processed: 0 | Other: 192 | Total Failed: 1\n",
      "475 / New keys in page: 195 | Sample ACQfACyBS8LH.json | Processed: 0 | Other: 195 | Total Failed: 1\n",
      "476 / New keys in page: 196 | Sample ACQjcBiigWEL.json | Processed: 0 | Other: 196 | Total Failed: 1\n",
      "477 / New keys in page: 204 | Sample ACQoC8vman1F.json | Processed: 0 | Other: 204 | Total Failed: 1\n",
      "478 / New keys in page: 208 | Sample ACQsDlhREZOX.json | Processed: 0 | Other: 208 | Total Failed: 1\n",
      "479 / New keys in page: 198 | Sample ACQuedOr7Lm0.json | Processed: 0 | Other: 198 | Total Failed: 1\n",
      "480 / New keys in page: 206 | Sample ACQwF4a5KZIA.json | Processed: 0 | Other: 206 | Total Failed: 1\n",
      "ACR1SfgI8cpu.json\n",
      "481 / New keys in page: 199 | Sample ACR0FWniRYf8.json | Processed: 0 | Other: 198 | Total Failed: 1\n",
      "482 / New keys in page: 210 | Sample ACR531siIwAJ.json | Processed: 0 | Other: 210 | Total Failed: 1\n",
      "483 / New keys in page: 207 | Sample ACR6wWkjm0Pr.json | Processed: 0 | Other: 207 | Total Failed: 1\n",
      "484 / New keys in page: 212 | Sample ACRB6eKByCTX.json | Processed: 0 | Other: 212 | Total Failed: 1\n",
      "485 / New keys in page: 198 | Sample ACRFbIFAYuBO.json | Processed: 0 | Other: 198 | Total Failed: 1\n",
      "486 / New keys in page: 193 | Sample ACRGJ93HkUZy.json | Processed: 0 | Other: 193 | Total Failed: 1\n",
      "487 / New keys in page: 213 | Sample ACRKB81nrCsT.json | Processed: 0 | Other: 213 | Total Failed: 1\n",
      "488 / New keys in page: 197 | Sample ACROPUc5YSAk.json | Processed: 0 | Other: 197 | Total Failed: 1\n",
      "489 / New keys in page: 189 | Sample ACRRzns2ZmQ2.json | Processed: 0 | Other: 189 | Total Failed: 1\n",
      "490 / New keys in page: 212 | Sample ACRX51Ypdkux.json | Processed: 0 | Other: 212 | Total Failed: 1\n",
      "491 / New keys in page: 190 | Sample ACRYn6KEj3Jh.json | Processed: 0 | Other: 190 | Total Failed: 1\n",
      "492 / New keys in page: 183 | Sample ACRbzeaudlmb.json | Processed: 0 | Other: 183 | Total Failed: 1\n",
      "493 / New keys in page: 213 | Sample ACRfqtxvn8f1.json | Processed: 0 | Other: 213 | Total Failed: 1\n",
      "494 / New keys in page: 203 | Sample ACRijX1fUU39.json | Processed: 0 | Other: 203 | Total Failed: 1\n",
      "495 / New keys in page: 216 | Sample ACRowFZGFuVc.json | Processed: 0 | Other: 216 | Total Failed: 1\n",
      "496 / New keys in page: 206 | Sample ACRrg4ocWPaX.json | Processed: 0 | Other: 206 | Total Failed: 1\n",
      "497 / New keys in page: 187 | Sample ACRv4wR7lk4X.json | Processed: 0 | Other: 187 | Total Failed: 1\n",
      "498 / New keys in page: 217 | Sample ACRyQahHPlQT.json | Processed: 0 | Other: 217 | Total Failed: 1\n",
      "499 / New keys in page: 203 | Sample ACS038OuVuoU.json | Processed: 0 | Other: 203 | Total Failed: 1\n",
      "500 / New keys in page: 188 | Sample ACS41FIIDW5X.json | Processed: 0 | Other: 188 | Total Failed: 1\n",
      "ACS5tpBVk88f.json\n",
      "501 / New keys in page: 188 | Sample ACS5qVI9f04h.json | Processed: 0 | Other: 187 | Total Failed: 1\n",
      "502 / New keys in page: 210 | Sample ACSBptWuMG8T.json | Processed: 0 | Other: 210 | Total Failed: 1\n",
      "503 / New keys in page: 219 | Sample ACSFnSI8CeE9.json | Processed: 0 | Other: 219 | Total Failed: 1\n",
      "504 / New keys in page: 191 | Sample ACSJfhjcZxtf.json | Processed: 0 | Other: 191 | Total Failed: 1\n",
      "505 / New keys in page: 203 | Sample ACSMsyiIbYod.json | Processed: 0 | Other: 203 | Total Failed: 1\n",
      "506 / New keys in page: 200 | Sample ACSQ4Pb6wcY4.json | Processed: 0 | Other: 200 | Total Failed: 1\n",
      "507 / New keys in page: 194 | Sample ACSTczjBgwUm.json | Processed: 0 | Other: 194 | Total Failed: 1\n",
      "508 / New keys in page: 190 | Sample ACSVw1Gq1DEL.json | Processed: 0 | Other: 190 | Total Failed: 1\n",
      "509 / New keys in page: 199 | Sample ACSZTfowcYOb.json | Processed: 0 | Other: 199 | Total Failed: 1\n",
      "510 / New keys in page: 206 | Sample ACSfOEJtLmtD.json | Processed: 0 | Other: 206 | Total Failed: 1\n",
      "511 / New keys in page: 181 | Sample ACSg1aT4Cq7z.json | Processed: 0 | Other: 181 | Total Failed: 1\n",
      "512 / New keys in page: 191 | Sample ACSk3wRZ1uRE.json | Processed: 0 | Other: 191 | Total Failed: 1\n",
      "513 / New keys in page: 209 | Sample ACSolWMlk7vi.json | Processed: 0 | Other: 209 | Total Failed: 1\n",
      "514 / New keys in page: 203 | Sample ACSr3V1XuCTo.json | Processed: 0 | Other: 203 | Total Failed: 1\n",
      "515 / New keys in page: 187 | Sample ACSwj8T40mxm.json | Processed: 0 | Other: 187 | Total Failed: 1\n",
      "516 / New keys in page: 218 | Sample ACSx9pScQz4g.json | Processed: 0 | Other: 218 | Total Failed: 1\n",
      "517 / New keys in page: 213 | Sample ACT1cVFB2Blp.json | Processed: 0 | Other: 213 | Total Failed: 1\n",
      "518 / New keys in page: 194 | Sample ACT2oDmYSFfO.json | Processed: 0 | Other: 194 | Total Failed: 1\n",
      "519 / New keys in page: 196 | Sample ACT6w8gc4ht9.json | Processed: 0 | Other: 196 | Total Failed: 1\n",
      "520 / New keys in page: 207 | Sample ACTAUKVpER2I.json | Processed: 0 | Other: 207 | Total Failed: 1\n",
      "521 / New keys in page: 191 | Sample ACTFp6Zunlrc.json | Processed: 0 | Other: 191 | Total Failed: 1\n",
      "522 / New keys in page: 201 | Sample ACTIn6Z0epMR.json | Processed: 0 | Other: 201 | Total Failed: 1\n",
      "523 / New keys in page: 175 | Sample ACTKs3iU7cok.json | Processed: 0 | Other: 175 | Total Failed: 1\n",
      "524 / New keys in page: 203 | Sample ACTQ9hOy0e0C.json | Processed: 0 | Other: 203 | Total Failed: 1\n",
      "525 / New keys in page: 221 | Sample ACTU8lCAMEZp.json | Processed: 0 | Other: 221 | Total Failed: 1\n",
      "526 / New keys in page: 222 | Sample ACTYGJxqyZ9x.json | Processed: 0 | Other: 222 | Total Failed: 1\n",
      "527 / New keys in page: 216 | Sample ACTbKpAAtRJR.json | Processed: 0 | Other: 216 | Total Failed: 1\n",
      "528 / New keys in page: 199 | Sample ACTeAZ6QIs7S.json | Processed: 0 | Other: 199 | Total Failed: 1\n",
      "529 / New keys in page: 216 | Sample ACTj1yupx8VI.json | Processed: 0 | Other: 216 | Total Failed: 1\n",
      "530 / New keys in page: 205 | Sample ACTkYsVkqwMT.json | Processed: 0 | Other: 205 | Total Failed: 1\n",
      "531 / New keys in page: 195 | Sample ACTpPnT5ZvQz.json | Processed: 0 | Other: 195 | Total Failed: 1\n",
      "ACTsXvfVZAV3.json\n",
      "532 / New keys in page: 202 | Sample ACTu3j126j5P.json | Processed: 0 | Other: 201 | Total Failed: 1\n",
      "533 / New keys in page: 199 | Sample ACTuxSDoKvfD.json | Processed: 0 | Other: 199 | Total Failed: 1\n",
      "534 / New keys in page: 215 | Sample ACTy4pDV3tKt.json | Processed: 0 | Other: 215 | Total Failed: 1\n",
      "ACU1q9ED4Bf2.json\n",
      "535 / New keys in page: 226 | Sample ACU3C9zqtUO8.json | Processed: 0 | Other: 225 | Total Failed: 1\n",
      "536 / New keys in page: 212 | Sample ACU7ApeT2nBG.json | Processed: 0 | Other: 212 | Total Failed: 1\n",
      "537 / New keys in page: 197 | Sample ACUAPPl5hmYu.json | Processed: 0 | Other: 197 | Total Failed: 1\n",
      "538 / New keys in page: 219 | Sample ACUD7i9cUDGj.json | Processed: 0 | Other: 219 | Total Failed: 1\n",
      "539 / New keys in page: 205 | Sample ACUEYGarSjcn.json | Processed: 0 | Other: 205 | Total Failed: 1\n",
      "540 / New keys in page: 220 | Sample ACUIkqYOZv1j.json | Processed: 0 | Other: 220 | Total Failed: 1\n",
      "541 / New keys in page: 210 | Sample ACULoLzDE1AO.json | Processed: 0 | Other: 210 | Total Failed: 1\n",
      "542 / New keys in page: 215 | Sample ACUQzVEgFB8v.json | Processed: 0 | Other: 215 | Total Failed: 1\n",
      "543 / New keys in page: 215 | Sample ACUWQSOilwRQ.json | Processed: 0 | Other: 215 | Total Failed: 1\n",
      "ACUYCtjigry7.json\n",
      "544 / New keys in page: 237 | Sample ACUZjouTCbFQ.json | Processed: 0 | Other: 236 | Total Failed: 1\n",
      "ACUcWU0KIIZB.json\n",
      "545 / New keys in page: 186 | Sample ACUbaR4Ip71n.json | Processed: 0 | Other: 185 | Total Failed: 1\n",
      "546 / New keys in page: 211 | Sample ACUg1Alt1gMR.json | Processed: 0 | Other: 211 | Total Failed: 1\n",
      "547 / New keys in page: 194 | Sample ACUh6AazqmYm.json | Processed: 0 | Other: 194 | Total Failed: 1\n",
      "548 / New keys in page: 210 | Sample ACUm0WB4wfVB.json | Processed: 0 | Other: 210 | Total Failed: 1\n",
      "549 / New keys in page: 181 | Sample ACUqBLe9kPOE.json | Processed: 0 | Other: 181 | Total Failed: 1\n",
      "550 / New keys in page: 180 | Sample ACUsET2wTr5T.json | Processed: 0 | Other: 180 | Total Failed: 1\n",
      "551 / New keys in page: 192 | Sample ACUwMbRugQX5.json | Processed: 0 | Other: 192 | Total Failed: 1\n",
      "ACV0BxQaF7Es.json\n",
      "552 / New keys in page: 208 | Sample ACUzGq7MbAB2.json | Processed: 0 | Other: 207 | Total Failed: 1\n",
      "553 / New keys in page: 202 | Sample ACV2a4mqr2MW.json | Processed: 0 | Other: 202 | Total Failed: 1\n",
      "554 / New keys in page: 198 | Sample ACV53kTeJk1q.json | Processed: 0 | Other: 198 | Total Failed: 1\n",
      "555 / New keys in page: 197 | Sample ACV8XnQYg2uI.json | Processed: 0 | Other: 197 | Total Failed: 1\n",
      "556 / New keys in page: 198 | Sample ACVC26P5ixhA.json | Processed: 0 | Other: 198 | Total Failed: 1\n",
      "557 / New keys in page: 195 | Sample ACVFPohoeq1J.json | Processed: 0 | Other: 195 | Total Failed: 1\n",
      "558 / New keys in page: 192 | Sample ACVJKuelBlnm.json | Processed: 0 | Other: 192 | Total Failed: 1\n",
      "559 / New keys in page: 194 | Sample ACVOJc7TFgh5.json | Processed: 0 | Other: 194 | Total Failed: 1\n",
      "560 / New keys in page: 200 | Sample ACVQhxILGG3c.json | Processed: 0 | Other: 200 | Total Failed: 1\n",
      "561 / New keys in page: 193 | Sample ACVTwGyjZCc7.json | Processed: 0 | Other: 193 | Total Failed: 1\n",
      "ACVWpXd4Wgi6.json\n",
      "ACVZsE4DqZfA.json\n",
      "562 / New keys in page: 202 | Sample ACVXcqLWA7RG.json | Processed: 0 | Other: 200 | Total Failed: 1\n",
      "563 / New keys in page: 191 | Sample ACVaKVMIY1AB.json | Processed: 0 | Other: 191 | Total Failed: 1\n",
      "ACVdUZ12Djz2.json\n",
      "564 / New keys in page: 193 | Sample ACVesrz6bDbF.json | Processed: 0 | Other: 192 | Total Failed: 1\n",
      "565 / New keys in page: 189 | Sample ACVjY1XMSUe1.json | Processed: 0 | Other: 189 | Total Failed: 1\n",
      "566 / New keys in page: 181 | Sample ACVm38O0myW6.json | Processed: 0 | Other: 181 | Total Failed: 1\n",
      "567 / New keys in page: 177 | Sample ACVpX8jaz8wX.json | Processed: 0 | Other: 177 | Total Failed: 1\n",
      "568 / New keys in page: 213 | Sample ACVug5AAcwnm.json | Processed: 0 | Other: 213 | Total Failed: 1\n",
      "569 / New keys in page: 220 | Sample ACVwCz1DfyoA.json | Processed: 0 | Other: 220 | Total Failed: 1\n",
      "570 / New keys in page: 208 | Sample ACW0oO9ndLOe.json | Processed: 0 | Other: 208 | Total Failed: 1\n",
      "571 / New keys in page: 211 | Sample ACW3UCJ12cRW.json | Processed: 0 | Other: 211 | Total Failed: 1\n",
      "572 / New keys in page: 205 | Sample ACW6RkxaZHJs.json | Processed: 0 | Other: 205 | Total Failed: 1\n",
      "ACW8gmHsJ8Y2.json\n",
      "ACWAEYfbDIeX.json\n",
      "573 / New keys in page: 220 | Sample ACW8mI3SgMZ5.json | Processed: 0 | Other: 218 | Total Failed: 1\n",
      "574 / New keys in page: 173 | Sample ACWDB9p67QvG.json | Processed: 0 | Other: 173 | Total Failed: 1\n",
      "575 / New keys in page: 178 | Sample ACWG3vSMPeS1.json | Processed: 0 | Other: 178 | Total Failed: 1\n",
      "576 / New keys in page: 203 | Sample ACWKVbluwjUt.json | Processed: 0 | Other: 203 | Total Failed: 1\n",
      "577 / New keys in page: 209 | Sample ACWLsi1nelKu.json | Processed: 0 | Other: 209 | Total Failed: 1\n",
      "578 / New keys in page: 209 | Sample ACWSIKHP2wJq.json | Processed: 0 | Other: 209 | Total Failed: 1\n",
      "579 / New keys in page: 209 | Sample ACWUzsphknnP.json | Processed: 0 | Other: 209 | Total Failed: 1\n"
     ]
    }
   ],
   "source": [
    "\n",
    "LIMIT = 1 # early stopping for debugging purposes\n",
    "i = 0 # pages\n",
    "j = 0 # constituciones\n",
    "\n",
    "output = []\n",
    "failed_cve = []\n",
    "\n",
    "for page in tqdm(pages, total=1200):\n",
    "    i = i + 1\n",
    "    contents = page['Contents']\n",
    "\n",
    "    keys = [obj['Key'] for obj in contents]\n",
    "    #keys_not_processed = [key for key in keys if key.split('.')[0] not in cve_processed]\n",
    "    keys_not_processed = set([key.split('.')[0] for key in keys]).difference(set(cve_processed))\n",
    "    keys_not_processed = [str(s) + '.json' for s in keys_not_processed if 'processed' not in s]\n",
    "\n",
    "    j = 0\n",
    "    k = 0\n",
    "    for key in keys_not_processed:\n",
    "        #key = obj['Key'\"\"]\n",
    "        #key_cve = key.split('.')\n",
    "        #if key_cve not in cve_processed:\n",
    "\n",
    "        # Read data\n",
    "        data_stream = s3.get_object(Bucket=bucket,Key=key)['Body'].read().decode('utf-8')\n",
    "\n",
    "        try:\n",
    "            #if data['tipo_actuacion'] == 'CONSTITUCION':\n",
    "            if \"CONSTITUCION\" in data_stream[:200]:\n",
    "                data = json.loads(data_stream)\n",
    "                dictout = get_data_study(data)\n",
    "                output.append(dictout)\n",
    "                j = j + 1\n",
    "            elif \"MODIFICACION\" in data_stream[:200]:\n",
    "                k = k + 1\n",
    "            elif \"TRANSFORMACION\" in data_stream[:200]:\n",
    "                k = k + 1\n",
    "            elif \"DISOLUCION\" in data_stream[:200]:\n",
    "                k = k + 1\n",
    "            elif \"EMIGRACION\" in data_stream[:200]:\n",
    "                k = k + 1\n",
    "            elif \"MIGRACION\" in data_stream[:200]:\n",
    "                k = k + 1\n",
    "            elif \"SANEAMIENTO\" in data_stream[:200]:\n",
    "                k = k + 1\n",
    "            elif \"RECTIFICACION\" in data_stream[:200]:\n",
    "                k = k + 1\n",
    "            elif \"ANOTACION\" in data_stream[:200]:\n",
    "                k = k + 1\n",
    "\n",
    "            else:\n",
    "                print(key)\n",
    "        except:\n",
    "            failed_cve.append(key)\n",
    "\n",
    "    print(i, '/ New keys in page:', len(keys_not_processed), '| Sample', keys_not_processed[0], \n",
    "          '| Processed:', j, '| Other:', k, '| Total Failed:', len(failed_cve))\n",
    "\n",
    "    #if i >= LIMIT:\n",
    "    #    break"
   ]
  },
  {
   "cell_type": "code",
   "execution_count": 80,
   "metadata": {},
   "outputs": [],
   "source": [
    "#!pip install line_profiler"
   ]
  },
  {
   "cell_type": "code",
   "execution_count": 81,
   "metadata": {},
   "outputs": [
    {
     "name": "stdout",
     "output_type": "stream",
     "text": [
      "The line_profiler extension is already loaded. To reload it, use:\n",
      "  %reload_ext line_profiler\n"
     ]
    }
   ],
   "source": [
    "%load_ext line_profiler"
   ]
  },
  {
   "cell_type": "code",
   "execution_count": 82,
   "metadata": {},
   "outputs": [
    {
     "data": {
      "application/vnd.jupyter.widget-view+json": {
       "model_id": "16138b45ef0646c2a2d0561e583c256f",
       "version_major": 2,
       "version_minor": 0
      },
      "text/plain": [
       "HBox(children=(FloatProgress(value=0.0, max=1200.0), HTML(value='')))"
      ]
     },
     "metadata": {},
     "output_type": "display_data"
    },
    {
     "data": {
      "text/plain": [
       "Timer unit: 1e-06 s\n",
       "\n",
       "Total time: 21.9568 s\n",
       "File: <ipython-input-79-b5e97e399272>\n",
       "Function: get_actuaciones at line 1\n",
       "\n",
       "Line #      Hits         Time  Per Hit   % Time  Line Contents\n",
       "==============================================================\n",
       "     1                                           def get_actuaciones():\n",
       "     2                                           \n",
       "     3         1          2.0      2.0      0.0      LIMIT = 1 # early stopping for debugging purposes\n",
       "     4         1          1.0      1.0      0.0      i = 0 # pages\n",
       "     5         1          1.0      1.0      0.0      j = 0 # constituciones\n",
       "     6                                           \n",
       "     7         1          1.0      1.0      0.0      output = []\n",
       "     8         1          1.0      1.0      0.0      failed_cve = []\n",
       "     9                                           \n",
       "    10         1     853736.0 853736.0      3.9      for page in tqdm(pages, total=1200):\n",
       "    11         1          2.0      2.0      0.0          i = i + 1\n",
       "    12         1          1.0      1.0      0.0          contents = page['Contents']\n",
       "    13                                           \n",
       "    14         1        214.0    214.0      0.0          keys = [obj['Key'] for obj in contents]\n",
       "    15         1   12022758.0 12022758.0     54.8          keys_not_processed = [key for key in keys if key.split('.')[0] not in cve_processed]\n",
       "    16                                           \n",
       "    17         1          2.0      2.0      0.0          j = 0\n",
       "    18         1          1.0      1.0      0.0          k = 0\n",
       "    19       197        330.0      1.7      0.0          for key in keys_not_processed:\n",
       "    20                                                       #key = obj['Key']\n",
       "    21                                                       #key_cve = key.split('.')\n",
       "    22                                                       #if key_cve not in cve_processed:\n",
       "    23                                           \n",
       "    24                                                       # Read data\n",
       "    25       196    9074580.0  46298.9     41.3              data_stream = s3.get_object(Bucket=bucket,Key=key)['Body'].read().decode('utf-8')\n",
       "    26                                           \n",
       "    27       196        483.0      2.5      0.0              try:\n",
       "    28                                                           #if data['tipo_actuacion'] == 'CONSTITUCION':\n",
       "    29       196        495.0      2.5      0.0                  if \"CONSTITUCION\" in data_stream[:200]:\n",
       "    30                                                               data = json.loads(data_stream)\n",
       "    31                                                               dictout = get_data_study(data)\n",
       "    32                                                               output.append(dictout)\n",
       "    33                                                               j = j + 1\n",
       "    34       196        259.0      1.3      0.0                  elif \"MODIFICACION\" in data_stream[:200]:\n",
       "    35       173        248.0      1.4      0.0                      k = k + 1\n",
       "    36        23         30.0      1.3      0.0                  elif \"TRANSFORMACION\" in data_stream[:200]:\n",
       "    37        13         15.0      1.2      0.0                      k = k + 1\n",
       "    38        10         13.0      1.3      0.0                  elif \"DISOLUCION\" in data_stream[:200]:\n",
       "    39         5          7.0      1.4      0.0                      k = k + 1\n",
       "    40         5          5.0      1.0      0.0                  elif \"EMIGRACION\" in data_stream[:200]:\n",
       "    41                                                               k = k + 1\n",
       "    42         5          5.0      1.0      0.0                  elif \"MIGRACION\" in data_stream[:200]:\n",
       "    43         1          1.0      1.0      0.0                      k = k + 1\n",
       "    44         4          4.0      1.0      0.0                  elif \"SANEAMIENTO\" in data_stream[:200]:\n",
       "    45         3          3.0      1.0      0.0                      k = k + 1\n",
       "    46         1          1.0      1.0      0.0                  elif \"RECTIFICACION\" in data_stream[:200]:\n",
       "    47         1          1.0      1.0      0.0                      k = k + 1\n",
       "    48                                                           elif \"ANOTACION\" in data_stream[:200]:\n",
       "    49                                                               k = k + 1\n",
       "    50                                           \n",
       "    51                                                           else:\n",
       "    52                                                               print(key)\n",
       "    53                                                       except:\n",
       "    54                                                           failed_cve.append(key)\n",
       "    55                                           \n",
       "    56         1          2.0      2.0      0.0          print(i, '/ New keys in page:', len(keys_not_processed), '| Sample', keys_not_processed[0], \n",
       "    57         1        604.0    604.0      0.0                '| Processed:', j, '| Other:', k, '| Total Failed:', len(failed_cve))\n",
       "    58                                           \n",
       "    59         1          2.0      2.0      0.0          if i >= LIMIT:\n",
       "    60         1       2943.0   2943.0      0.0              break"
      ]
     },
     "metadata": {},
     "output_type": "display_data"
    },
    {
     "name": "stdout",
     "output_type": "stream",
     "text": [
      "1 / New keys in page: 196 | Sample AC0RbK40QypB.json | Processed: 0 | Other: 196 | Total Failed: 0\n"
     ]
    }
   ],
   "source": [
    "%lprun -f get_actuaciones get_actuaciones()"
   ]
  },
  {
   "cell_type": "code",
   "execution_count": 45,
   "metadata": {},
   "outputs": [
    {
     "data": {
      "text/html": [
       "<div>\n",
       "<style scoped>\n",
       "    .dataframe tbody tr th:only-of-type {\n",
       "        vertical-align: middle;\n",
       "    }\n",
       "\n",
       "    .dataframe tbody tr th {\n",
       "        vertical-align: top;\n",
       "    }\n",
       "\n",
       "    .dataframe thead th {\n",
       "        text-align: right;\n",
       "    }\n",
       "</style>\n",
       "<table border=\"1\" class=\"dataframe\">\n",
       "  <thead>\n",
       "    <tr style=\"text-align: right;\">\n",
       "      <th></th>\n",
       "    </tr>\n",
       "  </thead>\n",
       "  <tbody>\n",
       "  </tbody>\n",
       "</table>\n",
       "</div>"
      ],
      "text/plain": [
       "Empty DataFrame\n",
       "Columns: []\n",
       "Index: []"
      ]
     },
     "execution_count": 45,
     "metadata": {},
     "output_type": "execute_result"
    }
   ],
   "source": [
    "df = pd.DataFrame(output)\n",
    "df.head()"
   ]
  },
  {
   "cell_type": "code",
   "execution_count": 46,
   "metadata": {},
   "outputs": [
    {
     "data": {
      "text/plain": [
       "(0, 0)"
      ]
     },
     "execution_count": 46,
     "metadata": {},
     "output_type": "execute_result"
    }
   ],
   "source": [
    "df.shape"
   ]
  },
  {
   "cell_type": "code",
   "execution_count": 17,
   "metadata": {},
   "outputs": [
    {
     "data": {
      "text/plain": [
       "rut              object\n",
       "cve              object\n",
       "fecha            object\n",
       "lugar            object\n",
       "tipo_sociedad    object\n",
       "objeto           object\n",
       "firmas           object\n",
       "dtype: object"
      ]
     },
     "execution_count": 17,
     "metadata": {},
     "output_type": "execute_result"
    }
   ],
   "source": [
    "df.dtypes"
   ]
  },
  {
   "cell_type": "markdown",
   "metadata": {},
   "source": [
    "## Transform "
   ]
  },
  {
   "cell_type": "markdown",
   "metadata": {},
   "source": [
    "Campo fecha"
   ]
  },
  {
   "cell_type": "code",
   "execution_count": 18,
   "metadata": {},
   "outputs": [],
   "source": [
    "df['fecha'] = pd.to_datetime(df['fecha'], format=\"%Y-%m-%d\")"
   ]
  },
  {
   "cell_type": "code",
   "execution_count": 19,
   "metadata": {},
   "outputs": [],
   "source": [
    "df['year'] = df['fecha'].dt.year\n",
    "df['month'] = df['fecha'].dt.month"
   ]
  },
  {
   "cell_type": "code",
   "execution_count": 20,
   "metadata": {},
   "outputs": [
    {
     "data": {
      "text/html": [
       "<div>\n",
       "<style scoped>\n",
       "    .dataframe tbody tr th:only-of-type {\n",
       "        vertical-align: middle;\n",
       "    }\n",
       "\n",
       "    .dataframe tbody tr th {\n",
       "        vertical-align: top;\n",
       "    }\n",
       "\n",
       "    .dataframe thead th {\n",
       "        text-align: right;\n",
       "    }\n",
       "</style>\n",
       "<table border=\"1\" class=\"dataframe\">\n",
       "  <thead>\n",
       "    <tr style=\"text-align: right;\">\n",
       "      <th></th>\n",
       "      <th>rut</th>\n",
       "      <th>cve</th>\n",
       "      <th>fecha</th>\n",
       "      <th>lugar</th>\n",
       "      <th>tipo_sociedad</th>\n",
       "      <th>objeto</th>\n",
       "      <th>firmas</th>\n",
       "      <th>year</th>\n",
       "      <th>month</th>\n",
       "    </tr>\n",
       "  </thead>\n",
       "  <tbody>\n",
       "    <tr>\n",
       "      <th>0</th>\n",
       "      <td>77051535-1</td>\n",
       "      <td>AC000lvffws1</td>\n",
       "      <td>2019-08-06</td>\n",
       "      <td>En MELIPEUCO, Región de LA ARAUCANIA, Chile, a...</td>\n",
       "      <td>EMPRESA INDIVIDUAL DE RESPONSABILIDAD LIMITADA</td>\n",
       "      <td>La Empresa tendrá por objeto desarrollar las s...</td>\n",
       "      <td>[{'rut': '19.479.301-4', 'nombre': 'DAVID NICO...</td>\n",
       "      <td>2019</td>\n",
       "      <td>8</td>\n",
       "    </tr>\n",
       "    <tr>\n",
       "      <th>1</th>\n",
       "      <td>76707638-K</td>\n",
       "      <td>AC000rmdak0p</td>\n",
       "      <td>2017-02-24</td>\n",
       "      <td>En CONCEPCION, Región del BIOBIO, Chile, a 24 ...</td>\n",
       "      <td>EMPRESA INDIVIDUAL DE RESPONSABILIDAD LIMITADA</td>\n",
       "      <td>La Empresa tendrá por objeto desarrollar las s...</td>\n",
       "      <td>[{'rut': '12.006.720-6', 'nombre': 'MIGUEL ALE...</td>\n",
       "      <td>2017</td>\n",
       "      <td>2</td>\n",
       "    </tr>\n",
       "    <tr>\n",
       "      <th>2</th>\n",
       "      <td>77556566-7</td>\n",
       "      <td>AC0016ZGLrAC</td>\n",
       "      <td>2022-04-11</td>\n",
       "      <td>En VALDIVIA, Región de LOS RIOS, Chile, a 11 d...</td>\n",
       "      <td>SOCIEDAD POR ACCIONES</td>\n",
       "      <td>El objeto de la sociedad será a) Inversión, Ex...</td>\n",
       "      <td>[{'rut': '11.933.089-0', 'nombre': 'ROSA HERMI...</td>\n",
       "      <td>2022</td>\n",
       "      <td>4</td>\n",
       "    </tr>\n",
       "    <tr>\n",
       "      <th>3</th>\n",
       "      <td>77215315-5</td>\n",
       "      <td>AC001EmedaGk</td>\n",
       "      <td>2020-09-02</td>\n",
       "      <td>En ÑUÑOA, Región METROPOLITANA DE SANTIAGO, Ch...</td>\n",
       "      <td>SOCIEDAD POR ACCIONES</td>\n",
       "      <td>El objeto de la sociedad será Consultoria en T...</td>\n",
       "      <td>[{'rut': '17.118.202-6', 'nombre': 'DANTE FRAN...</td>\n",
       "      <td>2020</td>\n",
       "      <td>9</td>\n",
       "    </tr>\n",
       "    <tr>\n",
       "      <th>4</th>\n",
       "      <td>77462715-4</td>\n",
       "      <td>AC001EoYD4Yq</td>\n",
       "      <td>2021-10-14</td>\n",
       "      <td>En PROVIDENCIA, Región METROPOLITANA DE SANTIA...</td>\n",
       "      <td>SOCIEDAD DE RESPONSABILIDAD LIMITADA</td>\n",
       "      <td>La Sociedad tendrá por objeto desarrollar las ...</td>\n",
       "      <td>[{'rut': '18.848.785-8', 'nombre': 'LUIS FELIP...</td>\n",
       "      <td>2021</td>\n",
       "      <td>10</td>\n",
       "    </tr>\n",
       "  </tbody>\n",
       "</table>\n",
       "</div>"
      ],
      "text/plain": [
       "          rut           cve      fecha  \\\n",
       "0  77051535-1  AC000lvffws1 2019-08-06   \n",
       "1  76707638-K  AC000rmdak0p 2017-02-24   \n",
       "2  77556566-7  AC0016ZGLrAC 2022-04-11   \n",
       "3  77215315-5  AC001EmedaGk 2020-09-02   \n",
       "4  77462715-4  AC001EoYD4Yq 2021-10-14   \n",
       "\n",
       "                                               lugar  \\\n",
       "0  En MELIPEUCO, Región de LA ARAUCANIA, Chile, a...   \n",
       "1  En CONCEPCION, Región del BIOBIO, Chile, a 24 ...   \n",
       "2  En VALDIVIA, Región de LOS RIOS, Chile, a 11 d...   \n",
       "3  En ÑUÑOA, Región METROPOLITANA DE SANTIAGO, Ch...   \n",
       "4  En PROVIDENCIA, Región METROPOLITANA DE SANTIA...   \n",
       "\n",
       "                                    tipo_sociedad  \\\n",
       "0  EMPRESA INDIVIDUAL DE RESPONSABILIDAD LIMITADA   \n",
       "1  EMPRESA INDIVIDUAL DE RESPONSABILIDAD LIMITADA   \n",
       "2                           SOCIEDAD POR ACCIONES   \n",
       "3                           SOCIEDAD POR ACCIONES   \n",
       "4            SOCIEDAD DE RESPONSABILIDAD LIMITADA   \n",
       "\n",
       "                                              objeto  \\\n",
       "0  La Empresa tendrá por objeto desarrollar las s...   \n",
       "1  La Empresa tendrá por objeto desarrollar las s...   \n",
       "2  El objeto de la sociedad será a) Inversión, Ex...   \n",
       "3  El objeto de la sociedad será Consultoria en T...   \n",
       "4  La Sociedad tendrá por objeto desarrollar las ...   \n",
       "\n",
       "                                              firmas  year  month  \n",
       "0  [{'rut': '19.479.301-4', 'nombre': 'DAVID NICO...  2019      8  \n",
       "1  [{'rut': '12.006.720-6', 'nombre': 'MIGUEL ALE...  2017      2  \n",
       "2  [{'rut': '11.933.089-0', 'nombre': 'ROSA HERMI...  2022      4  \n",
       "3  [{'rut': '17.118.202-6', 'nombre': 'DANTE FRAN...  2020      9  \n",
       "4  [{'rut': '18.848.785-8', 'nombre': 'LUIS FELIP...  2021     10  "
      ]
     },
     "execution_count": 20,
     "metadata": {},
     "output_type": "execute_result"
    }
   ],
   "source": [
    "df.head()"
   ]
  },
  {
   "cell_type": "markdown",
   "metadata": {},
   "source": [
    "## Load "
   ]
  },
  {
   "cell_type": "markdown",
   "metadata": {},
   "source": [
    "En formato Apache Parquet"
   ]
  },
  {
   "cell_type": "code",
   "execution_count": 21,
   "metadata": {},
   "outputs": [
    {
     "data": {
      "text/plain": [
       "{'paths': ['s3://legalres-storage-study-json/processed/year=2013/month=5/275de328138f41dfb2cbd75ced977514.snappy.parquet',\n",
       "  's3://legalres-storage-study-json/processed/year=2013/month=7/275de328138f41dfb2cbd75ced977514.snappy.parquet',\n",
       "  's3://legalres-storage-study-json/processed/year=2013/month=8/275de328138f41dfb2cbd75ced977514.snappy.parquet',\n",
       "  's3://legalres-storage-study-json/processed/year=2013/month=10/275de328138f41dfb2cbd75ced977514.snappy.parquet',\n",
       "  's3://legalres-storage-study-json/processed/year=2013/month=11/275de328138f41dfb2cbd75ced977514.snappy.parquet',\n",
       "  's3://legalres-storage-study-json/processed/year=2013/month=12/275de328138f41dfb2cbd75ced977514.snappy.parquet',\n",
       "  's3://legalres-storage-study-json/processed/year=2014/month=1/275de328138f41dfb2cbd75ced977514.snappy.parquet',\n",
       "  's3://legalres-storage-study-json/processed/year=2014/month=2/275de328138f41dfb2cbd75ced977514.snappy.parquet',\n",
       "  's3://legalres-storage-study-json/processed/year=2014/month=3/275de328138f41dfb2cbd75ced977514.snappy.parquet',\n",
       "  's3://legalres-storage-study-json/processed/year=2014/month=4/275de328138f41dfb2cbd75ced977514.snappy.parquet',\n",
       "  's3://legalres-storage-study-json/processed/year=2014/month=5/275de328138f41dfb2cbd75ced977514.snappy.parquet',\n",
       "  's3://legalres-storage-study-json/processed/year=2014/month=6/275de328138f41dfb2cbd75ced977514.snappy.parquet',\n",
       "  's3://legalres-storage-study-json/processed/year=2014/month=7/275de328138f41dfb2cbd75ced977514.snappy.parquet',\n",
       "  's3://legalres-storage-study-json/processed/year=2014/month=8/275de328138f41dfb2cbd75ced977514.snappy.parquet',\n",
       "  's3://legalres-storage-study-json/processed/year=2014/month=9/275de328138f41dfb2cbd75ced977514.snappy.parquet',\n",
       "  's3://legalres-storage-study-json/processed/year=2014/month=10/275de328138f41dfb2cbd75ced977514.snappy.parquet',\n",
       "  's3://legalres-storage-study-json/processed/year=2014/month=11/275de328138f41dfb2cbd75ced977514.snappy.parquet',\n",
       "  's3://legalres-storage-study-json/processed/year=2014/month=12/275de328138f41dfb2cbd75ced977514.snappy.parquet',\n",
       "  's3://legalres-storage-study-json/processed/year=2015/month=1/275de328138f41dfb2cbd75ced977514.snappy.parquet',\n",
       "  's3://legalres-storage-study-json/processed/year=2015/month=2/275de328138f41dfb2cbd75ced977514.snappy.parquet',\n",
       "  's3://legalres-storage-study-json/processed/year=2015/month=3/275de328138f41dfb2cbd75ced977514.snappy.parquet',\n",
       "  's3://legalres-storage-study-json/processed/year=2015/month=4/275de328138f41dfb2cbd75ced977514.snappy.parquet',\n",
       "  's3://legalres-storage-study-json/processed/year=2015/month=5/275de328138f41dfb2cbd75ced977514.snappy.parquet',\n",
       "  's3://legalres-storage-study-json/processed/year=2015/month=6/275de328138f41dfb2cbd75ced977514.snappy.parquet',\n",
       "  's3://legalres-storage-study-json/processed/year=2015/month=7/275de328138f41dfb2cbd75ced977514.snappy.parquet',\n",
       "  's3://legalres-storage-study-json/processed/year=2015/month=8/275de328138f41dfb2cbd75ced977514.snappy.parquet',\n",
       "  's3://legalres-storage-study-json/processed/year=2015/month=9/275de328138f41dfb2cbd75ced977514.snappy.parquet',\n",
       "  's3://legalres-storage-study-json/processed/year=2015/month=10/275de328138f41dfb2cbd75ced977514.snappy.parquet',\n",
       "  's3://legalres-storage-study-json/processed/year=2015/month=11/275de328138f41dfb2cbd75ced977514.snappy.parquet',\n",
       "  's3://legalres-storage-study-json/processed/year=2015/month=12/275de328138f41dfb2cbd75ced977514.snappy.parquet',\n",
       "  's3://legalres-storage-study-json/processed/year=2016/month=1/275de328138f41dfb2cbd75ced977514.snappy.parquet',\n",
       "  's3://legalres-storage-study-json/processed/year=2016/month=2/275de328138f41dfb2cbd75ced977514.snappy.parquet',\n",
       "  's3://legalres-storage-study-json/processed/year=2016/month=3/275de328138f41dfb2cbd75ced977514.snappy.parquet',\n",
       "  's3://legalres-storage-study-json/processed/year=2016/month=4/275de328138f41dfb2cbd75ced977514.snappy.parquet',\n",
       "  's3://legalres-storage-study-json/processed/year=2016/month=5/275de328138f41dfb2cbd75ced977514.snappy.parquet',\n",
       "  's3://legalres-storage-study-json/processed/year=2016/month=6/275de328138f41dfb2cbd75ced977514.snappy.parquet',\n",
       "  's3://legalres-storage-study-json/processed/year=2016/month=7/275de328138f41dfb2cbd75ced977514.snappy.parquet',\n",
       "  's3://legalres-storage-study-json/processed/year=2016/month=8/275de328138f41dfb2cbd75ced977514.snappy.parquet',\n",
       "  's3://legalres-storage-study-json/processed/year=2016/month=9/275de328138f41dfb2cbd75ced977514.snappy.parquet',\n",
       "  's3://legalres-storage-study-json/processed/year=2016/month=10/275de328138f41dfb2cbd75ced977514.snappy.parquet',\n",
       "  's3://legalres-storage-study-json/processed/year=2016/month=11/275de328138f41dfb2cbd75ced977514.snappy.parquet',\n",
       "  's3://legalres-storage-study-json/processed/year=2016/month=12/275de328138f41dfb2cbd75ced977514.snappy.parquet',\n",
       "  's3://legalres-storage-study-json/processed/year=2017/month=1/275de328138f41dfb2cbd75ced977514.snappy.parquet',\n",
       "  's3://legalres-storage-study-json/processed/year=2017/month=2/275de328138f41dfb2cbd75ced977514.snappy.parquet',\n",
       "  's3://legalres-storage-study-json/processed/year=2017/month=3/275de328138f41dfb2cbd75ced977514.snappy.parquet',\n",
       "  's3://legalres-storage-study-json/processed/year=2017/month=4/275de328138f41dfb2cbd75ced977514.snappy.parquet',\n",
       "  's3://legalres-storage-study-json/processed/year=2017/month=5/275de328138f41dfb2cbd75ced977514.snappy.parquet',\n",
       "  's3://legalres-storage-study-json/processed/year=2017/month=6/275de328138f41dfb2cbd75ced977514.snappy.parquet',\n",
       "  's3://legalres-storage-study-json/processed/year=2017/month=7/275de328138f41dfb2cbd75ced977514.snappy.parquet',\n",
       "  's3://legalres-storage-study-json/processed/year=2017/month=8/275de328138f41dfb2cbd75ced977514.snappy.parquet',\n",
       "  's3://legalres-storage-study-json/processed/year=2017/month=9/275de328138f41dfb2cbd75ced977514.snappy.parquet',\n",
       "  's3://legalres-storage-study-json/processed/year=2017/month=10/275de328138f41dfb2cbd75ced977514.snappy.parquet',\n",
       "  's3://legalres-storage-study-json/processed/year=2017/month=11/275de328138f41dfb2cbd75ced977514.snappy.parquet',\n",
       "  's3://legalres-storage-study-json/processed/year=2017/month=12/275de328138f41dfb2cbd75ced977514.snappy.parquet',\n",
       "  's3://legalres-storage-study-json/processed/year=2018/month=1/275de328138f41dfb2cbd75ced977514.snappy.parquet',\n",
       "  's3://legalres-storage-study-json/processed/year=2018/month=2/275de328138f41dfb2cbd75ced977514.snappy.parquet',\n",
       "  's3://legalres-storage-study-json/processed/year=2018/month=3/275de328138f41dfb2cbd75ced977514.snappy.parquet',\n",
       "  's3://legalres-storage-study-json/processed/year=2018/month=4/275de328138f41dfb2cbd75ced977514.snappy.parquet',\n",
       "  's3://legalres-storage-study-json/processed/year=2018/month=5/275de328138f41dfb2cbd75ced977514.snappy.parquet',\n",
       "  's3://legalres-storage-study-json/processed/year=2018/month=6/275de328138f41dfb2cbd75ced977514.snappy.parquet',\n",
       "  's3://legalres-storage-study-json/processed/year=2018/month=7/275de328138f41dfb2cbd75ced977514.snappy.parquet',\n",
       "  's3://legalres-storage-study-json/processed/year=2018/month=8/275de328138f41dfb2cbd75ced977514.snappy.parquet',\n",
       "  's3://legalres-storage-study-json/processed/year=2018/month=9/275de328138f41dfb2cbd75ced977514.snappy.parquet',\n",
       "  's3://legalres-storage-study-json/processed/year=2018/month=10/275de328138f41dfb2cbd75ced977514.snappy.parquet',\n",
       "  's3://legalres-storage-study-json/processed/year=2018/month=11/275de328138f41dfb2cbd75ced977514.snappy.parquet',\n",
       "  's3://legalres-storage-study-json/processed/year=2018/month=12/275de328138f41dfb2cbd75ced977514.snappy.parquet',\n",
       "  's3://legalres-storage-study-json/processed/year=2019/month=1/275de328138f41dfb2cbd75ced977514.snappy.parquet',\n",
       "  's3://legalres-storage-study-json/processed/year=2019/month=2/275de328138f41dfb2cbd75ced977514.snappy.parquet',\n",
       "  's3://legalres-storage-study-json/processed/year=2019/month=3/275de328138f41dfb2cbd75ced977514.snappy.parquet',\n",
       "  's3://legalres-storage-study-json/processed/year=2019/month=4/275de328138f41dfb2cbd75ced977514.snappy.parquet',\n",
       "  's3://legalres-storage-study-json/processed/year=2019/month=5/275de328138f41dfb2cbd75ced977514.snappy.parquet',\n",
       "  's3://legalres-storage-study-json/processed/year=2019/month=6/275de328138f41dfb2cbd75ced977514.snappy.parquet',\n",
       "  's3://legalres-storage-study-json/processed/year=2019/month=7/275de328138f41dfb2cbd75ced977514.snappy.parquet',\n",
       "  's3://legalres-storage-study-json/processed/year=2019/month=8/275de328138f41dfb2cbd75ced977514.snappy.parquet',\n",
       "  's3://legalres-storage-study-json/processed/year=2019/month=9/275de328138f41dfb2cbd75ced977514.snappy.parquet',\n",
       "  's3://legalres-storage-study-json/processed/year=2019/month=10/275de328138f41dfb2cbd75ced977514.snappy.parquet',\n",
       "  's3://legalres-storage-study-json/processed/year=2019/month=11/275de328138f41dfb2cbd75ced977514.snappy.parquet',\n",
       "  's3://legalres-storage-study-json/processed/year=2019/month=12/275de328138f41dfb2cbd75ced977514.snappy.parquet',\n",
       "  's3://legalres-storage-study-json/processed/year=2020/month=1/275de328138f41dfb2cbd75ced977514.snappy.parquet',\n",
       "  's3://legalres-storage-study-json/processed/year=2020/month=2/275de328138f41dfb2cbd75ced977514.snappy.parquet',\n",
       "  's3://legalres-storage-study-json/processed/year=2020/month=3/275de328138f41dfb2cbd75ced977514.snappy.parquet',\n",
       "  's3://legalres-storage-study-json/processed/year=2020/month=4/275de328138f41dfb2cbd75ced977514.snappy.parquet',\n",
       "  's3://legalres-storage-study-json/processed/year=2020/month=5/275de328138f41dfb2cbd75ced977514.snappy.parquet',\n",
       "  's3://legalres-storage-study-json/processed/year=2020/month=6/275de328138f41dfb2cbd75ced977514.snappy.parquet',\n",
       "  's3://legalres-storage-study-json/processed/year=2020/month=7/275de328138f41dfb2cbd75ced977514.snappy.parquet',\n",
       "  's3://legalres-storage-study-json/processed/year=2020/month=8/275de328138f41dfb2cbd75ced977514.snappy.parquet',\n",
       "  's3://legalres-storage-study-json/processed/year=2020/month=9/275de328138f41dfb2cbd75ced977514.snappy.parquet',\n",
       "  's3://legalres-storage-study-json/processed/year=2020/month=10/275de328138f41dfb2cbd75ced977514.snappy.parquet',\n",
       "  's3://legalres-storage-study-json/processed/year=2020/month=11/275de328138f41dfb2cbd75ced977514.snappy.parquet',\n",
       "  's3://legalres-storage-study-json/processed/year=2020/month=12/275de328138f41dfb2cbd75ced977514.snappy.parquet',\n",
       "  's3://legalres-storage-study-json/processed/year=2021/month=1/275de328138f41dfb2cbd75ced977514.snappy.parquet',\n",
       "  's3://legalres-storage-study-json/processed/year=2021/month=2/275de328138f41dfb2cbd75ced977514.snappy.parquet',\n",
       "  's3://legalres-storage-study-json/processed/year=2021/month=3/275de328138f41dfb2cbd75ced977514.snappy.parquet',\n",
       "  's3://legalres-storage-study-json/processed/year=2021/month=4/275de328138f41dfb2cbd75ced977514.snappy.parquet',\n",
       "  's3://legalres-storage-study-json/processed/year=2021/month=5/275de328138f41dfb2cbd75ced977514.snappy.parquet',\n",
       "  's3://legalres-storage-study-json/processed/year=2021/month=6/275de328138f41dfb2cbd75ced977514.snappy.parquet',\n",
       "  's3://legalres-storage-study-json/processed/year=2021/month=7/275de328138f41dfb2cbd75ced977514.snappy.parquet',\n",
       "  's3://legalres-storage-study-json/processed/year=2021/month=8/275de328138f41dfb2cbd75ced977514.snappy.parquet',\n",
       "  's3://legalres-storage-study-json/processed/year=2021/month=9/275de328138f41dfb2cbd75ced977514.snappy.parquet',\n",
       "  's3://legalres-storage-study-json/processed/year=2021/month=10/275de328138f41dfb2cbd75ced977514.snappy.parquet',\n",
       "  's3://legalres-storage-study-json/processed/year=2021/month=11/275de328138f41dfb2cbd75ced977514.snappy.parquet',\n",
       "  's3://legalres-storage-study-json/processed/year=2021/month=12/275de328138f41dfb2cbd75ced977514.snappy.parquet',\n",
       "  's3://legalres-storage-study-json/processed/year=2022/month=1/275de328138f41dfb2cbd75ced977514.snappy.parquet',\n",
       "  's3://legalres-storage-study-json/processed/year=2022/month=2/275de328138f41dfb2cbd75ced977514.snappy.parquet',\n",
       "  's3://legalres-storage-study-json/processed/year=2022/month=3/275de328138f41dfb2cbd75ced977514.snappy.parquet',\n",
       "  's3://legalres-storage-study-json/processed/year=2022/month=4/275de328138f41dfb2cbd75ced977514.snappy.parquet',\n",
       "  's3://legalres-storage-study-json/processed/year=2022/month=5/275de328138f41dfb2cbd75ced977514.snappy.parquet'],\n",
       " 'partitions_values': {'s3://legalres-storage-study-json/processed/year=2013/month=5/': ['2013',\n",
       "   '5'],\n",
       "  's3://legalres-storage-study-json/processed/year=2013/month=7/': ['2013',\n",
       "   '7'],\n",
       "  's3://legalres-storage-study-json/processed/year=2013/month=8/': ['2013',\n",
       "   '8'],\n",
       "  's3://legalres-storage-study-json/processed/year=2013/month=10/': ['2013',\n",
       "   '10'],\n",
       "  's3://legalres-storage-study-json/processed/year=2013/month=11/': ['2013',\n",
       "   '11'],\n",
       "  's3://legalres-storage-study-json/processed/year=2013/month=12/': ['2013',\n",
       "   '12'],\n",
       "  's3://legalres-storage-study-json/processed/year=2014/month=1/': ['2014',\n",
       "   '1'],\n",
       "  's3://legalres-storage-study-json/processed/year=2014/month=2/': ['2014',\n",
       "   '2'],\n",
       "  's3://legalres-storage-study-json/processed/year=2014/month=3/': ['2014',\n",
       "   '3'],\n",
       "  's3://legalres-storage-study-json/processed/year=2014/month=4/': ['2014',\n",
       "   '4'],\n",
       "  's3://legalres-storage-study-json/processed/year=2014/month=5/': ['2014',\n",
       "   '5'],\n",
       "  's3://legalres-storage-study-json/processed/year=2014/month=6/': ['2014',\n",
       "   '6'],\n",
       "  's3://legalres-storage-study-json/processed/year=2014/month=7/': ['2014',\n",
       "   '7'],\n",
       "  's3://legalres-storage-study-json/processed/year=2014/month=8/': ['2014',\n",
       "   '8'],\n",
       "  's3://legalres-storage-study-json/processed/year=2014/month=9/': ['2014',\n",
       "   '9'],\n",
       "  's3://legalres-storage-study-json/processed/year=2014/month=10/': ['2014',\n",
       "   '10'],\n",
       "  's3://legalres-storage-study-json/processed/year=2014/month=11/': ['2014',\n",
       "   '11'],\n",
       "  's3://legalres-storage-study-json/processed/year=2014/month=12/': ['2014',\n",
       "   '12'],\n",
       "  's3://legalres-storage-study-json/processed/year=2015/month=1/': ['2015',\n",
       "   '1'],\n",
       "  's3://legalres-storage-study-json/processed/year=2015/month=2/': ['2015',\n",
       "   '2'],\n",
       "  's3://legalres-storage-study-json/processed/year=2015/month=3/': ['2015',\n",
       "   '3'],\n",
       "  's3://legalres-storage-study-json/processed/year=2015/month=4/': ['2015',\n",
       "   '4'],\n",
       "  's3://legalres-storage-study-json/processed/year=2015/month=5/': ['2015',\n",
       "   '5'],\n",
       "  's3://legalres-storage-study-json/processed/year=2015/month=6/': ['2015',\n",
       "   '6'],\n",
       "  's3://legalres-storage-study-json/processed/year=2015/month=7/': ['2015',\n",
       "   '7'],\n",
       "  's3://legalres-storage-study-json/processed/year=2015/month=8/': ['2015',\n",
       "   '8'],\n",
       "  's3://legalres-storage-study-json/processed/year=2015/month=9/': ['2015',\n",
       "   '9'],\n",
       "  's3://legalres-storage-study-json/processed/year=2015/month=10/': ['2015',\n",
       "   '10'],\n",
       "  's3://legalres-storage-study-json/processed/year=2015/month=11/': ['2015',\n",
       "   '11'],\n",
       "  's3://legalres-storage-study-json/processed/year=2015/month=12/': ['2015',\n",
       "   '12'],\n",
       "  's3://legalres-storage-study-json/processed/year=2016/month=1/': ['2016',\n",
       "   '1'],\n",
       "  's3://legalres-storage-study-json/processed/year=2016/month=2/': ['2016',\n",
       "   '2'],\n",
       "  's3://legalres-storage-study-json/processed/year=2016/month=3/': ['2016',\n",
       "   '3'],\n",
       "  's3://legalres-storage-study-json/processed/year=2016/month=4/': ['2016',\n",
       "   '4'],\n",
       "  's3://legalres-storage-study-json/processed/year=2016/month=5/': ['2016',\n",
       "   '5'],\n",
       "  's3://legalres-storage-study-json/processed/year=2016/month=6/': ['2016',\n",
       "   '6'],\n",
       "  's3://legalres-storage-study-json/processed/year=2016/month=7/': ['2016',\n",
       "   '7'],\n",
       "  's3://legalres-storage-study-json/processed/year=2016/month=8/': ['2016',\n",
       "   '8'],\n",
       "  's3://legalres-storage-study-json/processed/year=2016/month=9/': ['2016',\n",
       "   '9'],\n",
       "  's3://legalres-storage-study-json/processed/year=2016/month=10/': ['2016',\n",
       "   '10'],\n",
       "  's3://legalres-storage-study-json/processed/year=2016/month=11/': ['2016',\n",
       "   '11'],\n",
       "  's3://legalres-storage-study-json/processed/year=2016/month=12/': ['2016',\n",
       "   '12'],\n",
       "  's3://legalres-storage-study-json/processed/year=2017/month=1/': ['2017',\n",
       "   '1'],\n",
       "  's3://legalres-storage-study-json/processed/year=2017/month=2/': ['2017',\n",
       "   '2'],\n",
       "  's3://legalres-storage-study-json/processed/year=2017/month=3/': ['2017',\n",
       "   '3'],\n",
       "  's3://legalres-storage-study-json/processed/year=2017/month=4/': ['2017',\n",
       "   '4'],\n",
       "  's3://legalres-storage-study-json/processed/year=2017/month=5/': ['2017',\n",
       "   '5'],\n",
       "  's3://legalres-storage-study-json/processed/year=2017/month=6/': ['2017',\n",
       "   '6'],\n",
       "  's3://legalres-storage-study-json/processed/year=2017/month=7/': ['2017',\n",
       "   '7'],\n",
       "  's3://legalres-storage-study-json/processed/year=2017/month=8/': ['2017',\n",
       "   '8'],\n",
       "  's3://legalres-storage-study-json/processed/year=2017/month=9/': ['2017',\n",
       "   '9'],\n",
       "  's3://legalres-storage-study-json/processed/year=2017/month=10/': ['2017',\n",
       "   '10'],\n",
       "  's3://legalres-storage-study-json/processed/year=2017/month=11/': ['2017',\n",
       "   '11'],\n",
       "  's3://legalres-storage-study-json/processed/year=2017/month=12/': ['2017',\n",
       "   '12'],\n",
       "  's3://legalres-storage-study-json/processed/year=2018/month=1/': ['2018',\n",
       "   '1'],\n",
       "  's3://legalres-storage-study-json/processed/year=2018/month=2/': ['2018',\n",
       "   '2'],\n",
       "  's3://legalres-storage-study-json/processed/year=2018/month=3/': ['2018',\n",
       "   '3'],\n",
       "  's3://legalres-storage-study-json/processed/year=2018/month=4/': ['2018',\n",
       "   '4'],\n",
       "  's3://legalres-storage-study-json/processed/year=2018/month=5/': ['2018',\n",
       "   '5'],\n",
       "  's3://legalres-storage-study-json/processed/year=2018/month=6/': ['2018',\n",
       "   '6'],\n",
       "  's3://legalres-storage-study-json/processed/year=2018/month=7/': ['2018',\n",
       "   '7'],\n",
       "  's3://legalres-storage-study-json/processed/year=2018/month=8/': ['2018',\n",
       "   '8'],\n",
       "  's3://legalres-storage-study-json/processed/year=2018/month=9/': ['2018',\n",
       "   '9'],\n",
       "  's3://legalres-storage-study-json/processed/year=2018/month=10/': ['2018',\n",
       "   '10'],\n",
       "  's3://legalres-storage-study-json/processed/year=2018/month=11/': ['2018',\n",
       "   '11'],\n",
       "  's3://legalres-storage-study-json/processed/year=2018/month=12/': ['2018',\n",
       "   '12'],\n",
       "  's3://legalres-storage-study-json/processed/year=2019/month=1/': ['2019',\n",
       "   '1'],\n",
       "  's3://legalres-storage-study-json/processed/year=2019/month=2/': ['2019',\n",
       "   '2'],\n",
       "  's3://legalres-storage-study-json/processed/year=2019/month=3/': ['2019',\n",
       "   '3'],\n",
       "  's3://legalres-storage-study-json/processed/year=2019/month=4/': ['2019',\n",
       "   '4'],\n",
       "  's3://legalres-storage-study-json/processed/year=2019/month=5/': ['2019',\n",
       "   '5'],\n",
       "  's3://legalres-storage-study-json/processed/year=2019/month=6/': ['2019',\n",
       "   '6'],\n",
       "  's3://legalres-storage-study-json/processed/year=2019/month=7/': ['2019',\n",
       "   '7'],\n",
       "  's3://legalres-storage-study-json/processed/year=2019/month=8/': ['2019',\n",
       "   '8'],\n",
       "  's3://legalres-storage-study-json/processed/year=2019/month=9/': ['2019',\n",
       "   '9'],\n",
       "  's3://legalres-storage-study-json/processed/year=2019/month=10/': ['2019',\n",
       "   '10'],\n",
       "  's3://legalres-storage-study-json/processed/year=2019/month=11/': ['2019',\n",
       "   '11'],\n",
       "  's3://legalres-storage-study-json/processed/year=2019/month=12/': ['2019',\n",
       "   '12'],\n",
       "  's3://legalres-storage-study-json/processed/year=2020/month=1/': ['2020',\n",
       "   '1'],\n",
       "  's3://legalres-storage-study-json/processed/year=2020/month=2/': ['2020',\n",
       "   '2'],\n",
       "  's3://legalres-storage-study-json/processed/year=2020/month=3/': ['2020',\n",
       "   '3'],\n",
       "  's3://legalres-storage-study-json/processed/year=2020/month=4/': ['2020',\n",
       "   '4'],\n",
       "  's3://legalres-storage-study-json/processed/year=2020/month=5/': ['2020',\n",
       "   '5'],\n",
       "  's3://legalres-storage-study-json/processed/year=2020/month=6/': ['2020',\n",
       "   '6'],\n",
       "  's3://legalres-storage-study-json/processed/year=2020/month=7/': ['2020',\n",
       "   '7'],\n",
       "  's3://legalres-storage-study-json/processed/year=2020/month=8/': ['2020',\n",
       "   '8'],\n",
       "  's3://legalres-storage-study-json/processed/year=2020/month=9/': ['2020',\n",
       "   '9'],\n",
       "  's3://legalres-storage-study-json/processed/year=2020/month=10/': ['2020',\n",
       "   '10'],\n",
       "  's3://legalres-storage-study-json/processed/year=2020/month=11/': ['2020',\n",
       "   '11'],\n",
       "  's3://legalres-storage-study-json/processed/year=2020/month=12/': ['2020',\n",
       "   '12'],\n",
       "  's3://legalres-storage-study-json/processed/year=2021/month=1/': ['2021',\n",
       "   '1'],\n",
       "  's3://legalres-storage-study-json/processed/year=2021/month=2/': ['2021',\n",
       "   '2'],\n",
       "  's3://legalres-storage-study-json/processed/year=2021/month=3/': ['2021',\n",
       "   '3'],\n",
       "  's3://legalres-storage-study-json/processed/year=2021/month=4/': ['2021',\n",
       "   '4'],\n",
       "  's3://legalres-storage-study-json/processed/year=2021/month=5/': ['2021',\n",
       "   '5'],\n",
       "  's3://legalres-storage-study-json/processed/year=2021/month=6/': ['2021',\n",
       "   '6'],\n",
       "  's3://legalres-storage-study-json/processed/year=2021/month=7/': ['2021',\n",
       "   '7'],\n",
       "  's3://legalres-storage-study-json/processed/year=2021/month=8/': ['2021',\n",
       "   '8'],\n",
       "  's3://legalres-storage-study-json/processed/year=2021/month=9/': ['2021',\n",
       "   '9'],\n",
       "  's3://legalres-storage-study-json/processed/year=2021/month=10/': ['2021',\n",
       "   '10'],\n",
       "  's3://legalres-storage-study-json/processed/year=2021/month=11/': ['2021',\n",
       "   '11'],\n",
       "  's3://legalres-storage-study-json/processed/year=2021/month=12/': ['2021',\n",
       "   '12'],\n",
       "  's3://legalres-storage-study-json/processed/year=2022/month=1/': ['2022',\n",
       "   '1'],\n",
       "  's3://legalres-storage-study-json/processed/year=2022/month=2/': ['2022',\n",
       "   '2'],\n",
       "  's3://legalres-storage-study-json/processed/year=2022/month=3/': ['2022',\n",
       "   '3'],\n",
       "  's3://legalres-storage-study-json/processed/year=2022/month=4/': ['2022',\n",
       "   '4'],\n",
       "  's3://legalres-storage-study-json/processed/year=2022/month=5/': ['2022',\n",
       "   '5']}}"
      ]
     },
     "execution_count": 21,
     "metadata": {},
     "output_type": "execute_result"
    }
   ],
   "source": [
    "\n",
    "\n",
    "wr.s3.to_parquet(\n",
    "    df,\n",
    "    path='s3://{}/processed'.format(bucket),\n",
    "    dataset=True,\n",
    "    partition_cols=['year', 'month'],\n",
    "    mode='append'\n",
    ")"
   ]
  },
  {
   "cell_type": "code",
   "execution_count": null,
   "metadata": {},
   "outputs": [],
   "source": []
  }
 ],
 "metadata": {
  "kernelspec": {
   "display_name": "Python 3 (ipykernel)",
   "language": "python",
   "name": "python3"
  },
  "language_info": {
   "codemirror_mode": {
    "name": "ipython",
    "version": 3
   },
   "file_extension": ".py",
   "mimetype": "text/x-python",
   "name": "python",
   "nbconvert_exporter": "python",
   "pygments_lexer": "ipython3",
   "version": "3.8.5"
  },
  "toc": {
   "base_numbering": 1,
   "nav_menu": {},
   "number_sections": true,
   "sideBar": true,
   "skip_h1_title": false,
   "title_cell": "Table of Contents",
   "title_sidebar": "Contents",
   "toc_cell": false,
   "toc_position": {},
   "toc_section_display": true,
   "toc_window_display": false
  }
 },
 "nbformat": 4,
 "nbformat_minor": 4
}
